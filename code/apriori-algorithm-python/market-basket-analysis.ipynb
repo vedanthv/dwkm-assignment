{
 "cells": [
  {
   "cell_type": "markdown",
   "id": "f951658e",
   "metadata": {
    "id": "FhI_qGOZkT3L",
    "papermill": {
     "duration": 0.034155,
     "end_time": "2021-12-17T14:58:41.098814",
     "exception": false,
     "start_time": "2021-12-17T14:58:41.064659",
     "status": "completed"
    },
    "tags": []
   },
   "source": [
    "<h1 style=\"text-align:center; font-size:250%; font-family:Arial;\"><b>Market Basket Analysis</b></h1> "
   ]
  },
  {
   "cell_type": "markdown",
   "id": "0e91ed32",
   "metadata": {
    "id": "Cd5-Ov84kT3O",
    "papermill": {
     "duration": 0.032386,
     "end_time": "2021-12-17T14:58:41.164288",
     "exception": false,
     "start_time": "2021-12-17T14:58:41.131902",
     "status": "completed"
    },
    "tags": []
   },
   "source": [
    "<h2 style=\"text-align:left; font-family:Arial;\"><b>1. Importing Necessary Dependencies</b></h2> "
   ]
  },
  {
   "cell_type": "code",
   "execution_count": 1,
   "id": "60af1760",
   "metadata": {
    "execution": {
     "iopub.execute_input": "2021-12-17T14:58:41.249597Z",
     "iopub.status.busy": "2021-12-17T14:58:41.248763Z",
     "iopub.status.idle": "2021-12-17T14:58:45.355758Z",
     "shell.execute_reply": "2021-12-17T14:58:45.355070Z",
     "shell.execute_reply.started": "2021-12-17T14:57:16.598489Z"
    },
    "executionInfo": {
     "elapsed": 608,
     "status": "ok",
     "timestamp": 1630751792391,
     "user": {
      "displayName": "Akash",
      "photoUrl": "https://lh3.googleusercontent.com/a-/AOh14Gi2e7RWkihNB-rZyYcAd4iUumed7zjXJQLf9cW5lg=s64",
      "userId": "06209623088398708773"
     },
     "user_tz": -330
    },
    "id": "j4lcnPsnkT3O",
    "papermill": {
     "duration": 4.158004,
     "end_time": "2021-12-17T14:58:45.355936",
     "exception": false,
     "start_time": "2021-12-17T14:58:41.197932",
     "status": "completed"
    },
    "tags": []
   },
   "outputs": [],
   "source": [
    "import numpy as np\n",
    "import pandas as pd\n",
    "\n",
    "import plotly.express as px\n",
    "import plotly.graph_objects as go\n",
    "import plotly.figure_factory as ff\n",
    "from plotly.offline import download_plotlyjs, init_notebook_mode, iplot\n",
    "\n",
    "from mlxtend.preprocessing import TransactionEncoder\n",
    "from mlxtend.frequent_patterns import apriori, association_rules\n",
    "import networkx as nx"
   ]
  },
  {
   "cell_type": "markdown",
   "id": "365b6f9a",
   "metadata": {
    "id": "Aegzb7FCkT3P",
    "papermill": {
     "duration": 0.032399,
     "end_time": "2021-12-17T14:58:45.422452",
     "exception": false,
     "start_time": "2021-12-17T14:58:45.390053",
     "status": "completed"
    },
    "tags": []
   },
   "source": [
    "<h2 style=\"text-align:left; font-family:Arial;\"><b>2. Loading and Reading Dataset</b></h2> "
   ]
  },
  {
   "cell_type": "code",
   "execution_count": 2,
   "id": "a18159ed",
   "metadata": {
    "execution": {
     "iopub.execute_input": "2021-12-17T14:58:45.493364Z",
     "iopub.status.busy": "2021-12-17T14:58:45.492684Z",
     "iopub.status.idle": "2021-12-17T14:58:45.566834Z",
     "shell.execute_reply": "2021-12-17T14:58:45.567354Z",
     "shell.execute_reply.started": "2021-12-17T14:57:21.143878Z"
    },
    "executionInfo": {
     "elapsed": 22,
     "status": "ok",
     "timestamp": 1630751792393,
     "user": {
      "displayName": "Akash",
      "photoUrl": "https://lh3.googleusercontent.com/a-/AOh14Gi2e7RWkihNB-rZyYcAd4iUumed7zjXJQLf9cW5lg=s64",
      "userId": "06209623088398708773"
     },
     "user_tz": -330
    },
    "id": "Nsyl7etvkT3Q",
    "outputId": "1ff43dbb-48fc-4544-87c2-ca3db9e86ada",
    "papermill": {
     "duration": 0.112461,
     "end_time": "2021-12-17T14:58:45.567544",
     "exception": false,
     "start_time": "2021-12-17T14:58:45.455083",
     "status": "completed"
    },
    "tags": []
   },
   "outputs": [
    {
     "data": {
      "text/html": [
       "<div>\n",
       "<style scoped>\n",
       "    .dataframe tbody tr th:only-of-type {\n",
       "        vertical-align: middle;\n",
       "    }\n",
       "\n",
       "    .dataframe tbody tr th {\n",
       "        vertical-align: top;\n",
       "    }\n",
       "\n",
       "    .dataframe thead th {\n",
       "        text-align: right;\n",
       "    }\n",
       "</style>\n",
       "<table border=\"1\" class=\"dataframe\">\n",
       "  <thead>\n",
       "    <tr style=\"text-align: right;\">\n",
       "      <th></th>\n",
       "      <th>TransactionNo</th>\n",
       "      <th>Items</th>\n",
       "      <th>DateTime</th>\n",
       "      <th>Daypart</th>\n",
       "      <th>DayType</th>\n",
       "    </tr>\n",
       "  </thead>\n",
       "  <tbody>\n",
       "    <tr>\n",
       "      <th>0</th>\n",
       "      <td>1</td>\n",
       "      <td>Bread</td>\n",
       "      <td>2016-10-30 09:58:11</td>\n",
       "      <td>Morning</td>\n",
       "      <td>Weekend</td>\n",
       "    </tr>\n",
       "    <tr>\n",
       "      <th>1</th>\n",
       "      <td>2</td>\n",
       "      <td>Scandinavian</td>\n",
       "      <td>2016-10-30 10:05:34</td>\n",
       "      <td>Morning</td>\n",
       "      <td>Weekend</td>\n",
       "    </tr>\n",
       "    <tr>\n",
       "      <th>2</th>\n",
       "      <td>2</td>\n",
       "      <td>Scandinavian</td>\n",
       "      <td>2016-10-30 10:05:34</td>\n",
       "      <td>Morning</td>\n",
       "      <td>Weekend</td>\n",
       "    </tr>\n",
       "    <tr>\n",
       "      <th>3</th>\n",
       "      <td>3</td>\n",
       "      <td>Hot chocolate</td>\n",
       "      <td>2016-10-30 10:07:57</td>\n",
       "      <td>Morning</td>\n",
       "      <td>Weekend</td>\n",
       "    </tr>\n",
       "    <tr>\n",
       "      <th>4</th>\n",
       "      <td>3</td>\n",
       "      <td>Jam</td>\n",
       "      <td>2016-10-30 10:07:57</td>\n",
       "      <td>Morning</td>\n",
       "      <td>Weekend</td>\n",
       "    </tr>\n",
       "  </tbody>\n",
       "</table>\n",
       "</div>"
      ],
      "text/plain": [
       "   TransactionNo          Items             DateTime  Daypart  DayType\n",
       "0              1          Bread  2016-10-30 09:58:11  Morning  Weekend\n",
       "1              2   Scandinavian  2016-10-30 10:05:34  Morning  Weekend\n",
       "2              2   Scandinavian  2016-10-30 10:05:34  Morning  Weekend\n",
       "3              3  Hot chocolate  2016-10-30 10:07:57  Morning  Weekend\n",
       "4              3            Jam  2016-10-30 10:07:57  Morning  Weekend"
      ]
     },
     "execution_count": 2,
     "metadata": {},
     "output_type": "execute_result"
    }
   ],
   "source": [
    "bakeryDF=pd.read_csv(\"Bakery.csv\")\n",
    "bakeryDF.head()"
   ]
  },
  {
   "cell_type": "code",
   "execution_count": 3,
   "id": "0e5bb3ac",
   "metadata": {
    "execution": {
     "iopub.execute_input": "2021-12-17T14:58:45.638452Z",
     "iopub.status.busy": "2021-12-17T14:58:45.637724Z",
     "iopub.status.idle": "2021-12-17T14:58:45.644416Z",
     "shell.execute_reply": "2021-12-17T14:58:45.643855Z",
     "shell.execute_reply.started": "2021-12-17T14:57:21.236338Z"
    },
    "executionInfo": {
     "elapsed": 20,
     "status": "ok",
     "timestamp": 1630751792394,
     "user": {
      "displayName": "Akash",
      "photoUrl": "https://lh3.googleusercontent.com/a-/AOh14Gi2e7RWkihNB-rZyYcAd4iUumed7zjXJQLf9cW5lg=s64",
      "userId": "06209623088398708773"
     },
     "user_tz": -330
    },
    "id": "nTyG6pW-kT3R",
    "outputId": "e342dd7b-2423-4c16-e25d-b7511aef6281",
    "papermill": {
     "duration": 0.042927,
     "end_time": "2021-12-17T14:58:45.644569",
     "exception": false,
     "start_time": "2021-12-17T14:58:45.601642",
     "status": "completed"
    },
    "tags": []
   },
   "outputs": [
    {
     "name": "stdout",
     "output_type": "stream",
     "text": [
      "Database dimension : (20507, 5)\n",
      "Database size      : 102535\n"
     ]
    }
   ],
   "source": [
    "print(\"Database dimension :\", bakeryDF.shape)\n",
    "print(\"Database size      :\", bakeryDF.size)"
   ]
  },
  {
   "cell_type": "code",
   "execution_count": 4,
   "id": "4bd297bb",
   "metadata": {
    "execution": {
     "iopub.execute_input": "2021-12-17T14:58:45.715545Z",
     "iopub.status.busy": "2021-12-17T14:58:45.714824Z",
     "iopub.status.idle": "2021-12-17T14:58:45.744471Z",
     "shell.execute_reply": "2021-12-17T14:58:45.743856Z",
     "shell.execute_reply.started": "2021-12-17T14:57:21.247470Z"
    },
    "executionInfo": {
     "elapsed": 15,
     "status": "ok",
     "timestamp": 1630751792395,
     "user": {
      "displayName": "Akash",
      "photoUrl": "https://lh3.googleusercontent.com/a-/AOh14Gi2e7RWkihNB-rZyYcAd4iUumed7zjXJQLf9cW5lg=s64",
      "userId": "06209623088398708773"
     },
     "user_tz": -330
    },
    "id": "dlMX9OOckT3R",
    "outputId": "b8a0f6f9-0ee8-479b-e352-638f5088734f",
    "papermill": {
     "duration": 0.066336,
     "end_time": "2021-12-17T14:58:45.744648",
     "exception": false,
     "start_time": "2021-12-17T14:58:45.678312",
     "status": "completed"
    },
    "tags": []
   },
   "outputs": [
    {
     "name": "stdout",
     "output_type": "stream",
     "text": [
      "<class 'pandas.core.frame.DataFrame'>\n",
      "RangeIndex: 20507 entries, 0 to 20506\n",
      "Data columns (total 5 columns):\n",
      " #   Column         Non-Null Count  Dtype \n",
      "---  ------         --------------  ----- \n",
      " 0   TransactionNo  20507 non-null  int64 \n",
      " 1   Items          20507 non-null  object\n",
      " 2   DateTime       20507 non-null  object\n",
      " 3   Daypart        20507 non-null  object\n",
      " 4   DayType        20507 non-null  object\n",
      "dtypes: int64(1), object(4)\n",
      "memory usage: 801.2+ KB\n"
     ]
    }
   ],
   "source": [
    "bakeryDF.info()"
   ]
  },
  {
   "cell_type": "code",
   "execution_count": 5,
   "id": "a86d00ef",
   "metadata": {
    "execution": {
     "iopub.execute_input": "2021-12-17T14:58:45.819051Z",
     "iopub.status.busy": "2021-12-17T14:58:45.818347Z",
     "iopub.status.idle": "2021-12-17T14:58:45.828354Z",
     "shell.execute_reply": "2021-12-17T14:58:45.827652Z",
     "shell.execute_reply.started": "2021-12-17T14:57:21.290577Z"
    },
    "executionInfo": {
     "elapsed": 648,
     "status": "ok",
     "timestamp": 1630751793034,
     "user": {
      "displayName": "Akash",
      "photoUrl": "https://lh3.googleusercontent.com/a-/AOh14Gi2e7RWkihNB-rZyYcAd4iUumed7zjXJQLf9cW5lg=s64",
      "userId": "06209623088398708773"
     },
     "user_tz": -330
    },
    "id": "R3eGuJa-kT3S",
    "outputId": "08567b7e-16d1-4fa0-871d-3d9fa9cced49",
    "papermill": {
     "duration": 0.048027,
     "end_time": "2021-12-17T14:58:45.828503",
     "exception": false,
     "start_time": "2021-12-17T14:58:45.780476",
     "status": "completed"
    },
    "tags": []
   },
   "outputs": [
    {
     "data": {
      "text/plain": [
       "9465"
      ]
     },
     "execution_count": 5,
     "metadata": {},
     "output_type": "execute_result"
    }
   ],
   "source": [
    "bakeryDF['TransactionNo'].nunique()"
   ]
  },
  {
   "cell_type": "code",
   "execution_count": 6,
   "id": "cb9fa4db",
   "metadata": {
    "execution": {
     "iopub.execute_input": "2021-12-17T14:58:45.901989Z",
     "iopub.status.busy": "2021-12-17T14:58:45.901293Z",
     "iopub.status.idle": "2021-12-17T14:58:45.973594Z",
     "shell.execute_reply": "2021-12-17T14:58:45.973075Z",
     "shell.execute_reply.started": "2021-12-17T14:57:21.303211Z"
    },
    "executionInfo": {
     "elapsed": 16,
     "status": "ok",
     "timestamp": 1630751793035,
     "user": {
      "displayName": "Akash",
      "photoUrl": "https://lh3.googleusercontent.com/a-/AOh14Gi2e7RWkihNB-rZyYcAd4iUumed7zjXJQLf9cW5lg=s64",
      "userId": "06209623088398708773"
     },
     "user_tz": -330
    },
    "id": "yYN_YCKikT3S",
    "outputId": "e47c334c-9a5d-4a0e-dcea-4bf9c31a7a9b",
    "papermill": {
     "duration": 0.109699,
     "end_time": "2021-12-17T14:58:45.973775",
     "exception": false,
     "start_time": "2021-12-17T14:58:45.864076",
     "status": "completed"
    },
    "tags": []
   },
   "outputs": [
    {
     "data": {
      "text/html": [
       "<div>\n",
       "<style scoped>\n",
       "    .dataframe tbody tr th:only-of-type {\n",
       "        vertical-align: middle;\n",
       "    }\n",
       "\n",
       "    .dataframe tbody tr th {\n",
       "        vertical-align: top;\n",
       "    }\n",
       "\n",
       "    .dataframe thead th {\n",
       "        text-align: right;\n",
       "    }\n",
       "</style>\n",
       "<table border=\"1\" class=\"dataframe\">\n",
       "  <thead>\n",
       "    <tr style=\"text-align: right;\">\n",
       "      <th></th>\n",
       "      <th>Items</th>\n",
       "      <th>DateTime</th>\n",
       "      <th>Daypart</th>\n",
       "      <th>DayType</th>\n",
       "    </tr>\n",
       "  </thead>\n",
       "  <tbody>\n",
       "    <tr>\n",
       "      <th>count</th>\n",
       "      <td>20507</td>\n",
       "      <td>20507</td>\n",
       "      <td>20507</td>\n",
       "      <td>20507</td>\n",
       "    </tr>\n",
       "    <tr>\n",
       "      <th>unique</th>\n",
       "      <td>94</td>\n",
       "      <td>9465</td>\n",
       "      <td>4</td>\n",
       "      <td>2</td>\n",
       "    </tr>\n",
       "    <tr>\n",
       "      <th>top</th>\n",
       "      <td>Coffee</td>\n",
       "      <td>2017-11-02 14:08:27</td>\n",
       "      <td>Afternoon</td>\n",
       "      <td>Weekday</td>\n",
       "    </tr>\n",
       "    <tr>\n",
       "      <th>freq</th>\n",
       "      <td>5471</td>\n",
       "      <td>11</td>\n",
       "      <td>11569</td>\n",
       "      <td>12807</td>\n",
       "    </tr>\n",
       "  </tbody>\n",
       "</table>\n",
       "</div>"
      ],
      "text/plain": [
       "         Items             DateTime    Daypart  DayType\n",
       "count    20507                20507      20507    20507\n",
       "unique      94                 9465          4        2\n",
       "top     Coffee  2017-11-02 14:08:27  Afternoon  Weekday\n",
       "freq      5471                   11      11569    12807"
      ]
     },
     "execution_count": 6,
     "metadata": {},
     "output_type": "execute_result"
    }
   ],
   "source": [
    "bakeryDF.describe(include=object)"
   ]
  },
  {
   "cell_type": "markdown",
   "id": "2df6ee3c",
   "metadata": {
    "id": "xwvYLMSIkT3T",
    "papermill": {
     "duration": 0.035122,
     "end_time": "2021-12-17T14:58:46.043548",
     "exception": false,
     "start_time": "2021-12-17T14:58:46.008426",
     "status": "completed"
    },
    "tags": []
   },
   "source": [
    "<h2 style=\"text-align:left; font-family:Arial;\"><b>Data Summary:</b></h2>"
   ]
  },
  {
   "cell_type": "markdown",
   "id": "51a306f2",
   "metadata": {
    "id": "xwvYLMSIkT3T",
    "papermill": {
     "duration": 0.034597,
     "end_time": "2021-12-17T14:58:46.112868",
     "exception": false,
     "start_time": "2021-12-17T14:58:46.078271",
     "status": "completed"
    },
    "tags": []
   },
   "source": [
    "<div style=\"color:white;\n",
    "            display:fill;\n",
    "            border-radius:5px;\n",
    "            background-color:#E8F6EF;  \n",
    "            font-size:100%;\n",
    "            theme: cosmo;\n",
    "            letter-spacing:0.5px\">\n",
    "<h3 style=\"padding-left: 20px; padding-top: 20px; color:#4a4a4a; font-family:Arial;\"><b>Overview</b>\n",
    "</h3>\n",
    "<p style=\"padding-left: 20px; padding-right: 20px; color:#4a4a4a; font-size:110%;\">\n",
    "The dataset provides transaction details of all items purchased between 2016 and 2017 from the bakery online. The dataset has <b>20507</b> entries over <b>9000</b> transactions, and 4 columns.\n",
    "</p>\n",
    "<ul style=\"padding-left: 40px; padding-bottom: 20px; color:#4a4a4a; font-size:110%;\">\n",
    "    <li>Number of variables: 1</li>\n",
    "    <li>Numeric variables: 1</li>\n",
    "    <li>Categorical variables: 4</li>\n",
    "    <li>Number of observations: 20507</li>\n",
    "    <li>Total number of transactions: 9465</li>\n",
    "    <li>Missing cells : 0</li>\n",
    "</ul>\n",
    "</div>"
   ]
  },
  {
   "cell_type": "markdown",
   "id": "32dc66cd",
   "metadata": {
    "id": "xwvYLMSIkT3T",
    "papermill": {
     "duration": 0.036277,
     "end_time": "2021-12-17T14:58:46.183863",
     "exception": false,
     "start_time": "2021-12-17T14:58:46.147586",
     "status": "completed"
    },
    "tags": []
   },
   "source": [
    "<div style=\"color:white;\n",
    "            display:fill;\n",
    "            border-radius:5px;\n",
    "            background-color:#E8F6EF;  \n",
    "            font-size:100%;\n",
    "            theme:cosmo;\n",
    "            letter-spacing:0.5px\">\n",
    "<h3 style=\"padding-left: 20px; padding-top: 20px; color:#4a4a4a; font-family:Arial;\"><b>Variables</b>\n",
    "</h3>\n",
    "<ul style=\"padding-left: 40px; padding-bottom: 20px; color:#4a4a4a; font-size:110%;\">\n",
    "    <li><code>TransactionNo</code> : <b>9465</b> distinct values</li>\n",
    "    <li><code><b>Items</b></code> has a high cardinality: <b>94</b> distinct values</li>\n",
    "    <li><code><b>DateTime</b></code> has a high cardinality: <b>9182</b> distinct values</li>\n",
    "    <li><code><b>Daypart</b></code> has <b>4</b> distinct values</li>\n",
    "    <li><code><b>DayType</b></code> has <b>2</b> distinct values</li>\n",
    "</ul>\n",
    "</div>"
   ]
  },
  {
   "cell_type": "markdown",
   "id": "859e10ab",
   "metadata": {
    "id": "rJNq23WzkT3T",
    "papermill": {
     "duration": 0.035417,
     "end_time": "2021-12-17T14:58:46.253970",
     "exception": false,
     "start_time": "2021-12-17T14:58:46.218553",
     "status": "completed"
    },
    "tags": []
   },
   "source": [
    "<h2 style=\"text-align:left; font-family:Arial;\"><b>3. Data Exploration and Visualization</b></h2> "
   ]
  },
  {
   "cell_type": "markdown",
   "id": "072316d7",
   "metadata": {
    "id": "vK-5lEsrkT3T",
    "papermill": {
     "duration": 0.036093,
     "end_time": "2021-12-17T14:58:46.324780",
     "exception": false,
     "start_time": "2021-12-17T14:58:46.288687",
     "status": "completed"
    },
    "tags": []
   },
   "source": [
    "<h3 style=\"text-align:left; font-family:Arial;\"><b>3.1 Let's look into the frequent items and the best sellers</b></h3> "
   ]
  },
  {
   "cell_type": "code",
   "execution_count": 7,
   "id": "1871ff9e",
   "metadata": {
    "execution": {
     "iopub.execute_input": "2021-12-17T14:58:46.397453Z",
     "iopub.status.busy": "2021-12-17T14:58:46.396739Z",
     "iopub.status.idle": "2021-12-17T14:58:46.409308Z",
     "shell.execute_reply": "2021-12-17T14:58:46.410025Z",
     "shell.execute_reply.started": "2021-12-17T14:57:21.384658Z"
    },
    "executionInfo": {
     "elapsed": 15,
     "status": "ok",
     "timestamp": 1630751793036,
     "user": {
      "displayName": "Akash",
      "photoUrl": "https://lh3.googleusercontent.com/a-/AOh14Gi2e7RWkihNB-rZyYcAd4iUumed7zjXJQLf9cW5lg=s64",
      "userId": "06209623088398708773"
     },
     "user_tz": -330
    },
    "id": "ZK-NXikPkT3U",
    "outputId": "ecd35f56-043f-438b-d32c-69ecf5f4387d",
    "papermill": {
     "duration": 0.05055,
     "end_time": "2021-12-17T14:58:46.410233",
     "exception": false,
     "start_time": "2021-12-17T14:58:46.359683",
     "status": "completed"
    },
    "tags": []
   },
   "outputs": [
    {
     "data": {
      "text/plain": [
       "Coffee           5471\n",
       "Bread            3325\n",
       "Tea              1435\n",
       "Cake             1025\n",
       "Pastry            856\n",
       "Sandwich          771\n",
       "Medialuna         616\n",
       "Hot chocolate     590\n",
       "Cookies           540\n",
       "Brownie           379\n",
       "Name: Items, dtype: int64"
      ]
     },
     "execution_count": 7,
     "metadata": {},
     "output_type": "execute_result"
    }
   ],
   "source": [
    "itemFrequency = bakeryDF['Items'].value_counts().sort_values(ascending=False)\n",
    "itemFrequency.head(10)"
   ]
  },
  {
   "cell_type": "code",
   "execution_count": 8,
   "id": "da0211ec",
   "metadata": {
    "execution": {
     "iopub.execute_input": "2021-12-17T14:58:46.484488Z",
     "iopub.status.busy": "2021-12-17T14:58:46.483669Z",
     "iopub.status.idle": "2021-12-17T14:58:47.465627Z",
     "shell.execute_reply": "2021-12-17T14:58:47.465040Z",
     "shell.execute_reply.started": "2021-12-17T14:57:21.399453Z"
    },
    "executionInfo": {
     "elapsed": 792,
     "status": "ok",
     "timestamp": 1630751793818,
     "user": {
      "displayName": "Akash",
      "photoUrl": "https://lh3.googleusercontent.com/a-/AOh14Gi2e7RWkihNB-rZyYcAd4iUumed7zjXJQLf9cW5lg=s64",
      "userId": "06209623088398708773"
     },
     "user_tz": -330
    },
    "id": "VrOgAIFMkT3U",
    "outputId": "7f00bd85-dfd5-441a-ba8b-ef8051a08dfd",
    "papermill": {
     "duration": 1.020046,
     "end_time": "2021-12-17T14:58:47.465825",
     "exception": false,
     "start_time": "2021-12-17T14:58:46.445779",
     "status": "completed"
    },
    "tags": []
   },
   "outputs": [
    {
     "data": {
      "text/html": [
       "        <script type=\"text/javascript\">\n",
       "        window.PlotlyConfig = {MathJaxConfig: 'local'};\n",
       "        if (window.MathJax) {MathJax.Hub.Config({SVG: {font: \"STIX-Web\"}});}\n",
       "        if (typeof require !== 'undefined') {\n",
       "        require.undef(\"plotly\");\n",
       "        requirejs.config({\n",
       "            paths: {\n",
       "                'plotly': ['https://cdn.plot.ly/plotly-2.2.0.min']\n",
       "            }\n",
       "        });\n",
       "        require(['plotly'], function(Plotly) {\n",
       "            window._Plotly = Plotly;\n",
       "        });\n",
       "        }\n",
       "        </script>\n",
       "        "
      ]
     },
     "metadata": {},
     "output_type": "display_data"
    },
    {
     "data": {
      "text/html": [
       "<div>                            <div id=\"f7395051-6079-4b7a-8282-e329f46b4728\" class=\"plotly-graph-div\" style=\"height:525px; width:100%;\"></div>            <script type=\"text/javascript\">                require([\"plotly\"], function(Plotly) {                    window.PLOTLYENV=window.PLOTLYENV || {};                                    if (document.getElementById(\"f7395051-6079-4b7a-8282-e329f46b4728\")) {                    Plotly.newPlot(                        \"f7395051-6079-4b7a-8282-e329f46b4728\",                        [{\"alignmentgroup\":\"True\",\"hovertemplate\":\"<b>%{x}</b><br>No. of Transactions: %{y}\",\"legendgroup\":\"\",\"marker\":{\"color\":[5471,3325,1435,1025,856,771,616,590,540,379,374,370,369,369,342,327,318,277,193,185],\"coloraxis\":\"coloraxis\",\"pattern\":{\"shape\":\"\"}},\"name\":\"\",\"offsetgroup\":\"\",\"orientation\":\"v\",\"showlegend\":false,\"textposition\":\"outside\",\"texttemplate\":\"%{y}\",\"type\":\"bar\",\"x\":[\"Coffee\",\"Bread\",\"Tea\",\"Cake\",\"Pastry\",\"Sandwich\",\"Medialuna\",\"Hot chocolate\",\"Cookies\",\"Brownie\",\"Farm House\",\"Muffin\",\"Alfajores\",\"Juice\",\"Soup\",\"Scone\",\"Toast\",\"Scandinavian\",\"Truffles\",\"Coke\"],\"xaxis\":\"x\",\"y\":[5471,3325,1435,1025,856,771,616,590,540,379,374,370,369,369,342,327,318,277,193,185],\"yaxis\":\"y\"}],                        {\"barmode\":\"relative\",\"coloraxis\":{\"colorbar\":{\"title\":{\"text\":\"color\"}},\"colorscale\":[[0.0,\"rgb(228, 241, 225)\"],[0.16666666666666666,\"rgb(180, 217, 204)\"],[0.3333333333333333,\"rgb(137, 192, 182)\"],[0.5,\"rgb(99, 166, 160)\"],[0.6666666666666666,\"rgb(68, 140, 138)\"],[0.8333333333333334,\"rgb(40, 114, 116)\"],[1.0,\"rgb(13, 88, 95)\"]],\"showscale\":false},\"legend\":{\"tracegroupgap\":0},\"margin\":{\"b\":0,\"l\":0,\"r\":0,\"t\":50},\"plot_bgcolor\":\"white\",\"template\":{\"data\":{\"bar\":[{\"error_x\":{\"color\":\"#2a3f5f\"},\"error_y\":{\"color\":\"#2a3f5f\"},\"marker\":{\"line\":{\"color\":\"#E5ECF6\",\"width\":0.5},\"pattern\":{\"fillmode\":\"overlay\",\"size\":10,\"solidity\":0.2}},\"type\":\"bar\"}],\"barpolar\":[{\"marker\":{\"line\":{\"color\":\"#E5ECF6\",\"width\":0.5},\"pattern\":{\"fillmode\":\"overlay\",\"size\":10,\"solidity\":0.2}},\"type\":\"barpolar\"}],\"carpet\":[{\"aaxis\":{\"endlinecolor\":\"#2a3f5f\",\"gridcolor\":\"white\",\"linecolor\":\"white\",\"minorgridcolor\":\"white\",\"startlinecolor\":\"#2a3f5f\"},\"baxis\":{\"endlinecolor\":\"#2a3f5f\",\"gridcolor\":\"white\",\"linecolor\":\"white\",\"minorgridcolor\":\"white\",\"startlinecolor\":\"#2a3f5f\"},\"type\":\"carpet\"}],\"choropleth\":[{\"colorbar\":{\"outlinewidth\":0,\"ticks\":\"\"},\"type\":\"choropleth\"}],\"contour\":[{\"colorbar\":{\"outlinewidth\":0,\"ticks\":\"\"},\"colorscale\":[[0.0,\"#0d0887\"],[0.1111111111111111,\"#46039f\"],[0.2222222222222222,\"#7201a8\"],[0.3333333333333333,\"#9c179e\"],[0.4444444444444444,\"#bd3786\"],[0.5555555555555556,\"#d8576b\"],[0.6666666666666666,\"#ed7953\"],[0.7777777777777778,\"#fb9f3a\"],[0.8888888888888888,\"#fdca26\"],[1.0,\"#f0f921\"]],\"type\":\"contour\"}],\"contourcarpet\":[{\"colorbar\":{\"outlinewidth\":0,\"ticks\":\"\"},\"type\":\"contourcarpet\"}],\"heatmap\":[{\"colorbar\":{\"outlinewidth\":0,\"ticks\":\"\"},\"colorscale\":[[0.0,\"#0d0887\"],[0.1111111111111111,\"#46039f\"],[0.2222222222222222,\"#7201a8\"],[0.3333333333333333,\"#9c179e\"],[0.4444444444444444,\"#bd3786\"],[0.5555555555555556,\"#d8576b\"],[0.6666666666666666,\"#ed7953\"],[0.7777777777777778,\"#fb9f3a\"],[0.8888888888888888,\"#fdca26\"],[1.0,\"#f0f921\"]],\"type\":\"heatmap\"}],\"heatmapgl\":[{\"colorbar\":{\"outlinewidth\":0,\"ticks\":\"\"},\"colorscale\":[[0.0,\"#0d0887\"],[0.1111111111111111,\"#46039f\"],[0.2222222222222222,\"#7201a8\"],[0.3333333333333333,\"#9c179e\"],[0.4444444444444444,\"#bd3786\"],[0.5555555555555556,\"#d8576b\"],[0.6666666666666666,\"#ed7953\"],[0.7777777777777778,\"#fb9f3a\"],[0.8888888888888888,\"#fdca26\"],[1.0,\"#f0f921\"]],\"type\":\"heatmapgl\"}],\"histogram\":[{\"marker\":{\"pattern\":{\"fillmode\":\"overlay\",\"size\":10,\"solidity\":0.2}},\"type\":\"histogram\"}],\"histogram2d\":[{\"colorbar\":{\"outlinewidth\":0,\"ticks\":\"\"},\"colorscale\":[[0.0,\"#0d0887\"],[0.1111111111111111,\"#46039f\"],[0.2222222222222222,\"#7201a8\"],[0.3333333333333333,\"#9c179e\"],[0.4444444444444444,\"#bd3786\"],[0.5555555555555556,\"#d8576b\"],[0.6666666666666666,\"#ed7953\"],[0.7777777777777778,\"#fb9f3a\"],[0.8888888888888888,\"#fdca26\"],[1.0,\"#f0f921\"]],\"type\":\"histogram2d\"}],\"histogram2dcontour\":[{\"colorbar\":{\"outlinewidth\":0,\"ticks\":\"\"},\"colorscale\":[[0.0,\"#0d0887\"],[0.1111111111111111,\"#46039f\"],[0.2222222222222222,\"#7201a8\"],[0.3333333333333333,\"#9c179e\"],[0.4444444444444444,\"#bd3786\"],[0.5555555555555556,\"#d8576b\"],[0.6666666666666666,\"#ed7953\"],[0.7777777777777778,\"#fb9f3a\"],[0.8888888888888888,\"#fdca26\"],[1.0,\"#f0f921\"]],\"type\":\"histogram2dcontour\"}],\"mesh3d\":[{\"colorbar\":{\"outlinewidth\":0,\"ticks\":\"\"},\"type\":\"mesh3d\"}],\"parcoords\":[{\"line\":{\"colorbar\":{\"outlinewidth\":0,\"ticks\":\"\"}},\"type\":\"parcoords\"}],\"pie\":[{\"automargin\":true,\"type\":\"pie\"}],\"scatter\":[{\"marker\":{\"colorbar\":{\"outlinewidth\":0,\"ticks\":\"\"}},\"type\":\"scatter\"}],\"scatter3d\":[{\"line\":{\"colorbar\":{\"outlinewidth\":0,\"ticks\":\"\"}},\"marker\":{\"colorbar\":{\"outlinewidth\":0,\"ticks\":\"\"}},\"type\":\"scatter3d\"}],\"scattercarpet\":[{\"marker\":{\"colorbar\":{\"outlinewidth\":0,\"ticks\":\"\"}},\"type\":\"scattercarpet\"}],\"scattergeo\":[{\"marker\":{\"colorbar\":{\"outlinewidth\":0,\"ticks\":\"\"}},\"type\":\"scattergeo\"}],\"scattergl\":[{\"marker\":{\"colorbar\":{\"outlinewidth\":0,\"ticks\":\"\"}},\"type\":\"scattergl\"}],\"scattermapbox\":[{\"marker\":{\"colorbar\":{\"outlinewidth\":0,\"ticks\":\"\"}},\"type\":\"scattermapbox\"}],\"scatterpolar\":[{\"marker\":{\"colorbar\":{\"outlinewidth\":0,\"ticks\":\"\"}},\"type\":\"scatterpolar\"}],\"scatterpolargl\":[{\"marker\":{\"colorbar\":{\"outlinewidth\":0,\"ticks\":\"\"}},\"type\":\"scatterpolargl\"}],\"scatterternary\":[{\"marker\":{\"colorbar\":{\"outlinewidth\":0,\"ticks\":\"\"}},\"type\":\"scatterternary\"}],\"surface\":[{\"colorbar\":{\"outlinewidth\":0,\"ticks\":\"\"},\"colorscale\":[[0.0,\"#0d0887\"],[0.1111111111111111,\"#46039f\"],[0.2222222222222222,\"#7201a8\"],[0.3333333333333333,\"#9c179e\"],[0.4444444444444444,\"#bd3786\"],[0.5555555555555556,\"#d8576b\"],[0.6666666666666666,\"#ed7953\"],[0.7777777777777778,\"#fb9f3a\"],[0.8888888888888888,\"#fdca26\"],[1.0,\"#f0f921\"]],\"type\":\"surface\"}],\"table\":[{\"cells\":{\"fill\":{\"color\":\"#EBF0F8\"},\"line\":{\"color\":\"white\"}},\"header\":{\"fill\":{\"color\":\"#C8D4E3\"},\"line\":{\"color\":\"white\"}},\"type\":\"table\"}]},\"layout\":{\"annotationdefaults\":{\"arrowcolor\":\"#2a3f5f\",\"arrowhead\":0,\"arrowwidth\":1},\"autotypenumbers\":\"strict\",\"coloraxis\":{\"colorbar\":{\"outlinewidth\":0,\"ticks\":\"\"}},\"colorscale\":{\"diverging\":[[0,\"#8e0152\"],[0.1,\"#c51b7d\"],[0.2,\"#de77ae\"],[0.3,\"#f1b6da\"],[0.4,\"#fde0ef\"],[0.5,\"#f7f7f7\"],[0.6,\"#e6f5d0\"],[0.7,\"#b8e186\"],[0.8,\"#7fbc41\"],[0.9,\"#4d9221\"],[1,\"#276419\"]],\"sequential\":[[0.0,\"#0d0887\"],[0.1111111111111111,\"#46039f\"],[0.2222222222222222,\"#7201a8\"],[0.3333333333333333,\"#9c179e\"],[0.4444444444444444,\"#bd3786\"],[0.5555555555555556,\"#d8576b\"],[0.6666666666666666,\"#ed7953\"],[0.7777777777777778,\"#fb9f3a\"],[0.8888888888888888,\"#fdca26\"],[1.0,\"#f0f921\"]],\"sequentialminus\":[[0.0,\"#0d0887\"],[0.1111111111111111,\"#46039f\"],[0.2222222222222222,\"#7201a8\"],[0.3333333333333333,\"#9c179e\"],[0.4444444444444444,\"#bd3786\"],[0.5555555555555556,\"#d8576b\"],[0.6666666666666666,\"#ed7953\"],[0.7777777777777778,\"#fb9f3a\"],[0.8888888888888888,\"#fdca26\"],[1.0,\"#f0f921\"]]},\"colorway\":[\"#636efa\",\"#EF553B\",\"#00cc96\",\"#ab63fa\",\"#FFA15A\",\"#19d3f3\",\"#FF6692\",\"#B6E880\",\"#FF97FF\",\"#FECB52\"],\"font\":{\"color\":\"#2a3f5f\"},\"geo\":{\"bgcolor\":\"white\",\"lakecolor\":\"white\",\"landcolor\":\"#E5ECF6\",\"showlakes\":true,\"showland\":true,\"subunitcolor\":\"white\"},\"hoverlabel\":{\"align\":\"left\"},\"hovermode\":\"closest\",\"mapbox\":{\"style\":\"light\"},\"paper_bgcolor\":\"white\",\"plot_bgcolor\":\"#E5ECF6\",\"polar\":{\"angularaxis\":{\"gridcolor\":\"white\",\"linecolor\":\"white\",\"ticks\":\"\"},\"bgcolor\":\"#E5ECF6\",\"radialaxis\":{\"gridcolor\":\"white\",\"linecolor\":\"white\",\"ticks\":\"\"}},\"scene\":{\"xaxis\":{\"backgroundcolor\":\"#E5ECF6\",\"gridcolor\":\"white\",\"gridwidth\":2,\"linecolor\":\"white\",\"showbackground\":true,\"ticks\":\"\",\"zerolinecolor\":\"white\"},\"yaxis\":{\"backgroundcolor\":\"#E5ECF6\",\"gridcolor\":\"white\",\"gridwidth\":2,\"linecolor\":\"white\",\"showbackground\":true,\"ticks\":\"\",\"zerolinecolor\":\"white\"},\"zaxis\":{\"backgroundcolor\":\"#E5ECF6\",\"gridcolor\":\"white\",\"gridwidth\":2,\"linecolor\":\"white\",\"showbackground\":true,\"ticks\":\"\",\"zerolinecolor\":\"white\"}},\"shapedefaults\":{\"line\":{\"color\":\"#2a3f5f\"}},\"ternary\":{\"aaxis\":{\"gridcolor\":\"white\",\"linecolor\":\"white\",\"ticks\":\"\"},\"baxis\":{\"gridcolor\":\"white\",\"linecolor\":\"white\",\"ticks\":\"\"},\"bgcolor\":\"#E5ECF6\",\"caxis\":{\"gridcolor\":\"white\",\"linecolor\":\"white\",\"ticks\":\"\"}},\"title\":{\"x\":0.05},\"xaxis\":{\"automargin\":true,\"gridcolor\":\"white\",\"linecolor\":\"white\",\"ticks\":\"\",\"title\":{\"standoff\":15},\"zerolinecolor\":\"white\",\"zerolinewidth\":2},\"yaxis\":{\"automargin\":true,\"gridcolor\":\"white\",\"linecolor\":\"white\",\"ticks\":\"\",\"title\":{\"standoff\":15},\"zerolinecolor\":\"white\",\"zerolinewidth\":2}}},\"title\":{\"font\":{\"size\":20},\"text\":\"20 Most Frequent Items\"},\"xaxis\":{\"anchor\":\"y\",\"domain\":[0.0,1.0],\"tickangle\":-45,\"title\":{\"text\":\" \"}},\"yaxis\":{\"anchor\":\"x\",\"domain\":[0.0,1.0],\"showticklabels\":false,\"title\":{\"text\":\" \"}}},                        {\"responsive\": true}                    ).then(function(){\n",
       "                            \n",
       "var gd = document.getElementById('f7395051-6079-4b7a-8282-e329f46b4728');\n",
       "var x = new MutationObserver(function (mutations, observer) {{\n",
       "        var display = window.getComputedStyle(gd).display;\n",
       "        if (!display || display === 'none') {{\n",
       "            console.log([gd, 'removed!']);\n",
       "            Plotly.purge(gd);\n",
       "            observer.disconnect();\n",
       "        }}\n",
       "}});\n",
       "\n",
       "// Listen for the removal of the full notebook cells\n",
       "var notebookContainer = gd.closest('#notebook-container');\n",
       "if (notebookContainer) {{\n",
       "    x.observe(notebookContainer, {childList: true});\n",
       "}}\n",
       "\n",
       "// Listen for the clearing of the current output cell\n",
       "var outputEl = gd.closest('.output');\n",
       "if (outputEl) {{\n",
       "    x.observe(outputEl, {childList: true});\n",
       "}}\n",
       "\n",
       "                        })                };                });            </script>        </div>"
      ]
     },
     "metadata": {},
     "output_type": "display_data"
    }
   ],
   "source": [
    "fig = px.bar(itemFrequency.head(20), title='20 Most Frequent Items', color=itemFrequency.head(20), color_continuous_scale=px.colors.sequential.Mint)\n",
    "fig.update_layout(margin=dict(t=50, b=0, l=0, r=0), titlefont=dict(size=20), xaxis_tickangle=-45, plot_bgcolor='white', coloraxis_showscale=False)\n",
    "fig.update_yaxes(showticklabels=False, title=' ')\n",
    "fig.update_xaxes(title=' ')\n",
    "fig.update_traces(texttemplate='%{y}', textposition='outside', hovertemplate = '<b>%{x}</b><br>No. of Transactions: %{y}')\n",
    "fig.show()"
   ]
  },
  {
   "cell_type": "markdown",
   "id": "0973c8de",
   "metadata": {
    "id": "ZdmoLZiwkT3U",
    "papermill": {
     "duration": 0.036092,
     "end_time": "2021-12-17T14:58:47.538849",
     "exception": false,
     "start_time": "2021-12-17T14:58:47.502757",
     "status": "completed"
    },
    "tags": []
   },
   "source": [
    "<p style=\"color:#4a4a4a; font-size:110%;\">Coffee is the best-selling product by far, followed by bread and tea.</p>"
   ]
  },
  {
   "cell_type": "markdown",
   "id": "acce309b",
   "metadata": {
    "id": "QwfrtBYtkT3U",
    "papermill": {
     "duration": 0.035864,
     "end_time": "2021-12-17T14:58:47.611176",
     "exception": false,
     "start_time": "2021-12-17T14:58:47.575312",
     "status": "completed"
    },
    "tags": []
   },
   "source": [
    "<h3 style=\"text-align:left; font-family:Arial;\"><b>3.2 Let's look into the peak hours of sales</b></h3> "
   ]
  },
  {
   "cell_type": "code",
   "execution_count": 9,
   "id": "d6949e0b",
   "metadata": {
    "execution": {
     "iopub.execute_input": "2021-12-17T14:58:47.687208Z",
     "iopub.status.busy": "2021-12-17T14:58:47.686568Z",
     "iopub.status.idle": "2021-12-17T14:58:47.700213Z",
     "shell.execute_reply": "2021-12-17T14:58:47.700782Z",
     "shell.execute_reply.started": "2021-12-17T14:57:22.541072Z"
    },
    "executionInfo": {
     "elapsed": 759,
     "status": "ok",
     "timestamp": 1630751794572,
     "user": {
      "displayName": "Akash",
      "photoUrl": "https://lh3.googleusercontent.com/a-/AOh14Gi2e7RWkihNB-rZyYcAd4iUumed7zjXJQLf9cW5lg=s64",
      "userId": "06209623088398708773"
     },
     "user_tz": -330
    },
    "id": "do8HGBvhkT3U",
    "outputId": "32072aad-cc35-455e-a4d7-5b4463974577",
    "papermill": {
     "duration": 0.053159,
     "end_time": "2021-12-17T14:58:47.700956",
     "exception": false,
     "start_time": "2021-12-17T14:58:47.647797",
     "status": "completed"
    },
    "tags": []
   },
   "outputs": [
    {
     "data": {
      "text/plain": [
       "Daypart\n",
       "Afternoon    11569\n",
       "Morning       8404\n",
       "Evening        520\n",
       "Night           14\n",
       "Name: Items, dtype: int64"
      ]
     },
     "execution_count": 9,
     "metadata": {},
     "output_type": "execute_result"
    }
   ],
   "source": [
    "peakHours = bakeryDF.groupby('Daypart')['Items'].count().sort_values(ascending=False)\n",
    "peakHours"
   ]
  },
  {
   "cell_type": "code",
   "execution_count": 10,
   "id": "9ba18eb0",
   "metadata": {
    "execution": {
     "iopub.execute_input": "2021-12-17T14:58:47.778928Z",
     "iopub.status.busy": "2021-12-17T14:58:47.778154Z",
     "iopub.status.idle": "2021-12-17T14:58:47.820300Z",
     "shell.execute_reply": "2021-12-17T14:58:47.820946Z",
     "shell.execute_reply.started": "2021-12-17T14:57:22.560742Z"
    },
    "executionInfo": {
     "elapsed": 20,
     "status": "ok",
     "timestamp": 1630751794574,
     "user": {
      "displayName": "Akash",
      "photoUrl": "https://lh3.googleusercontent.com/a-/AOh14Gi2e7RWkihNB-rZyYcAd4iUumed7zjXJQLf9cW5lg=s64",
      "userId": "06209623088398708773"
     },
     "user_tz": -330
    },
    "id": "-fdQfiKRkT3V",
    "outputId": "9f1db7cc-3dc2-4da9-c3aa-bccf4b76da64",
    "papermill": {
     "duration": 0.082305,
     "end_time": "2021-12-17T14:58:47.821137",
     "exception": false,
     "start_time": "2021-12-17T14:58:47.738832",
     "status": "completed"
    },
    "tags": []
   },
   "outputs": [
    {
     "data": {
      "text/html": [
       "<div>                            <div id=\"f2dde161-37a9-4959-be50-daa89dd5c878\" class=\"plotly-graph-div\" style=\"height:525px; width:100%;\"></div>            <script type=\"text/javascript\">                require([\"plotly\"], function(Plotly) {                    window.PLOTLYENV=window.PLOTLYENV || {};                                    if (document.getElementById(\"f2dde161-37a9-4959-be50-daa89dd5c878\")) {                    Plotly.newPlot(                        \"f2dde161-37a9-4959-be50-daa89dd5c878\",                        [{\"hole\":0.5,\"labels\":[\"Afternoon\",\"Morning\",\"Evening\",\"Night\"],\"marker\":{\"colors\":[\"rgb(228, 241, 225)\",\"rgb(180, 217, 204)\",\"rgb(137, 192, 182)\",\"rgb(99, 166, 160)\",\"rgb(68, 140, 138)\",\"rgb(40, 114, 116)\",\"rgb(13, 88, 95)\"]},\"textinfo\":\"label+percent\",\"title\":{\"font\":{\"size\":20},\"text\":\"Peak Selling Hours\"},\"type\":\"pie\",\"values\":[11569,8404,520,14]}],                        {\"font\":{\"size\":13},\"margin\":{\"b\":40,\"l\":0,\"r\":0,\"t\":40},\"showlegend\":false,\"template\":{\"data\":{\"bar\":[{\"error_x\":{\"color\":\"#2a3f5f\"},\"error_y\":{\"color\":\"#2a3f5f\"},\"marker\":{\"line\":{\"color\":\"#E5ECF6\",\"width\":0.5},\"pattern\":{\"fillmode\":\"overlay\",\"size\":10,\"solidity\":0.2}},\"type\":\"bar\"}],\"barpolar\":[{\"marker\":{\"line\":{\"color\":\"#E5ECF6\",\"width\":0.5},\"pattern\":{\"fillmode\":\"overlay\",\"size\":10,\"solidity\":0.2}},\"type\":\"barpolar\"}],\"carpet\":[{\"aaxis\":{\"endlinecolor\":\"#2a3f5f\",\"gridcolor\":\"white\",\"linecolor\":\"white\",\"minorgridcolor\":\"white\",\"startlinecolor\":\"#2a3f5f\"},\"baxis\":{\"endlinecolor\":\"#2a3f5f\",\"gridcolor\":\"white\",\"linecolor\":\"white\",\"minorgridcolor\":\"white\",\"startlinecolor\":\"#2a3f5f\"},\"type\":\"carpet\"}],\"choropleth\":[{\"colorbar\":{\"outlinewidth\":0,\"ticks\":\"\"},\"type\":\"choropleth\"}],\"contour\":[{\"colorbar\":{\"outlinewidth\":0,\"ticks\":\"\"},\"colorscale\":[[0.0,\"#0d0887\"],[0.1111111111111111,\"#46039f\"],[0.2222222222222222,\"#7201a8\"],[0.3333333333333333,\"#9c179e\"],[0.4444444444444444,\"#bd3786\"],[0.5555555555555556,\"#d8576b\"],[0.6666666666666666,\"#ed7953\"],[0.7777777777777778,\"#fb9f3a\"],[0.8888888888888888,\"#fdca26\"],[1.0,\"#f0f921\"]],\"type\":\"contour\"}],\"contourcarpet\":[{\"colorbar\":{\"outlinewidth\":0,\"ticks\":\"\"},\"type\":\"contourcarpet\"}],\"heatmap\":[{\"colorbar\":{\"outlinewidth\":0,\"ticks\":\"\"},\"colorscale\":[[0.0,\"#0d0887\"],[0.1111111111111111,\"#46039f\"],[0.2222222222222222,\"#7201a8\"],[0.3333333333333333,\"#9c179e\"],[0.4444444444444444,\"#bd3786\"],[0.5555555555555556,\"#d8576b\"],[0.6666666666666666,\"#ed7953\"],[0.7777777777777778,\"#fb9f3a\"],[0.8888888888888888,\"#fdca26\"],[1.0,\"#f0f921\"]],\"type\":\"heatmap\"}],\"heatmapgl\":[{\"colorbar\":{\"outlinewidth\":0,\"ticks\":\"\"},\"colorscale\":[[0.0,\"#0d0887\"],[0.1111111111111111,\"#46039f\"],[0.2222222222222222,\"#7201a8\"],[0.3333333333333333,\"#9c179e\"],[0.4444444444444444,\"#bd3786\"],[0.5555555555555556,\"#d8576b\"],[0.6666666666666666,\"#ed7953\"],[0.7777777777777778,\"#fb9f3a\"],[0.8888888888888888,\"#fdca26\"],[1.0,\"#f0f921\"]],\"type\":\"heatmapgl\"}],\"histogram\":[{\"marker\":{\"pattern\":{\"fillmode\":\"overlay\",\"size\":10,\"solidity\":0.2}},\"type\":\"histogram\"}],\"histogram2d\":[{\"colorbar\":{\"outlinewidth\":0,\"ticks\":\"\"},\"colorscale\":[[0.0,\"#0d0887\"],[0.1111111111111111,\"#46039f\"],[0.2222222222222222,\"#7201a8\"],[0.3333333333333333,\"#9c179e\"],[0.4444444444444444,\"#bd3786\"],[0.5555555555555556,\"#d8576b\"],[0.6666666666666666,\"#ed7953\"],[0.7777777777777778,\"#fb9f3a\"],[0.8888888888888888,\"#fdca26\"],[1.0,\"#f0f921\"]],\"type\":\"histogram2d\"}],\"histogram2dcontour\":[{\"colorbar\":{\"outlinewidth\":0,\"ticks\":\"\"},\"colorscale\":[[0.0,\"#0d0887\"],[0.1111111111111111,\"#46039f\"],[0.2222222222222222,\"#7201a8\"],[0.3333333333333333,\"#9c179e\"],[0.4444444444444444,\"#bd3786\"],[0.5555555555555556,\"#d8576b\"],[0.6666666666666666,\"#ed7953\"],[0.7777777777777778,\"#fb9f3a\"],[0.8888888888888888,\"#fdca26\"],[1.0,\"#f0f921\"]],\"type\":\"histogram2dcontour\"}],\"mesh3d\":[{\"colorbar\":{\"outlinewidth\":0,\"ticks\":\"\"},\"type\":\"mesh3d\"}],\"parcoords\":[{\"line\":{\"colorbar\":{\"outlinewidth\":0,\"ticks\":\"\"}},\"type\":\"parcoords\"}],\"pie\":[{\"automargin\":true,\"type\":\"pie\"}],\"scatter\":[{\"marker\":{\"colorbar\":{\"outlinewidth\":0,\"ticks\":\"\"}},\"type\":\"scatter\"}],\"scatter3d\":[{\"line\":{\"colorbar\":{\"outlinewidth\":0,\"ticks\":\"\"}},\"marker\":{\"colorbar\":{\"outlinewidth\":0,\"ticks\":\"\"}},\"type\":\"scatter3d\"}],\"scattercarpet\":[{\"marker\":{\"colorbar\":{\"outlinewidth\":0,\"ticks\":\"\"}},\"type\":\"scattercarpet\"}],\"scattergeo\":[{\"marker\":{\"colorbar\":{\"outlinewidth\":0,\"ticks\":\"\"}},\"type\":\"scattergeo\"}],\"scattergl\":[{\"marker\":{\"colorbar\":{\"outlinewidth\":0,\"ticks\":\"\"}},\"type\":\"scattergl\"}],\"scattermapbox\":[{\"marker\":{\"colorbar\":{\"outlinewidth\":0,\"ticks\":\"\"}},\"type\":\"scattermapbox\"}],\"scatterpolar\":[{\"marker\":{\"colorbar\":{\"outlinewidth\":0,\"ticks\":\"\"}},\"type\":\"scatterpolar\"}],\"scatterpolargl\":[{\"marker\":{\"colorbar\":{\"outlinewidth\":0,\"ticks\":\"\"}},\"type\":\"scatterpolargl\"}],\"scatterternary\":[{\"marker\":{\"colorbar\":{\"outlinewidth\":0,\"ticks\":\"\"}},\"type\":\"scatterternary\"}],\"surface\":[{\"colorbar\":{\"outlinewidth\":0,\"ticks\":\"\"},\"colorscale\":[[0.0,\"#0d0887\"],[0.1111111111111111,\"#46039f\"],[0.2222222222222222,\"#7201a8\"],[0.3333333333333333,\"#9c179e\"],[0.4444444444444444,\"#bd3786\"],[0.5555555555555556,\"#d8576b\"],[0.6666666666666666,\"#ed7953\"],[0.7777777777777778,\"#fb9f3a\"],[0.8888888888888888,\"#fdca26\"],[1.0,\"#f0f921\"]],\"type\":\"surface\"}],\"table\":[{\"cells\":{\"fill\":{\"color\":\"#EBF0F8\"},\"line\":{\"color\":\"white\"}},\"header\":{\"fill\":{\"color\":\"#C8D4E3\"},\"line\":{\"color\":\"white\"}},\"type\":\"table\"}]},\"layout\":{\"annotationdefaults\":{\"arrowcolor\":\"#2a3f5f\",\"arrowhead\":0,\"arrowwidth\":1},\"autotypenumbers\":\"strict\",\"coloraxis\":{\"colorbar\":{\"outlinewidth\":0,\"ticks\":\"\"}},\"colorscale\":{\"diverging\":[[0,\"#8e0152\"],[0.1,\"#c51b7d\"],[0.2,\"#de77ae\"],[0.3,\"#f1b6da\"],[0.4,\"#fde0ef\"],[0.5,\"#f7f7f7\"],[0.6,\"#e6f5d0\"],[0.7,\"#b8e186\"],[0.8,\"#7fbc41\"],[0.9,\"#4d9221\"],[1,\"#276419\"]],\"sequential\":[[0.0,\"#0d0887\"],[0.1111111111111111,\"#46039f\"],[0.2222222222222222,\"#7201a8\"],[0.3333333333333333,\"#9c179e\"],[0.4444444444444444,\"#bd3786\"],[0.5555555555555556,\"#d8576b\"],[0.6666666666666666,\"#ed7953\"],[0.7777777777777778,\"#fb9f3a\"],[0.8888888888888888,\"#fdca26\"],[1.0,\"#f0f921\"]],\"sequentialminus\":[[0.0,\"#0d0887\"],[0.1111111111111111,\"#46039f\"],[0.2222222222222222,\"#7201a8\"],[0.3333333333333333,\"#9c179e\"],[0.4444444444444444,\"#bd3786\"],[0.5555555555555556,\"#d8576b\"],[0.6666666666666666,\"#ed7953\"],[0.7777777777777778,\"#fb9f3a\"],[0.8888888888888888,\"#fdca26\"],[1.0,\"#f0f921\"]]},\"colorway\":[\"#636efa\",\"#EF553B\",\"#00cc96\",\"#ab63fa\",\"#FFA15A\",\"#19d3f3\",\"#FF6692\",\"#B6E880\",\"#FF97FF\",\"#FECB52\"],\"font\":{\"color\":\"#2a3f5f\"},\"geo\":{\"bgcolor\":\"white\",\"lakecolor\":\"white\",\"landcolor\":\"#E5ECF6\",\"showlakes\":true,\"showland\":true,\"subunitcolor\":\"white\"},\"hoverlabel\":{\"align\":\"left\"},\"hovermode\":\"closest\",\"mapbox\":{\"style\":\"light\"},\"paper_bgcolor\":\"white\",\"plot_bgcolor\":\"#E5ECF6\",\"polar\":{\"angularaxis\":{\"gridcolor\":\"white\",\"linecolor\":\"white\",\"ticks\":\"\"},\"bgcolor\":\"#E5ECF6\",\"radialaxis\":{\"gridcolor\":\"white\",\"linecolor\":\"white\",\"ticks\":\"\"}},\"scene\":{\"xaxis\":{\"backgroundcolor\":\"#E5ECF6\",\"gridcolor\":\"white\",\"gridwidth\":2,\"linecolor\":\"white\",\"showbackground\":true,\"ticks\":\"\",\"zerolinecolor\":\"white\"},\"yaxis\":{\"backgroundcolor\":\"#E5ECF6\",\"gridcolor\":\"white\",\"gridwidth\":2,\"linecolor\":\"white\",\"showbackground\":true,\"ticks\":\"\",\"zerolinecolor\":\"white\"},\"zaxis\":{\"backgroundcolor\":\"#E5ECF6\",\"gridcolor\":\"white\",\"gridwidth\":2,\"linecolor\":\"white\",\"showbackground\":true,\"ticks\":\"\",\"zerolinecolor\":\"white\"}},\"shapedefaults\":{\"line\":{\"color\":\"#2a3f5f\"}},\"ternary\":{\"aaxis\":{\"gridcolor\":\"white\",\"linecolor\":\"white\",\"ticks\":\"\"},\"baxis\":{\"gridcolor\":\"white\",\"linecolor\":\"white\",\"ticks\":\"\"},\"bgcolor\":\"#E5ECF6\",\"caxis\":{\"gridcolor\":\"white\",\"linecolor\":\"white\",\"ticks\":\"\"}},\"title\":{\"x\":0.05},\"xaxis\":{\"automargin\":true,\"gridcolor\":\"white\",\"linecolor\":\"white\",\"ticks\":\"\",\"title\":{\"standoff\":15},\"zerolinecolor\":\"white\",\"zerolinewidth\":2},\"yaxis\":{\"automargin\":true,\"gridcolor\":\"white\",\"linecolor\":\"white\",\"ticks\":\"\",\"title\":{\"standoff\":15},\"zerolinecolor\":\"white\",\"zerolinewidth\":2}}}},                        {\"responsive\": true}                    ).then(function(){\n",
       "                            \n",
       "var gd = document.getElementById('f2dde161-37a9-4959-be50-daa89dd5c878');\n",
       "var x = new MutationObserver(function (mutations, observer) {{\n",
       "        var display = window.getComputedStyle(gd).display;\n",
       "        if (!display || display === 'none') {{\n",
       "            console.log([gd, 'removed!']);\n",
       "            Plotly.purge(gd);\n",
       "            observer.disconnect();\n",
       "        }}\n",
       "}});\n",
       "\n",
       "// Listen for the removal of the full notebook cells\n",
       "var notebookContainer = gd.closest('#notebook-container');\n",
       "if (notebookContainer) {{\n",
       "    x.observe(notebookContainer, {childList: true});\n",
       "}}\n",
       "\n",
       "// Listen for the clearing of the current output cell\n",
       "var outputEl = gd.closest('.output');\n",
       "if (outputEl) {{\n",
       "    x.observe(outputEl, {childList: true});\n",
       "}}\n",
       "\n",
       "                        })                };                });            </script>        </div>"
      ]
     },
     "metadata": {},
     "output_type": "display_data"
    }
   ],
   "source": [
    "fig = go.Figure(data=[go.Pie(labels=['Afternoon','Morning','Evening','Night'],\n",
    "                values=peakHours, title=\"Peak Selling Hours\",titlefont=dict(size=20), textinfo='label+percent', marker=dict(colors=px.colors.sequential.Mint), hole=.5)])\n",
    "fig.update_layout(margin=dict(t=40, b=40, l=0, r=0), font=dict(size=13), showlegend=False)\n",
    "fig.show()"
   ]
  },
  {
   "cell_type": "markdown",
   "id": "38b89a76",
   "metadata": {
    "id": "dxiG2UMbkT3V",
    "papermill": {
     "duration": 0.040638,
     "end_time": "2021-12-17T14:58:47.901299",
     "exception": false,
     "start_time": "2021-12-17T14:58:47.860661",
     "status": "completed"
    },
    "tags": []
   },
   "source": [
    "<p style=\"color:#4a4a4a; font-size:110%;\">The bakery seems to be making most of its sales in the afternoon everyday with over 56% of the sales. Sales fall sharply after that. However the bakery makes a decent amount of sales in the morning as well.</p>"
   ]
  },
  {
   "cell_type": "markdown",
   "id": "c97b552a",
   "metadata": {
    "id": "Ep_hMs5hkT3V",
    "papermill": {
     "duration": 0.037056,
     "end_time": "2021-12-17T14:58:47.975641",
     "exception": false,
     "start_time": "2021-12-17T14:58:47.938585",
     "status": "completed"
    },
    "tags": []
   },
   "source": [
    "<h3 style=\"text-align:left; font-family:Arial;\"><b>3.3 Further let's look into the monthly and weekly sales</b></h3> "
   ]
  },
  {
   "cell_type": "markdown",
   "id": "addf232e",
   "metadata": {
    "id": "bggxoB9MkT3V",
    "papermill": {
     "duration": 0.03831,
     "end_time": "2021-12-17T14:58:48.051167",
     "exception": false,
     "start_time": "2021-12-17T14:58:48.012857",
     "status": "completed"
    },
    "tags": []
   },
   "source": [
    "<p style=\"color:#4a4a4a; font-size:110%;\">Need to extract months and days from the dataset for further analysis.</p>"
   ]
  },
  {
   "cell_type": "code",
   "execution_count": 11,
   "id": "4ab9b122",
   "metadata": {
    "execution": {
     "iopub.execute_input": "2021-12-17T14:58:48.128954Z",
     "iopub.status.busy": "2021-12-17T14:58:48.128258Z",
     "iopub.status.idle": "2021-12-17T14:58:48.178234Z",
     "shell.execute_reply": "2021-12-17T14:58:48.177559Z",
     "shell.execute_reply.started": "2021-12-17T14:57:22.614267Z"
    },
    "executionInfo": {
     "elapsed": 19,
     "status": "ok",
     "timestamp": 1630751794575,
     "user": {
      "displayName": "Akash",
      "photoUrl": "https://lh3.googleusercontent.com/a-/AOh14Gi2e7RWkihNB-rZyYcAd4iUumed7zjXJQLf9cW5lg=s64",
      "userId": "06209623088398708773"
     },
     "user_tz": -330
    },
    "id": "AhywH3cukT3V",
    "outputId": "2a40334b-6372-4259-a0a1-7429f6607af7",
    "papermill": {
     "duration": 0.089881,
     "end_time": "2021-12-17T14:58:48.178409",
     "exception": false,
     "start_time": "2021-12-17T14:58:48.088528",
     "status": "completed"
    },
    "tags": []
   },
   "outputs": [
    {
     "data": {
      "text/html": [
       "<div>\n",
       "<style scoped>\n",
       "    .dataframe tbody tr th:only-of-type {\n",
       "        vertical-align: middle;\n",
       "    }\n",
       "\n",
       "    .dataframe tbody tr th {\n",
       "        vertical-align: top;\n",
       "    }\n",
       "\n",
       "    .dataframe thead th {\n",
       "        text-align: right;\n",
       "    }\n",
       "</style>\n",
       "<table border=\"1\" class=\"dataframe\">\n",
       "  <thead>\n",
       "    <tr style=\"text-align: right;\">\n",
       "      <th></th>\n",
       "      <th>TransactionNo</th>\n",
       "      <th>Items</th>\n",
       "      <th>DateTime</th>\n",
       "      <th>Daypart</th>\n",
       "      <th>DayType</th>\n",
       "      <th>Day</th>\n",
       "      <th>Month</th>\n",
       "      <th>Year</th>\n",
       "    </tr>\n",
       "  </thead>\n",
       "  <tbody>\n",
       "    <tr>\n",
       "      <th>0</th>\n",
       "      <td>1</td>\n",
       "      <td>Bread</td>\n",
       "      <td>2016-10-30 09:58:11</td>\n",
       "      <td>Morning</td>\n",
       "      <td>Weekend</td>\n",
       "      <td>Sunday</td>\n",
       "      <td>October</td>\n",
       "      <td>2016</td>\n",
       "    </tr>\n",
       "    <tr>\n",
       "      <th>1</th>\n",
       "      <td>2</td>\n",
       "      <td>Scandinavian</td>\n",
       "      <td>2016-10-30 10:05:34</td>\n",
       "      <td>Morning</td>\n",
       "      <td>Weekend</td>\n",
       "      <td>Sunday</td>\n",
       "      <td>October</td>\n",
       "      <td>2016</td>\n",
       "    </tr>\n",
       "    <tr>\n",
       "      <th>2</th>\n",
       "      <td>2</td>\n",
       "      <td>Scandinavian</td>\n",
       "      <td>2016-10-30 10:05:34</td>\n",
       "      <td>Morning</td>\n",
       "      <td>Weekend</td>\n",
       "      <td>Sunday</td>\n",
       "      <td>October</td>\n",
       "      <td>2016</td>\n",
       "    </tr>\n",
       "    <tr>\n",
       "      <th>3</th>\n",
       "      <td>3</td>\n",
       "      <td>Hot chocolate</td>\n",
       "      <td>2016-10-30 10:07:57</td>\n",
       "      <td>Morning</td>\n",
       "      <td>Weekend</td>\n",
       "      <td>Sunday</td>\n",
       "      <td>October</td>\n",
       "      <td>2016</td>\n",
       "    </tr>\n",
       "    <tr>\n",
       "      <th>4</th>\n",
       "      <td>3</td>\n",
       "      <td>Jam</td>\n",
       "      <td>2016-10-30 10:07:57</td>\n",
       "      <td>Morning</td>\n",
       "      <td>Weekend</td>\n",
       "      <td>Sunday</td>\n",
       "      <td>October</td>\n",
       "      <td>2016</td>\n",
       "    </tr>\n",
       "  </tbody>\n",
       "</table>\n",
       "</div>"
      ],
      "text/plain": [
       "   TransactionNo          Items             DateTime  Daypart  DayType  \\\n",
       "0              1          Bread  2016-10-30 09:58:11  Morning  Weekend   \n",
       "1              2   Scandinavian  2016-10-30 10:05:34  Morning  Weekend   \n",
       "2              2   Scandinavian  2016-10-30 10:05:34  Morning  Weekend   \n",
       "3              3  Hot chocolate  2016-10-30 10:07:57  Morning  Weekend   \n",
       "4              3            Jam  2016-10-30 10:07:57  Morning  Weekend   \n",
       "\n",
       "      Day    Month  Year  \n",
       "0  Sunday  October  2016  \n",
       "1  Sunday  October  2016  \n",
       "2  Sunday  October  2016  \n",
       "3  Sunday  October  2016  \n",
       "4  Sunday  October  2016  "
      ]
     },
     "execution_count": 11,
     "metadata": {},
     "output_type": "execute_result"
    }
   ],
   "source": [
    "dateTime=pd.to_datetime(bakeryDF['DateTime'])\n",
    "bakeryDF['Day']=dateTime.dt.day_name()\n",
    "bakeryDF['Month']=dateTime.dt.month_name()\n",
    "bakeryDF['Year']=dateTime.dt.year\n",
    "bakeryDF.head(5)"
   ]
  },
  {
   "cell_type": "code",
   "execution_count": 12,
   "id": "0c306ded",
   "metadata": {
    "execution": {
     "iopub.execute_input": "2021-12-17T14:58:48.262644Z",
     "iopub.status.busy": "2021-12-17T14:58:48.261205Z",
     "iopub.status.idle": "2021-12-17T14:58:48.272859Z",
     "shell.execute_reply": "2021-12-17T14:58:48.272282Z",
     "shell.execute_reply.started": "2021-12-17T14:57:22.674005Z"
    },
    "executionInfo": {
     "elapsed": 18,
     "status": "ok",
     "timestamp": 1630751794576,
     "user": {
      "displayName": "Akash",
      "photoUrl": "https://lh3.googleusercontent.com/a-/AOh14Gi2e7RWkihNB-rZyYcAd4iUumed7zjXJQLf9cW5lg=s64",
      "userId": "06209623088398708773"
     },
     "user_tz": -330
    },
    "id": "fwXTkLATkT3V",
    "outputId": "31902b26-d028-48ee-cb51-e84a06081cd7",
    "papermill": {
     "duration": 0.055628,
     "end_time": "2021-12-17T14:58:48.273000",
     "exception": false,
     "start_time": "2021-12-17T14:58:48.217372",
     "status": "completed"
    },
    "tags": []
   },
   "outputs": [
    {
     "data": {
      "text/plain": [
       "Day\n",
       "Saturday     3554\n",
       "Friday       3266\n",
       "Sunday       3118\n",
       "Monday       3035\n",
       "Tuesday      2645\n",
       "Thursday     2601\n",
       "Wednesday    2288\n",
       "Name: Items, dtype: int64"
      ]
     },
     "execution_count": 12,
     "metadata": {},
     "output_type": "execute_result"
    }
   ],
   "source": [
    "mpd = bakeryDF.groupby('Day')['Items'].count().sort_values(ascending=False)\n",
    "mpd"
   ]
  },
  {
   "cell_type": "code",
   "execution_count": 13,
   "id": "4c7fa183",
   "metadata": {
    "execution": {
     "iopub.execute_input": "2021-12-17T14:58:48.361316Z",
     "iopub.status.busy": "2021-12-17T14:58:48.360580Z",
     "iopub.status.idle": "2021-12-17T14:58:48.437422Z",
     "shell.execute_reply": "2021-12-17T14:58:48.437979Z",
     "shell.execute_reply.started": "2021-12-17T14:57:22.689756Z"
    },
    "executionInfo": {
     "elapsed": 682,
     "status": "ok",
     "timestamp": 1630751795244,
     "user": {
      "displayName": "Akash",
      "photoUrl": "https://lh3.googleusercontent.com/a-/AOh14Gi2e7RWkihNB-rZyYcAd4iUumed7zjXJQLf9cW5lg=s64",
      "userId": "06209623088398708773"
     },
     "user_tz": -330
    },
    "id": "4nIZCFJxkT3W",
    "outputId": "3fa9fc19-8061-4976-a5e9-cdd2da2e0cfb",
    "papermill": {
     "duration": 0.126889,
     "end_time": "2021-12-17T14:58:48.438163",
     "exception": false,
     "start_time": "2021-12-17T14:58:48.311274",
     "status": "completed"
    },
    "tags": []
   },
   "outputs": [
    {
     "data": {
      "text/html": [
       "<div>                            <div id=\"3b24032f-e181-454a-85e4-dacf9bcbff9f\" class=\"plotly-graph-div\" style=\"height:525px; width:100%;\"></div>            <script type=\"text/javascript\">                require([\"plotly\"], function(Plotly) {                    window.PLOTLYENV=window.PLOTLYENV || {};                                    if (document.getElementById(\"3b24032f-e181-454a-85e4-dacf9bcbff9f\")) {                    Plotly.newPlot(                        \"3b24032f-e181-454a-85e4-dacf9bcbff9f\",                        [{\"alignmentgroup\":\"True\",\"hovertemplate\":\"<b>%{x}</b><br>No. of Transactions: %{y}\",\"legendgroup\":\"\",\"marker\":{\"color\":[3554,3266,3118,3035,2645,2601,2288],\"coloraxis\":\"coloraxis\",\"pattern\":{\"shape\":\"\"}},\"name\":\"\",\"offsetgroup\":\"\",\"orientation\":\"v\",\"showlegend\":false,\"textposition\":\"outside\",\"texttemplate\":\"%{y}\",\"type\":\"bar\",\"x\":[\"Saturday\",\"Friday\",\"Sunday\",\"Monday\",\"Tuesday\",\"Thursday\",\"Wednesday\"],\"xaxis\":\"x\",\"y\":[3554,3266,3118,3035,2645,2601,2288],\"yaxis\":\"y\"}],                        {\"barmode\":\"relative\",\"coloraxis\":{\"colorbar\":{\"title\":{\"text\":\"color\"}},\"colorscale\":[[0.0,\"rgb(228, 241, 225)\"],[0.16666666666666666,\"rgb(180, 217, 204)\"],[0.3333333333333333,\"rgb(137, 192, 182)\"],[0.5,\"rgb(99, 166, 160)\"],[0.6666666666666666,\"rgb(68, 140, 138)\"],[0.8333333333333334,\"rgb(40, 114, 116)\"],[1.0,\"rgb(13, 88, 95)\"]],\"showscale\":false},\"legend\":{\"tracegroupgap\":0},\"margin\":{\"b\":0,\"l\":0,\"r\":0,\"t\":50},\"plot_bgcolor\":\"white\",\"template\":{\"data\":{\"bar\":[{\"error_x\":{\"color\":\"#2a3f5f\"},\"error_y\":{\"color\":\"#2a3f5f\"},\"marker\":{\"line\":{\"color\":\"#E5ECF6\",\"width\":0.5},\"pattern\":{\"fillmode\":\"overlay\",\"size\":10,\"solidity\":0.2}},\"type\":\"bar\"}],\"barpolar\":[{\"marker\":{\"line\":{\"color\":\"#E5ECF6\",\"width\":0.5},\"pattern\":{\"fillmode\":\"overlay\",\"size\":10,\"solidity\":0.2}},\"type\":\"barpolar\"}],\"carpet\":[{\"aaxis\":{\"endlinecolor\":\"#2a3f5f\",\"gridcolor\":\"white\",\"linecolor\":\"white\",\"minorgridcolor\":\"white\",\"startlinecolor\":\"#2a3f5f\"},\"baxis\":{\"endlinecolor\":\"#2a3f5f\",\"gridcolor\":\"white\",\"linecolor\":\"white\",\"minorgridcolor\":\"white\",\"startlinecolor\":\"#2a3f5f\"},\"type\":\"carpet\"}],\"choropleth\":[{\"colorbar\":{\"outlinewidth\":0,\"ticks\":\"\"},\"type\":\"choropleth\"}],\"contour\":[{\"colorbar\":{\"outlinewidth\":0,\"ticks\":\"\"},\"colorscale\":[[0.0,\"#0d0887\"],[0.1111111111111111,\"#46039f\"],[0.2222222222222222,\"#7201a8\"],[0.3333333333333333,\"#9c179e\"],[0.4444444444444444,\"#bd3786\"],[0.5555555555555556,\"#d8576b\"],[0.6666666666666666,\"#ed7953\"],[0.7777777777777778,\"#fb9f3a\"],[0.8888888888888888,\"#fdca26\"],[1.0,\"#f0f921\"]],\"type\":\"contour\"}],\"contourcarpet\":[{\"colorbar\":{\"outlinewidth\":0,\"ticks\":\"\"},\"type\":\"contourcarpet\"}],\"heatmap\":[{\"colorbar\":{\"outlinewidth\":0,\"ticks\":\"\"},\"colorscale\":[[0.0,\"#0d0887\"],[0.1111111111111111,\"#46039f\"],[0.2222222222222222,\"#7201a8\"],[0.3333333333333333,\"#9c179e\"],[0.4444444444444444,\"#bd3786\"],[0.5555555555555556,\"#d8576b\"],[0.6666666666666666,\"#ed7953\"],[0.7777777777777778,\"#fb9f3a\"],[0.8888888888888888,\"#fdca26\"],[1.0,\"#f0f921\"]],\"type\":\"heatmap\"}],\"heatmapgl\":[{\"colorbar\":{\"outlinewidth\":0,\"ticks\":\"\"},\"colorscale\":[[0.0,\"#0d0887\"],[0.1111111111111111,\"#46039f\"],[0.2222222222222222,\"#7201a8\"],[0.3333333333333333,\"#9c179e\"],[0.4444444444444444,\"#bd3786\"],[0.5555555555555556,\"#d8576b\"],[0.6666666666666666,\"#ed7953\"],[0.7777777777777778,\"#fb9f3a\"],[0.8888888888888888,\"#fdca26\"],[1.0,\"#f0f921\"]],\"type\":\"heatmapgl\"}],\"histogram\":[{\"marker\":{\"pattern\":{\"fillmode\":\"overlay\",\"size\":10,\"solidity\":0.2}},\"type\":\"histogram\"}],\"histogram2d\":[{\"colorbar\":{\"outlinewidth\":0,\"ticks\":\"\"},\"colorscale\":[[0.0,\"#0d0887\"],[0.1111111111111111,\"#46039f\"],[0.2222222222222222,\"#7201a8\"],[0.3333333333333333,\"#9c179e\"],[0.4444444444444444,\"#bd3786\"],[0.5555555555555556,\"#d8576b\"],[0.6666666666666666,\"#ed7953\"],[0.7777777777777778,\"#fb9f3a\"],[0.8888888888888888,\"#fdca26\"],[1.0,\"#f0f921\"]],\"type\":\"histogram2d\"}],\"histogram2dcontour\":[{\"colorbar\":{\"outlinewidth\":0,\"ticks\":\"\"},\"colorscale\":[[0.0,\"#0d0887\"],[0.1111111111111111,\"#46039f\"],[0.2222222222222222,\"#7201a8\"],[0.3333333333333333,\"#9c179e\"],[0.4444444444444444,\"#bd3786\"],[0.5555555555555556,\"#d8576b\"],[0.6666666666666666,\"#ed7953\"],[0.7777777777777778,\"#fb9f3a\"],[0.8888888888888888,\"#fdca26\"],[1.0,\"#f0f921\"]],\"type\":\"histogram2dcontour\"}],\"mesh3d\":[{\"colorbar\":{\"outlinewidth\":0,\"ticks\":\"\"},\"type\":\"mesh3d\"}],\"parcoords\":[{\"line\":{\"colorbar\":{\"outlinewidth\":0,\"ticks\":\"\"}},\"type\":\"parcoords\"}],\"pie\":[{\"automargin\":true,\"type\":\"pie\"}],\"scatter\":[{\"marker\":{\"colorbar\":{\"outlinewidth\":0,\"ticks\":\"\"}},\"type\":\"scatter\"}],\"scatter3d\":[{\"line\":{\"colorbar\":{\"outlinewidth\":0,\"ticks\":\"\"}},\"marker\":{\"colorbar\":{\"outlinewidth\":0,\"ticks\":\"\"}},\"type\":\"scatter3d\"}],\"scattercarpet\":[{\"marker\":{\"colorbar\":{\"outlinewidth\":0,\"ticks\":\"\"}},\"type\":\"scattercarpet\"}],\"scattergeo\":[{\"marker\":{\"colorbar\":{\"outlinewidth\":0,\"ticks\":\"\"}},\"type\":\"scattergeo\"}],\"scattergl\":[{\"marker\":{\"colorbar\":{\"outlinewidth\":0,\"ticks\":\"\"}},\"type\":\"scattergl\"}],\"scattermapbox\":[{\"marker\":{\"colorbar\":{\"outlinewidth\":0,\"ticks\":\"\"}},\"type\":\"scattermapbox\"}],\"scatterpolar\":[{\"marker\":{\"colorbar\":{\"outlinewidth\":0,\"ticks\":\"\"}},\"type\":\"scatterpolar\"}],\"scatterpolargl\":[{\"marker\":{\"colorbar\":{\"outlinewidth\":0,\"ticks\":\"\"}},\"type\":\"scatterpolargl\"}],\"scatterternary\":[{\"marker\":{\"colorbar\":{\"outlinewidth\":0,\"ticks\":\"\"}},\"type\":\"scatterternary\"}],\"surface\":[{\"colorbar\":{\"outlinewidth\":0,\"ticks\":\"\"},\"colorscale\":[[0.0,\"#0d0887\"],[0.1111111111111111,\"#46039f\"],[0.2222222222222222,\"#7201a8\"],[0.3333333333333333,\"#9c179e\"],[0.4444444444444444,\"#bd3786\"],[0.5555555555555556,\"#d8576b\"],[0.6666666666666666,\"#ed7953\"],[0.7777777777777778,\"#fb9f3a\"],[0.8888888888888888,\"#fdca26\"],[1.0,\"#f0f921\"]],\"type\":\"surface\"}],\"table\":[{\"cells\":{\"fill\":{\"color\":\"#EBF0F8\"},\"line\":{\"color\":\"white\"}},\"header\":{\"fill\":{\"color\":\"#C8D4E3\"},\"line\":{\"color\":\"white\"}},\"type\":\"table\"}]},\"layout\":{\"annotationdefaults\":{\"arrowcolor\":\"#2a3f5f\",\"arrowhead\":0,\"arrowwidth\":1},\"autotypenumbers\":\"strict\",\"coloraxis\":{\"colorbar\":{\"outlinewidth\":0,\"ticks\":\"\"}},\"colorscale\":{\"diverging\":[[0,\"#8e0152\"],[0.1,\"#c51b7d\"],[0.2,\"#de77ae\"],[0.3,\"#f1b6da\"],[0.4,\"#fde0ef\"],[0.5,\"#f7f7f7\"],[0.6,\"#e6f5d0\"],[0.7,\"#b8e186\"],[0.8,\"#7fbc41\"],[0.9,\"#4d9221\"],[1,\"#276419\"]],\"sequential\":[[0.0,\"#0d0887\"],[0.1111111111111111,\"#46039f\"],[0.2222222222222222,\"#7201a8\"],[0.3333333333333333,\"#9c179e\"],[0.4444444444444444,\"#bd3786\"],[0.5555555555555556,\"#d8576b\"],[0.6666666666666666,\"#ed7953\"],[0.7777777777777778,\"#fb9f3a\"],[0.8888888888888888,\"#fdca26\"],[1.0,\"#f0f921\"]],\"sequentialminus\":[[0.0,\"#0d0887\"],[0.1111111111111111,\"#46039f\"],[0.2222222222222222,\"#7201a8\"],[0.3333333333333333,\"#9c179e\"],[0.4444444444444444,\"#bd3786\"],[0.5555555555555556,\"#d8576b\"],[0.6666666666666666,\"#ed7953\"],[0.7777777777777778,\"#fb9f3a\"],[0.8888888888888888,\"#fdca26\"],[1.0,\"#f0f921\"]]},\"colorway\":[\"#636efa\",\"#EF553B\",\"#00cc96\",\"#ab63fa\",\"#FFA15A\",\"#19d3f3\",\"#FF6692\",\"#B6E880\",\"#FF97FF\",\"#FECB52\"],\"font\":{\"color\":\"#2a3f5f\"},\"geo\":{\"bgcolor\":\"white\",\"lakecolor\":\"white\",\"landcolor\":\"#E5ECF6\",\"showlakes\":true,\"showland\":true,\"subunitcolor\":\"white\"},\"hoverlabel\":{\"align\":\"left\"},\"hovermode\":\"closest\",\"mapbox\":{\"style\":\"light\"},\"paper_bgcolor\":\"white\",\"plot_bgcolor\":\"#E5ECF6\",\"polar\":{\"angularaxis\":{\"gridcolor\":\"white\",\"linecolor\":\"white\",\"ticks\":\"\"},\"bgcolor\":\"#E5ECF6\",\"radialaxis\":{\"gridcolor\":\"white\",\"linecolor\":\"white\",\"ticks\":\"\"}},\"scene\":{\"xaxis\":{\"backgroundcolor\":\"#E5ECF6\",\"gridcolor\":\"white\",\"gridwidth\":2,\"linecolor\":\"white\",\"showbackground\":true,\"ticks\":\"\",\"zerolinecolor\":\"white\"},\"yaxis\":{\"backgroundcolor\":\"#E5ECF6\",\"gridcolor\":\"white\",\"gridwidth\":2,\"linecolor\":\"white\",\"showbackground\":true,\"ticks\":\"\",\"zerolinecolor\":\"white\"},\"zaxis\":{\"backgroundcolor\":\"#E5ECF6\",\"gridcolor\":\"white\",\"gridwidth\":2,\"linecolor\":\"white\",\"showbackground\":true,\"ticks\":\"\",\"zerolinecolor\":\"white\"}},\"shapedefaults\":{\"line\":{\"color\":\"#2a3f5f\"}},\"ternary\":{\"aaxis\":{\"gridcolor\":\"white\",\"linecolor\":\"white\",\"ticks\":\"\"},\"baxis\":{\"gridcolor\":\"white\",\"linecolor\":\"white\",\"ticks\":\"\"},\"bgcolor\":\"#E5ECF6\",\"caxis\":{\"gridcolor\":\"white\",\"linecolor\":\"white\",\"ticks\":\"\"}},\"title\":{\"x\":0.05},\"xaxis\":{\"automargin\":true,\"gridcolor\":\"white\",\"linecolor\":\"white\",\"ticks\":\"\",\"title\":{\"standoff\":15},\"zerolinecolor\":\"white\",\"zerolinewidth\":2},\"yaxis\":{\"automargin\":true,\"gridcolor\":\"white\",\"linecolor\":\"white\",\"ticks\":\"\",\"title\":{\"standoff\":15},\"zerolinecolor\":\"white\",\"zerolinewidth\":2}}},\"title\":{\"font\":{\"size\":20},\"text\":\"Most Productive Day\"},\"xaxis\":{\"anchor\":\"y\",\"domain\":[0.0,1.0],\"tickangle\":0,\"title\":{\"text\":\" \"}},\"yaxis\":{\"anchor\":\"x\",\"domain\":[0.0,1.0],\"showticklabels\":false,\"title\":{\"text\":\" \"}}},                        {\"responsive\": true}                    ).then(function(){\n",
       "                            \n",
       "var gd = document.getElementById('3b24032f-e181-454a-85e4-dacf9bcbff9f');\n",
       "var x = new MutationObserver(function (mutations, observer) {{\n",
       "        var display = window.getComputedStyle(gd).display;\n",
       "        if (!display || display === 'none') {{\n",
       "            console.log([gd, 'removed!']);\n",
       "            Plotly.purge(gd);\n",
       "            observer.disconnect();\n",
       "        }}\n",
       "}});\n",
       "\n",
       "// Listen for the removal of the full notebook cells\n",
       "var notebookContainer = gd.closest('#notebook-container');\n",
       "if (notebookContainer) {{\n",
       "    x.observe(notebookContainer, {childList: true});\n",
       "}}\n",
       "\n",
       "// Listen for the clearing of the current output cell\n",
       "var outputEl = gd.closest('.output');\n",
       "if (outputEl) {{\n",
       "    x.observe(outputEl, {childList: true});\n",
       "}}\n",
       "\n",
       "                        })                };                });            </script>        </div>"
      ]
     },
     "metadata": {},
     "output_type": "display_data"
    }
   ],
   "source": [
    "fig = px.bar(mpd, title='Most Productive Day', color=mpd, color_continuous_scale=px.colors.sequential.Mint)\n",
    "fig.update_layout(margin=dict(t=50, b=0, l=0, r=0), titlefont=dict(size=20), xaxis_tickangle=0, plot_bgcolor='white', coloraxis_showscale=False)\n",
    "fig.update_yaxes(showticklabels=False, title=' ')\n",
    "fig.update_xaxes(title=' ')\n",
    "fig.update_traces(texttemplate='%{y}', textposition='outside', hovertemplate = '<b>%{x}</b><br>No. of Transactions: %{y}')\n",
    "fig.show()"
   ]
  },
  {
   "cell_type": "markdown",
   "id": "92b92741",
   "metadata": {
    "id": "HpalSw8ckT3W",
    "papermill": {
     "duration": 0.039761,
     "end_time": "2021-12-17T14:58:48.517879",
     "exception": false,
     "start_time": "2021-12-17T14:58:48.478118",
     "status": "completed"
    },
    "tags": []
   },
   "source": [
    "<p style=\"color:#4a4a4a; font-size:110%;\">For obvious reasons, the sales are high as expected during the weekends. However the sales seem to be quite uniform rest of the days.</p>"
   ]
  },
  {
   "cell_type": "code",
   "execution_count": 14,
   "id": "7cf22565",
   "metadata": {
    "execution": {
     "iopub.execute_input": "2021-12-17T14:58:48.601052Z",
     "iopub.status.busy": "2021-12-17T14:58:48.600397Z",
     "iopub.status.idle": "2021-12-17T14:58:48.613028Z",
     "shell.execute_reply": "2021-12-17T14:58:48.613580Z",
     "shell.execute_reply.started": "2021-12-17T14:57:22.794461Z"
    },
    "executionInfo": {
     "elapsed": 16,
     "status": "ok",
     "timestamp": 1630751795245,
     "user": {
      "displayName": "Akash",
      "photoUrl": "https://lh3.googleusercontent.com/a-/AOh14Gi2e7RWkihNB-rZyYcAd4iUumed7zjXJQLf9cW5lg=s64",
      "userId": "06209623088398708773"
     },
     "user_tz": -330
    },
    "id": "E46jZ9gAkT3W",
    "outputId": "ba79f12a-b763-4129-8293-156795544cb3",
    "papermill": {
     "duration": 0.05666,
     "end_time": "2021-12-17T14:58:48.613751",
     "exception": false,
     "start_time": "2021-12-17T14:58:48.557091",
     "status": "completed"
    },
    "tags": []
   },
   "outputs": [
    {
     "data": {
      "text/plain": [
       "Month\n",
       "March        3220\n",
       "November     3076\n",
       "January      3027\n",
       "February     2748\n",
       "December     2647\n",
       "April        1048\n",
       "October      1041\n",
       "May           924\n",
       "July          741\n",
       "June          739\n",
       "August        700\n",
       "September     596\n",
       "Name: Items, dtype: int64"
      ]
     },
     "execution_count": 14,
     "metadata": {},
     "output_type": "execute_result"
    }
   ],
   "source": [
    "mpm = bakeryDF.groupby('Month')['Items'].count().sort_values(ascending=False)\n",
    "mpm"
   ]
  },
  {
   "cell_type": "code",
   "execution_count": 15,
   "id": "7f4e809d",
   "metadata": {
    "execution": {
     "iopub.execute_input": "2021-12-17T14:58:48.697384Z",
     "iopub.status.busy": "2021-12-17T14:58:48.696636Z",
     "iopub.status.idle": "2021-12-17T14:58:48.780724Z",
     "shell.execute_reply": "2021-12-17T14:58:48.781231Z",
     "shell.execute_reply.started": "2021-12-17T14:57:22.812390Z"
    },
    "executionInfo": {
     "elapsed": 14,
     "status": "ok",
     "timestamp": 1630751795246,
     "user": {
      "displayName": "Akash",
      "photoUrl": "https://lh3.googleusercontent.com/a-/AOh14Gi2e7RWkihNB-rZyYcAd4iUumed7zjXJQLf9cW5lg=s64",
      "userId": "06209623088398708773"
     },
     "user_tz": -330
    },
    "id": "8du09l9qkT3W",
    "outputId": "ed6604b0-62b0-403b-dd92-50bad7f5f4f3",
    "papermill": {
     "duration": 0.126942,
     "end_time": "2021-12-17T14:58:48.781433",
     "exception": false,
     "start_time": "2021-12-17T14:58:48.654491",
     "status": "completed"
    },
    "tags": []
   },
   "outputs": [
    {
     "data": {
      "text/html": [
       "<div>                            <div id=\"c7ceb3dd-68e6-4261-a420-4c6b55227868\" class=\"plotly-graph-div\" style=\"height:525px; width:100%;\"></div>            <script type=\"text/javascript\">                require([\"plotly\"], function(Plotly) {                    window.PLOTLYENV=window.PLOTLYENV || {};                                    if (document.getElementById(\"c7ceb3dd-68e6-4261-a420-4c6b55227868\")) {                    Plotly.newPlot(                        \"c7ceb3dd-68e6-4261-a420-4c6b55227868\",                        [{\"alignmentgroup\":\"True\",\"hovertemplate\":\"<b>%{x}</b><br>No. of Transactions: %{y}\",\"legendgroup\":\"\",\"marker\":{\"color\":[3220,3076,3027,2748,2647,1048,1041,924,741,739,700,596],\"coloraxis\":\"coloraxis\",\"pattern\":{\"shape\":\"\"}},\"name\":\"\",\"offsetgroup\":\"\",\"orientation\":\"v\",\"showlegend\":false,\"textposition\":\"outside\",\"texttemplate\":\"%{y}\",\"type\":\"bar\",\"x\":[\"March\",\"November\",\"January\",\"February\",\"December\",\"April\",\"October\",\"May\",\"July\",\"June\",\"August\",\"September\"],\"xaxis\":\"x\",\"y\":[3220,3076,3027,2748,2647,1048,1041,924,741,739,700,596],\"yaxis\":\"y\"}],                        {\"barmode\":\"relative\",\"coloraxis\":{\"colorbar\":{\"title\":{\"text\":\"color\"}},\"colorscale\":[[0.0,\"rgb(228, 241, 225)\"],[0.16666666666666666,\"rgb(180, 217, 204)\"],[0.3333333333333333,\"rgb(137, 192, 182)\"],[0.5,\"rgb(99, 166, 160)\"],[0.6666666666666666,\"rgb(68, 140, 138)\"],[0.8333333333333334,\"rgb(40, 114, 116)\"],[1.0,\"rgb(13, 88, 95)\"]],\"showscale\":false},\"legend\":{\"tracegroupgap\":0},\"margin\":{\"b\":0,\"l\":0,\"r\":0,\"t\":50},\"plot_bgcolor\":\"white\",\"template\":{\"data\":{\"bar\":[{\"error_x\":{\"color\":\"#2a3f5f\"},\"error_y\":{\"color\":\"#2a3f5f\"},\"marker\":{\"line\":{\"color\":\"#E5ECF6\",\"width\":0.5},\"pattern\":{\"fillmode\":\"overlay\",\"size\":10,\"solidity\":0.2}},\"type\":\"bar\"}],\"barpolar\":[{\"marker\":{\"line\":{\"color\":\"#E5ECF6\",\"width\":0.5},\"pattern\":{\"fillmode\":\"overlay\",\"size\":10,\"solidity\":0.2}},\"type\":\"barpolar\"}],\"carpet\":[{\"aaxis\":{\"endlinecolor\":\"#2a3f5f\",\"gridcolor\":\"white\",\"linecolor\":\"white\",\"minorgridcolor\":\"white\",\"startlinecolor\":\"#2a3f5f\"},\"baxis\":{\"endlinecolor\":\"#2a3f5f\",\"gridcolor\":\"white\",\"linecolor\":\"white\",\"minorgridcolor\":\"white\",\"startlinecolor\":\"#2a3f5f\"},\"type\":\"carpet\"}],\"choropleth\":[{\"colorbar\":{\"outlinewidth\":0,\"ticks\":\"\"},\"type\":\"choropleth\"}],\"contour\":[{\"colorbar\":{\"outlinewidth\":0,\"ticks\":\"\"},\"colorscale\":[[0.0,\"#0d0887\"],[0.1111111111111111,\"#46039f\"],[0.2222222222222222,\"#7201a8\"],[0.3333333333333333,\"#9c179e\"],[0.4444444444444444,\"#bd3786\"],[0.5555555555555556,\"#d8576b\"],[0.6666666666666666,\"#ed7953\"],[0.7777777777777778,\"#fb9f3a\"],[0.8888888888888888,\"#fdca26\"],[1.0,\"#f0f921\"]],\"type\":\"contour\"}],\"contourcarpet\":[{\"colorbar\":{\"outlinewidth\":0,\"ticks\":\"\"},\"type\":\"contourcarpet\"}],\"heatmap\":[{\"colorbar\":{\"outlinewidth\":0,\"ticks\":\"\"},\"colorscale\":[[0.0,\"#0d0887\"],[0.1111111111111111,\"#46039f\"],[0.2222222222222222,\"#7201a8\"],[0.3333333333333333,\"#9c179e\"],[0.4444444444444444,\"#bd3786\"],[0.5555555555555556,\"#d8576b\"],[0.6666666666666666,\"#ed7953\"],[0.7777777777777778,\"#fb9f3a\"],[0.8888888888888888,\"#fdca26\"],[1.0,\"#f0f921\"]],\"type\":\"heatmap\"}],\"heatmapgl\":[{\"colorbar\":{\"outlinewidth\":0,\"ticks\":\"\"},\"colorscale\":[[0.0,\"#0d0887\"],[0.1111111111111111,\"#46039f\"],[0.2222222222222222,\"#7201a8\"],[0.3333333333333333,\"#9c179e\"],[0.4444444444444444,\"#bd3786\"],[0.5555555555555556,\"#d8576b\"],[0.6666666666666666,\"#ed7953\"],[0.7777777777777778,\"#fb9f3a\"],[0.8888888888888888,\"#fdca26\"],[1.0,\"#f0f921\"]],\"type\":\"heatmapgl\"}],\"histogram\":[{\"marker\":{\"pattern\":{\"fillmode\":\"overlay\",\"size\":10,\"solidity\":0.2}},\"type\":\"histogram\"}],\"histogram2d\":[{\"colorbar\":{\"outlinewidth\":0,\"ticks\":\"\"},\"colorscale\":[[0.0,\"#0d0887\"],[0.1111111111111111,\"#46039f\"],[0.2222222222222222,\"#7201a8\"],[0.3333333333333333,\"#9c179e\"],[0.4444444444444444,\"#bd3786\"],[0.5555555555555556,\"#d8576b\"],[0.6666666666666666,\"#ed7953\"],[0.7777777777777778,\"#fb9f3a\"],[0.8888888888888888,\"#fdca26\"],[1.0,\"#f0f921\"]],\"type\":\"histogram2d\"}],\"histogram2dcontour\":[{\"colorbar\":{\"outlinewidth\":0,\"ticks\":\"\"},\"colorscale\":[[0.0,\"#0d0887\"],[0.1111111111111111,\"#46039f\"],[0.2222222222222222,\"#7201a8\"],[0.3333333333333333,\"#9c179e\"],[0.4444444444444444,\"#bd3786\"],[0.5555555555555556,\"#d8576b\"],[0.6666666666666666,\"#ed7953\"],[0.7777777777777778,\"#fb9f3a\"],[0.8888888888888888,\"#fdca26\"],[1.0,\"#f0f921\"]],\"type\":\"histogram2dcontour\"}],\"mesh3d\":[{\"colorbar\":{\"outlinewidth\":0,\"ticks\":\"\"},\"type\":\"mesh3d\"}],\"parcoords\":[{\"line\":{\"colorbar\":{\"outlinewidth\":0,\"ticks\":\"\"}},\"type\":\"parcoords\"}],\"pie\":[{\"automargin\":true,\"type\":\"pie\"}],\"scatter\":[{\"marker\":{\"colorbar\":{\"outlinewidth\":0,\"ticks\":\"\"}},\"type\":\"scatter\"}],\"scatter3d\":[{\"line\":{\"colorbar\":{\"outlinewidth\":0,\"ticks\":\"\"}},\"marker\":{\"colorbar\":{\"outlinewidth\":0,\"ticks\":\"\"}},\"type\":\"scatter3d\"}],\"scattercarpet\":[{\"marker\":{\"colorbar\":{\"outlinewidth\":0,\"ticks\":\"\"}},\"type\":\"scattercarpet\"}],\"scattergeo\":[{\"marker\":{\"colorbar\":{\"outlinewidth\":0,\"ticks\":\"\"}},\"type\":\"scattergeo\"}],\"scattergl\":[{\"marker\":{\"colorbar\":{\"outlinewidth\":0,\"ticks\":\"\"}},\"type\":\"scattergl\"}],\"scattermapbox\":[{\"marker\":{\"colorbar\":{\"outlinewidth\":0,\"ticks\":\"\"}},\"type\":\"scattermapbox\"}],\"scatterpolar\":[{\"marker\":{\"colorbar\":{\"outlinewidth\":0,\"ticks\":\"\"}},\"type\":\"scatterpolar\"}],\"scatterpolargl\":[{\"marker\":{\"colorbar\":{\"outlinewidth\":0,\"ticks\":\"\"}},\"type\":\"scatterpolargl\"}],\"scatterternary\":[{\"marker\":{\"colorbar\":{\"outlinewidth\":0,\"ticks\":\"\"}},\"type\":\"scatterternary\"}],\"surface\":[{\"colorbar\":{\"outlinewidth\":0,\"ticks\":\"\"},\"colorscale\":[[0.0,\"#0d0887\"],[0.1111111111111111,\"#46039f\"],[0.2222222222222222,\"#7201a8\"],[0.3333333333333333,\"#9c179e\"],[0.4444444444444444,\"#bd3786\"],[0.5555555555555556,\"#d8576b\"],[0.6666666666666666,\"#ed7953\"],[0.7777777777777778,\"#fb9f3a\"],[0.8888888888888888,\"#fdca26\"],[1.0,\"#f0f921\"]],\"type\":\"surface\"}],\"table\":[{\"cells\":{\"fill\":{\"color\":\"#EBF0F8\"},\"line\":{\"color\":\"white\"}},\"header\":{\"fill\":{\"color\":\"#C8D4E3\"},\"line\":{\"color\":\"white\"}},\"type\":\"table\"}]},\"layout\":{\"annotationdefaults\":{\"arrowcolor\":\"#2a3f5f\",\"arrowhead\":0,\"arrowwidth\":1},\"autotypenumbers\":\"strict\",\"coloraxis\":{\"colorbar\":{\"outlinewidth\":0,\"ticks\":\"\"}},\"colorscale\":{\"diverging\":[[0,\"#8e0152\"],[0.1,\"#c51b7d\"],[0.2,\"#de77ae\"],[0.3,\"#f1b6da\"],[0.4,\"#fde0ef\"],[0.5,\"#f7f7f7\"],[0.6,\"#e6f5d0\"],[0.7,\"#b8e186\"],[0.8,\"#7fbc41\"],[0.9,\"#4d9221\"],[1,\"#276419\"]],\"sequential\":[[0.0,\"#0d0887\"],[0.1111111111111111,\"#46039f\"],[0.2222222222222222,\"#7201a8\"],[0.3333333333333333,\"#9c179e\"],[0.4444444444444444,\"#bd3786\"],[0.5555555555555556,\"#d8576b\"],[0.6666666666666666,\"#ed7953\"],[0.7777777777777778,\"#fb9f3a\"],[0.8888888888888888,\"#fdca26\"],[1.0,\"#f0f921\"]],\"sequentialminus\":[[0.0,\"#0d0887\"],[0.1111111111111111,\"#46039f\"],[0.2222222222222222,\"#7201a8\"],[0.3333333333333333,\"#9c179e\"],[0.4444444444444444,\"#bd3786\"],[0.5555555555555556,\"#d8576b\"],[0.6666666666666666,\"#ed7953\"],[0.7777777777777778,\"#fb9f3a\"],[0.8888888888888888,\"#fdca26\"],[1.0,\"#f0f921\"]]},\"colorway\":[\"#636efa\",\"#EF553B\",\"#00cc96\",\"#ab63fa\",\"#FFA15A\",\"#19d3f3\",\"#FF6692\",\"#B6E880\",\"#FF97FF\",\"#FECB52\"],\"font\":{\"color\":\"#2a3f5f\"},\"geo\":{\"bgcolor\":\"white\",\"lakecolor\":\"white\",\"landcolor\":\"#E5ECF6\",\"showlakes\":true,\"showland\":true,\"subunitcolor\":\"white\"},\"hoverlabel\":{\"align\":\"left\"},\"hovermode\":\"closest\",\"mapbox\":{\"style\":\"light\"},\"paper_bgcolor\":\"white\",\"plot_bgcolor\":\"#E5ECF6\",\"polar\":{\"angularaxis\":{\"gridcolor\":\"white\",\"linecolor\":\"white\",\"ticks\":\"\"},\"bgcolor\":\"#E5ECF6\",\"radialaxis\":{\"gridcolor\":\"white\",\"linecolor\":\"white\",\"ticks\":\"\"}},\"scene\":{\"xaxis\":{\"backgroundcolor\":\"#E5ECF6\",\"gridcolor\":\"white\",\"gridwidth\":2,\"linecolor\":\"white\",\"showbackground\":true,\"ticks\":\"\",\"zerolinecolor\":\"white\"},\"yaxis\":{\"backgroundcolor\":\"#E5ECF6\",\"gridcolor\":\"white\",\"gridwidth\":2,\"linecolor\":\"white\",\"showbackground\":true,\"ticks\":\"\",\"zerolinecolor\":\"white\"},\"zaxis\":{\"backgroundcolor\":\"#E5ECF6\",\"gridcolor\":\"white\",\"gridwidth\":2,\"linecolor\":\"white\",\"showbackground\":true,\"ticks\":\"\",\"zerolinecolor\":\"white\"}},\"shapedefaults\":{\"line\":{\"color\":\"#2a3f5f\"}},\"ternary\":{\"aaxis\":{\"gridcolor\":\"white\",\"linecolor\":\"white\",\"ticks\":\"\"},\"baxis\":{\"gridcolor\":\"white\",\"linecolor\":\"white\",\"ticks\":\"\"},\"bgcolor\":\"#E5ECF6\",\"caxis\":{\"gridcolor\":\"white\",\"linecolor\":\"white\",\"ticks\":\"\"}},\"title\":{\"x\":0.05},\"xaxis\":{\"automargin\":true,\"gridcolor\":\"white\",\"linecolor\":\"white\",\"ticks\":\"\",\"title\":{\"standoff\":15},\"zerolinecolor\":\"white\",\"zerolinewidth\":2},\"yaxis\":{\"automargin\":true,\"gridcolor\":\"white\",\"linecolor\":\"white\",\"ticks\":\"\",\"title\":{\"standoff\":15},\"zerolinecolor\":\"white\",\"zerolinewidth\":2}}},\"title\":{\"font\":{\"size\":20},\"text\":\"Most Productive Month\"},\"xaxis\":{\"anchor\":\"y\",\"domain\":[0.0,1.0],\"tickangle\":0,\"title\":{\"text\":\" \"}},\"yaxis\":{\"anchor\":\"x\",\"domain\":[0.0,1.0],\"showticklabels\":false,\"title\":{\"text\":\" \"}}},                        {\"responsive\": true}                    ).then(function(){\n",
       "                            \n",
       "var gd = document.getElementById('c7ceb3dd-68e6-4261-a420-4c6b55227868');\n",
       "var x = new MutationObserver(function (mutations, observer) {{\n",
       "        var display = window.getComputedStyle(gd).display;\n",
       "        if (!display || display === 'none') {{\n",
       "            console.log([gd, 'removed!']);\n",
       "            Plotly.purge(gd);\n",
       "            observer.disconnect();\n",
       "        }}\n",
       "}});\n",
       "\n",
       "// Listen for the removal of the full notebook cells\n",
       "var notebookContainer = gd.closest('#notebook-container');\n",
       "if (notebookContainer) {{\n",
       "    x.observe(notebookContainer, {childList: true});\n",
       "}}\n",
       "\n",
       "// Listen for the clearing of the current output cell\n",
       "var outputEl = gd.closest('.output');\n",
       "if (outputEl) {{\n",
       "    x.observe(outputEl, {childList: true});\n",
       "}}\n",
       "\n",
       "                        })                };                });            </script>        </div>"
      ]
     },
     "metadata": {},
     "output_type": "display_data"
    }
   ],
   "source": [
    "fig = px.bar(mpm, title='Most Productive Month', color=mpm, color_continuous_scale=px.colors.sequential.Mint)\n",
    "fig.update_layout(margin=dict(t=50, b=0, l=0, r=0), titlefont=dict(size=20), xaxis_tickangle=0, plot_bgcolor='white', coloraxis_showscale=False)\n",
    "fig.update_yaxes(showticklabels=False, title=' ')\n",
    "fig.update_xaxes(title=' ')\n",
    "fig.update_traces(texttemplate='%{y}', textposition='outside', hovertemplate = '<b>%{x}</b><br>No. of Transactions: %{y}')\n",
    "fig.show()"
   ]
  },
  {
   "cell_type": "markdown",
   "id": "66253f80",
   "metadata": {
    "id": "C2RWG9YNkT3W",
    "papermill": {
     "duration": 0.041133,
     "end_time": "2021-12-17T14:58:48.863923",
     "exception": false,
     "start_time": "2021-12-17T14:58:48.822790",
     "status": "completed"
    },
    "tags": []
   },
   "source": [
    "<p style=\"color:#4a4a4a; font-size:110%;\">The bakery seems to be heavily occupied and makes most of its business from November to March.</p>"
   ]
  },
  {
   "cell_type": "markdown",
   "id": "a41db071",
   "metadata": {
    "id": "8n2VOHMGkT3W",
    "papermill": {
     "duration": 0.040144,
     "end_time": "2021-12-17T14:58:48.944957",
     "exception": false,
     "start_time": "2021-12-17T14:58:48.904813",
     "status": "completed"
    },
    "tags": []
   },
   "source": [
    "<div style=\"color:white;\n",
    "            display:fill;\n",
    "            border-radius:5px;\n",
    "            background-color:#E8F6EF;  \n",
    "            font-size:100%;\n",
    "            theme:cosmo;\n",
    "            letter-spacing:0.5px\">\n",
    "<h3 style=\"padding-left: 20px; padding-top: 20px; color:#4a4a4a; font-family:Arial;\"><b>EDA Summary:</b></h3>\n",
    "<p style=\"padding-left: 20px; padding-bottom: 20px; color:#4a4a4a; font-size:110%;\"> \n",
    "<b>Coffee</b> is the best-selling product by far, followed by <b>bread</b> and <b>tea</b>. The bakery seems to be making most of its sales in the afternoon everyday with over <b>56%</b> of the sales. Sales fall sharply after that. However the bakery makes a decent amount of sales in the morning as well. For obvious reasons, the sales are high as expected during the weekends. However the sales seem to be quite uniform rest of the days. The bakery seems to be heavily occupied and makes most of its business from November to March.\n",
    "</p>\n",
    "</div>"
   ]
  },
  {
   "cell_type": "markdown",
   "id": "a1d7f977",
   "metadata": {
    "id": "ulwgoo7DkT3W",
    "papermill": {
     "duration": 0.04093,
     "end_time": "2021-12-17T14:58:49.026537",
     "exception": false,
     "start_time": "2021-12-17T14:58:48.985607",
     "status": "completed"
    },
    "tags": []
   },
   "source": [
    "<h2 style=\"text-align:left; font-family:Arial;\"><b>4. Association Rules Generation</b></h2> "
   ]
  },
  {
   "cell_type": "markdown",
   "id": "592f2325",
   "metadata": {
    "id": "ZZ_WAauukT3W",
    "papermill": {
     "duration": 0.039723,
     "end_time": "2021-12-17T14:58:49.107187",
     "exception": false,
     "start_time": "2021-12-17T14:58:49.067464",
     "status": "completed"
    },
    "tags": []
   },
   "source": [
    "<h3 style=\"text-align:left; font-family:Arial;\"><b>4.1 Data Preparation for Association Rule Mining</b></h3>\n",
    "<p style=\"color:#4a4a4a; font-size:110%;\">Apriori algorithm requires a dataframe with all the transactions one hot encoded for all the items.</p>"
   ]
  },
  {
   "cell_type": "markdown",
   "id": "34024309",
   "metadata": {
    "id": "3RclSBw0kT3X",
    "papermill": {
     "duration": 0.041889,
     "end_time": "2021-12-17T14:58:49.189913",
     "exception": false,
     "start_time": "2021-12-17T14:58:49.148024",
     "status": "completed"
    },
    "tags": []
   },
   "source": [
    "- <h4 style=\"text-align:left; font-family:Arial;\"><b>list of all the transactions</b></h4>"
   ]
  },
  {
   "cell_type": "code",
   "execution_count": 16,
   "id": "5737d1b3",
   "metadata": {
    "execution": {
     "iopub.execute_input": "2021-12-17T14:58:49.278385Z",
     "iopub.status.busy": "2021-12-17T14:58:49.277652Z",
     "iopub.status.idle": "2021-12-17T14:58:57.276486Z",
     "shell.execute_reply": "2021-12-17T14:58:57.276976Z",
     "shell.execute_reply.started": "2021-12-17T14:57:22.908651Z"
    },
    "executionInfo": {
     "elapsed": 8253,
     "status": "ok",
     "timestamp": 1630751803488,
     "user": {
      "displayName": "Akash",
      "photoUrl": "https://lh3.googleusercontent.com/a-/AOh14Gi2e7RWkihNB-rZyYcAd4iUumed7zjXJQLf9cW5lg=s64",
      "userId": "06209623088398708773"
     },
     "user_tz": -330
    },
    "id": "TkYlQbKJkT3X",
    "outputId": "f285b266-de85-4c91-bc65-04d632bbc347",
    "papermill": {
     "duration": 8.047007,
     "end_time": "2021-12-17T14:58:57.277143",
     "exception": false,
     "start_time": "2021-12-17T14:58:49.230136",
     "status": "completed"
    },
    "tags": []
   },
   "outputs": [
    {
     "data": {
      "text/plain": [
       "[['Bread'],\n",
       " ['Scandinavian'],\n",
       " ['Hot chocolate', 'Jam', 'Cookies'],\n",
       " ['Muffin'],\n",
       " ['Bread', 'Coffee', 'Pastry'],\n",
       " ['Muffin', 'Pastry', 'Medialuna'],\n",
       " ['Tea', 'Coffee', 'Pastry', 'Medialuna'],\n",
       " ['Bread', 'Pastry'],\n",
       " ['Muffin', 'Bread'],\n",
       " ['Scandinavian', 'Medialuna']]"
      ]
     },
     "execution_count": 16,
     "metadata": {},
     "output_type": "execute_result"
    }
   ],
   "source": [
    "transactions=[]\n",
    "for item in bakeryDF['TransactionNo'].unique():\n",
    "    lst=list(set(bakeryDF[bakeryDF['TransactionNo']==item]['Items']))\n",
    "    transactions.append(lst)\n",
    "\n",
    "transactions[0:10]"
   ]
  },
  {
   "cell_type": "markdown",
   "id": "07fd7b50",
   "metadata": {
    "id": "R_Q4Rv5ykT3X",
    "papermill": {
     "duration": 0.039596,
     "end_time": "2021-12-17T14:58:57.357398",
     "exception": false,
     "start_time": "2021-12-17T14:58:57.317802",
     "status": "completed"
    },
    "tags": []
   },
   "source": [
    "- <h4 style=\"text-align:left; font-family:Arial;\"><b>one hot encoding</b></h4>"
   ]
  },
  {
   "cell_type": "code",
   "execution_count": 17,
   "id": "ad8a0715",
   "metadata": {
    "execution": {
     "iopub.execute_input": "2021-12-17T14:58:57.475906Z",
     "iopub.status.busy": "2021-12-17T14:58:57.475174Z",
     "iopub.status.idle": "2021-12-17T14:58:57.479881Z",
     "shell.execute_reply": "2021-12-17T14:58:57.479281Z",
     "shell.execute_reply.started": "2021-12-17T14:57:31.232768Z"
    },
    "executionInfo": {
     "elapsed": 690,
     "status": "ok",
     "timestamp": 1630751804173,
     "user": {
      "displayName": "Akash",
      "photoUrl": "https://lh3.googleusercontent.com/a-/AOh14Gi2e7RWkihNB-rZyYcAd4iUumed7zjXJQLf9cW5lg=s64",
      "userId": "06209623088398708773"
     },
     "user_tz": -330
    },
    "id": "EnUr40AikT3X",
    "outputId": "72c19138-3c29-47a3-ff50-32e485d7ab99",
    "papermill": {
     "duration": 0.082886,
     "end_time": "2021-12-17T14:58:57.480026",
     "exception": false,
     "start_time": "2021-12-17T14:58:57.397140",
     "status": "completed"
    },
    "tags": []
   },
   "outputs": [
    {
     "data": {
      "text/html": [
       "<div>\n",
       "<style scoped>\n",
       "    .dataframe tbody tr th:only-of-type {\n",
       "        vertical-align: middle;\n",
       "    }\n",
       "\n",
       "    .dataframe tbody tr th {\n",
       "        vertical-align: top;\n",
       "    }\n",
       "\n",
       "    .dataframe thead th {\n",
       "        text-align: right;\n",
       "    }\n",
       "</style>\n",
       "<table border=\"1\" class=\"dataframe\">\n",
       "  <thead>\n",
       "    <tr style=\"text-align: right;\">\n",
       "      <th></th>\n",
       "      <th>Adjustment</th>\n",
       "      <th>Afternoon with the baker</th>\n",
       "      <th>Alfajores</th>\n",
       "      <th>Argentina Night</th>\n",
       "      <th>Art Tray</th>\n",
       "      <th>Bacon</th>\n",
       "      <th>Baguette</th>\n",
       "      <th>Bakewell</th>\n",
       "      <th>Bare Popcorn</th>\n",
       "      <th>Basket</th>\n",
       "      <th>...</th>\n",
       "      <th>The BART</th>\n",
       "      <th>The Nomad</th>\n",
       "      <th>Tiffin</th>\n",
       "      <th>Toast</th>\n",
       "      <th>Truffles</th>\n",
       "      <th>Tshirt</th>\n",
       "      <th>Valentine's card</th>\n",
       "      <th>Vegan Feast</th>\n",
       "      <th>Vegan mincepie</th>\n",
       "      <th>Victorian Sponge</th>\n",
       "    </tr>\n",
       "  </thead>\n",
       "  <tbody>\n",
       "    <tr>\n",
       "      <th>0</th>\n",
       "      <td>False</td>\n",
       "      <td>False</td>\n",
       "      <td>False</td>\n",
       "      <td>False</td>\n",
       "      <td>False</td>\n",
       "      <td>False</td>\n",
       "      <td>False</td>\n",
       "      <td>False</td>\n",
       "      <td>False</td>\n",
       "      <td>False</td>\n",
       "      <td>...</td>\n",
       "      <td>False</td>\n",
       "      <td>False</td>\n",
       "      <td>False</td>\n",
       "      <td>False</td>\n",
       "      <td>False</td>\n",
       "      <td>False</td>\n",
       "      <td>False</td>\n",
       "      <td>False</td>\n",
       "      <td>False</td>\n",
       "      <td>False</td>\n",
       "    </tr>\n",
       "    <tr>\n",
       "      <th>1</th>\n",
       "      <td>False</td>\n",
       "      <td>False</td>\n",
       "      <td>False</td>\n",
       "      <td>False</td>\n",
       "      <td>False</td>\n",
       "      <td>False</td>\n",
       "      <td>False</td>\n",
       "      <td>False</td>\n",
       "      <td>False</td>\n",
       "      <td>False</td>\n",
       "      <td>...</td>\n",
       "      <td>False</td>\n",
       "      <td>False</td>\n",
       "      <td>False</td>\n",
       "      <td>False</td>\n",
       "      <td>False</td>\n",
       "      <td>False</td>\n",
       "      <td>False</td>\n",
       "      <td>False</td>\n",
       "      <td>False</td>\n",
       "      <td>False</td>\n",
       "    </tr>\n",
       "    <tr>\n",
       "      <th>2</th>\n",
       "      <td>False</td>\n",
       "      <td>False</td>\n",
       "      <td>False</td>\n",
       "      <td>False</td>\n",
       "      <td>False</td>\n",
       "      <td>False</td>\n",
       "      <td>False</td>\n",
       "      <td>False</td>\n",
       "      <td>False</td>\n",
       "      <td>False</td>\n",
       "      <td>...</td>\n",
       "      <td>False</td>\n",
       "      <td>False</td>\n",
       "      <td>False</td>\n",
       "      <td>False</td>\n",
       "      <td>False</td>\n",
       "      <td>False</td>\n",
       "      <td>False</td>\n",
       "      <td>False</td>\n",
       "      <td>False</td>\n",
       "      <td>False</td>\n",
       "    </tr>\n",
       "    <tr>\n",
       "      <th>3</th>\n",
       "      <td>False</td>\n",
       "      <td>False</td>\n",
       "      <td>False</td>\n",
       "      <td>False</td>\n",
       "      <td>False</td>\n",
       "      <td>False</td>\n",
       "      <td>False</td>\n",
       "      <td>False</td>\n",
       "      <td>False</td>\n",
       "      <td>False</td>\n",
       "      <td>...</td>\n",
       "      <td>False</td>\n",
       "      <td>False</td>\n",
       "      <td>False</td>\n",
       "      <td>False</td>\n",
       "      <td>False</td>\n",
       "      <td>False</td>\n",
       "      <td>False</td>\n",
       "      <td>False</td>\n",
       "      <td>False</td>\n",
       "      <td>False</td>\n",
       "    </tr>\n",
       "    <tr>\n",
       "      <th>4</th>\n",
       "      <td>False</td>\n",
       "      <td>False</td>\n",
       "      <td>False</td>\n",
       "      <td>False</td>\n",
       "      <td>False</td>\n",
       "      <td>False</td>\n",
       "      <td>False</td>\n",
       "      <td>False</td>\n",
       "      <td>False</td>\n",
       "      <td>False</td>\n",
       "      <td>...</td>\n",
       "      <td>False</td>\n",
       "      <td>False</td>\n",
       "      <td>False</td>\n",
       "      <td>False</td>\n",
       "      <td>False</td>\n",
       "      <td>False</td>\n",
       "      <td>False</td>\n",
       "      <td>False</td>\n",
       "      <td>False</td>\n",
       "      <td>False</td>\n",
       "    </tr>\n",
       "  </tbody>\n",
       "</table>\n",
       "<p>5 rows × 94 columns</p>\n",
       "</div>"
      ],
      "text/plain": [
       "   Adjustment  Afternoon with the baker  Alfajores  Argentina Night  Art Tray  \\\n",
       "0       False                     False      False            False     False   \n",
       "1       False                     False      False            False     False   \n",
       "2       False                     False      False            False     False   \n",
       "3       False                     False      False            False     False   \n",
       "4       False                     False      False            False     False   \n",
       "\n",
       "   Bacon  Baguette  Bakewell  Bare Popcorn  Basket  ...  The BART  The Nomad  \\\n",
       "0  False     False     False         False   False  ...     False      False   \n",
       "1  False     False     False         False   False  ...     False      False   \n",
       "2  False     False     False         False   False  ...     False      False   \n",
       "3  False     False     False         False   False  ...     False      False   \n",
       "4  False     False     False         False   False  ...     False      False   \n",
       "\n",
       "   Tiffin  Toast  Truffles  Tshirt  Valentine's card  Vegan Feast  \\\n",
       "0   False  False     False   False             False        False   \n",
       "1   False  False     False   False             False        False   \n",
       "2   False  False     False   False             False        False   \n",
       "3   False  False     False   False             False        False   \n",
       "4   False  False     False   False             False        False   \n",
       "\n",
       "   Vegan mincepie  Victorian Sponge  \n",
       "0           False             False  \n",
       "1           False             False  \n",
       "2           False             False  \n",
       "3           False             False  \n",
       "4           False             False  \n",
       "\n",
       "[5 rows x 94 columns]"
      ]
     },
     "execution_count": 17,
     "metadata": {},
     "output_type": "execute_result"
    }
   ],
   "source": [
    "te = TransactionEncoder()\n",
    "encodedData = te.fit(transactions).transform(transactions)\n",
    "data = pd.DataFrame(encodedData, columns=te.columns_)\n",
    "data.head()"
   ]
  },
  {
   "cell_type": "markdown",
   "id": "93eba1f2",
   "metadata": {
    "id": "4myvvfJ3kT3X",
    "papermill": {
     "duration": 0.042458,
     "end_time": "2021-12-17T14:58:57.564203",
     "exception": false,
     "start_time": "2021-12-17T14:58:57.521745",
     "status": "completed"
    },
    "tags": []
   },
   "source": [
    "<h3 style=\"text-align:left; font-family:Arial;\"><b>4.2 Association Rules Generation</b></h3>\n",
    "\n",
    "- <h4 style=\"text-align:left; font-family:Arial;\"><b>frequent items</b></h4>"
   ]
  },
  {
   "cell_type": "code",
   "execution_count": 18,
   "id": "6ea31748",
   "metadata": {
    "execution": {
     "iopub.execute_input": "2021-12-17T14:58:57.653656Z",
     "iopub.status.busy": "2021-12-17T14:58:57.652977Z",
     "iopub.status.idle": "2021-12-17T14:58:57.682465Z",
     "shell.execute_reply": "2021-12-17T14:58:57.681863Z",
     "shell.execute_reply.started": "2021-12-17T14:57:31.470580Z"
    },
    "executionInfo": {
     "elapsed": 16,
     "status": "ok",
     "timestamp": 1630751804174,
     "user": {
      "displayName": "Akash",
      "photoUrl": "https://lh3.googleusercontent.com/a-/AOh14Gi2e7RWkihNB-rZyYcAd4iUumed7zjXJQLf9cW5lg=s64",
      "userId": "06209623088398708773"
     },
     "user_tz": -330
    },
    "id": "9GFfCHzvkT3X",
    "outputId": "a617bee4-2b2c-4b25-9c39-3e7d3bb7e00b",
    "papermill": {
     "duration": 0.077498,
     "end_time": "2021-12-17T14:58:57.682605",
     "exception": false,
     "start_time": "2021-12-17T14:58:57.605107",
     "status": "completed"
    },
    "tags": []
   },
   "outputs": [
    {
     "data": {
      "text/html": [
       "<div>\n",
       "<style scoped>\n",
       "    .dataframe tbody tr th:only-of-type {\n",
       "        vertical-align: middle;\n",
       "    }\n",
       "\n",
       "    .dataframe tbody tr th {\n",
       "        vertical-align: top;\n",
       "    }\n",
       "\n",
       "    .dataframe thead th {\n",
       "        text-align: right;\n",
       "    }\n",
       "</style>\n",
       "<table border=\"1\" class=\"dataframe\">\n",
       "  <thead>\n",
       "    <tr style=\"text-align: right;\">\n",
       "      <th></th>\n",
       "      <th>support</th>\n",
       "      <th>itemsets</th>\n",
       "    </tr>\n",
       "  </thead>\n",
       "  <tbody>\n",
       "    <tr>\n",
       "      <th>0</th>\n",
       "      <td>0.036344</td>\n",
       "      <td>(Alfajores)</td>\n",
       "    </tr>\n",
       "    <tr>\n",
       "      <th>1</th>\n",
       "      <td>0.327205</td>\n",
       "      <td>(Bread)</td>\n",
       "    </tr>\n",
       "    <tr>\n",
       "      <th>2</th>\n",
       "      <td>0.040042</td>\n",
       "      <td>(Brownie)</td>\n",
       "    </tr>\n",
       "    <tr>\n",
       "      <th>3</th>\n",
       "      <td>0.103856</td>\n",
       "      <td>(Cake)</td>\n",
       "    </tr>\n",
       "    <tr>\n",
       "      <th>4</th>\n",
       "      <td>0.478394</td>\n",
       "      <td>(Coffee)</td>\n",
       "    </tr>\n",
       "  </tbody>\n",
       "</table>\n",
       "</div>"
      ],
      "text/plain": [
       "    support     itemsets\n",
       "0  0.036344  (Alfajores)\n",
       "1  0.327205      (Bread)\n",
       "2  0.040042    (Brownie)\n",
       "3  0.103856       (Cake)\n",
       "4  0.478394     (Coffee)"
      ]
     },
     "execution_count": 18,
     "metadata": {},
     "output_type": "execute_result"
    }
   ],
   "source": [
    "frequentItems= apriori(data, use_colnames=True, min_support=0.02)\n",
    "frequentItems.head()"
   ]
  },
  {
   "cell_type": "markdown",
   "id": "f1b0a15c",
   "metadata": {
    "id": "ncod80BJkT3X",
    "papermill": {
     "duration": 0.040971,
     "end_time": "2021-12-17T14:58:57.764907",
     "exception": false,
     "start_time": "2021-12-17T14:58:57.723936",
     "status": "completed"
    },
    "tags": []
   },
   "source": [
    "- <h4 style=\"text-align:left; font-family:Arial;\"><b>association rules</b></h4>"
   ]
  },
  {
   "cell_type": "code",
   "execution_count": 19,
   "id": "d20b9335",
   "metadata": {
    "execution": {
     "iopub.execute_input": "2021-12-17T14:58:57.852085Z",
     "iopub.status.busy": "2021-12-17T14:58:57.851094Z",
     "iopub.status.idle": "2021-12-17T14:58:57.874691Z",
     "shell.execute_reply": "2021-12-17T14:58:57.874134Z",
     "shell.execute_reply.started": "2021-12-17T14:57:31.507107Z"
    },
    "executionInfo": {
     "elapsed": 16,
     "status": "ok",
     "timestamp": 1630751804175,
     "user": {
      "displayName": "Akash",
      "photoUrl": "https://lh3.googleusercontent.com/a-/AOh14Gi2e7RWkihNB-rZyYcAd4iUumed7zjXJQLf9cW5lg=s64",
      "userId": "06209623088398708773"
     },
     "user_tz": -330
    },
    "id": "99eE_J0nkT3X",
    "outputId": "103517f7-38a6-449d-8ef0-21fd2bed0d5d",
    "papermill": {
     "duration": 0.068511,
     "end_time": "2021-12-17T14:58:57.874868",
     "exception": false,
     "start_time": "2021-12-17T14:58:57.806357",
     "status": "completed"
    },
    "tags": []
   },
   "outputs": [
    {
     "data": {
      "text/html": [
       "<div>\n",
       "<style scoped>\n",
       "    .dataframe tbody tr th:only-of-type {\n",
       "        vertical-align: middle;\n",
       "    }\n",
       "\n",
       "    .dataframe tbody tr th {\n",
       "        vertical-align: top;\n",
       "    }\n",
       "\n",
       "    .dataframe thead th {\n",
       "        text-align: right;\n",
       "    }\n",
       "</style>\n",
       "<table border=\"1\" class=\"dataframe\">\n",
       "  <thead>\n",
       "    <tr style=\"text-align: right;\">\n",
       "      <th></th>\n",
       "      <th>antecedents</th>\n",
       "      <th>consequents</th>\n",
       "      <th>antecedent support</th>\n",
       "      <th>consequent support</th>\n",
       "      <th>support</th>\n",
       "      <th>confidence</th>\n",
       "      <th>lift</th>\n",
       "      <th>leverage</th>\n",
       "      <th>conviction</th>\n",
       "    </tr>\n",
       "  </thead>\n",
       "  <tbody>\n",
       "    <tr>\n",
       "      <th>0</th>\n",
       "      <td>Bread</td>\n",
       "      <td>Pastry</td>\n",
       "      <td>0.327205</td>\n",
       "      <td>0.086107</td>\n",
       "      <td>0.029160</td>\n",
       "      <td>0.089119</td>\n",
       "      <td>1.034977</td>\n",
       "      <td>0.000985</td>\n",
       "      <td>1.003306</td>\n",
       "    </tr>\n",
       "    <tr>\n",
       "      <th>1</th>\n",
       "      <td>Pastry</td>\n",
       "      <td>Bread</td>\n",
       "      <td>0.086107</td>\n",
       "      <td>0.327205</td>\n",
       "      <td>0.029160</td>\n",
       "      <td>0.338650</td>\n",
       "      <td>1.034977</td>\n",
       "      <td>0.000985</td>\n",
       "      <td>1.017305</td>\n",
       "    </tr>\n",
       "    <tr>\n",
       "      <th>2</th>\n",
       "      <td>Cake</td>\n",
       "      <td>Coffee</td>\n",
       "      <td>0.103856</td>\n",
       "      <td>0.478394</td>\n",
       "      <td>0.054728</td>\n",
       "      <td>0.526958</td>\n",
       "      <td>1.101515</td>\n",
       "      <td>0.005044</td>\n",
       "      <td>1.102664</td>\n",
       "    </tr>\n",
       "    <tr>\n",
       "      <th>3</th>\n",
       "      <td>Coffee</td>\n",
       "      <td>Cake</td>\n",
       "      <td>0.478394</td>\n",
       "      <td>0.103856</td>\n",
       "      <td>0.054728</td>\n",
       "      <td>0.114399</td>\n",
       "      <td>1.101515</td>\n",
       "      <td>0.005044</td>\n",
       "      <td>1.011905</td>\n",
       "    </tr>\n",
       "    <tr>\n",
       "      <th>4</th>\n",
       "      <td>Cake</td>\n",
       "      <td>Tea</td>\n",
       "      <td>0.103856</td>\n",
       "      <td>0.142631</td>\n",
       "      <td>0.023772</td>\n",
       "      <td>0.228891</td>\n",
       "      <td>1.604781</td>\n",
       "      <td>0.008959</td>\n",
       "      <td>1.111865</td>\n",
       "    </tr>\n",
       "  </tbody>\n",
       "</table>\n",
       "</div>"
      ],
      "text/plain": [
       "  antecedents consequents  antecedent support  consequent support   support  \\\n",
       "0       Bread      Pastry            0.327205            0.086107  0.029160   \n",
       "1      Pastry       Bread            0.086107            0.327205  0.029160   \n",
       "2        Cake      Coffee            0.103856            0.478394  0.054728   \n",
       "3      Coffee        Cake            0.478394            0.103856  0.054728   \n",
       "4        Cake         Tea            0.103856            0.142631  0.023772   \n",
       "\n",
       "   confidence      lift  leverage  conviction  \n",
       "0    0.089119  1.034977  0.000985    1.003306  \n",
       "1    0.338650  1.034977  0.000985    1.017305  \n",
       "2    0.526958  1.101515  0.005044    1.102664  \n",
       "3    0.114399  1.101515  0.005044    1.011905  \n",
       "4    0.228891  1.604781  0.008959    1.111865  "
      ]
     },
     "execution_count": 19,
     "metadata": {},
     "output_type": "execute_result"
    }
   ],
   "source": [
    "rules = association_rules(frequentItems, metric=\"lift\", min_threshold=1)\n",
    "rules.antecedents = rules.antecedents.apply(lambda x: next(iter(x)))\n",
    "rules.consequents = rules.consequents.apply(lambda x: next(iter(x)))\n",
    "rules.head()"
   ]
  },
  {
   "cell_type": "markdown",
   "id": "aea9c320",
   "metadata": {
    "id": "LulUIkCIkT3Y",
    "papermill": {
     "duration": 0.042067,
     "end_time": "2021-12-17T14:58:57.959186",
     "exception": false,
     "start_time": "2021-12-17T14:58:57.917119",
     "status": "completed"
    },
    "tags": []
   },
   "source": [
    "<h3 style=\"text-align:left; font-family:Arial;\"><b>4.3 Rules Visualization</b></h3> "
   ]
  },
  {
   "cell_type": "code",
   "execution_count": 20,
   "id": "fda9e440",
   "metadata": {
    "execution": {
     "iopub.execute_input": "2021-12-17T14:58:58.261878Z",
     "iopub.status.busy": "2021-12-17T14:58:58.215004Z",
     "iopub.status.idle": "2021-12-17T14:58:58.340654Z",
     "shell.execute_reply": "2021-12-17T14:58:58.340098Z",
     "shell.execute_reply.started": "2021-12-17T14:57:31.534037Z"
    },
    "executionInfo": {
     "elapsed": 835,
     "status": "ok",
     "timestamp": 1630751804996,
     "user": {
      "displayName": "Akash",
      "photoUrl": "https://lh3.googleusercontent.com/a-/AOh14Gi2e7RWkihNB-rZyYcAd4iUumed7zjXJQLf9cW5lg=s64",
      "userId": "06209623088398708773"
     },
     "user_tz": -330
    },
    "id": "KIdSJz4YkT3Y",
    "outputId": "03c60e28-fa79-4ec4-8688-bb86a46d6dfd",
    "papermill": {
     "duration": 0.338125,
     "end_time": "2021-12-17T14:58:58.340809",
     "exception": false,
     "start_time": "2021-12-17T14:58:58.002684",
     "status": "completed"
    },
    "tags": []
   },
   "outputs": [
    {
     "data": {
      "text/html": [
       "<div>                            <div id=\"0d28805b-341c-4436-b2ec-2bd6b3fa89e5\" class=\"plotly-graph-div\" style=\"height:525px; width:100%;\"></div>            <script type=\"text/javascript\">                require([\"plotly\"], function(Plotly) {                    window.PLOTLYENV=window.PLOTLYENV || {};                                    if (document.getElementById(\"0d28805b-341c-4436-b2ec-2bd6b3fa89e5\")) {                    Plotly.newPlot(                        \"0d28805b-341c-4436-b2ec-2bd6b3fa89e5\",                        [{\"hoverinfo\":\"none\",\"line\":{\"color\":\"#888\",\"width\":0.5},\"mode\":\"lines\",\"type\":\"scatter\",\"x\":[-1.0,-0.5476997517891096,null,0.18650274754785737,0.06597548186864914,null,0.18650274754785737,0.2891245052599524,null,0.06597548186864914,0.5444707700310849,null,0.06597548186864914,0.4271814295502353,null,0.06597548186864914,0.07915653587040675,null,0.06597548186864914,0.3875978952533974,null,0.06597548186864914,-0.5476997517891096,null,0.06597548186864914,-0.21933462235493642,null,0.06597548186864914,-0.2129749912375371,null],\"y\":[0.17225361531149308,0.1226877869901641,null,-0.529724749478439,0.07445183908408139,null,-0.529724749478439,-0.9729638042472606,null,0.07445183908408139,0.144589059276585,null,0.07445183908408139,-0.17022849622847208,null,0.07445183908408139,0.557931278984891,null,0.07445183908408139,0.436541801400639,null,0.07445183908408139,0.1226877869901641,null,0.07445183908408139,0.40424500320000295,null,0.07445183908408139,-0.2397833342936843,null]},{\"hoverinfo\":\"text\",\"marker\":{\"color\":[1,2,8,1,1,1,1,1,1,1,2],\"colorbar\":{\"thickness\":10,\"title\":{\"side\":\"right\",\"text\":\"Node Connections\"},\"xanchor\":\"left\"},\"colorscale\":[[0.0,\"rgb(255, 198, 196)\"],[0.16666666666666666,\"rgb(244, 163, 168)\"],[0.3333333333333333,\"rgb(227, 129, 145)\"],[0.5,\"rgb(204, 96, 125)\"],[0.6666666666666666,\"rgb(173, 70, 108)\"],[0.8333333333333334,\"rgb(139, 48, 88)\"],[1.0,\"rgb(103, 32, 68)\"]],\"reversescale\":true,\"showscale\":true,\"size\":15},\"mode\":\"markers\",\"text\":[\"Bread<br>No of Connections: 1\",\"Cake<br>No of Connections: 2\",\"Coffee<br>No of Connections: 8\",\"Medialuna<br>No of Connections: 1\",\"Toast<br>No of Connections: 1\",\"Cookies<br>No of Connections: 1\",\"Juice<br>No of Connections: 1\",\"Sandwich<br>No of Connections: 1\",\"Tea<br>No of Connections: 1\",\"Hot chocolate<br>No of Connections: 1\",\"Pastry<br>No of Connections: 2\"],\"type\":\"scatter\",\"x\":[-1.0,0.18650274754785737,0.06597548186864914,0.3875978952533974,-0.2129749912375371,0.5444707700310849,0.07915653587040675,-0.21933462235493642,0.2891245052599524,0.4271814295502353,-0.5476997517891096],\"y\":[0.17225361531149308,-0.529724749478439,0.07445183908408139,0.436541801400639,-0.2397833342936843,0.144589059276585,0.557931278984891,0.40424500320000295,-0.9729638042472606,-0.17022849622847208,0.1226877869901641]}],                        {\"margin\":{\"b\":0,\"l\":0,\"r\":0,\"t\":50},\"plot_bgcolor\":\"white\",\"showlegend\":false,\"template\":{\"data\":{\"bar\":[{\"error_x\":{\"color\":\"#2a3f5f\"},\"error_y\":{\"color\":\"#2a3f5f\"},\"marker\":{\"line\":{\"color\":\"#E5ECF6\",\"width\":0.5},\"pattern\":{\"fillmode\":\"overlay\",\"size\":10,\"solidity\":0.2}},\"type\":\"bar\"}],\"barpolar\":[{\"marker\":{\"line\":{\"color\":\"#E5ECF6\",\"width\":0.5},\"pattern\":{\"fillmode\":\"overlay\",\"size\":10,\"solidity\":0.2}},\"type\":\"barpolar\"}],\"carpet\":[{\"aaxis\":{\"endlinecolor\":\"#2a3f5f\",\"gridcolor\":\"white\",\"linecolor\":\"white\",\"minorgridcolor\":\"white\",\"startlinecolor\":\"#2a3f5f\"},\"baxis\":{\"endlinecolor\":\"#2a3f5f\",\"gridcolor\":\"white\",\"linecolor\":\"white\",\"minorgridcolor\":\"white\",\"startlinecolor\":\"#2a3f5f\"},\"type\":\"carpet\"}],\"choropleth\":[{\"colorbar\":{\"outlinewidth\":0,\"ticks\":\"\"},\"type\":\"choropleth\"}],\"contour\":[{\"colorbar\":{\"outlinewidth\":0,\"ticks\":\"\"},\"colorscale\":[[0.0,\"#0d0887\"],[0.1111111111111111,\"#46039f\"],[0.2222222222222222,\"#7201a8\"],[0.3333333333333333,\"#9c179e\"],[0.4444444444444444,\"#bd3786\"],[0.5555555555555556,\"#d8576b\"],[0.6666666666666666,\"#ed7953\"],[0.7777777777777778,\"#fb9f3a\"],[0.8888888888888888,\"#fdca26\"],[1.0,\"#f0f921\"]],\"type\":\"contour\"}],\"contourcarpet\":[{\"colorbar\":{\"outlinewidth\":0,\"ticks\":\"\"},\"type\":\"contourcarpet\"}],\"heatmap\":[{\"colorbar\":{\"outlinewidth\":0,\"ticks\":\"\"},\"colorscale\":[[0.0,\"#0d0887\"],[0.1111111111111111,\"#46039f\"],[0.2222222222222222,\"#7201a8\"],[0.3333333333333333,\"#9c179e\"],[0.4444444444444444,\"#bd3786\"],[0.5555555555555556,\"#d8576b\"],[0.6666666666666666,\"#ed7953\"],[0.7777777777777778,\"#fb9f3a\"],[0.8888888888888888,\"#fdca26\"],[1.0,\"#f0f921\"]],\"type\":\"heatmap\"}],\"heatmapgl\":[{\"colorbar\":{\"outlinewidth\":0,\"ticks\":\"\"},\"colorscale\":[[0.0,\"#0d0887\"],[0.1111111111111111,\"#46039f\"],[0.2222222222222222,\"#7201a8\"],[0.3333333333333333,\"#9c179e\"],[0.4444444444444444,\"#bd3786\"],[0.5555555555555556,\"#d8576b\"],[0.6666666666666666,\"#ed7953\"],[0.7777777777777778,\"#fb9f3a\"],[0.8888888888888888,\"#fdca26\"],[1.0,\"#f0f921\"]],\"type\":\"heatmapgl\"}],\"histogram\":[{\"marker\":{\"pattern\":{\"fillmode\":\"overlay\",\"size\":10,\"solidity\":0.2}},\"type\":\"histogram\"}],\"histogram2d\":[{\"colorbar\":{\"outlinewidth\":0,\"ticks\":\"\"},\"colorscale\":[[0.0,\"#0d0887\"],[0.1111111111111111,\"#46039f\"],[0.2222222222222222,\"#7201a8\"],[0.3333333333333333,\"#9c179e\"],[0.4444444444444444,\"#bd3786\"],[0.5555555555555556,\"#d8576b\"],[0.6666666666666666,\"#ed7953\"],[0.7777777777777778,\"#fb9f3a\"],[0.8888888888888888,\"#fdca26\"],[1.0,\"#f0f921\"]],\"type\":\"histogram2d\"}],\"histogram2dcontour\":[{\"colorbar\":{\"outlinewidth\":0,\"ticks\":\"\"},\"colorscale\":[[0.0,\"#0d0887\"],[0.1111111111111111,\"#46039f\"],[0.2222222222222222,\"#7201a8\"],[0.3333333333333333,\"#9c179e\"],[0.4444444444444444,\"#bd3786\"],[0.5555555555555556,\"#d8576b\"],[0.6666666666666666,\"#ed7953\"],[0.7777777777777778,\"#fb9f3a\"],[0.8888888888888888,\"#fdca26\"],[1.0,\"#f0f921\"]],\"type\":\"histogram2dcontour\"}],\"mesh3d\":[{\"colorbar\":{\"outlinewidth\":0,\"ticks\":\"\"},\"type\":\"mesh3d\"}],\"parcoords\":[{\"line\":{\"colorbar\":{\"outlinewidth\":0,\"ticks\":\"\"}},\"type\":\"parcoords\"}],\"pie\":[{\"automargin\":true,\"type\":\"pie\"}],\"scatter\":[{\"marker\":{\"colorbar\":{\"outlinewidth\":0,\"ticks\":\"\"}},\"type\":\"scatter\"}],\"scatter3d\":[{\"line\":{\"colorbar\":{\"outlinewidth\":0,\"ticks\":\"\"}},\"marker\":{\"colorbar\":{\"outlinewidth\":0,\"ticks\":\"\"}},\"type\":\"scatter3d\"}],\"scattercarpet\":[{\"marker\":{\"colorbar\":{\"outlinewidth\":0,\"ticks\":\"\"}},\"type\":\"scattercarpet\"}],\"scattergeo\":[{\"marker\":{\"colorbar\":{\"outlinewidth\":0,\"ticks\":\"\"}},\"type\":\"scattergeo\"}],\"scattergl\":[{\"marker\":{\"colorbar\":{\"outlinewidth\":0,\"ticks\":\"\"}},\"type\":\"scattergl\"}],\"scattermapbox\":[{\"marker\":{\"colorbar\":{\"outlinewidth\":0,\"ticks\":\"\"}},\"type\":\"scattermapbox\"}],\"scatterpolar\":[{\"marker\":{\"colorbar\":{\"outlinewidth\":0,\"ticks\":\"\"}},\"type\":\"scatterpolar\"}],\"scatterpolargl\":[{\"marker\":{\"colorbar\":{\"outlinewidth\":0,\"ticks\":\"\"}},\"type\":\"scatterpolargl\"}],\"scatterternary\":[{\"marker\":{\"colorbar\":{\"outlinewidth\":0,\"ticks\":\"\"}},\"type\":\"scatterternary\"}],\"surface\":[{\"colorbar\":{\"outlinewidth\":0,\"ticks\":\"\"},\"colorscale\":[[0.0,\"#0d0887\"],[0.1111111111111111,\"#46039f\"],[0.2222222222222222,\"#7201a8\"],[0.3333333333333333,\"#9c179e\"],[0.4444444444444444,\"#bd3786\"],[0.5555555555555556,\"#d8576b\"],[0.6666666666666666,\"#ed7953\"],[0.7777777777777778,\"#fb9f3a\"],[0.8888888888888888,\"#fdca26\"],[1.0,\"#f0f921\"]],\"type\":\"surface\"}],\"table\":[{\"cells\":{\"fill\":{\"color\":\"#EBF0F8\"},\"line\":{\"color\":\"white\"}},\"header\":{\"fill\":{\"color\":\"#C8D4E3\"},\"line\":{\"color\":\"white\"}},\"type\":\"table\"}]},\"layout\":{\"annotationdefaults\":{\"arrowcolor\":\"#2a3f5f\",\"arrowhead\":0,\"arrowwidth\":1},\"autotypenumbers\":\"strict\",\"coloraxis\":{\"colorbar\":{\"outlinewidth\":0,\"ticks\":\"\"}},\"colorscale\":{\"diverging\":[[0,\"#8e0152\"],[0.1,\"#c51b7d\"],[0.2,\"#de77ae\"],[0.3,\"#f1b6da\"],[0.4,\"#fde0ef\"],[0.5,\"#f7f7f7\"],[0.6,\"#e6f5d0\"],[0.7,\"#b8e186\"],[0.8,\"#7fbc41\"],[0.9,\"#4d9221\"],[1,\"#276419\"]],\"sequential\":[[0.0,\"#0d0887\"],[0.1111111111111111,\"#46039f\"],[0.2222222222222222,\"#7201a8\"],[0.3333333333333333,\"#9c179e\"],[0.4444444444444444,\"#bd3786\"],[0.5555555555555556,\"#d8576b\"],[0.6666666666666666,\"#ed7953\"],[0.7777777777777778,\"#fb9f3a\"],[0.8888888888888888,\"#fdca26\"],[1.0,\"#f0f921\"]],\"sequentialminus\":[[0.0,\"#0d0887\"],[0.1111111111111111,\"#46039f\"],[0.2222222222222222,\"#7201a8\"],[0.3333333333333333,\"#9c179e\"],[0.4444444444444444,\"#bd3786\"],[0.5555555555555556,\"#d8576b\"],[0.6666666666666666,\"#ed7953\"],[0.7777777777777778,\"#fb9f3a\"],[0.8888888888888888,\"#fdca26\"],[1.0,\"#f0f921\"]]},\"colorway\":[\"#636efa\",\"#EF553B\",\"#00cc96\",\"#ab63fa\",\"#FFA15A\",\"#19d3f3\",\"#FF6692\",\"#B6E880\",\"#FF97FF\",\"#FECB52\"],\"font\":{\"color\":\"#2a3f5f\"},\"geo\":{\"bgcolor\":\"white\",\"lakecolor\":\"white\",\"landcolor\":\"#E5ECF6\",\"showlakes\":true,\"showland\":true,\"subunitcolor\":\"white\"},\"hoverlabel\":{\"align\":\"left\"},\"hovermode\":\"closest\",\"mapbox\":{\"style\":\"light\"},\"paper_bgcolor\":\"white\",\"plot_bgcolor\":\"#E5ECF6\",\"polar\":{\"angularaxis\":{\"gridcolor\":\"white\",\"linecolor\":\"white\",\"ticks\":\"\"},\"bgcolor\":\"#E5ECF6\",\"radialaxis\":{\"gridcolor\":\"white\",\"linecolor\":\"white\",\"ticks\":\"\"}},\"scene\":{\"xaxis\":{\"backgroundcolor\":\"#E5ECF6\",\"gridcolor\":\"white\",\"gridwidth\":2,\"linecolor\":\"white\",\"showbackground\":true,\"ticks\":\"\",\"zerolinecolor\":\"white\"},\"yaxis\":{\"backgroundcolor\":\"#E5ECF6\",\"gridcolor\":\"white\",\"gridwidth\":2,\"linecolor\":\"white\",\"showbackground\":true,\"ticks\":\"\",\"zerolinecolor\":\"white\"},\"zaxis\":{\"backgroundcolor\":\"#E5ECF6\",\"gridcolor\":\"white\",\"gridwidth\":2,\"linecolor\":\"white\",\"showbackground\":true,\"ticks\":\"\",\"zerolinecolor\":\"white\"}},\"shapedefaults\":{\"line\":{\"color\":\"#2a3f5f\"}},\"ternary\":{\"aaxis\":{\"gridcolor\":\"white\",\"linecolor\":\"white\",\"ticks\":\"\"},\"baxis\":{\"gridcolor\":\"white\",\"linecolor\":\"white\",\"ticks\":\"\"},\"bgcolor\":\"#E5ECF6\",\"caxis\":{\"gridcolor\":\"white\",\"linecolor\":\"white\",\"ticks\":\"\"}},\"title\":{\"x\":0.05},\"xaxis\":{\"automargin\":true,\"gridcolor\":\"white\",\"linecolor\":\"white\",\"ticks\":\"\",\"title\":{\"standoff\":15},\"zerolinecolor\":\"white\",\"zerolinewidth\":2},\"yaxis\":{\"automargin\":true,\"gridcolor\":\"white\",\"linecolor\":\"white\",\"ticks\":\"\",\"title\":{\"standoff\":15},\"zerolinecolor\":\"white\",\"zerolinewidth\":2}}},\"title\":{\"font\":{\"size\":20},\"text\":\"Item Connections Network\"},\"xaxis\":{\"showgrid\":false,\"showticklabels\":false,\"zeroline\":false},\"yaxis\":{\"showgrid\":false,\"showticklabels\":false,\"zeroline\":false}},                        {\"responsive\": true}                    ).then(function(){\n",
       "                            \n",
       "var gd = document.getElementById('0d28805b-341c-4436-b2ec-2bd6b3fa89e5');\n",
       "var x = new MutationObserver(function (mutations, observer) {{\n",
       "        var display = window.getComputedStyle(gd).display;\n",
       "        if (!display || display === 'none') {{\n",
       "            console.log([gd, 'removed!']);\n",
       "            Plotly.purge(gd);\n",
       "            observer.disconnect();\n",
       "        }}\n",
       "}});\n",
       "\n",
       "// Listen for the removal of the full notebook cells\n",
       "var notebookContainer = gd.closest('#notebook-container');\n",
       "if (notebookContainer) {{\n",
       "    x.observe(notebookContainer, {childList: true});\n",
       "}}\n",
       "\n",
       "// Listen for the clearing of the current output cell\n",
       "var outputEl = gd.closest('.output');\n",
       "if (outputEl) {{\n",
       "    x.observe(outputEl, {childList: true});\n",
       "}}\n",
       "\n",
       "                        })                };                });            </script>        </div>"
      ]
     },
     "metadata": {},
     "output_type": "display_data"
    }
   ],
   "source": [
    "network_A = list(rules[\"antecedents\"].unique())\n",
    "network_B = list(rules[\"consequents\"].unique())\n",
    "node_list = list(set(network_A + network_B))\n",
    "G = nx.Graph()\n",
    "for i in node_list:\n",
    "    G.add_node(i)\n",
    "for i,j in rules.iterrows():\n",
    "    G.add_edges_from([(j[\"antecedents\"], j[\"consequents\"])])\n",
    "pos = nx.spring_layout(G, k=0.5, dim=2, iterations=400)\n",
    "for n, p in pos.items():\n",
    "    G.nodes[n]['pos'] = p\n",
    "\n",
    "edge_trace = go.Scatter(x=[], y=[], line=dict(width=0.5, color='#888'), hoverinfo='none', mode='lines')\n",
    "\n",
    "for edge in G.edges():\n",
    "    x0, y0 = G.nodes[edge[0]]['pos']\n",
    "    x1, y1 = G.nodes[edge[1]]['pos']\n",
    "    edge_trace['x'] += tuple([x0, x1, None])\n",
    "    edge_trace['y'] += tuple([y0, y1, None])\n",
    "\n",
    "node_trace = go.Scatter(x=[], y=[], text=[], mode='markers', hoverinfo='text',\n",
    "    marker=dict(showscale=True, colorscale='Burg', reversescale=True, color=[], size=15,\n",
    "    colorbar=dict(thickness=10, title='Node Connections', xanchor='left', titleside='right')))\n",
    "\n",
    "for node in G.nodes():\n",
    "    x, y = G.nodes[node]['pos']\n",
    "    node_trace['x'] += tuple([x])\n",
    "    node_trace['y'] += tuple([y])\n",
    "\n",
    "for node, adjacencies in enumerate(G.adjacency()):\n",
    "    node_trace['marker']['color']+=tuple([len(adjacencies[1])])\n",
    "    node_info = str(adjacencies[0]) +'<br>No of Connections: {}'.format(str(len(adjacencies[1])))\n",
    "    node_trace['text']+=tuple([node_info])\n",
    "\n",
    "fig = go.Figure(data=[edge_trace, node_trace], \n",
    "    layout=go.Layout(title='Item Connections Network', titlefont=dict(size=20),\n",
    "    plot_bgcolor='white', showlegend=False, margin=dict(b=0,l=0,r=0,t=50),\n",
    "    xaxis=dict(showgrid=False, zeroline=False, showticklabels=False),\n",
    "    yaxis=dict(showgrid=False, zeroline=False, showticklabels=False)))\n",
    "\n",
    "iplot(fig)"
   ]
  },
  {
   "cell_type": "markdown",
   "id": "3cb35e69",
   "metadata": {
    "id": "Yb3tczBZkT3Y",
    "papermill": {
     "duration": 0.042751,
     "end_time": "2021-12-17T14:58:58.426581",
     "exception": false,
     "start_time": "2021-12-17T14:58:58.383830",
     "status": "completed"
    },
    "tags": []
   },
   "source": [
    "<h2 style=\"text-align:left; font-family:Arial;\"><b>5. Refining Rules</b></h2> "
   ]
  },
  {
   "cell_type": "markdown",
   "id": "1f24e7e5",
   "metadata": {
    "id": "FAtoxfW4kT3Y",
    "papermill": {
     "duration": 0.042727,
     "end_time": "2021-12-17T14:58:58.512596",
     "exception": false,
     "start_time": "2021-12-17T14:58:58.469869",
     "status": "completed"
    },
    "tags": []
   },
   "source": [
    "<p style=\"color:#4a4a4a; font-size:110%;\">The confidence for a very frequent consequent is always high even if there is a very weak association. So this doesn't give a clearer picture. Here, coffee is by far the most frequent item and the best seller. It can therefore be recommended anyway with every other item. So, we can drop the rules recommending coffee to get a clearer picture of the real unknown rules generated from the data.</p>"
   ]
  },
  {
   "cell_type": "code",
   "execution_count": 21,
   "id": "1a49db08",
   "metadata": {
    "execution": {
     "iopub.execute_input": "2021-12-17T14:58:58.621279Z",
     "iopub.status.busy": "2021-12-17T14:58:58.620325Z",
     "iopub.status.idle": "2021-12-17T14:58:58.625232Z",
     "shell.execute_reply": "2021-12-17T14:58:58.624701Z",
     "shell.execute_reply.started": "2021-12-17T14:57:31.682903Z"
    },
    "executionInfo": {
     "elapsed": 17,
     "status": "ok",
     "timestamp": 1630751804998,
     "user": {
      "displayName": "Akash",
      "photoUrl": "https://lh3.googleusercontent.com/a-/AOh14Gi2e7RWkihNB-rZyYcAd4iUumed7zjXJQLf9cW5lg=s64",
      "userId": "06209623088398708773"
     },
     "user_tz": -330
    },
    "id": "wGk-zWOgkT3Y",
    "outputId": "744210f0-7c64-4a1b-d63e-c6c1b880c5e5",
    "papermill": {
     "duration": 0.069983,
     "end_time": "2021-12-17T14:58:58.625383",
     "exception": false,
     "start_time": "2021-12-17T14:58:58.555400",
     "status": "completed"
    },
    "tags": []
   },
   "outputs": [
    {
     "data": {
      "text/html": [
       "<div>\n",
       "<style scoped>\n",
       "    .dataframe tbody tr th:only-of-type {\n",
       "        vertical-align: middle;\n",
       "    }\n",
       "\n",
       "    .dataframe tbody tr th {\n",
       "        vertical-align: top;\n",
       "    }\n",
       "\n",
       "    .dataframe thead th {\n",
       "        text-align: right;\n",
       "    }\n",
       "</style>\n",
       "<table border=\"1\" class=\"dataframe\">\n",
       "  <thead>\n",
       "    <tr style=\"text-align: right;\">\n",
       "      <th></th>\n",
       "      <th>index</th>\n",
       "      <th>antecedents</th>\n",
       "      <th>consequents</th>\n",
       "      <th>antecedent support</th>\n",
       "      <th>consequent support</th>\n",
       "      <th>support</th>\n",
       "      <th>confidence</th>\n",
       "      <th>lift</th>\n",
       "    </tr>\n",
       "  </thead>\n",
       "  <tbody>\n",
       "    <tr>\n",
       "      <th>0</th>\n",
       "      <td>5</td>\n",
       "      <td>Tea</td>\n",
       "      <td>Cake</td>\n",
       "      <td>0.142631</td>\n",
       "      <td>0.103856</td>\n",
       "      <td>0.023772</td>\n",
       "      <td>0.166667</td>\n",
       "      <td>1.604781</td>\n",
       "    </tr>\n",
       "    <tr>\n",
       "      <th>1</th>\n",
       "      <td>4</td>\n",
       "      <td>Cake</td>\n",
       "      <td>Tea</td>\n",
       "      <td>0.103856</td>\n",
       "      <td>0.142631</td>\n",
       "      <td>0.023772</td>\n",
       "      <td>0.228891</td>\n",
       "      <td>1.604781</td>\n",
       "    </tr>\n",
       "    <tr>\n",
       "      <th>2</th>\n",
       "      <td>19</td>\n",
       "      <td>Coffee</td>\n",
       "      <td>Toast</td>\n",
       "      <td>0.478394</td>\n",
       "      <td>0.033597</td>\n",
       "      <td>0.023666</td>\n",
       "      <td>0.049470</td>\n",
       "      <td>1.472431</td>\n",
       "    </tr>\n",
       "    <tr>\n",
       "      <th>3</th>\n",
       "      <td>12</td>\n",
       "      <td>Coffee</td>\n",
       "      <td>Medialuna</td>\n",
       "      <td>0.478394</td>\n",
       "      <td>0.061807</td>\n",
       "      <td>0.035182</td>\n",
       "      <td>0.073542</td>\n",
       "      <td>1.189878</td>\n",
       "    </tr>\n",
       "    <tr>\n",
       "      <th>4</th>\n",
       "      <td>14</td>\n",
       "      <td>Coffee</td>\n",
       "      <td>Pastry</td>\n",
       "      <td>0.478394</td>\n",
       "      <td>0.086107</td>\n",
       "      <td>0.047544</td>\n",
       "      <td>0.099382</td>\n",
       "      <td>1.154168</td>\n",
       "    </tr>\n",
       "    <tr>\n",
       "      <th>5</th>\n",
       "      <td>10</td>\n",
       "      <td>Coffee</td>\n",
       "      <td>Juice</td>\n",
       "      <td>0.478394</td>\n",
       "      <td>0.038563</td>\n",
       "      <td>0.020602</td>\n",
       "      <td>0.043065</td>\n",
       "      <td>1.116750</td>\n",
       "    </tr>\n",
       "    <tr>\n",
       "      <th>6</th>\n",
       "      <td>16</td>\n",
       "      <td>Coffee</td>\n",
       "      <td>Sandwich</td>\n",
       "      <td>0.478394</td>\n",
       "      <td>0.071844</td>\n",
       "      <td>0.038246</td>\n",
       "      <td>0.079947</td>\n",
       "      <td>1.112792</td>\n",
       "    </tr>\n",
       "    <tr>\n",
       "      <th>7</th>\n",
       "      <td>3</td>\n",
       "      <td>Coffee</td>\n",
       "      <td>Cake</td>\n",
       "      <td>0.478394</td>\n",
       "      <td>0.103856</td>\n",
       "      <td>0.054728</td>\n",
       "      <td>0.114399</td>\n",
       "      <td>1.101515</td>\n",
       "    </tr>\n",
       "    <tr>\n",
       "      <th>8</th>\n",
       "      <td>6</td>\n",
       "      <td>Coffee</td>\n",
       "      <td>Cookies</td>\n",
       "      <td>0.478394</td>\n",
       "      <td>0.054411</td>\n",
       "      <td>0.028209</td>\n",
       "      <td>0.058966</td>\n",
       "      <td>1.083723</td>\n",
       "    </tr>\n",
       "    <tr>\n",
       "      <th>9</th>\n",
       "      <td>9</td>\n",
       "      <td>Coffee</td>\n",
       "      <td>Hot chocolate</td>\n",
       "      <td>0.478394</td>\n",
       "      <td>0.058320</td>\n",
       "      <td>0.029583</td>\n",
       "      <td>0.061837</td>\n",
       "      <td>1.060311</td>\n",
       "    </tr>\n",
       "    <tr>\n",
       "      <th>10</th>\n",
       "      <td>0</td>\n",
       "      <td>Bread</td>\n",
       "      <td>Pastry</td>\n",
       "      <td>0.327205</td>\n",
       "      <td>0.086107</td>\n",
       "      <td>0.029160</td>\n",
       "      <td>0.089119</td>\n",
       "      <td>1.034977</td>\n",
       "    </tr>\n",
       "    <tr>\n",
       "      <th>11</th>\n",
       "      <td>1</td>\n",
       "      <td>Pastry</td>\n",
       "      <td>Bread</td>\n",
       "      <td>0.086107</td>\n",
       "      <td>0.327205</td>\n",
       "      <td>0.029160</td>\n",
       "      <td>0.338650</td>\n",
       "      <td>1.034977</td>\n",
       "    </tr>\n",
       "  </tbody>\n",
       "</table>\n",
       "</div>"
      ],
      "text/plain": [
       "    index antecedents    consequents  antecedent support  consequent support  \\\n",
       "0       5         Tea           Cake            0.142631            0.103856   \n",
       "1       4        Cake            Tea            0.103856            0.142631   \n",
       "2      19      Coffee          Toast            0.478394            0.033597   \n",
       "3      12      Coffee      Medialuna            0.478394            0.061807   \n",
       "4      14      Coffee         Pastry            0.478394            0.086107   \n",
       "5      10      Coffee          Juice            0.478394            0.038563   \n",
       "6      16      Coffee       Sandwich            0.478394            0.071844   \n",
       "7       3      Coffee           Cake            0.478394            0.103856   \n",
       "8       6      Coffee        Cookies            0.478394            0.054411   \n",
       "9       9      Coffee  Hot chocolate            0.478394            0.058320   \n",
       "10      0       Bread         Pastry            0.327205            0.086107   \n",
       "11      1      Pastry          Bread            0.086107            0.327205   \n",
       "\n",
       "     support  confidence      lift  \n",
       "0   0.023772    0.166667  1.604781  \n",
       "1   0.023772    0.228891  1.604781  \n",
       "2   0.023666    0.049470  1.472431  \n",
       "3   0.035182    0.073542  1.189878  \n",
       "4   0.047544    0.099382  1.154168  \n",
       "5   0.020602    0.043065  1.116750  \n",
       "6   0.038246    0.079947  1.112792  \n",
       "7   0.054728    0.114399  1.101515  \n",
       "8   0.028209    0.058966  1.083723  \n",
       "9   0.029583    0.061837  1.060311  \n",
       "10  0.029160    0.089119  1.034977  \n",
       "11  0.029160    0.338650  1.034977  "
      ]
     },
     "execution_count": 21,
     "metadata": {},
     "output_type": "execute_result"
    }
   ],
   "source": [
    "index_names = rules[rules['consequents'] == 'Coffee'].index\n",
    "refinedRules = rules.drop(index_names).sort_values('lift', ascending=False)\n",
    "refinedRules.drop(['leverage','conviction'], axis=1, inplace=True)\n",
    "refinedRules = refinedRules.reset_index()\n",
    "refinedRules"
   ]
  },
  {
   "cell_type": "markdown",
   "id": "6681881c",
   "metadata": {
    "id": "036rqjTOkT3Y",
    "papermill": {
     "duration": 0.043272,
     "end_time": "2021-12-17T14:58:58.712044",
     "exception": false,
     "start_time": "2021-12-17T14:58:58.668772",
     "status": "completed"
    },
    "tags": []
   },
   "source": [
    "<h2 style=\"text-align:left; font-family:Arial;\"><b>Summary:</b></h2> "
   ]
  },
  {
   "cell_type": "markdown",
   "id": "e3bee707",
   "metadata": {
    "papermill": {
     "duration": 0.043336,
     "end_time": "2021-12-17T14:58:58.799090",
     "exception": false,
     "start_time": "2021-12-17T14:58:58.755754",
     "status": "completed"
    },
    "tags": []
   },
   "source": [
    "<div style=\"color:white;\n",
    "            display:fill;\n",
    "            border-radius:5px;\n",
    "            background-color:#EEF7FA;  \n",
    "            font-size:100%;\n",
    "            theme:cosmo;\n",
    "            letter-spacing:0.5px\">\n",
    "<h3 style=\"padding-left: 20px; padding-top: 20px; color:#4a4a4a; font-family:Arial;\"><b>Insights</b>\n",
    "</h3>\n",
    "<ul style=\"padding-left: 40px; padding-bottom: 20px; color:#4a4a4a; font-size:110%;\">\n",
    "<li>Coffee is the bestseller of this bakery and it shows association with <b>8</b> other items.</li>\n",
    "<li>Over <b>11%</b> coffee lovers also buy cake along with while almost <b>10%</b> of them buy pastry along with it.</li>\n",
    "<li>Over <b>16%</b> of tea consumers also buy cakes and over <b>22%</b> cake lovers also buy tea.</li>\n",
    "<li>Among the pastry lovers, over <b>33%</b> of them also buy bread, while nearly <b>9%</b> of those who buy pastry also buy bread.</li>\n",
    "</ul>\n",
    "</div>"
   ]
  },
  {
   "cell_type": "markdown",
   "id": "6764bd26",
   "metadata": {
    "papermill": {
     "duration": 0.043227,
     "end_time": "2021-12-17T14:58:58.886519",
     "exception": false,
     "start_time": "2021-12-17T14:58:58.843292",
     "status": "completed"
    },
    "tags": []
   },
   "source": [
    "<div style=\"color:white;\n",
    "            display:fill;\n",
    "            border-radius:5px;\n",
    "            background-color:#F9ECEC;  \n",
    "            font-size:100%;\n",
    "            theme:cosmo;\n",
    "            letter-spacing:0.5px\">\n",
    "<h3 style=\"padding-left: 20px; padding-top: 20px; color:#4a4a4a; font-family:Arial;\"><b>Business Strategy</b>\n",
    "</h3>\n",
    "<p style=\"padding-left: 20px; color:#4a4a4a; font-size:110%;\">\n",
    "There are a couple of strategies that the bakery can adopt if is yet to use, to increase its sales considering the associations we have seen between coffee and its 8 partners.\n",
    "</p>\n",
    "<ul style=\"padding-left: 40px; padding-bottom: 20px; color:#4a4a4a; font-size:110%;\">\n",
    "<li>Promotional discounts on these items can entice customers to buy coffee or the other way round.</li>\n",
    "<li>Arranging placements of these items close to coffee ordering counter can be a good strategy to tempt customers into buying them.</li>\n",
    "</ul>\n",
    "</div>"
   ]
  }
 ],
 "metadata": {
  "kernelspec": {
   "display_name": "Python 3",
   "language": "python",
   "name": "python3"
  },
  "language_info": {
   "codemirror_mode": {
    "name": "ipython",
    "version": 3
   },
   "file_extension": ".py",
   "mimetype": "text/x-python",
   "name": "python",
   "nbconvert_exporter": "python",
   "pygments_lexer": "ipython3",
   "version": "3.7.10"
  },
  "papermill": {
   "default_parameters": {},
   "duration": 27.929689,
   "end_time": "2021-12-17T14:59:00.254213",
   "environment_variables": {},
   "exception": null,
   "input_path": "__notebook__.ipynb",
   "output_path": "__notebook__.ipynb",
   "parameters": {},
   "start_time": "2021-12-17T14:58:32.324524",
   "version": "2.3.3"
  }
 },
 "nbformat": 4,
 "nbformat_minor": 5
}
