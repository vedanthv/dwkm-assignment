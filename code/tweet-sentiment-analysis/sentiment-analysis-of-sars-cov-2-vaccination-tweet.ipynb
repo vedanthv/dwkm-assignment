{
 "cells": [
  {
   "cell_type": "code",
   "execution_count": 1,
   "id": "taken-roommate",
   "metadata": {
    "_cell_guid": "b1076dfc-b9ad-4769-8c92-a6c4dae69d19",
    "_uuid": "8f2839f25d086af736a60e9eeb907d3b93b6e0e5",
    "execution": {
     "iopub.execute_input": "2021-04-05T10:59:06.232398Z",
     "iopub.status.busy": "2021-04-05T10:59:06.231816Z",
     "iopub.status.idle": "2021-04-05T10:59:06.245790Z",
     "shell.execute_reply": "2021-04-05T10:59:06.246245Z"
    },
    "papermill": {
     "duration": 0.052746,
     "end_time": "2021-04-05T10:59:06.246578",
     "exception": false,
     "start_time": "2021-04-05T10:59:06.193832",
     "status": "completed"
    },
    "tags": []
   },
   "outputs": [],
   "source": [
    "import numpy as np # linear algebra\n",
    "import pandas as pd # data processing, CSV file I/O (e.g. pd.read_csv)"
   ]
  },
  {
   "cell_type": "markdown",
   "id": "spectacular-boston",
   "metadata": {
    "papermill": {
     "duration": 0.035569,
     "end_time": "2021-04-05T10:59:06.318510",
     "exception": false,
     "start_time": "2021-04-05T10:59:06.282941",
     "status": "completed"
    },
    "tags": []
   },
   "source": [
    "## Sentiment analysis setup\n",
    "\n",
    "Let's first import all the necessary modules that our notebook will use as part of this project."
   ]
  },
  {
   "cell_type": "code",
   "execution_count": 2,
   "id": "contemporary-applicant",
   "metadata": {
    "execution": {
     "iopub.execute_input": "2021-04-05T10:59:06.397706Z",
     "iopub.status.busy": "2021-04-05T10:59:06.396835Z",
     "iopub.status.idle": "2021-04-05T10:59:16.404066Z",
     "shell.execute_reply": "2021-04-05T10:59:16.405290Z"
    },
    "papermill": {
     "duration": 10.051781,
     "end_time": "2021-04-05T10:59:16.405556",
     "exception": false,
     "start_time": "2021-04-05T10:59:06.353775",
     "status": "completed"
    },
    "tags": []
   },
   "outputs": [
    {
     "name": "stdout",
     "output_type": "stream",
     "text": [
      "[nltk_data] Downloading package wordnet to /usr/share/nltk_data...\n",
      "[nltk_data]   Package wordnet is already up-to-date!\n",
      "Done\n"
     ]
    }
   ],
   "source": [
    "import re\n",
    "import matplotlib.pyplot as plt\n",
    "import string\n",
    "from nltk.corpus import stopwords\n",
    "import nltk\n",
    "from nltk.corpus import wordnet\n",
    "from nltk.stem import WordNetLemmatizer\n",
    "from nltk.stem import LancasterStemmer\n",
    "from nltk.tokenize.treebank import TreebankWordDetokenizer\n",
    "from collections import Counter\n",
    "from wordcloud import WordCloud\n",
    "from nltk.corpus import stopwords\n",
    "import nltk\n",
    "from gensim.utils import simple_preprocess\n",
    "from nltk.corpus import stopwords\n",
    "import gensim\n",
    "from sklearn.model_selection import train_test_split\n",
    "import spacy\n",
    "import pickle\n",
    "import warnings\n",
    "warnings.filterwarnings('ignore')\n",
    "warnings.simplefilter(action='ignore', category=FutureWarning)\n",
    "import matplotlib.pyplot as plt \n",
    "import tensorflow as tf\n",
    "import keras\n",
    "from keras.utils.vis_utils import plot_model\n",
    "import numpy as np\n",
    "import pandas as pd\n",
    "import plotly.express as px\n",
    "import plotly as pl\n",
    "import datetime\n",
    "\n",
    "#for confusion matrix\n",
    "import seaborn\n",
    "from sklearn.metrics import confusion_matrix\n",
    "\n",
    "\n",
    "nltk.download('wordnet')\n",
    "print('Done')"
   ]
  },
  {
   "cell_type": "code",
   "execution_count": 3,
   "id": "confused-bennett",
   "metadata": {
    "execution": {
     "iopub.execute_input": "2021-04-05T10:59:16.552596Z",
     "iopub.status.busy": "2021-04-05T10:59:16.551968Z",
     "iopub.status.idle": "2021-04-05T10:59:16.708942Z",
     "shell.execute_reply": "2021-04-05T10:59:16.708285Z"
    },
    "papermill": {
     "duration": 0.197038,
     "end_time": "2021-04-05T10:59:16.709082",
     "exception": false,
     "start_time": "2021-04-05T10:59:16.512044",
     "status": "completed"
    },
    "tags": []
   },
   "outputs": [],
   "source": [
    "train = pd.read_csv(r\"D:\\University\\Semester 5\\dwkm-assignment\\tweet-sentiment-analysis\\vaccination_all_tweets.csv\")"
   ]
  },
  {
   "cell_type": "markdown",
   "id": "introductory-native",
   "metadata": {
    "papermill": {
     "duration": 0.035252,
     "end_time": "2021-04-05T10:59:16.780098",
     "exception": false,
     "start_time": "2021-04-05T10:59:16.744846",
     "status": "completed"
    },
    "tags": []
   },
   "source": [
    "Let's test whether it was loaded correctly by printing first 10 rows:"
   ]
  },
  {
   "cell_type": "code",
   "execution_count": 4,
   "id": "arctic-coordinate",
   "metadata": {
    "execution": {
     "iopub.execute_input": "2021-04-05T10:59:16.866811Z",
     "iopub.status.busy": "2021-04-05T10:59:16.866125Z",
     "iopub.status.idle": "2021-04-05T10:59:16.890103Z",
     "shell.execute_reply": "2021-04-05T10:59:16.889514Z"
    },
    "papermill": {
     "duration": 0.074473,
     "end_time": "2021-04-05T10:59:16.890251",
     "exception": false,
     "start_time": "2021-04-05T10:59:16.815778",
     "status": "completed"
    },
    "tags": []
   },
   "outputs": [
    {
     "data": {
      "text/html": [
       "<div>\n",
       "<style scoped>\n",
       "    .dataframe tbody tr th:only-of-type {\n",
       "        vertical-align: middle;\n",
       "    }\n",
       "\n",
       "    .dataframe tbody tr th {\n",
       "        vertical-align: top;\n",
       "    }\n",
       "\n",
       "    .dataframe thead th {\n",
       "        text-align: right;\n",
       "    }\n",
       "</style>\n",
       "<table border=\"1\" class=\"dataframe\">\n",
       "  <thead>\n",
       "    <tr style=\"text-align: right;\">\n",
       "      <th></th>\n",
       "      <th>textID</th>\n",
       "      <th>text</th>\n",
       "      <th>selected_text</th>\n",
       "      <th>sentiment</th>\n",
       "    </tr>\n",
       "  </thead>\n",
       "  <tbody>\n",
       "    <tr>\n",
       "      <th>0</th>\n",
       "      <td>cb774db0d1</td>\n",
       "      <td>I`d have responded, if I were going</td>\n",
       "      <td>I`d have responded, if I were going</td>\n",
       "      <td>neutral</td>\n",
       "    </tr>\n",
       "    <tr>\n",
       "      <th>1</th>\n",
       "      <td>549e992a42</td>\n",
       "      <td>Sooo SAD I will miss you here in San Diego!!!</td>\n",
       "      <td>Sooo SAD</td>\n",
       "      <td>negative</td>\n",
       "    </tr>\n",
       "    <tr>\n",
       "      <th>2</th>\n",
       "      <td>088c60f138</td>\n",
       "      <td>my boss is bullying me...</td>\n",
       "      <td>bullying me</td>\n",
       "      <td>negative</td>\n",
       "    </tr>\n",
       "    <tr>\n",
       "      <th>3</th>\n",
       "      <td>9642c003ef</td>\n",
       "      <td>what interview! leave me alone</td>\n",
       "      <td>leave me alone</td>\n",
       "      <td>negative</td>\n",
       "    </tr>\n",
       "    <tr>\n",
       "      <th>4</th>\n",
       "      <td>358bd9e861</td>\n",
       "      <td>Sons of ****, why couldn`t they put them on t...</td>\n",
       "      <td>Sons of ****,</td>\n",
       "      <td>negative</td>\n",
       "    </tr>\n",
       "    <tr>\n",
       "      <th>5</th>\n",
       "      <td>28b57f3990</td>\n",
       "      <td>http://www.dothebouncy.com/smf - some shameles...</td>\n",
       "      <td>http://www.dothebouncy.com/smf - some shameles...</td>\n",
       "      <td>neutral</td>\n",
       "    </tr>\n",
       "    <tr>\n",
       "      <th>6</th>\n",
       "      <td>6e0c6d75b1</td>\n",
       "      <td>2am feedings for the baby are fun when he is a...</td>\n",
       "      <td>fun</td>\n",
       "      <td>positive</td>\n",
       "    </tr>\n",
       "    <tr>\n",
       "      <th>7</th>\n",
       "      <td>50e14c0bb8</td>\n",
       "      <td>Soooo high</td>\n",
       "      <td>Soooo high</td>\n",
       "      <td>neutral</td>\n",
       "    </tr>\n",
       "    <tr>\n",
       "      <th>8</th>\n",
       "      <td>e050245fbd</td>\n",
       "      <td>Both of you</td>\n",
       "      <td>Both of you</td>\n",
       "      <td>neutral</td>\n",
       "    </tr>\n",
       "    <tr>\n",
       "      <th>9</th>\n",
       "      <td>fc2cbefa9d</td>\n",
       "      <td>Journey!? Wow... u just became cooler.  hehe....</td>\n",
       "      <td>Wow... u just became cooler.</td>\n",
       "      <td>positive</td>\n",
       "    </tr>\n",
       "  </tbody>\n",
       "</table>\n",
       "</div>"
      ],
      "text/plain": [
       "       textID                                               text  \\\n",
       "0  cb774db0d1                I`d have responded, if I were going   \n",
       "1  549e992a42      Sooo SAD I will miss you here in San Diego!!!   \n",
       "2  088c60f138                          my boss is bullying me...   \n",
       "3  9642c003ef                     what interview! leave me alone   \n",
       "4  358bd9e861   Sons of ****, why couldn`t they put them on t...   \n",
       "5  28b57f3990  http://www.dothebouncy.com/smf - some shameles...   \n",
       "6  6e0c6d75b1  2am feedings for the baby are fun when he is a...   \n",
       "7  50e14c0bb8                                         Soooo high   \n",
       "8  e050245fbd                                        Both of you   \n",
       "9  fc2cbefa9d   Journey!? Wow... u just became cooler.  hehe....   \n",
       "\n",
       "                                       selected_text sentiment  \n",
       "0                I`d have responded, if I were going   neutral  \n",
       "1                                           Sooo SAD  negative  \n",
       "2                                        bullying me  negative  \n",
       "3                                     leave me alone  negative  \n",
       "4                                      Sons of ****,  negative  \n",
       "5  http://www.dothebouncy.com/smf - some shameles...   neutral  \n",
       "6                                                fun  positive  \n",
       "7                                         Soooo high   neutral  \n",
       "8                                        Both of you   neutral  \n",
       "9                       Wow... u just became cooler.  positive  "
      ]
     },
     "execution_count": 4,
     "metadata": {},
     "output_type": "execute_result"
    }
   ],
   "source": [
    "train.head(10)"
   ]
  },
  {
   "cell_type": "markdown",
   "id": "powerful-share",
   "metadata": {
    "papermill": {
     "duration": 0.036597,
     "end_time": "2021-04-05T10:59:16.963323",
     "exception": false,
     "start_time": "2021-04-05T10:59:16.926726",
     "status": "completed"
    },
    "tags": []
   },
   "source": [
    "To make sure that the sentiment data is correct, let's check that it does not contain any other sentiment values than positive/negative/neutral:"
   ]
  },
  {
   "cell_type": "code",
   "execution_count": 5,
   "id": "saved-review",
   "metadata": {
    "execution": {
     "iopub.execute_input": "2021-04-05T10:59:17.044924Z",
     "iopub.status.busy": "2021-04-05T10:59:17.044086Z",
     "iopub.status.idle": "2021-04-05T10:59:17.049091Z",
     "shell.execute_reply": "2021-04-05T10:59:17.048508Z"
    },
    "papermill": {
     "duration": 0.049466,
     "end_time": "2021-04-05T10:59:17.049242",
     "exception": false,
     "start_time": "2021-04-05T10:59:16.999776",
     "status": "completed"
    },
    "tags": []
   },
   "outputs": [
    {
     "data": {
      "text/plain": [
       "array(['neutral', 'negative', 'positive'], dtype=object)"
      ]
     },
     "execution_count": 5,
     "metadata": {},
     "output_type": "execute_result"
    }
   ],
   "source": [
    "train['sentiment'].unique()"
   ]
  },
  {
   "cell_type": "markdown",
   "id": "legitimate-burning",
   "metadata": {
    "papermill": {
     "duration": 0.038236,
     "end_time": "2021-04-05T10:59:17.124612",
     "exception": false,
     "start_time": "2021-04-05T10:59:17.086376",
     "status": "completed"
    },
    "tags": []
   },
   "source": [
    "Now let's take a look at the distribution of the dataset:"
   ]
  },
  {
   "cell_type": "code",
   "execution_count": 6,
   "id": "negative-auckland",
   "metadata": {
    "execution": {
     "iopub.execute_input": "2021-04-05T10:59:17.203421Z",
     "iopub.status.busy": "2021-04-05T10:59:17.202870Z",
     "iopub.status.idle": "2021-04-05T10:59:17.251286Z",
     "shell.execute_reply": "2021-04-05T10:59:17.250231Z"
    },
    "papermill": {
     "duration": 0.090113,
     "end_time": "2021-04-05T10:59:17.251442",
     "exception": false,
     "start_time": "2021-04-05T10:59:17.161329",
     "status": "completed"
    },
    "tags": []
   },
   "outputs": [
    {
     "data": {
      "text/html": [
       "<div>\n",
       "<style scoped>\n",
       "    .dataframe tbody tr th:only-of-type {\n",
       "        vertical-align: middle;\n",
       "    }\n",
       "\n",
       "    .dataframe tbody tr th {\n",
       "        vertical-align: top;\n",
       "    }\n",
       "\n",
       "    .dataframe thead th {\n",
       "        text-align: right;\n",
       "    }\n",
       "</style>\n",
       "<table border=\"1\" class=\"dataframe\">\n",
       "  <thead>\n",
       "    <tr style=\"text-align: right;\">\n",
       "      <th></th>\n",
       "      <th>textID</th>\n",
       "      <th>text</th>\n",
       "      <th>selected_text</th>\n",
       "    </tr>\n",
       "    <tr>\n",
       "      <th>sentiment</th>\n",
       "      <th></th>\n",
       "      <th></th>\n",
       "      <th></th>\n",
       "    </tr>\n",
       "  </thead>\n",
       "  <tbody>\n",
       "    <tr>\n",
       "      <th>negative</th>\n",
       "      <td>7781</td>\n",
       "      <td>7781</td>\n",
       "      <td>5861</td>\n",
       "    </tr>\n",
       "    <tr>\n",
       "      <th>neutral</th>\n",
       "      <td>11118</td>\n",
       "      <td>11117</td>\n",
       "      <td>11111</td>\n",
       "    </tr>\n",
       "    <tr>\n",
       "      <th>positive</th>\n",
       "      <td>8582</td>\n",
       "      <td>8582</td>\n",
       "      <td>5537</td>\n",
       "    </tr>\n",
       "  </tbody>\n",
       "</table>\n",
       "</div>"
      ],
      "text/plain": [
       "           textID   text  selected_text\n",
       "sentiment                              \n",
       "negative     7781   7781           5861\n",
       "neutral     11118  11117          11111\n",
       "positive     8582   8582           5537"
      ]
     },
     "execution_count": 6,
     "metadata": {},
     "output_type": "execute_result"
    }
   ],
   "source": [
    "train.groupby('sentiment').nunique()"
   ]
  },
  {
   "cell_type": "code",
   "execution_count": 7,
   "id": "architectural-district",
   "metadata": {
    "execution": {
     "iopub.execute_input": "2021-04-05T10:59:17.409423Z",
     "iopub.status.busy": "2021-04-05T10:59:17.408826Z",
     "iopub.status.idle": "2021-04-05T10:59:17.412840Z",
     "shell.execute_reply": "2021-04-05T10:59:17.412257Z"
    },
    "papermill": {
     "duration": 0.051315,
     "end_time": "2021-04-05T10:59:17.412975",
     "exception": false,
     "start_time": "2021-04-05T10:59:17.361660",
     "status": "completed"
    },
    "tags": []
   },
   "outputs": [
    {
     "data": {
      "text/html": [
       "<div>\n",
       "<style scoped>\n",
       "    .dataframe tbody tr th:only-of-type {\n",
       "        vertical-align: middle;\n",
       "    }\n",
       "\n",
       "    .dataframe tbody tr th {\n",
       "        vertical-align: top;\n",
       "    }\n",
       "\n",
       "    .dataframe thead th {\n",
       "        text-align: right;\n",
       "    }\n",
       "</style>\n",
       "<table border=\"1\" class=\"dataframe\">\n",
       "  <thead>\n",
       "    <tr style=\"text-align: right;\">\n",
       "      <th></th>\n",
       "      <th>selected_text</th>\n",
       "      <th>sentiment</th>\n",
       "    </tr>\n",
       "  </thead>\n",
       "  <tbody>\n",
       "    <tr>\n",
       "      <th>0</th>\n",
       "      <td>I`d have responded, if I were going</td>\n",
       "      <td>neutral</td>\n",
       "    </tr>\n",
       "    <tr>\n",
       "      <th>1</th>\n",
       "      <td>Sooo SAD</td>\n",
       "      <td>negative</td>\n",
       "    </tr>\n",
       "    <tr>\n",
       "      <th>2</th>\n",
       "      <td>bullying me</td>\n",
       "      <td>negative</td>\n",
       "    </tr>\n",
       "    <tr>\n",
       "      <th>3</th>\n",
       "      <td>leave me alone</td>\n",
       "      <td>negative</td>\n",
       "    </tr>\n",
       "    <tr>\n",
       "      <th>4</th>\n",
       "      <td>Sons of ****,</td>\n",
       "      <td>negative</td>\n",
       "    </tr>\n",
       "  </tbody>\n",
       "</table>\n",
       "</div>"
      ],
      "text/plain": [
       "                         selected_text sentiment\n",
       "0  I`d have responded, if I were going   neutral\n",
       "1                             Sooo SAD  negative\n",
       "2                          bullying me  negative\n",
       "3                       leave me alone  negative\n",
       "4                        Sons of ****,  negative"
      ]
     },
     "execution_count": 7,
     "metadata": {},
     "output_type": "execute_result"
    }
   ],
   "source": [
    "train = train[['selected_text','sentiment']]\n",
    "train.head()"
   ]
  },
  {
   "cell_type": "markdown",
   "id": "heard-august",
   "metadata": {
    "papermill": {
     "duration": 0.037047,
     "end_time": "2021-04-05T10:59:17.487383",
     "exception": false,
     "start_time": "2021-04-05T10:59:17.450336",
     "status": "completed"
    },
    "tags": []
   },
   "source": [
    "Let's also ensure that there is no null value.\n",
    "\n",
    "If there is, let's fill it."
   ]
  },
  {
   "cell_type": "code",
   "execution_count": 8,
   "id": "streaming-kansas",
   "metadata": {
    "execution": {
     "iopub.execute_input": "2021-04-05T10:59:17.565051Z",
     "iopub.status.busy": "2021-04-05T10:59:17.564289Z",
     "iopub.status.idle": "2021-04-05T10:59:17.572795Z",
     "shell.execute_reply": "2021-04-05T10:59:17.573314Z"
    },
    "papermill": {
     "duration": 0.049054,
     "end_time": "2021-04-05T10:59:17.573500",
     "exception": false,
     "start_time": "2021-04-05T10:59:17.524446",
     "status": "completed"
    },
    "tags": []
   },
   "outputs": [],
   "source": [
    "if (train[\"selected_text\"].isnull().sum() > 0):\n",
    "    train[\"selected_text\"].fillna(\"No content\", inplace = True)"
   ]
  },
  {
   "cell_type": "markdown",
   "id": "piano-bracelet",
   "metadata": {
    "papermill": {
     "duration": 0.037291,
     "end_time": "2021-04-05T10:59:17.649158",
     "exception": false,
     "start_time": "2021-04-05T10:59:17.611867",
     "status": "completed"
    },
    "tags": []
   },
   "source": [
    "### The next steps about data cleaning will be:\n",
    "\n",
    "* Remove URLs from the tweets\n",
    "* Tokenize text\n",
    "* Remove emails\n",
    "* Remove new lines characters\n",
    "* Remove distracting single quotes\n",
    "* Remove all punctuation signs\n",
    "* Lowercase all text\n",
    "* Detokenize text\n",
    "* Convert list of texts to Numpy array"
   ]
  },
  {
   "cell_type": "code",
   "execution_count": 9,
   "id": "encouraging-heater",
   "metadata": {
    "execution": {
     "iopub.execute_input": "2021-04-05T10:59:17.728458Z",
     "iopub.status.busy": "2021-04-05T10:59:17.727811Z",
     "iopub.status.idle": "2021-04-05T10:59:17.972774Z",
     "shell.execute_reply": "2021-04-05T10:59:17.972234Z"
    },
    "papermill": {
     "duration": 0.285972,
     "end_time": "2021-04-05T10:59:17.972911",
     "exception": false,
     "start_time": "2021-04-05T10:59:17.686939",
     "status": "completed"
    },
    "tags": []
   },
   "outputs": [
    {
     "data": {
      "text/plain": [
       "['I`d have responded, if I were going',\n",
       " 'Sooo SAD',\n",
       " 'bullying me',\n",
       " 'leave me alone',\n",
       " 'Sons of ****,']"
      ]
     },
     "execution_count": 9,
     "metadata": {},
     "output_type": "execute_result"
    }
   ],
   "source": [
    "def depure_data(data):\n",
    "    \n",
    "    #Removing URLs with a regular expression\n",
    "    url_pattern = re.compile(r'https?://\\S+|www\\.\\S+')\n",
    "    data = url_pattern.sub(r'', data)\n",
    "\n",
    "    # Remove Emails\n",
    "    data = re.sub('\\S*@\\S*\\s?', '', data)\n",
    "\n",
    "    # Remove new line characters\n",
    "    data = re.sub('\\s+', ' ', data)\n",
    "\n",
    "    # Remove distracting single quotes\n",
    "    data = re.sub(\"\\'\", \"\", data)\n",
    "        \n",
    "    return data\n",
    "\n",
    "temp = []\n",
    "#Splitting pd.Series to list\n",
    "data_to_list = train['selected_text'].values.tolist()\n",
    "for i in range(len(data_to_list)):\n",
    "    temp.append(depure_data(data_to_list[i]))\n",
    "list(temp[:5])"
   ]
  },
  {
   "cell_type": "code",
   "execution_count": 10,
   "id": "recognized-error",
   "metadata": {
    "execution": {
     "iopub.execute_input": "2021-04-05T10:59:18.074089Z",
     "iopub.status.busy": "2021-04-05T10:59:18.068762Z",
     "iopub.status.idle": "2021-04-05T10:59:18.580718Z",
     "shell.execute_reply": "2021-04-05T10:59:18.580170Z"
    },
    "papermill": {
     "duration": 0.569708,
     "end_time": "2021-04-05T10:59:18.580872",
     "exception": false,
     "start_time": "2021-04-05T10:59:18.011164",
     "status": "completed"
    },
    "tags": []
   },
   "outputs": [
    {
     "name": "stdout",
     "output_type": "stream",
     "text": [
      "[['have', 'responded', 'if', 'were', 'going'], ['sooo', 'sad'], ['bullying', 'me'], ['leave', 'me', 'alone'], ['sons', 'of'], ['some', 'shameless', 'plugging', 'for', 'the', 'best', 'rangers', 'forum', 'on', 'earth'], ['fun'], ['soooo', 'high'], ['both', 'of', 'you'], ['wow', 'just', 'became', 'cooler']]\n"
     ]
    }
   ],
   "source": [
    "def sent_to_words(sentences):\n",
    "    for sentence in sentences:\n",
    "        yield(gensim.utils.simple_preprocess(str(sentence), deacc=True))  # deacc=True removes punctuations\n",
    "        \n",
    "\n",
    "data_words = list(sent_to_words(temp))\n",
    "\n",
    "print(data_words[:10])"
   ]
  },
  {
   "cell_type": "markdown",
   "id": "actual-associate",
   "metadata": {
    "papermill": {
     "duration": 0.037931,
     "end_time": "2021-04-05T10:59:18.657616",
     "exception": false,
     "start_time": "2021-04-05T10:59:18.619685",
     "status": "completed"
    },
    "tags": []
   },
   "source": [
    "## Detokenization, Stemming and Lemmatization"
   ]
  },
  {
   "cell_type": "code",
   "execution_count": 11,
   "id": "national-audience",
   "metadata": {
    "execution": {
     "iopub.execute_input": "2021-04-05T10:59:18.752858Z",
     "iopub.status.busy": "2021-04-05T10:59:18.747514Z",
     "iopub.status.idle": "2021-04-05T10:59:20.437085Z",
     "shell.execute_reply": "2021-04-05T10:59:20.437522Z"
    },
    "papermill": {
     "duration": 1.741845,
     "end_time": "2021-04-05T10:59:20.437709",
     "exception": false,
     "start_time": "2021-04-05T10:59:18.695864",
     "status": "completed"
    },
    "tags": []
   },
   "outputs": [
    {
     "name": "stdout",
     "output_type": "stream",
     "text": [
      "['have responded if were going', 'sooo sad', 'bullying me', 'leave me alone', 'sons of', 'some shameless plugging for the best rangers forum on earth', 'fun', 'soooo high', 'both of you', 'wow just became cooler']\n"
     ]
    }
   ],
   "source": [
    "def detokenize(text):\n",
    "    return TreebankWordDetokenizer().detokenize(text)\n",
    "    \n",
    "data = []\n",
    "for i in range(len(data_words)):\n",
    "    \n",
    "    #for j in range(len(data_words[i])):\n",
    "        #stemming\n",
    "        #data_words[i][j] = lancaster.stem(data_words[i][j])\n",
    "        #lemmatization\n",
    "        #data_words[i][j] = data_words[i][j].format(data_words[i][j],wordnet_lemmatizer.lemmatize(data_words[i][j]))\n",
    "    \n",
    "    data.append(detokenize(data_words[i]))\n",
    "print(data[:10])"
   ]
  },
  {
   "cell_type": "code",
   "execution_count": 12,
   "id": "democratic-infrared",
   "metadata": {
    "execution": {
     "iopub.execute_input": "2021-04-05T10:59:20.534798Z",
     "iopub.status.busy": "2021-04-05T10:59:20.534137Z",
     "iopub.status.idle": "2021-04-05T10:59:20.537525Z",
     "shell.execute_reply": "2021-04-05T10:59:20.536935Z"
    },
    "papermill": {
     "duration": 0.061236,
     "end_time": "2021-04-05T10:59:20.537662",
     "exception": false,
     "start_time": "2021-04-05T10:59:20.476426",
     "status": "completed"
    },
    "tags": []
   },
   "outputs": [],
   "source": [
    "data = np.array(data)"
   ]
  },
  {
   "cell_type": "markdown",
   "id": "toxic-franchise",
   "metadata": {
    "papermill": {
     "duration": 0.038457,
     "end_time": "2021-04-05T10:59:20.614621",
     "exception": false,
     "start_time": "2021-04-05T10:59:20.576164",
     "status": "completed"
    },
    "tags": []
   },
   "source": [
    "# Label encoding\n",
    "\n",
    "As the dataset is categorical, we need to convert the sentiment labels from Neutral, Negative and Positive to a float type that our model can understand. To achieve this task, we'll implement the to_categorical method from Keras."
   ]
  },
  {
   "cell_type": "code",
   "execution_count": 13,
   "id": "healthy-montreal",
   "metadata": {
    "execution": {
     "iopub.execute_input": "2021-04-05T10:59:20.708010Z",
     "iopub.status.busy": "2021-04-05T10:59:20.707274Z",
     "iopub.status.idle": "2021-04-05T10:59:20.715295Z",
     "shell.execute_reply": "2021-04-05T10:59:20.714808Z"
    },
    "papermill": {
     "duration": 0.062623,
     "end_time": "2021-04-05T10:59:20.715439",
     "exception": false,
     "start_time": "2021-04-05T10:59:20.652816",
     "status": "completed"
    },
    "tags": []
   },
   "outputs": [],
   "source": [
    "labels = np.array(train['sentiment'])\n",
    "y = []\n",
    "for i in range(len(labels)):\n",
    "    if labels[i] == 'neutral':\n",
    "        y.append(0)\n",
    "    if labels[i] == 'negative':\n",
    "        y.append(1)\n",
    "    if labels[i] == 'positive':\n",
    "        y.append(2)\n",
    "y = np.array(y)\n",
    "labels = tf.keras.utils.to_categorical(y, 3, dtype=\"float32\")\n",
    "del y"
   ]
  },
  {
   "cell_type": "markdown",
   "id": "interior-threshold",
   "metadata": {
    "papermill": {
     "duration": 0.038498,
     "end_time": "2021-04-05T10:59:20.792647",
     "exception": false,
     "start_time": "2021-04-05T10:59:20.754149",
     "status": "completed"
    },
    "tags": []
   },
   "source": [
    "# Data sequencing and splitting\n",
    "\n",
    "We'll implement the Keras tokenizer as well as its pad_sequences method to transform our text data into 3D float data, otherwise our neural networks won't be able to be trained on it."
   ]
  },
  {
   "cell_type": "code",
   "execution_count": 14,
   "id": "accepting-camping",
   "metadata": {
    "execution": {
     "iopub.execute_input": "2021-04-05T10:59:20.876288Z",
     "iopub.status.busy": "2021-04-05T10:59:20.875683Z",
     "iopub.status.idle": "2021-04-05T10:59:21.819648Z",
     "shell.execute_reply": "2021-04-05T10:59:21.820405Z"
    },
    "papermill": {
     "duration": 0.989434,
     "end_time": "2021-04-05T10:59:21.820605",
     "exception": false,
     "start_time": "2021-04-05T10:59:20.831171",
     "status": "completed"
    },
    "tags": []
   },
   "outputs": [
    {
     "name": "stdout",
     "output_type": "stream",
     "text": [
      "[[   0    0    0 ...   68  146   41]\n",
      " [   0    0    0 ...    0  397   65]\n",
      " [   0    0    0 ...    0    0   11]\n",
      " ...\n",
      " [   0    0    0 ...  372   10    3]\n",
      " [   0    0    0 ...   24  542    4]\n",
      " [   0    0    0 ... 2424  199  657]]\n"
     ]
    }
   ],
   "source": [
    "from keras.models import Sequential\n",
    "from keras import layers\n",
    "from keras.optimizers import RMSprop,Adam\n",
    "from keras.preprocessing.text import Tokenizer\n",
    "from keras.preprocessing.sequence import pad_sequences\n",
    "from keras import regularizers\n",
    "from keras import backend as K\n",
    "from keras.callbacks import ModelCheckpoint\n",
    "max_words = 5000\n",
    "max_len = 200\n",
    "\n",
    "tokenizer = Tokenizer(num_words=max_words)\n",
    "tokenizer.fit_on_texts(data)\n",
    "sequences = tokenizer.texts_to_sequences(data)\n",
    "tweets = pad_sequences(sequences, maxlen=max_len)\n",
    "print(tweets)"
   ]
  },
  {
   "cell_type": "code",
   "execution_count": 15,
   "id": "surprising-constant",
   "metadata": {
    "execution": {
     "iopub.execute_input": "2021-04-05T10:59:21.906992Z",
     "iopub.status.busy": "2021-04-05T10:59:21.906037Z",
     "iopub.status.idle": "2021-04-05T10:59:21.909242Z",
     "shell.execute_reply": "2021-04-05T10:59:21.909893Z"
    },
    "papermill": {
     "duration": 0.04974,
     "end_time": "2021-04-05T10:59:21.910064",
     "exception": false,
     "start_time": "2021-04-05T10:59:21.860324",
     "status": "completed"
    },
    "tags": []
   },
   "outputs": [
    {
     "name": "stdout",
     "output_type": "stream",
     "text": [
      "[[1. 0. 0.]\n",
      " [0. 1. 0.]\n",
      " [0. 1. 0.]\n",
      " ...\n",
      " [0. 0. 1.]\n",
      " [0. 0. 1.]\n",
      " [1. 0. 0.]]\n"
     ]
    }
   ],
   "source": [
    "print(labels)"
   ]
  },
  {
   "cell_type": "code",
   "execution_count": 16,
   "id": "offensive-duplicate",
   "metadata": {
    "execution": {
     "iopub.execute_input": "2021-04-05T10:59:21.997691Z",
     "iopub.status.busy": "2021-04-05T10:59:21.996535Z",
     "iopub.status.idle": "2021-04-05T10:59:22.018628Z",
     "shell.execute_reply": "2021-04-05T10:59:22.017746Z"
    },
    "papermill": {
     "duration": 0.067729,
     "end_time": "2021-04-05T10:59:22.018819",
     "exception": false,
     "start_time": "2021-04-05T10:59:21.951090",
     "status": "completed"
    },
    "tags": []
   },
   "outputs": [
    {
     "name": "stdout",
     "output_type": "stream",
     "text": [
      "20610 6871 20610 6871\n"
     ]
    }
   ],
   "source": [
    "#Splitting the data\n",
    "X_train, X_test, y_train, y_test = train_test_split(tweets,labels, random_state=0)\n",
    "print (len(X_train),len(X_test),len(y_train),len(y_test))"
   ]
  },
  {
   "cell_type": "markdown",
   "id": "interracial-proposition",
   "metadata": {
    "papermill": {
     "duration": 0.039784,
     "end_time": "2021-04-05T10:59:22.099066",
     "exception": false,
     "start_time": "2021-04-05T10:59:22.059282",
     "status": "completed"
    },
    "tags": []
   },
   "source": [
    "# Model building"
   ]
  },
  {
   "cell_type": "markdown",
   "id": "changed-campaign",
   "metadata": {
    "papermill": {
     "duration": 0.040626,
     "end_time": "2021-04-05T10:59:22.182625",
     "exception": false,
     "start_time": "2021-04-05T10:59:22.141999",
     "status": "completed"
    },
    "tags": []
   },
   "source": [
    "## Model 1: SingleLSTM"
   ]
  },
  {
   "cell_type": "code",
   "execution_count": 17,
   "id": "deluxe-denial",
   "metadata": {
    "execution": {
     "iopub.execute_input": "2021-04-05T10:59:22.269312Z",
     "iopub.status.busy": "2021-04-05T10:59:22.268704Z",
     "iopub.status.idle": "2021-04-05T11:00:09.613344Z",
     "shell.execute_reply": "2021-04-05T11:00:09.612425Z"
    },
    "papermill": {
     "duration": 47.391226,
     "end_time": "2021-04-05T11:00:09.613540",
     "exception": false,
     "start_time": "2021-04-05T10:59:22.222314",
     "status": "completed"
    },
    "tags": []
   },
   "outputs": [
    {
     "name": "stdout",
     "output_type": "stream",
     "text": [
      "645/645 [==============================] - 47s 69ms/step - loss: 0.9001 - accuracy: 0.5861 - val_loss: 0.6438 - val_accuracy: 0.7450\n",
      "\n",
      "Epoch 00001: val_accuracy improved from -inf to 0.74502, saving model to best_model1.hdf5\n"
     ]
    }
   ],
   "source": [
    "model1 = Sequential()\n",
    "model1.add(layers.Embedding(max_words, 20))\n",
    "model1.add(layers.LSTM(15,dropout=0.5))\n",
    "model1.add(layers.Dense(3,activation='softmax'))\n",
    "\n",
    "\n",
    "model1.compile(optimizer='rmsprop',loss='categorical_crossentropy', metrics=['accuracy'])\n",
    "#Implementing model checkpoins to save the best metric and do not lose it on training.\n",
    "checkpoint1 = ModelCheckpoint(\"best_model1.hdf5\", monitor='val_accuracy', verbose=1,save_best_only=True, mode='auto', period=1,save_weights_only=False)\n",
    "history = model1.fit(X_train, y_train, epochs=1,validation_data=(X_test, y_test),callbacks=[checkpoint1])"
   ]
  },
  {
   "cell_type": "markdown",
   "id": "adapted-village",
   "metadata": {
    "papermill": {
     "duration": 0.189509,
     "end_time": "2021-04-05T11:00:09.991724",
     "exception": false,
     "start_time": "2021-04-05T11:00:09.802215",
     "status": "completed"
    },
    "tags": []
   },
   "source": [
    "## Model 2: Bidirectional LSTM"
   ]
  },
  {
   "cell_type": "code",
   "execution_count": 18,
   "id": "stylish-rough",
   "metadata": {
    "execution": {
     "iopub.execute_input": "2021-04-05T11:00:10.381020Z",
     "iopub.status.busy": "2021-04-05T11:00:10.380343Z",
     "iopub.status.idle": "2021-04-05T11:01:14.450830Z",
     "shell.execute_reply": "2021-04-05T11:01:14.450299Z"
    },
    "papermill": {
     "duration": 64.267868,
     "end_time": "2021-04-05T11:01:14.450985",
     "exception": false,
     "start_time": "2021-04-05T11:00:10.183117",
     "status": "completed"
    },
    "tags": []
   },
   "outputs": [
    {
     "name": "stdout",
     "output_type": "stream",
     "text": [
      "645/645 [==============================] - 63s 93ms/step - loss: 0.8774 - accuracy: 0.5977 - val_loss: 0.6717 - val_accuracy: 0.7041\n",
      "\n",
      "Epoch 00001: val_accuracy improved from -inf to 0.70412, saving model to best_model2.hdf5\n"
     ]
    }
   ],
   "source": [
    "model2 = Sequential()\n",
    "model2.add(layers.Embedding(max_words, 40, input_length=max_len))\n",
    "model2.add(layers.Bidirectional(layers.LSTM(20,dropout=0.6)))\n",
    "model2.add(layers.Dense(3,activation='softmax'))\n",
    "model2.compile(optimizer='rmsprop',loss='categorical_crossentropy', metrics=['accuracy'])\n",
    "#Implementing model checkpoins to save the best metric and do not lose it on training.\n",
    "#model2 = keras.models.load_model('./best_model2.hdf5')\n",
    "checkpoint2 = ModelCheckpoint(\"best_model2.hdf5\", monitor='val_accuracy', verbose=1,save_best_only=True, mode='auto', period=1,save_weights_only=False)\n",
    "history = model2.fit(X_train, y_train, epochs=1,validation_data=(X_test, y_test),callbacks=[checkpoint2])"
   ]
  },
  {
   "cell_type": "markdown",
   "id": "certain-omaha",
   "metadata": {
    "papermill": {
     "duration": 0.339916,
     "end_time": "2021-04-05T11:01:15.127242",
     "exception": false,
     "start_time": "2021-04-05T11:01:14.787326",
     "status": "completed"
    },
    "tags": []
   },
   "source": [
    "## Model 3: One-dimensional Convolutional Neural Network\n",
    "\n"
   ]
  },
  {
   "cell_type": "code",
   "execution_count": 19,
   "id": "dedicated-hunger",
   "metadata": {
    "execution": {
     "iopub.execute_input": "2021-04-05T11:01:15.808688Z",
     "iopub.status.busy": "2021-04-05T11:01:15.805148Z",
     "iopub.status.idle": "2021-04-05T11:01:24.412171Z",
     "shell.execute_reply": "2021-04-05T11:01:24.411377Z"
    },
    "papermill": {
     "duration": 8.948231,
     "end_time": "2021-04-05T11:01:24.412351",
     "exception": false,
     "start_time": "2021-04-05T11:01:15.464120",
     "status": "completed"
    },
    "tags": []
   },
   "outputs": [
    {
     "name": "stdout",
     "output_type": "stream",
     "text": [
      "645/645 [==============================] - 8s 12ms/step - loss: 1.2502 - acc: 0.5267 - val_loss: 0.9676 - val_acc: 0.5992\n"
     ]
    }
   ],
   "source": [
    "from keras import regularizers\n",
    "model3 = Sequential()\n",
    "model3.add(layers.Embedding(max_words, 40, input_length=max_len))\n",
    "model3.add(layers.Conv1D(20, 6, activation='relu',kernel_regularizer=regularizers.l1_l2(l1=2e-3, l2=2e-3),bias_regularizer=regularizers.l2(2e-3)))\n",
    "model3.add(layers.MaxPooling1D(5))\n",
    "model3.add(layers.Conv1D(20, 6, activation='relu',kernel_regularizer=regularizers.l1_l2(l1=2e-3, l2=2e-3),bias_regularizer=regularizers.l2(2e-3)))\n",
    "model3.add(layers.GlobalMaxPooling1D())\n",
    "model3.add(layers.Dense(3,activation='softmax'))\n",
    "model3.compile(optimizer='rmsprop',loss='categorical_crossentropy',metrics=['acc'])\n",
    "checkpoint3 = ModelCheckpoint(\"best_model3.hdf5\", monitor='val_accuracy', verbose=1,save_best_only=True, mode='auto', period=1,save_weights_only=False)\n",
    "history = model3.fit(X_train, y_train, epochs=1,validation_data=(X_test, y_test),callbacks=[checkpoint3])"
   ]
  },
  {
   "cell_type": "markdown",
   "id": "weighted-ethnic",
   "metadata": {
    "papermill": {
     "duration": 0.378534,
     "end_time": "2021-04-05T11:01:25.234238",
     "exception": false,
     "start_time": "2021-04-05T11:01:24.855704",
     "status": "completed"
    },
    "tags": []
   },
   "source": [
    "If you check the val_accuracy metric in the training logs you won't find better score than the one achieved by the BidRNN. Again, the previous model is not the best for this task becaue is majorly used for short translation tasks, but the good thing to notice is its speed to train.\n",
    "\n",
    "Let's move on."
   ]
  },
  {
   "cell_type": "markdown",
   "id": "crucial-choir",
   "metadata": {
    "papermill": {
     "duration": 0.374869,
     "end_time": "2021-04-05T11:01:25.980069",
     "exception": false,
     "start_time": "2021-04-05T11:01:25.605200",
     "status": "completed"
    },
    "tags": []
   },
   "source": [
    "# Best model validation\n",
    "\n",
    "Running the training has shown that Bidirectional RNN provides best accuracy.\n",
    "Because of that, that's the network we're going to choose for our sentiment analysis."
   ]
  },
  {
   "cell_type": "code",
   "execution_count": 20,
   "id": "settled-brazilian",
   "metadata": {
    "execution": {
     "iopub.execute_input": "2021-04-05T11:01:26.726238Z",
     "iopub.status.busy": "2021-04-05T11:01:26.725572Z",
     "iopub.status.idle": "2021-04-05T11:01:27.249352Z",
     "shell.execute_reply": "2021-04-05T11:01:27.248705Z"
    },
    "papermill": {
     "duration": 0.897048,
     "end_time": "2021-04-05T11:01:27.249543",
     "exception": false,
     "start_time": "2021-04-05T11:01:26.352495",
     "status": "completed"
    },
    "tags": []
   },
   "outputs": [],
   "source": [
    "#Let's load the best model obtained during training\n",
    "best_model = keras.models.load_model(\"./best_model2.hdf5\")"
   ]
  },
  {
   "cell_type": "code",
   "execution_count": 21,
   "id": "korean-screen",
   "metadata": {
    "execution": {
     "iopub.execute_input": "2021-04-05T11:01:27.992228Z",
     "iopub.status.busy": "2021-04-05T11:01:27.991390Z",
     "iopub.status.idle": "2021-04-05T11:01:32.436989Z",
     "shell.execute_reply": "2021-04-05T11:01:32.437403Z"
    },
    "papermill": {
     "duration": 4.826548,
     "end_time": "2021-04-05T11:01:32.437606",
     "exception": false,
     "start_time": "2021-04-05T11:01:27.611058",
     "status": "completed"
    },
    "tags": []
   },
   "outputs": [
    {
     "name": "stdout",
     "output_type": "stream",
     "text": [
      "215/215 - 4s - loss: 0.6717 - accuracy: 0.7041\n",
      "Model accuracy:  0.7041187882423401\n"
     ]
    }
   ],
   "source": [
    "test_loss, test_acc = best_model.evaluate(X_test, y_test, verbose=2)\n",
    "print('Model accuracy: ',test_acc)"
   ]
  },
  {
   "cell_type": "code",
   "execution_count": 22,
   "id": "august-blind",
   "metadata": {
    "execution": {
     "iopub.execute_input": "2021-04-05T11:01:33.175544Z",
     "iopub.status.busy": "2021-04-05T11:01:33.174879Z",
     "iopub.status.idle": "2021-04-05T11:01:37.722803Z",
     "shell.execute_reply": "2021-04-05T11:01:37.723261Z"
    },
    "papermill": {
     "duration": 4.920954,
     "end_time": "2021-04-05T11:01:37.723452",
     "exception": false,
     "start_time": "2021-04-05T11:01:32.802498",
     "status": "completed"
    },
    "tags": []
   },
   "outputs": [],
   "source": [
    "predictions = best_model.predict(X_test)"
   ]
  },
  {
   "cell_type": "markdown",
   "id": "endless-ethernet",
   "metadata": {
    "papermill": {
     "duration": 0.364937,
     "end_time": "2021-04-05T11:01:38.453425",
     "exception": false,
     "start_time": "2021-04-05T11:01:38.088488",
     "status": "completed"
    },
    "tags": []
   },
   "source": [
    "## Confusion matrix\n",
    "\n",
    "As accuracy is not a good metric to measure the quality of the model,\n",
    "we are going to plot a confusion matrix:"
   ]
  },
  {
   "cell_type": "code",
   "execution_count": 23,
   "id": "individual-version",
   "metadata": {
    "execution": {
     "iopub.execute_input": "2021-04-05T11:01:39.189902Z",
     "iopub.status.busy": "2021-04-05T11:01:39.188652Z",
     "iopub.status.idle": "2021-04-05T11:01:39.514587Z",
     "shell.execute_reply": "2021-04-05T11:01:39.515132Z"
    },
    "papermill": {
     "duration": 0.69457,
     "end_time": "2021-04-05T11:01:39.515319",
     "exception": false,
     "start_time": "2021-04-05T11:01:38.820749",
     "status": "completed"
    },
    "tags": []
   },
   "outputs": [
    {
     "data": {
      "text/plain": [
       "<AxesSubplot:>"
      ]
     },
     "execution_count": 23,
     "metadata": {},
     "output_type": "execute_result"
    },
    {
     "data": {
      "image/png": "[encoded data removed]",
      "text/plain": [
       "<Figure size 1080x1080 with 2 Axes>"
      ]
     },
     "metadata": {
      "needs_background": "light"
     },
     "output_type": "display_data"
    }
   ],
   "source": [
    "matrix = confusion_matrix(y_test.argmax(axis=1), np.around(predictions, decimals=0).argmax(axis=1))\n",
    "conf_matrix = pd.DataFrame(matrix, index = ['Neutral','Negative','Positive'],columns = ['Neutral','Negative','Positive'])\n",
    "#Normalizing\n",
    "conf_matrix = conf_matrix.astype('float') / conf_matrix.sum(axis=1)[:, np.newaxis]\n",
    "plt.figure(figsize = (15,15))\n",
    "seaborn.heatmap(conf_matrix, annot=True, annot_kws={\"size\": 15})"
   ]
  },
  {
   "cell_type": "markdown",
   "id": "lesser-fireplace",
   "metadata": {
    "papermill": {
     "duration": 0.365595,
     "end_time": "2021-04-05T11:01:40.246801",
     "exception": false,
     "start_time": "2021-04-05T11:01:39.881206",
     "status": "completed"
    },
    "tags": []
   },
   "source": [
    "Again, the model's score is very poor, but keep in mind it hasn't gone through hyperparameter tuning. Let's see how it perfoms on some sample texts:"
   ]
  },
  {
   "cell_type": "code",
   "execution_count": 24,
   "id": "annual-internship",
   "metadata": {
    "execution": {
     "iopub.execute_input": "2021-04-05T11:01:40.977186Z",
     "iopub.status.busy": "2021-04-05T11:01:40.976546Z",
     "iopub.status.idle": "2021-04-05T11:01:40.981518Z",
     "shell.execute_reply": "2021-04-05T11:01:40.980992Z"
    },
    "papermill": {
     "duration": 0.370692,
     "end_time": "2021-04-05T11:01:40.981688",
     "exception": false,
     "start_time": "2021-04-05T11:01:40.610996",
     "status": "completed"
    },
    "tags": []
   },
   "outputs": [],
   "source": [
    "sentiment = ['Neutral','Negative','Positive']"
   ]
  },
  {
   "cell_type": "code",
   "execution_count": 25,
   "id": "cutting-spray",
   "metadata": {
    "execution": {
     "iopub.execute_input": "2021-04-05T11:01:41.718144Z",
     "iopub.status.busy": "2021-04-05T11:01:41.717490Z",
     "iopub.status.idle": "2021-04-05T11:01:41.773315Z",
     "shell.execute_reply": "2021-04-05T11:01:41.773857Z"
    },
    "papermill": {
     "duration": 0.424956,
     "end_time": "2021-04-05T11:01:41.774045",
     "exception": false,
     "start_time": "2021-04-05T11:01:41.349089",
     "status": "completed"
    },
    "tags": []
   },
   "outputs": [
    {
     "data": {
      "text/plain": [
       "'Neutral'"
      ]
     },
     "execution_count": 25,
     "metadata": {},
     "output_type": "execute_result"
    }
   ],
   "source": [
    "sequence = tokenizer.texts_to_sequences(['the trump administration failed to deliver on vaccine promises shocker covidiots coronavirus covidvaccine'])\n",
    "test = pad_sequences(sequence, maxlen=max_len)\n",
    "sentiment[np.around(best_model.predict(test), decimals=0).argmax(axis=1)[0]]"
   ]
  },
  {
   "cell_type": "code",
   "execution_count": 26,
   "id": "other-terminal",
   "metadata": {
    "execution": {
     "iopub.execute_input": "2021-04-05T11:01:42.514183Z",
     "iopub.status.busy": "2021-04-05T11:01:42.513581Z",
     "iopub.status.idle": "2021-04-05T11:01:42.568062Z",
     "shell.execute_reply": "2021-04-05T11:01:42.567602Z"
    },
    "papermill": {
     "duration": 0.427112,
     "end_time": "2021-04-05T11:01:42.568199",
     "exception": false,
     "start_time": "2021-04-05T11:01:42.141087",
     "status": "completed"
    },
    "tags": []
   },
   "outputs": [
    {
     "data": {
      "text/plain": [
       "'Positive'"
      ]
     },
     "execution_count": 26,
     "metadata": {},
     "output_type": "execute_result"
    }
   ],
   "source": [
    "sequence = tokenizer.texts_to_sequences(['this data science article is the best ever'])\n",
    "test = pad_sequences(sequence, maxlen=max_len)\n",
    "sentiment[np.around(best_model.predict(test), decimals=0).argmax(axis=1)[0]]"
   ]
  },
  {
   "cell_type": "code",
   "execution_count": 27,
   "id": "instrumental-metro",
   "metadata": {
    "execution": {
     "iopub.execute_input": "2021-04-05T11:01:43.356309Z",
     "iopub.status.busy": "2021-04-05T11:01:43.354434Z",
     "iopub.status.idle": "2021-04-05T11:01:43.407083Z",
     "shell.execute_reply": "2021-04-05T11:01:43.406491Z"
    },
    "papermill": {
     "duration": 0.469495,
     "end_time": "2021-04-05T11:01:43.407227",
     "exception": false,
     "start_time": "2021-04-05T11:01:42.937732",
     "status": "completed"
    },
    "tags": []
   },
   "outputs": [
    {
     "data": {
      "text/plain": [
       "'Negative'"
      ]
     },
     "execution_count": 27,
     "metadata": {},
     "output_type": "execute_result"
    }
   ],
   "source": [
    "sequence = tokenizer.texts_to_sequences(['i hate youtube ads, they are annoying'])\n",
    "test = pad_sequences(sequence, maxlen=max_len)\n",
    "sentiment[np.around(best_model.predict(test), decimals=0).argmax(axis=1)[0]]"
   ]
  },
  {
   "cell_type": "code",
   "execution_count": 28,
   "id": "swedish-survival",
   "metadata": {
    "execution": {
     "iopub.execute_input": "2021-04-05T11:01:44.162238Z",
     "iopub.status.busy": "2021-04-05T11:01:44.161586Z",
     "iopub.status.idle": "2021-04-05T11:01:44.211010Z",
     "shell.execute_reply": "2021-04-05T11:01:44.210400Z"
    },
    "papermill": {
     "duration": 0.425343,
     "end_time": "2021-04-05T11:01:44.211154",
     "exception": false,
     "start_time": "2021-04-05T11:01:43.785811",
     "status": "completed"
    },
    "tags": []
   },
   "outputs": [
    {
     "data": {
      "text/plain": [
       "'Neutral'"
      ]
     },
     "execution_count": 28,
     "metadata": {},
     "output_type": "execute_result"
    }
   ],
   "source": [
    "sequence = tokenizer.texts_to_sequences(['i really loved how the technician helped me with the issue that i had'])\n",
    "test = pad_sequences(sequence, maxlen=max_len)\n",
    "sentiment[np.around(best_model.predict(test), decimals=0).argmax(axis=1)[0]]"
   ]
  },
  {
   "cell_type": "markdown",
   "id": "ambient-helena",
   "metadata": {
    "papermill": {
     "duration": 0.368418,
     "end_time": "2021-04-05T11:01:44.945232",
     "exception": false,
     "start_time": "2021-04-05T11:01:44.576814",
     "status": "completed"
    },
    "tags": []
   },
   "source": [
    "Applying the model to COVID-19 Vaccination set"
   ]
  },
  {
   "cell_type": "markdown",
   "id": "polar-flooring",
   "metadata": {
    "papermill": {
     "duration": 0.366814,
     "end_time": "2021-04-05T11:01:45.680937",
     "exception": false,
     "start_time": "2021-04-05T11:01:45.314123",
     "status": "completed"
    },
    "tags": []
   },
   "source": [
    "# COVID-19 Vaccination set\n",
    "\n",
    "\n"
   ]
  },
  {
   "cell_type": "markdown",
   "id": "heated-consolidation",
   "metadata": {
    "papermill": {
     "duration": 0.366226,
     "end_time": "2021-04-05T11:01:46.415524",
     "exception": false,
     "start_time": "2021-04-05T11:01:46.049298",
     "status": "completed"
    },
    "tags": []
   },
   "source": [
    "## Load set"
   ]
  },
  {
   "cell_type": "code",
   "execution_count": 29,
   "id": "revised-roman",
   "metadata": {
    "execution": {
     "iopub.execute_input": "2021-04-05T11:01:47.192700Z",
     "iopub.status.busy": "2021-04-05T11:01:47.191934Z",
     "iopub.status.idle": "2021-04-05T11:01:47.842141Z",
     "shell.execute_reply": "2021-04-05T11:01:47.841621Z"
    },
    "papermill": {
     "duration": 1.022708,
     "end_time": "2021-04-05T11:01:47.842299",
     "exception": false,
     "start_time": "2021-04-05T11:01:46.819591",
     "status": "completed"
    },
    "tags": []
   },
   "outputs": [
    {
     "data": {
      "text/html": [
       "<div>\n",
       "<style scoped>\n",
       "    .dataframe tbody tr th:only-of-type {\n",
       "        vertical-align: middle;\n",
       "    }\n",
       "\n",
       "    .dataframe tbody tr th {\n",
       "        vertical-align: top;\n",
       "    }\n",
       "\n",
       "    .dataframe thead th {\n",
       "        text-align: right;\n",
       "    }\n",
       "</style>\n",
       "<table border=\"1\" class=\"dataframe\">\n",
       "  <thead>\n",
       "    <tr style=\"text-align: right;\">\n",
       "      <th></th>\n",
       "      <th>id</th>\n",
       "      <th>user_name</th>\n",
       "      <th>user_location</th>\n",
       "      <th>user_description</th>\n",
       "      <th>user_created</th>\n",
       "      <th>user_followers</th>\n",
       "      <th>user_friends</th>\n",
       "      <th>user_favourites</th>\n",
       "      <th>user_verified</th>\n",
       "      <th>date</th>\n",
       "      <th>text</th>\n",
       "      <th>hashtags</th>\n",
       "      <th>source</th>\n",
       "      <th>retweets</th>\n",
       "      <th>favorites</th>\n",
       "      <th>is_retweet</th>\n",
       "    </tr>\n",
       "  </thead>\n",
       "  <tbody>\n",
       "    <tr>\n",
       "      <th>0</th>\n",
       "      <td>1340539111971516416</td>\n",
       "      <td>Rachel Roh</td>\n",
       "      <td>La Crescenta-Montrose, CA</td>\n",
       "      <td>Aggregator of Asian American news; scanning di...</td>\n",
       "      <td>2009-04-08 17:52:46</td>\n",
       "      <td>405</td>\n",
       "      <td>1692</td>\n",
       "      <td>3247</td>\n",
       "      <td>False</td>\n",
       "      <td>2020-12-20 06:06:44</td>\n",
       "      <td>Same folks said daikon paste could treat a cyt...</td>\n",
       "      <td>['PfizerBioNTech']</td>\n",
       "      <td>Twitter for Android</td>\n",
       "      <td>0</td>\n",
       "      <td>0</td>\n",
       "      <td>False</td>\n",
       "    </tr>\n",
       "    <tr>\n",
       "      <th>1</th>\n",
       "      <td>1338158543359250433</td>\n",
       "      <td>Albert Fong</td>\n",
       "      <td>San Francisco, CA</td>\n",
       "      <td>Marketing dude, tech geek, heavy metal &amp; '80s ...</td>\n",
       "      <td>2009-09-21 15:27:30</td>\n",
       "      <td>834</td>\n",
       "      <td>666</td>\n",
       "      <td>178</td>\n",
       "      <td>False</td>\n",
       "      <td>2020-12-13 16:27:13</td>\n",
       "      <td>While the world has been on the wrong side of ...</td>\n",
       "      <td>NaN</td>\n",
       "      <td>Twitter Web App</td>\n",
       "      <td>1</td>\n",
       "      <td>1</td>\n",
       "      <td>False</td>\n",
       "    </tr>\n",
       "    <tr>\n",
       "      <th>2</th>\n",
       "      <td>1337858199140118533</td>\n",
       "      <td>eli🇱🇹🇪🇺👌</td>\n",
       "      <td>Your Bed</td>\n",
       "      <td>heil, hydra 🖐☺</td>\n",
       "      <td>2020-06-25 23:30:28</td>\n",
       "      <td>10</td>\n",
       "      <td>88</td>\n",
       "      <td>155</td>\n",
       "      <td>False</td>\n",
       "      <td>2020-12-12 20:33:45</td>\n",
       "      <td>#coronavirus #SputnikV #AstraZeneca #PfizerBio...</td>\n",
       "      <td>['coronavirus', 'SputnikV', 'AstraZeneca', 'Pf...</td>\n",
       "      <td>Twitter for Android</td>\n",
       "      <td>0</td>\n",
       "      <td>0</td>\n",
       "      <td>False</td>\n",
       "    </tr>\n",
       "    <tr>\n",
       "      <th>3</th>\n",
       "      <td>1337855739918835717</td>\n",
       "      <td>Charles Adler</td>\n",
       "      <td>Vancouver, BC - Canada</td>\n",
       "      <td>Hosting \"CharlesAdlerTonight\" Global News Radi...</td>\n",
       "      <td>2008-09-10 11:28:53</td>\n",
       "      <td>49165</td>\n",
       "      <td>3933</td>\n",
       "      <td>21853</td>\n",
       "      <td>True</td>\n",
       "      <td>2020-12-12 20:23:59</td>\n",
       "      <td>Facts are immutable, Senator, even when you're...</td>\n",
       "      <td>NaN</td>\n",
       "      <td>Twitter Web App</td>\n",
       "      <td>446</td>\n",
       "      <td>2129</td>\n",
       "      <td>False</td>\n",
       "    </tr>\n",
       "    <tr>\n",
       "      <th>4</th>\n",
       "      <td>1337854064604966912</td>\n",
       "      <td>Citizen News Channel</td>\n",
       "      <td>NaN</td>\n",
       "      <td>Citizen News Channel bringing you an alternati...</td>\n",
       "      <td>2020-04-23 17:58:42</td>\n",
       "      <td>152</td>\n",
       "      <td>580</td>\n",
       "      <td>1473</td>\n",
       "      <td>False</td>\n",
       "      <td>2020-12-12 20:17:19</td>\n",
       "      <td>Explain to me again why we need a vaccine @Bor...</td>\n",
       "      <td>['whereareallthesickpeople', 'PfizerBioNTech']</td>\n",
       "      <td>Twitter for iPhone</td>\n",
       "      <td>0</td>\n",
       "      <td>0</td>\n",
       "      <td>False</td>\n",
       "    </tr>\n",
       "    <tr>\n",
       "      <th>5</th>\n",
       "      <td>1337852648389832708</td>\n",
       "      <td>Dee</td>\n",
       "      <td>Birmingham, England</td>\n",
       "      <td>Gastroenterology trainee, Clinical Research Fe...</td>\n",
       "      <td>2020-01-26 21:43:12</td>\n",
       "      <td>105</td>\n",
       "      <td>108</td>\n",
       "      <td>106</td>\n",
       "      <td>False</td>\n",
       "      <td>2020-12-12 20:11:42</td>\n",
       "      <td>Does anyone have any useful advice/guidance fo...</td>\n",
       "      <td>NaN</td>\n",
       "      <td>Twitter for iPhone</td>\n",
       "      <td>0</td>\n",
       "      <td>0</td>\n",
       "      <td>False</td>\n",
       "    </tr>\n",
       "    <tr>\n",
       "      <th>6</th>\n",
       "      <td>1337851215875608579</td>\n",
       "      <td>Gunther Fehlinger</td>\n",
       "      <td>Austria, Ukraine and Kosovo</td>\n",
       "      <td>End North Stream 2 now - the pipeline of corru...</td>\n",
       "      <td>2013-06-10 17:49:22</td>\n",
       "      <td>2731</td>\n",
       "      <td>5001</td>\n",
       "      <td>69344</td>\n",
       "      <td>False</td>\n",
       "      <td>2020-12-12 20:06:00</td>\n",
       "      <td>it is a bit sad to claim the fame for success ...</td>\n",
       "      <td>['vaccination']</td>\n",
       "      <td>Twitter Web App</td>\n",
       "      <td>0</td>\n",
       "      <td>4</td>\n",
       "      <td>False</td>\n",
       "    </tr>\n",
       "    <tr>\n",
       "      <th>7</th>\n",
       "      <td>1337850832256176136</td>\n",
       "      <td>Dr.Krutika Kuppalli</td>\n",
       "      <td>NaN</td>\n",
       "      <td>ID, Global Health, VHF, Pandemic Prep, Emergin...</td>\n",
       "      <td>2019-03-25 04:14:29</td>\n",
       "      <td>21924</td>\n",
       "      <td>593</td>\n",
       "      <td>7815</td>\n",
       "      <td>True</td>\n",
       "      <td>2020-12-12 20:04:29</td>\n",
       "      <td>There have not been many bright days in 2020 b...</td>\n",
       "      <td>['BidenHarris', 'Election2020']</td>\n",
       "      <td>Twitter for iPhone</td>\n",
       "      <td>2</td>\n",
       "      <td>22</td>\n",
       "      <td>False</td>\n",
       "    </tr>\n",
       "    <tr>\n",
       "      <th>8</th>\n",
       "      <td>1337850023531347969</td>\n",
       "      <td>Erin Despas</td>\n",
       "      <td>NaN</td>\n",
       "      <td>Designing&amp;selling on Teespring. Like 90s Disne...</td>\n",
       "      <td>2009-10-30 17:53:54</td>\n",
       "      <td>887</td>\n",
       "      <td>1515</td>\n",
       "      <td>9639</td>\n",
       "      <td>False</td>\n",
       "      <td>2020-12-12 20:01:16</td>\n",
       "      <td>Covid vaccine; You getting it?\\n\\n #CovidVacci...</td>\n",
       "      <td>['CovidVaccine', 'covid19', 'PfizerBioNTech', ...</td>\n",
       "      <td>Twitter Web App</td>\n",
       "      <td>2</td>\n",
       "      <td>1</td>\n",
       "      <td>False</td>\n",
       "    </tr>\n",
       "    <tr>\n",
       "      <th>9</th>\n",
       "      <td>1337842295857623042</td>\n",
       "      <td>Ch.Amjad Ali</td>\n",
       "      <td>Islamabad</td>\n",
       "      <td>#ProudPakistani #LovePakArmy #PMIK @insafiansp...</td>\n",
       "      <td>2012-11-12 04:18:12</td>\n",
       "      <td>671</td>\n",
       "      <td>2368</td>\n",
       "      <td>20469</td>\n",
       "      <td>False</td>\n",
       "      <td>2020-12-12 19:30:33</td>\n",
       "      <td>#CovidVaccine \\n\\nStates will start getting #C...</td>\n",
       "      <td>['CovidVaccine', 'COVID19Vaccine', 'US', 'paku...</td>\n",
       "      <td>Twitter Web App</td>\n",
       "      <td>0</td>\n",
       "      <td>0</td>\n",
       "      <td>False</td>\n",
       "    </tr>\n",
       "  </tbody>\n",
       "</table>\n",
       "</div>"
      ],
      "text/plain": [
       "                    id             user_name                user_location  \\\n",
       "0  1340539111971516416            Rachel Roh    La Crescenta-Montrose, CA   \n",
       "1  1338158543359250433           Albert Fong            San Francisco, CA   \n",
       "2  1337858199140118533              eli🇱🇹🇪🇺👌                     Your Bed   \n",
       "3  1337855739918835717         Charles Adler       Vancouver, BC - Canada   \n",
       "4  1337854064604966912  Citizen News Channel                          NaN   \n",
       "5  1337852648389832708                   Dee          Birmingham, England   \n",
       "6  1337851215875608579     Gunther Fehlinger  Austria, Ukraine and Kosovo   \n",
       "7  1337850832256176136   Dr.Krutika Kuppalli                          NaN   \n",
       "8  1337850023531347969           Erin Despas                          NaN   \n",
       "9  1337842295857623042          Ch.Amjad Ali                    Islamabad   \n",
       "\n",
       "                                    user_description         user_created  \\\n",
       "0  Aggregator of Asian American news; scanning di...  2009-04-08 17:52:46   \n",
       "1  Marketing dude, tech geek, heavy metal & '80s ...  2009-09-21 15:27:30   \n",
       "2                                     heil, hydra 🖐☺  2020-06-25 23:30:28   \n",
       "3  Hosting \"CharlesAdlerTonight\" Global News Radi...  2008-09-10 11:28:53   \n",
       "4  Citizen News Channel bringing you an alternati...  2020-04-23 17:58:42   \n",
       "5  Gastroenterology trainee, Clinical Research Fe...  2020-01-26 21:43:12   \n",
       "6  End North Stream 2 now - the pipeline of corru...  2013-06-10 17:49:22   \n",
       "7  ID, Global Health, VHF, Pandemic Prep, Emergin...  2019-03-25 04:14:29   \n",
       "8  Designing&selling on Teespring. Like 90s Disne...  2009-10-30 17:53:54   \n",
       "9  #ProudPakistani #LovePakArmy #PMIK @insafiansp...  2012-11-12 04:18:12   \n",
       "\n",
       "   user_followers  user_friends  user_favourites  user_verified  \\\n",
       "0             405          1692             3247          False   \n",
       "1             834           666              178          False   \n",
       "2              10            88              155          False   \n",
       "3           49165          3933            21853           True   \n",
       "4             152           580             1473          False   \n",
       "5             105           108              106          False   \n",
       "6            2731          5001            69344          False   \n",
       "7           21924           593             7815           True   \n",
       "8             887          1515             9639          False   \n",
       "9             671          2368            20469          False   \n",
       "\n",
       "                  date                                               text  \\\n",
       "0  2020-12-20 06:06:44  Same folks said daikon paste could treat a cyt...   \n",
       "1  2020-12-13 16:27:13  While the world has been on the wrong side of ...   \n",
       "2  2020-12-12 20:33:45  #coronavirus #SputnikV #AstraZeneca #PfizerBio...   \n",
       "3  2020-12-12 20:23:59  Facts are immutable, Senator, even when you're...   \n",
       "4  2020-12-12 20:17:19  Explain to me again why we need a vaccine @Bor...   \n",
       "5  2020-12-12 20:11:42  Does anyone have any useful advice/guidance fo...   \n",
       "6  2020-12-12 20:06:00  it is a bit sad to claim the fame for success ...   \n",
       "7  2020-12-12 20:04:29  There have not been many bright days in 2020 b...   \n",
       "8  2020-12-12 20:01:16  Covid vaccine; You getting it?\\n\\n #CovidVacci...   \n",
       "9  2020-12-12 19:30:33  #CovidVaccine \\n\\nStates will start getting #C...   \n",
       "\n",
       "                                            hashtags               source  \\\n",
       "0                                 ['PfizerBioNTech']  Twitter for Android   \n",
       "1                                                NaN      Twitter Web App   \n",
       "2  ['coronavirus', 'SputnikV', 'AstraZeneca', 'Pf...  Twitter for Android   \n",
       "3                                                NaN      Twitter Web App   \n",
       "4     ['whereareallthesickpeople', 'PfizerBioNTech']   Twitter for iPhone   \n",
       "5                                                NaN   Twitter for iPhone   \n",
       "6                                    ['vaccination']      Twitter Web App   \n",
       "7                    ['BidenHarris', 'Election2020']   Twitter for iPhone   \n",
       "8  ['CovidVaccine', 'covid19', 'PfizerBioNTech', ...      Twitter Web App   \n",
       "9  ['CovidVaccine', 'COVID19Vaccine', 'US', 'paku...      Twitter Web App   \n",
       "\n",
       "   retweets  favorites  is_retweet  \n",
       "0         0          0       False  \n",
       "1         1          1       False  \n",
       "2         0          0       False  \n",
       "3       446       2129       False  \n",
       "4         0          0       False  \n",
       "5         0          0       False  \n",
       "6         0          4       False  \n",
       "7         2         22       False  \n",
       "8         2          1       False  \n",
       "9         0          0       False  "
      ]
     },
     "execution_count": 29,
     "metadata": {},
     "output_type": "execute_result"
    }
   ],
   "source": [
    "covidtweets = pd.read_csv('../input/all-covid19-vaccines-tweets/vaccination_all_tweets.csv')\n",
    "covidtweets.head(10)"
   ]
  },
  {
   "cell_type": "markdown",
   "id": "meaning-assumption",
   "metadata": {
    "papermill": {
     "duration": 0.371876,
     "end_time": "2021-04-05T11:01:48.588446",
     "exception": false,
     "start_time": "2021-04-05T11:01:48.216570",
     "status": "completed"
    },
    "tags": []
   },
   "source": [
    "Let's examine the columns:"
   ]
  },
  {
   "cell_type": "code",
   "execution_count": 30,
   "id": "still-shannon",
   "metadata": {
    "execution": {
     "iopub.execute_input": "2021-04-05T11:01:49.349062Z",
     "iopub.status.busy": "2021-04-05T11:01:49.348384Z",
     "iopub.status.idle": "2021-04-05T11:01:49.495127Z",
     "shell.execute_reply": "2021-04-05T11:01:49.495600Z"
    },
    "papermill": {
     "duration": 0.532132,
     "end_time": "2021-04-05T11:01:49.495787",
     "exception": false,
     "start_time": "2021-04-05T11:01:48.963655",
     "status": "completed"
    },
    "tags": []
   },
   "outputs": [
    {
     "name": "stdout",
     "output_type": "stream",
     "text": [
      "46059\n",
      "25553\n",
      "9345\n",
      "24494\n",
      "25871\n",
      "5199\n",
      "16866\n",
      "2\n",
      "45622\n",
      "46018\n",
      "16835\n",
      "171\n",
      "239\n",
      "503\n",
      "1\n"
     ]
    }
   ],
   "source": [
    "print(covidtweets['id'].nunique())\n",
    "print(covidtweets['user_name'].nunique())\n",
    "print(covidtweets['user_location'].nunique())\n",
    "print(covidtweets['user_description'].nunique())\n",
    "print(covidtweets['user_created'].nunique())\n",
    "print(covidtweets['user_friends'].nunique())\n",
    "print(covidtweets['user_favourites'].nunique())\n",
    "print(covidtweets['user_verified'].nunique())\n",
    "print(covidtweets['date'].nunique())\n",
    "print(covidtweets['text'].nunique())\n",
    "print(covidtweets['hashtags'].nunique())\n",
    "print(covidtweets['source'].nunique())\n",
    "print(covidtweets['retweets'].nunique())\n",
    "print(covidtweets['favorites'].nunique())\n",
    "print(covidtweets['is_retweet'].nunique())"
   ]
  },
  {
   "cell_type": "markdown",
   "id": "popular-hebrew",
   "metadata": {
    "papermill": {
     "duration": 0.371677,
     "end_time": "2021-04-05T11:01:50.245959",
     "exception": false,
     "start_time": "2021-04-05T11:01:49.874282",
     "status": "completed"
    },
    "tags": []
   },
   "source": [
    "Is there any null value?"
   ]
  },
  {
   "cell_type": "code",
   "execution_count": 31,
   "id": "renewable-information",
   "metadata": {
    "execution": {
     "iopub.execute_input": "2021-04-05T11:01:50.995683Z",
     "iopub.status.busy": "2021-04-05T11:01:50.995006Z",
     "iopub.status.idle": "2021-04-05T11:01:51.002063Z",
     "shell.execute_reply": "2021-04-05T11:01:51.001409Z"
    },
    "papermill": {
     "duration": 0.385438,
     "end_time": "2021-04-05T11:01:51.002212",
     "exception": false,
     "start_time": "2021-04-05T11:01:50.616774",
     "status": "completed"
    },
    "tags": []
   },
   "outputs": [
    {
     "data": {
      "text/plain": [
       "0"
      ]
     },
     "execution_count": 31,
     "metadata": {},
     "output_type": "execute_result"
    }
   ],
   "source": [
    "covidtweets[\"text\"].isnull().sum()"
   ]
  },
  {
   "cell_type": "markdown",
   "id": "behind-record",
   "metadata": {
    "papermill": {
     "duration": 0.368758,
     "end_time": "2021-04-05T11:01:51.753102",
     "exception": false,
     "start_time": "2021-04-05T11:01:51.384344",
     "status": "completed"
    },
    "tags": []
   },
   "source": [
    "## Pre-processing"
   ]
  },
  {
   "cell_type": "markdown",
   "id": "natural-lindsay",
   "metadata": {
    "papermill": {
     "duration": 0.374381,
     "end_time": "2021-04-05T11:01:52.500026",
     "exception": false,
     "start_time": "2021-04-05T11:01:52.125645",
     "status": "completed"
    },
    "tags": []
   },
   "source": [
    "Just like with training set, we need to pre-process this set with the same rules:"
   ]
  },
  {
   "cell_type": "code",
   "execution_count": 32,
   "id": "martial-compiler",
   "metadata": {
    "execution": {
     "iopub.execute_input": "2021-04-05T11:01:53.266605Z",
     "iopub.status.busy": "2021-04-05T11:01:53.261225Z",
     "iopub.status.idle": "2021-04-05T11:01:54.198329Z",
     "shell.execute_reply": "2021-04-05T11:01:54.197169Z"
    },
    "papermill": {
     "duration": 1.327683,
     "end_time": "2021-04-05T11:01:54.198691",
     "exception": false,
     "start_time": "2021-04-05T11:01:52.871008",
     "status": "completed"
    },
    "tags": []
   },
   "outputs": [
    {
     "data": {
      "text/plain": [
       "['Same folks said daikon paste could treat a cytokine storm #PfizerBioNTech ',\n",
       " 'While the world has been on the wrong side of history this year, hopefully, the biggest vaccination effort weve ev… ',\n",
       " '#coronavirus #SputnikV #AstraZeneca #PfizerBioNTech #Moderna #Covid_19 Russian vaccine is created to last 2-4 years… ',\n",
       " 'Facts are immutable, Senator, even when youre not ethically sturdy enough to acknowledge them. (1) You were born i… ',\n",
       " 'Explain to me again why we need a vaccine #whereareallthesickpeople #PfizerBioNTech… ']"
      ]
     },
     "execution_count": 32,
     "metadata": {},
     "output_type": "execute_result"
    }
   ],
   "source": [
    "temp = []\n",
    "#Splitting pd.Series to list\n",
    "data_to_list = covidtweets[\"text\"].values.tolist()\n",
    "for i in range(len(data_to_list)):\n",
    "    temp.append(depure_data(data_to_list[i]))\n",
    "list(temp[:5])"
   ]
  },
  {
   "cell_type": "code",
   "execution_count": 33,
   "id": "trained-culture",
   "metadata": {
    "execution": {
     "iopub.execute_input": "2021-04-05T11:01:55.019545Z",
     "iopub.status.busy": "2021-04-05T11:01:55.009249Z",
     "iopub.status.idle": "2021-04-05T11:01:57.122425Z",
     "shell.execute_reply": "2021-04-05T11:01:57.121648Z"
    },
    "papermill": {
     "duration": 2.524118,
     "end_time": "2021-04-05T11:01:57.122650",
     "exception": false,
     "start_time": "2021-04-05T11:01:54.598532",
     "status": "completed"
    },
    "tags": []
   },
   "outputs": [
    {
     "name": "stdout",
     "output_type": "stream",
     "text": [
      "[['same', 'folks', 'said', 'daikon', 'paste', 'could', 'treat', 'cytokine', 'storm', 'pfizerbiontech'], ['while', 'the', 'world', 'has', 'been', 'on', 'the', 'wrong', 'side', 'of', 'history', 'this', 'year', 'hopefully', 'the', 'biggest', 'vaccination', 'effort', 'weve', 'ev'], ['coronavirus', 'sputnikv', 'astrazeneca', 'pfizerbiontech', 'moderna', 'covid_', 'russian', 'vaccine', 'is', 'created', 'to', 'last', 'years'], ['facts', 'are', 'immutable', 'senator', 'even', 'when', 'youre', 'not', 'ethically', 'sturdy', 'enough', 'to', 'acknowledge', 'them', 'you', 'were', 'born'], ['explain', 'to', 'me', 'again', 'why', 'we', 'need', 'vaccine', 'pfizerbiontech'], ['does', 'anyone', 'have', 'any', 'useful', 'advice', 'guidance', 'for', 'whether', 'the', 'covid', 'vaccine', 'is', 'safe', 'whilst', 'breastfeeding'], ['it', 'is', 'bit', 'sad', 'to', 'claim', 'the', 'fame', 'for', 'success', 'of', 'vaccination', 'on', 'patriotic', 'competition', 'between', 'usa', 'canada', 'uk', 'and'], ['there', 'have', 'not', 'been', 'many', 'bright', 'days', 'in', 'but', 'here', 'are', 'some', 'of', 'the', 'best', 'bidenharris', 'winning', 'election'], ['covid', 'vaccine', 'you', 'getting', 'it', 'covidvaccine', 'covid', 'pfizerbiontech', 'moderna'], ['covidvaccine', 'states', 'will', 'start', 'getting', 'covid', 'vaccine', 'monday', 'us', 'says', 'pakustv', 'nyc', 'healthcare', 'globalgoals']]\n"
     ]
    }
   ],
   "source": [
    "data_words = list(sent_to_words(temp))\n",
    "print(data_words[:10])"
   ]
  },
  {
   "cell_type": "code",
   "execution_count": 34,
   "id": "primary-exploration",
   "metadata": {
    "execution": {
     "iopub.execute_input": "2021-04-05T11:01:57.906266Z",
     "iopub.status.busy": "2021-04-05T11:01:57.901063Z",
     "iopub.status.idle": "2021-04-05T11:02:02.008621Z",
     "shell.execute_reply": "2021-04-05T11:02:02.007838Z"
    },
    "papermill": {
     "duration": 4.503985,
     "end_time": "2021-04-05T11:02:02.008812",
     "exception": false,
     "start_time": "2021-04-05T11:01:57.504827",
     "status": "completed"
    },
    "tags": []
   },
   "outputs": [
    {
     "name": "stdout",
     "output_type": "stream",
     "text": [
      "['same folks said daikon paste could treat cytokine storm pfizerbiontech', 'while the world has been on the wrong side of history this year hopefully the biggest vaccination effort weve ev', 'coronavirus sputnikv astrazeneca pfizerbiontech moderna covid_ russian vaccine is created to last years', 'facts are immutable senator even when youre not ethically sturdy enough to acknowledge them you were born', 'explain to me again why we need vaccine pfizerbiontech']\n"
     ]
    }
   ],
   "source": [
    "data = []\n",
    "for i in range(len(data_words)):\n",
    "    \n",
    "    #for j in range(len(data_words[i])):\n",
    "        #stemming\n",
    "        #data_words[i][j] = lancaster.stem(data_words[i][j])\n",
    "        #lemmatization\n",
    "        #data_words[i][j] = data_words[i][j].format(data_words[i][j],wordnet_lemmatizer.lemmatize(data_words[i][j]))\n",
    "        \n",
    "    data.append(detokenize(data_words[i]))\n",
    "print(data[:5])"
   ]
  },
  {
   "cell_type": "code",
   "execution_count": 35,
   "id": "burning-block",
   "metadata": {
    "execution": {
     "iopub.execute_input": "2021-04-05T11:02:02.805848Z",
     "iopub.status.busy": "2021-04-05T11:02:02.805188Z",
     "iopub.status.idle": "2021-04-05T11:02:02.823446Z",
     "shell.execute_reply": "2021-04-05T11:02:02.822933Z"
    },
    "papermill": {
     "duration": 0.439147,
     "end_time": "2021-04-05T11:02:02.823602",
     "exception": false,
     "start_time": "2021-04-05T11:02:02.384455",
     "status": "completed"
    },
    "tags": []
   },
   "outputs": [],
   "source": [
    "data = np.array(data)"
   ]
  },
  {
   "cell_type": "markdown",
   "id": "molecular-geometry",
   "metadata": {
    "papermill": {
     "duration": 0.372356,
     "end_time": "2021-04-05T11:02:03.566603",
     "exception": false,
     "start_time": "2021-04-05T11:02:03.194247",
     "status": "completed"
    },
    "tags": []
   },
   "source": [
    "Adding empty sentiment column:"
   ]
  },
  {
   "cell_type": "code",
   "execution_count": 36,
   "id": "robust-certification",
   "metadata": {
    "execution": {
     "iopub.execute_input": "2021-04-05T11:02:04.313758Z",
     "iopub.status.busy": "2021-04-05T11:02:04.313106Z",
     "iopub.status.idle": "2021-04-05T11:02:04.316140Z",
     "shell.execute_reply": "2021-04-05T11:02:04.315433Z"
    },
    "papermill": {
     "duration": 0.379268,
     "end_time": "2021-04-05T11:02:04.316287",
     "exception": false,
     "start_time": "2021-04-05T11:02:03.937019",
     "status": "completed"
    },
    "tags": []
   },
   "outputs": [],
   "source": [
    "covidtweets[\"sentiment\"] = np.nan"
   ]
  },
  {
   "cell_type": "markdown",
   "id": "stylish-railway",
   "metadata": {
    "papermill": {
     "duration": 0.373675,
     "end_time": "2021-04-05T11:02:05.064594",
     "exception": false,
     "start_time": "2021-04-05T11:02:04.690919",
     "status": "completed"
    },
    "tags": []
   },
   "source": [
    "## Applying model to COVID dataset"
   ]
  },
  {
   "cell_type": "code",
   "execution_count": 37,
   "id": "defined-thousand",
   "metadata": {
    "execution": {
     "iopub.execute_input": "2021-04-05T11:02:05.888530Z",
     "iopub.status.busy": "2021-04-05T11:02:05.887605Z",
     "iopub.status.idle": "2021-04-05T11:38:25.966034Z",
     "shell.execute_reply": "2021-04-05T11:38:25.964926Z"
    },
    "papermill": {
     "duration": 2180.486128,
     "end_time": "2021-04-05T11:38:25.966190",
     "exception": false,
     "start_time": "2021-04-05T11:02:05.480062",
     "status": "completed"
    },
    "tags": []
   },
   "outputs": [
    {
     "name": "stdout",
     "output_type": "stream",
     "text": [
      "0 %\n",
      "1 %\n",
      "2 %\n",
      "3 %\n",
      "4 %\n",
      "5 %\n",
      "6 %\n",
      "7 %\n",
      "8 %\n",
      "9 %\n",
      "10 %\n",
      "11 %\n",
      "12 %\n",
      "13 %\n",
      "14 %\n",
      "15 %\n",
      "16 %\n",
      "17 %\n",
      "18 %\n",
      "19 %\n",
      "20 %\n",
      "21 %\n",
      "22 %\n",
      "23 %\n",
      "24 %\n",
      "25 %\n",
      "26 %\n",
      "27 %\n",
      "28 %\n",
      "29 %\n",
      "30 %\n",
      "31 %\n",
      "32 %\n",
      "33 %\n",
      "34 %\n",
      "35 %\n",
      "36 %\n",
      "37 %\n",
      "38 %\n",
      "39 %\n",
      "40 %\n",
      "41 %\n",
      "42 %\n",
      "43 %\n",
      "44 %\n",
      "45 %\n",
      "46 %\n",
      "47 %\n",
      "48 %\n",
      "49 %\n",
      "50 %\n",
      "51 %\n",
      "52 %\n",
      "53 %\n",
      "54 %\n",
      "55 %\n",
      "56 %\n",
      "57 %\n",
      "58 %\n",
      "59 %\n",
      "60 %\n",
      "61 %\n",
      "62 %\n",
      "63 %\n",
      "64 %\n",
      "65 %\n",
      "66 %\n",
      "67 %\n",
      "68 %\n",
      "69 %\n",
      "70 %\n",
      "71 %\n",
      "72 %\n",
      "73 %\n",
      "74 %\n",
      "75 %\n",
      "76 %\n",
      "77 %\n",
      "78 %\n",
      "79 %\n",
      "80 %\n",
      "81 %\n",
      "82 %\n",
      "83 %\n",
      "84 %\n",
      "85 %\n",
      "86 %\n",
      "87 %\n",
      "88 %\n",
      "89 %\n",
      "90 %\n",
      "91 %\n",
      "92 %\n",
      "93 %\n",
      "94 %\n",
      "95 %\n",
      "96 %\n",
      "97 %\n",
      "98 %\n",
      "99 %\n"
     ]
    }
   ],
   "source": [
    "#covidtweets[\"sentiment\"] = best_model.predict_classes(data)]\n",
    "for i in range(len(temp)):\n",
    "    sequence = tokenizer.texts_to_sequences([temp[i]])\n",
    "    test = pad_sequences(sequence, maxlen=max_len)\n",
    "    covidtweets[\"sentiment\"][i] = sentiment[np.around(best_model.predict(test), decimals=0).argmax(axis=1)[0]]\n",
    "    if (i % 461 == 0):\n",
    "        percentage = i/len(temp) * 100\n",
    "        formatted_percentage = \"{:.0f}\".format(percentage)\n",
    "        print(formatted_percentage,\"%\")"
   ]
  },
  {
   "cell_type": "markdown",
   "id": "average-spiritual",
   "metadata": {
    "papermill": {
     "duration": 0.391547,
     "end_time": "2021-04-05T11:38:26.755330",
     "exception": false,
     "start_time": "2021-04-05T11:38:26.363783",
     "status": "completed"
    },
    "tags": []
   },
   "source": [
    "Let's view first 10 results:"
   ]
  },
  {
   "cell_type": "code",
   "execution_count": 38,
   "id": "identified-nudist",
   "metadata": {
    "execution": {
     "iopub.execute_input": "2021-04-05T11:38:27.569508Z",
     "iopub.status.busy": "2021-04-05T11:38:27.568911Z",
     "iopub.status.idle": "2021-04-05T11:38:27.597342Z",
     "shell.execute_reply": "2021-04-05T11:38:27.597811Z"
    },
    "papermill": {
     "duration": 0.441675,
     "end_time": "2021-04-05T11:38:27.597988",
     "exception": false,
     "start_time": "2021-04-05T11:38:27.156313",
     "status": "completed"
    },
    "tags": []
   },
   "outputs": [
    {
     "data": {
      "text/html": [
       "<div>\n",
       "<style scoped>\n",
       "    .dataframe tbody tr th:only-of-type {\n",
       "        vertical-align: middle;\n",
       "    }\n",
       "\n",
       "    .dataframe tbody tr th {\n",
       "        vertical-align: top;\n",
       "    }\n",
       "\n",
       "    .dataframe thead th {\n",
       "        text-align: right;\n",
       "    }\n",
       "</style>\n",
       "<table border=\"1\" class=\"dataframe\">\n",
       "  <thead>\n",
       "    <tr style=\"text-align: right;\">\n",
       "      <th></th>\n",
       "      <th>text</th>\n",
       "      <th>sentiment</th>\n",
       "    </tr>\n",
       "  </thead>\n",
       "  <tbody>\n",
       "    <tr>\n",
       "      <th>0</th>\n",
       "      <td>Same folks said daikon paste could treat a cytokine storm #PfizerBioNTech https://t.co/xeHhIMg1kF</td>\n",
       "      <td>Neutral</td>\n",
       "    </tr>\n",
       "    <tr>\n",
       "      <th>1</th>\n",
       "      <td>While the world has been on the wrong side of history this year, hopefully, the biggest vaccination effort we've ev… https://t.co/dlCHrZjkhm</td>\n",
       "      <td>Neutral</td>\n",
       "    </tr>\n",
       "    <tr>\n",
       "      <th>2</th>\n",
       "      <td>#coronavirus #SputnikV #AstraZeneca #PfizerBioNTech #Moderna #Covid_19 Russian vaccine is created to last 2-4 years… https://t.co/ieYlCKBr8P</td>\n",
       "      <td>Neutral</td>\n",
       "    </tr>\n",
       "    <tr>\n",
       "      <th>3</th>\n",
       "      <td>Facts are immutable, Senator, even when you're not ethically sturdy enough to acknowledge them. (1) You were born i… https://t.co/jqgV18kch4</td>\n",
       "      <td>Neutral</td>\n",
       "    </tr>\n",
       "    <tr>\n",
       "      <th>4</th>\n",
       "      <td>Explain to me again why we need a vaccine @BorisJohnson @MattHancock #whereareallthesickpeople #PfizerBioNTech… https://t.co/KxbSRoBEHq</td>\n",
       "      <td>Neutral</td>\n",
       "    </tr>\n",
       "    <tr>\n",
       "      <th>5</th>\n",
       "      <td>Does anyone have any useful advice/guidance for whether the COVID vaccine is safe whilst breastfeeding?… https://t.co/EifsyQoeKN</td>\n",
       "      <td>Neutral</td>\n",
       "    </tr>\n",
       "    <tr>\n",
       "      <th>6</th>\n",
       "      <td>it is a bit sad to claim the fame for success of #vaccination on patriotic competition between USA, Canada, UK and… https://t.co/IfMrAyGyTP</td>\n",
       "      <td>Neutral</td>\n",
       "    </tr>\n",
       "    <tr>\n",
       "      <th>7</th>\n",
       "      <td>There have not been many bright days in 2020 but here are some of the best \\n1. #BidenHarris winning #Election2020… https://t.co/77u4f8XXfx</td>\n",
       "      <td>Neutral</td>\n",
       "    </tr>\n",
       "    <tr>\n",
       "      <th>8</th>\n",
       "      <td>Covid vaccine; You getting it?\\n\\n #CovidVaccine #covid19 #PfizerBioNTech #Moderna</td>\n",
       "      <td>Positive</td>\n",
       "    </tr>\n",
       "    <tr>\n",
       "      <th>9</th>\n",
       "      <td>#CovidVaccine \\n\\nStates will start getting #COVID19Vaccine Monday, #US says \\n#pakustv #NYC #Healthcare #GlobalGoals… https://t.co/MksOvBvs5w</td>\n",
       "      <td>Neutral</td>\n",
       "    </tr>\n",
       "    <tr>\n",
       "      <th>10</th>\n",
       "      <td>while deaths are closing in on the 300,000 mark... millions of people wait #PfizerBioNTech #Vaccine !\\n-\\nThe first U… https://t.co/uQ3A2f7SVP</td>\n",
       "      <td>Neutral</td>\n",
       "    </tr>\n",
       "    <tr>\n",
       "      <th>11</th>\n",
       "      <td>@cnnbrk #COVID19 #CovidVaccine #vaccine #Corona   #PfizerBioNTech #bbcnews #NYTimes #BBCNews Best wishes to the US… https://t.co/9xWmfU3LZj</td>\n",
       "      <td>Positive</td>\n",
       "    </tr>\n",
       "    <tr>\n",
       "      <th>12</th>\n",
       "      <td>The agency also released new information for health care providers and for patients as the US shipped millions of d… https://t.co/sG6BtD7jD9</td>\n",
       "      <td>Neutral</td>\n",
       "    </tr>\n",
       "    <tr>\n",
       "      <th>13</th>\n",
       "      <td>For all the women and healthcare providers who have been asking about the safety of the #PfizerBioNTech… https://t.co/ow0Pglkwte</td>\n",
       "      <td>Neutral</td>\n",
       "    </tr>\n",
       "    <tr>\n",
       "      <th>14</th>\n",
       "      <td>\"Expect 145 sites across all the states to receive vaccine on Monday, another 425 sites on Tuesday,\" said the offic… https://t.co/HiUVYJzOBY</td>\n",
       "      <td>Neutral</td>\n",
       "    </tr>\n",
       "    <tr>\n",
       "      <th>15</th>\n",
       "      <td>Trump announces #vaccine rollout 'in less than 24 hours'\\n\\nThe first Americans will be vaccinated against… https://t.co/2FzQSMnhoY</td>\n",
       "      <td>Neutral</td>\n",
       "    </tr>\n",
       "    <tr>\n",
       "      <th>16</th>\n",
       "      <td>UPDATED: #YellowFever &amp;amp; #COVID19 #ImmunityPassports - Part Two\\n\\n#SARSCoV2 #PfizerBioNtech #Britain #December… https://t.co/qKT7Rst9aW</td>\n",
       "      <td>Positive</td>\n",
       "    </tr>\n",
       "    <tr>\n",
       "      <th>17</th>\n",
       "      <td>Coronavirus: Iran reports 8,201 new cases, 221 deaths in the last 24 hours #Iran #coronavirus #PfizerBioNTech… https://t.co/mwDNAdmb7F</td>\n",
       "      <td>Neutral</td>\n",
       "    </tr>\n",
       "    <tr>\n",
       "      <th>18</th>\n",
       "      <td>.@Pfizer will rake in billions from its expensive #CovidVaccine but @AlbertBourla refuses to cut the price for lowe… https://t.co/eC94w3TUl0</td>\n",
       "      <td>Neutral</td>\n",
       "    </tr>\n",
       "    <tr>\n",
       "      <th>19</th>\n",
       "      <td>The trump administration failed to deliver on vaccine promises, *shocker* #COVIDIOTS #coronavirus #CovidVaccine… https://t.co/hew6eHTUrD</td>\n",
       "      <td>Neutral</td>\n",
       "    </tr>\n",
       "    <tr>\n",
       "      <th>20</th>\n",
       "      <td>How much did the #fda get paid to approve this all of a sudden now? money makes the world go around. #vaccine… https://t.co/GT9qVVNbKj</td>\n",
       "      <td>Neutral</td>\n",
       "    </tr>\n",
       "    <tr>\n",
       "      <th>21</th>\n",
       "      <td>Anyone wondering why day after #PfizerBioNTech approval in the UK people were getting vaccinated but all we are tol… https://t.co/tPSyL9CUYE</td>\n",
       "      <td>Neutral</td>\n",
       "    </tr>\n",
       "    <tr>\n",
       "      <th>22</th>\n",
       "      <td>Trump announces #vaccine rollout 'in less than 24 hours'\\n\\nThe first Americans will be vaccinated against… https://t.co/P9esXr3zpS</td>\n",
       "      <td>Neutral</td>\n",
       "    </tr>\n",
       "    <tr>\n",
       "      <th>23</th>\n",
       "      <td>The US Food and Drug Administration (FDA) has granted emergency use authorization to Pfizer-BioNTech's mRNA… https://t.co/dPLokxGtBa</td>\n",
       "      <td>Neutral</td>\n",
       "    </tr>\n",
       "    <tr>\n",
       "      <th>24</th>\n",
       "      <td>Presenting you the top Medical News/Advancement of the past week you don't want to miss!\\n\\n#docnosofficial #covid19… https://t.co/qOd5TPLYvA</td>\n",
       "      <td>Neutral</td>\n",
       "    </tr>\n",
       "    <tr>\n",
       "      <th>25</th>\n",
       "      <td>No.1 of 2 done.\\n\\n#ThankYouNHS @NHSuk @MHRAgovuk and #PfizerBioNTech @pfizer for making the #CovidVaccine dream poss… https://t.co/3KvJ7UP432</td>\n",
       "      <td>Neutral</td>\n",
       "    </tr>\n",
       "    <tr>\n",
       "      <th>26</th>\n",
       "      <td>Wear a mask, wash your hands, and remain socially distant when possible. #stayhome #StayAtHome #StayAtHomeSaveLives… https://t.co/Jrlrg6bm0w</td>\n",
       "      <td>Neutral</td>\n",
       "    </tr>\n",
       "    <tr>\n",
       "      <th>27</th>\n",
       "      <td>⁦@AvgerinosMoscow⁩ #PfizerBioNTech #FDA approval Apprentice Style!\\n⁦@realDonaldTrump⁩: “Approve the #vaccine or you… https://t.co/f64cOP5DV6</td>\n",
       "      <td>Positive</td>\n",
       "    </tr>\n",
       "    <tr>\n",
       "      <th>28</th>\n",
       "      <td>Interesting and very detailed article showing up how a well tested #supplychain, with #sharedvisibility will help d… https://t.co/yt3vn67mVg</td>\n",
       "      <td>Neutral</td>\n",
       "    </tr>\n",
       "    <tr>\n",
       "      <th>29</th>\n",
       "      <td>💉 #Vaccine #TrumpVaccine #AstraZeneca #PfizerBioNTech #Pfizervaccine #PfizerCovidVaccine  #Pfizer's COVID-19 belong… https://t.co/ldxQhN6uix</td>\n",
       "      <td>Positive</td>\n",
       "    </tr>\n",
       "    <tr>\n",
       "      <th>30</th>\n",
       "      <td>@ZubyMusic 6 deaths so far. \\nIt's only death, nothing to worry about then 🤔\\n#CovidVaccines\\n#Pfizervaccine… https://t.co/HkGTDM5J3f</td>\n",
       "      <td>Neutral</td>\n",
       "    </tr>\n",
       "    <tr>\n",
       "      <th>31</th>\n",
       "      <td>@sbnumb3 @nytimes Please don’t spread fake news! There is no evidence that these cases are linked to the… https://t.co/bMcAhIPR5g</td>\n",
       "      <td>Neutral</td>\n",
       "    </tr>\n",
       "    <tr>\n",
       "      <th>32</th>\n",
       "      <td>#ICYMI The #FDA Authorized the #PfizerBioNTech #COVID19 #Vaccine for the United States last night\\n\\nhttps://t.co/CtYGB3fNnE</td>\n",
       "      <td>Neutral</td>\n",
       "    </tr>\n",
       "    <tr>\n",
       "      <th>33</th>\n",
       "      <td>All respect to due process but why not give approval now instead of the 29th of December. Surely multiple other cou… https://t.co/Xv0SRv1Ukw</td>\n",
       "      <td>Neutral</td>\n",
       "    </tr>\n",
       "    <tr>\n",
       "      <th>34</th>\n",
       "      <td>Vaccine!! Anyone?? #covid #Pfizervaccine #PfizerBioNTech https://t.co/b9ZKwnlIkX</td>\n",
       "      <td>Positive</td>\n",
       "    </tr>\n",
       "    <tr>\n",
       "      <th>35</th>\n",
       "      <td>An immigrant Muslim couple find the COVID-19 Vaccine. \\n\\n#CovidVaccine #PfizerBioNTech #Pfizervaccine #PfizerProud</td>\n",
       "      <td>Positive</td>\n",
       "    </tr>\n",
       "    <tr>\n",
       "      <th>36</th>\n",
       "      <td>The #FDA finally issues #EUA now comes the problem transporting this #PfizerBioNTech vaccine, needs to be kept at -… https://t.co/NvaGyoo2yD</td>\n",
       "      <td>Neutral</td>\n",
       "    </tr>\n",
       "    <tr>\n",
       "      <th>37</th>\n",
       "      <td>Ladies and Gentlemen, now we have #CovidVaccine experts in each and every household of #Pakistan #PfizerBioNTech #oxfordvaccine 🤦‍♂️</td>\n",
       "      <td>Neutral</td>\n",
       "    </tr>\n",
       "    <tr>\n",
       "      <th>38</th>\n",
       "      <td>FACT SHEET FOR HEALTHCARE PROVIDERS ADMINISTERING VACCINE\\n\\n#PfizerBioNTech \\n#CovidVaccine \\n\\nhttps://t.co/xRaOiACZSD</td>\n",
       "      <td>Positive</td>\n",
       "    </tr>\n",
       "    <tr>\n",
       "      <th>39</th>\n",
       "      <td>@mirekR9 @sputnikvaccine @AstraZeneca check out table 23 of this and other tables too because it took the penny a w… https://t.co/5r6ibs8Jm8</td>\n",
       "      <td>Neutral</td>\n",
       "    </tr>\n",
       "    <tr>\n",
       "      <th>40</th>\n",
       "      <td>@mirekR9 @sputnikvaccine @AstraZeneca it's the only one which doesn't have any side effects \\n\\nthe #PfizerBioNTech a… https://t.co/IWELAATAmd</td>\n",
       "      <td>Neutral</td>\n",
       "    </tr>\n",
       "    <tr>\n",
       "      <th>41</th>\n",
       "      <td>FACT SHEET FOR RECIPIENTS AND CAREGIVERS\\n\\n#PfizerBioNTech \\n#CovidVaccine \\n\\nhttps://t.co/V0mn08VTwj</td>\n",
       "      <td>Positive</td>\n",
       "    </tr>\n",
       "    <tr>\n",
       "      <th>42</th>\n",
       "      <td>#CovidVaccine #Pfizer-BioNTech COVID-19 #PfizerBioNTech #COVID19 #CapeTown https://t.co/uCpwv0S4nl</td>\n",
       "      <td>Positive</td>\n",
       "    </tr>\n",
       "    <tr>\n",
       "      <th>43</th>\n",
       "      <td>Trump announces #vaccine rollout 'in less than 24 hours'\\n\\nThe first Americans will be vaccinated against… https://t.co/6379SZjNQi</td>\n",
       "      <td>Neutral</td>\n",
       "    </tr>\n",
       "    <tr>\n",
       "      <th>44</th>\n",
       "      <td>#FDA authorizes #PfizerBioNTech #coronavirus vaccine for emergency use\\nhttps://t.co/VZ6bDPbbPG</td>\n",
       "      <td>Positive</td>\n",
       "    </tr>\n",
       "    <tr>\n",
       "      <th>45</th>\n",
       "      <td>When The #CovidVaccine \\nPoisons Enough Of The LEFT With \"Side Effects\" Like #BellsPalsy Or ☠️ As They Are Flocking… https://t.co/mGNvf2XT8i</td>\n",
       "      <td>Neutral</td>\n",
       "    </tr>\n",
       "    <tr>\n",
       "      <th>46</th>\n",
       "      <td>@realDonaldTrump Dairy dose of dumbsville by #DonTheCon #GrifterInChief #TrumpForPrison #TrumpCrimeFamily #COVID… https://t.co/gyiCvTuMOP</td>\n",
       "      <td>Positive</td>\n",
       "    </tr>\n",
       "    <tr>\n",
       "      <th>47</th>\n",
       "      <td>The US #FDA has approved two #coronavirus vaccines: #PfizerBioNTech &amp;amp; #Moderna. Over 200 #vaccines are being develo… https://t.co/6lboJqT9mn</td>\n",
       "      <td>Neutral</td>\n",
       "    </tr>\n",
       "    <tr>\n",
       "      <th>48</th>\n",
       "      <td>As @EMA_News gets set to approve #PfizerBioNTech #vaccine, roll-out preparations pick up pace across #EU. Meanwhile… https://t.co/uWiv1SypWg</td>\n",
       "      <td>Neutral</td>\n",
       "    </tr>\n",
       "    <tr>\n",
       "      <th>49</th>\n",
       "      <td>COVID-19: News and updates\\npublic questioned whether he actually received the shot.\\nVideo footage appeared to show… https://t.co/lBc2PJ2b9l</td>\n",
       "      <td>Neutral</td>\n",
       "    </tr>\n",
       "  </tbody>\n",
       "</table>\n",
       "</div>"
      ],
      "text/plain": [
       "                                                                                                                                                text  \\\n",
       "0                                                  Same folks said daikon paste could treat a cytokine storm #PfizerBioNTech https://t.co/xeHhIMg1kF   \n",
       "1       While the world has been on the wrong side of history this year, hopefully, the biggest vaccination effort we've ev… https://t.co/dlCHrZjkhm   \n",
       "2       #coronavirus #SputnikV #AstraZeneca #PfizerBioNTech #Moderna #Covid_19 Russian vaccine is created to last 2-4 years… https://t.co/ieYlCKBr8P   \n",
       "3       Facts are immutable, Senator, even when you're not ethically sturdy enough to acknowledge them. (1) You were born i… https://t.co/jqgV18kch4   \n",
       "4            Explain to me again why we need a vaccine @BorisJohnson @MattHancock #whereareallthesickpeople #PfizerBioNTech… https://t.co/KxbSRoBEHq   \n",
       "5                   Does anyone have any useful advice/guidance for whether the COVID vaccine is safe whilst breastfeeding?… https://t.co/EifsyQoeKN   \n",
       "6        it is a bit sad to claim the fame for success of #vaccination on patriotic competition between USA, Canada, UK and… https://t.co/IfMrAyGyTP   \n",
       "7        There have not been many bright days in 2020 but here are some of the best \\n1. #BidenHarris winning #Election2020… https://t.co/77u4f8XXfx   \n",
       "8                                                                 Covid vaccine; You getting it?\\n\\n #CovidVaccine #covid19 #PfizerBioNTech #Moderna   \n",
       "9     #CovidVaccine \\n\\nStates will start getting #COVID19Vaccine Monday, #US says \\n#pakustv #NYC #Healthcare #GlobalGoals… https://t.co/MksOvBvs5w   \n",
       "10    while deaths are closing in on the 300,000 mark... millions of people wait #PfizerBioNTech #Vaccine !\\n-\\nThe first U… https://t.co/uQ3A2f7SVP   \n",
       "11       @cnnbrk #COVID19 #CovidVaccine #vaccine #Corona   #PfizerBioNTech #bbcnews #NYTimes #BBCNews Best wishes to the US… https://t.co/9xWmfU3LZj   \n",
       "12      The agency also released new information for health care providers and for patients as the US shipped millions of d… https://t.co/sG6BtD7jD9   \n",
       "13                  For all the women and healthcare providers who have been asking about the safety of the #PfizerBioNTech… https://t.co/ow0Pglkwte   \n",
       "14      \"Expect 145 sites across all the states to receive vaccine on Monday, another 425 sites on Tuesday,\" said the offic… https://t.co/HiUVYJzOBY   \n",
       "15               Trump announces #vaccine rollout 'in less than 24 hours'\\n\\nThe first Americans will be vaccinated against… https://t.co/2FzQSMnhoY   \n",
       "16       UPDATED: #YellowFever &amp; #COVID19 #ImmunityPassports - Part Two\\n\\n#SARSCoV2 #PfizerBioNtech #Britain #December… https://t.co/qKT7Rst9aW   \n",
       "17            Coronavirus: Iran reports 8,201 new cases, 221 deaths in the last 24 hours #Iran #coronavirus #PfizerBioNTech… https://t.co/mwDNAdmb7F   \n",
       "18      .@Pfizer will rake in billions from its expensive #CovidVaccine but @AlbertBourla refuses to cut the price for lowe… https://t.co/eC94w3TUl0   \n",
       "19          The trump administration failed to deliver on vaccine promises, *shocker* #COVIDIOTS #coronavirus #CovidVaccine… https://t.co/hew6eHTUrD   \n",
       "20            How much did the #fda get paid to approve this all of a sudden now? money makes the world go around. #vaccine… https://t.co/GT9qVVNbKj   \n",
       "21      Anyone wondering why day after #PfizerBioNTech approval in the UK people were getting vaccinated but all we are tol… https://t.co/tPSyL9CUYE   \n",
       "22               Trump announces #vaccine rollout 'in less than 24 hours'\\n\\nThe first Americans will be vaccinated against… https://t.co/P9esXr3zpS   \n",
       "23              The US Food and Drug Administration (FDA) has granted emergency use authorization to Pfizer-BioNTech's mRNA… https://t.co/dPLokxGtBa   \n",
       "24     Presenting you the top Medical News/Advancement of the past week you don't want to miss!\\n\\n#docnosofficial #covid19… https://t.co/qOd5TPLYvA   \n",
       "25    No.1 of 2 done.\\n\\n#ThankYouNHS @NHSuk @MHRAgovuk and #PfizerBioNTech @pfizer for making the #CovidVaccine dream poss… https://t.co/3KvJ7UP432   \n",
       "26      Wear a mask, wash your hands, and remain socially distant when possible. #stayhome #StayAtHome #StayAtHomeSaveLives… https://t.co/Jrlrg6bm0w   \n",
       "27     ⁦@AvgerinosMoscow⁩ #PfizerBioNTech #FDA approval Apprentice Style!\\n⁦@realDonaldTrump⁩: “Approve the #vaccine or you… https://t.co/f64cOP5DV6   \n",
       "28      Interesting and very detailed article showing up how a well tested #supplychain, with #sharedvisibility will help d… https://t.co/yt3vn67mVg   \n",
       "29      💉 #Vaccine #TrumpVaccine #AstraZeneca #PfizerBioNTech #Pfizervaccine #PfizerCovidVaccine  #Pfizer's COVID-19 belong… https://t.co/ldxQhN6uix   \n",
       "30             @ZubyMusic 6 deaths so far. \\nIt's only death, nothing to worry about then 🤔\\n#CovidVaccines\\n#Pfizervaccine… https://t.co/HkGTDM5J3f   \n",
       "31                 @sbnumb3 @nytimes Please don’t spread fake news! There is no evidence that these cases are linked to the… https://t.co/bMcAhIPR5g   \n",
       "32                      #ICYMI The #FDA Authorized the #PfizerBioNTech #COVID19 #Vaccine for the United States last night\\n\\nhttps://t.co/CtYGB3fNnE   \n",
       "33      All respect to due process but why not give approval now instead of the 29th of December. Surely multiple other cou… https://t.co/Xv0SRv1Ukw   \n",
       "34                                                                  Vaccine!! Anyone?? #covid #Pfizervaccine #PfizerBioNTech https://t.co/b9ZKwnlIkX   \n",
       "35                               An immigrant Muslim couple find the COVID-19 Vaccine. \\n\\n#CovidVaccine #PfizerBioNTech #Pfizervaccine #PfizerProud   \n",
       "36      The #FDA finally issues #EUA now comes the problem transporting this #PfizerBioNTech vaccine, needs to be kept at -… https://t.co/NvaGyoo2yD   \n",
       "37              Ladies and Gentlemen, now we have #CovidVaccine experts in each and every household of #Pakistan #PfizerBioNTech #oxfordvaccine 🤦‍♂️   \n",
       "38                          FACT SHEET FOR HEALTHCARE PROVIDERS ADMINISTERING VACCINE\\n\\n#PfizerBioNTech \\n#CovidVaccine \\n\\nhttps://t.co/xRaOiACZSD   \n",
       "39      @mirekR9 @sputnikvaccine @AstraZeneca check out table 23 of this and other tables too because it took the penny a w… https://t.co/5r6ibs8Jm8   \n",
       "40    @mirekR9 @sputnikvaccine @AstraZeneca it's the only one which doesn't have any side effects \\n\\nthe #PfizerBioNTech a… https://t.co/IWELAATAmd   \n",
       "41                                           FACT SHEET FOR RECIPIENTS AND CAREGIVERS\\n\\n#PfizerBioNTech \\n#CovidVaccine \\n\\nhttps://t.co/V0mn08VTwj   \n",
       "42                                                #CovidVaccine #Pfizer-BioNTech COVID-19 #PfizerBioNTech #COVID19 #CapeTown https://t.co/uCpwv0S4nl   \n",
       "43               Trump announces #vaccine rollout 'in less than 24 hours'\\n\\nThe first Americans will be vaccinated against… https://t.co/6379SZjNQi   \n",
       "44                                                   #FDA authorizes #PfizerBioNTech #coronavirus vaccine for emergency use\\nhttps://t.co/VZ6bDPbbPG   \n",
       "45      When The #CovidVaccine \\nPoisons Enough Of The LEFT With \"Side Effects\" Like #BellsPalsy Or ☠️ As They Are Flocking… https://t.co/mGNvf2XT8i   \n",
       "46         @realDonaldTrump Dairy dose of dumbsville by #DonTheCon #GrifterInChief #TrumpForPrison #TrumpCrimeFamily #COVID… https://t.co/gyiCvTuMOP   \n",
       "47  The US #FDA has approved two #coronavirus vaccines: #PfizerBioNTech &amp; #Moderna. Over 200 #vaccines are being develo… https://t.co/6lboJqT9mn   \n",
       "48      As @EMA_News gets set to approve #PfizerBioNTech #vaccine, roll-out preparations pick up pace across #EU. Meanwhile… https://t.co/uWiv1SypWg   \n",
       "49     COVID-19: News and updates\\npublic questioned whether he actually received the shot.\\nVideo footage appeared to show… https://t.co/lBc2PJ2b9l   \n",
       "\n",
       "   sentiment  \n",
       "0    Neutral  \n",
       "1    Neutral  \n",
       "2    Neutral  \n",
       "3    Neutral  \n",
       "4    Neutral  \n",
       "5    Neutral  \n",
       "6    Neutral  \n",
       "7    Neutral  \n",
       "8   Positive  \n",
       "9    Neutral  \n",
       "10   Neutral  \n",
       "11  Positive  \n",
       "12   Neutral  \n",
       "13   Neutral  \n",
       "14   Neutral  \n",
       "15   Neutral  \n",
       "16  Positive  \n",
       "17   Neutral  \n",
       "18   Neutral  \n",
       "19   Neutral  \n",
       "20   Neutral  \n",
       "21   Neutral  \n",
       "22   Neutral  \n",
       "23   Neutral  \n",
       "24   Neutral  \n",
       "25   Neutral  \n",
       "26   Neutral  \n",
       "27  Positive  \n",
       "28   Neutral  \n",
       "29  Positive  \n",
       "30   Neutral  \n",
       "31   Neutral  \n",
       "32   Neutral  \n",
       "33   Neutral  \n",
       "34  Positive  \n",
       "35  Positive  \n",
       "36   Neutral  \n",
       "37   Neutral  \n",
       "38  Positive  \n",
       "39   Neutral  \n",
       "40   Neutral  \n",
       "41  Positive  \n",
       "42  Positive  \n",
       "43   Neutral  \n",
       "44  Positive  \n",
       "45   Neutral  \n",
       "46  Positive  \n",
       "47   Neutral  \n",
       "48   Neutral  \n",
       "49   Neutral  "
      ]
     },
     "execution_count": 38,
     "metadata": {},
     "output_type": "execute_result"
    }
   ],
   "source": [
    "pd.set_option('display.max_colwidth', None)\n",
    "covidtweets[[\"text\", \"sentiment\"]].head(50)"
   ]
  },
  {
   "cell_type": "markdown",
   "id": "veterinary-trust",
   "metadata": {
    "papermill": {
     "duration": 0.397482,
     "end_time": "2021-04-05T11:38:28.389446",
     "exception": false,
     "start_time": "2021-04-05T11:38:27.991964",
     "status": "completed"
    },
    "tags": []
   },
   "source": [
    "## Data analysis\n",
    "\n",
    "First let's plot the distribution chart of different sentiments:"
   ]
  },
  {
   "cell_type": "code",
   "execution_count": 39,
   "id": "empirical-carrier",
   "metadata": {
    "execution": {
     "iopub.execute_input": "2021-04-05T11:38:29.185841Z",
     "iopub.status.busy": "2021-04-05T11:38:29.185179Z",
     "iopub.status.idle": "2021-04-05T11:38:30.530512Z",
     "shell.execute_reply": "2021-04-05T11:38:30.530053Z"
    },
    "papermill": {
     "duration": 1.749104,
     "end_time": "2021-04-05T11:38:30.530644",
     "exception": false,
     "start_time": "2021-04-05T11:38:28.781540",
     "status": "completed"
    },
    "tags": []
   },
   "outputs": [
    {
     "name": "stdout",
     "output_type": "stream",
     "text": [
      "  sentiment  tweets\n",
      "0  Negative     206\n",
      "1   Neutral   38580\n",
      "2  Positive    7273\n"
     ]
    },
    {
     "data": {
      "text/html": [
       "        <script type=\"text/javascript\">\n",
       "        window.PlotlyConfig = {MathJaxConfig: 'local'};\n",
       "        if (window.MathJax) {MathJax.Hub.Config({SVG: {font: \"STIX-Web\"}});}\n",
       "        if (typeof require !== 'undefined') {\n",
       "        require.undef(\"plotly\");\n",
       "        requirejs.config({\n",
       "            paths: {\n",
       "                'plotly': ['https://cdn.plot.ly/plotly-latest.min']\n",
       "            }\n",
       "        });\n",
       "        require(['plotly'], function(Plotly) {\n",
       "            window._Plotly = Plotly;\n",
       "        });\n",
       "        }\n",
       "        </script>\n",
       "        "
      ]
     },
     "metadata": {},
     "output_type": "display_data"
    },
    {
     "data": {
      "text/html": [
       "<div>                            <div id=\"61c3c29a-059b-4836-8980-b3d8b0b7b9aa\" class=\"plotly-graph-div\" style=\"height:525px; width:100%;\"></div>            <script type=\"text/javascript\">                require([\"plotly\"], function(Plotly) {                    window.PLOTLYENV=window.PLOTLYENV || {};                                    if (document.getElementById(\"61c3c29a-059b-4836-8980-b3d8b0b7b9aa\")) {                    Plotly.newPlot(                        \"61c3c29a-059b-4836-8980-b3d8b0b7b9aa\",                        [{\"alignmentgroup\": \"True\", \"hovertemplate\": \"sentiment=%{x}<br>tweets=%{y}<extra></extra>\", \"legendgroup\": \"Negative\", \"marker\": {\"color\": \"#EF553B\"}, \"name\": \"Negative\", \"offsetgroup\": \"Negative\", \"orientation\": \"v\", \"showlegend\": true, \"textposition\": \"auto\", \"type\": \"bar\", \"x\": [\"Negative\"], \"xaxis\": \"x\", \"y\": [206], \"yaxis\": \"y\"}, {\"alignmentgroup\": \"True\", \"hovertemplate\": \"sentiment=%{x}<br>tweets=%{y}<extra></extra>\", \"legendgroup\": \"Neutral\", \"marker\": {\"color\": \"#636EFA\"}, \"name\": \"Neutral\", \"offsetgroup\": \"Neutral\", \"orientation\": \"v\", \"showlegend\": true, \"textposition\": \"auto\", \"type\": \"bar\", \"x\": [\"Neutral\"], \"xaxis\": \"x\", \"y\": [38580], \"yaxis\": \"y\"}, {\"alignmentgroup\": \"True\", \"hovertemplate\": \"sentiment=%{x}<br>tweets=%{y}<extra></extra>\", \"legendgroup\": \"Positive\", \"marker\": {\"color\": \"#00CC96\"}, \"name\": \"Positive\", \"offsetgroup\": \"Positive\", \"orientation\": \"v\", \"showlegend\": true, \"textposition\": \"auto\", \"type\": \"bar\", \"x\": [\"Positive\"], \"xaxis\": \"x\", \"y\": [7273], \"yaxis\": \"y\"}],                        {\"barmode\": \"relative\", \"legend\": {\"title\": {\"text\": \"sentiment\"}, \"tracegroupgap\": 0}, \"margin\": {\"t\": 60}, \"template\": {\"data\": {\"bar\": [{\"error_x\": {\"color\": \"#2a3f5f\"}, \"error_y\": {\"color\": \"#2a3f5f\"}, \"marker\": {\"line\": {\"color\": \"#E5ECF6\", \"width\": 0.5}}, \"type\": \"bar\"}], \"barpolar\": [{\"marker\": {\"line\": {\"color\": \"#E5ECF6\", \"width\": 0.5}}, \"type\": \"barpolar\"}], \"carpet\": [{\"aaxis\": {\"endlinecolor\": \"#2a3f5f\", \"gridcolor\": \"white\", \"linecolor\": \"white\", \"minorgridcolor\": \"white\", \"startlinecolor\": \"#2a3f5f\"}, \"baxis\": {\"endlinecolor\": \"#2a3f5f\", \"gridcolor\": \"white\", \"linecolor\": \"white\", \"minorgridcolor\": \"white\", \"startlinecolor\": \"#2a3f5f\"}, \"type\": \"carpet\"}], \"choropleth\": [{\"colorbar\": {\"outlinewidth\": 0, \"ticks\": \"\"}, \"type\": \"choropleth\"}], \"contour\": [{\"colorbar\": {\"outlinewidth\": 0, \"ticks\": \"\"}, \"colorscale\": [[0.0, \"#0d0887\"], [0.1111111111111111, \"#46039f\"], [0.2222222222222222, \"#7201a8\"], [0.3333333333333333, \"#9c179e\"], [0.4444444444444444, \"#bd3786\"], [0.5555555555555556, \"#d8576b\"], [0.6666666666666666, \"#ed7953\"], [0.7777777777777778, \"#fb9f3a\"], [0.8888888888888888, \"#fdca26\"], [1.0, \"#f0f921\"]], \"type\": \"contour\"}], \"contourcarpet\": [{\"colorbar\": {\"outlinewidth\": 0, \"ticks\": \"\"}, \"type\": \"contourcarpet\"}], \"heatmap\": [{\"colorbar\": {\"outlinewidth\": 0, \"ticks\": \"\"}, \"colorscale\": [[0.0, \"#0d0887\"], [0.1111111111111111, \"#46039f\"], [0.2222222222222222, \"#7201a8\"], [0.3333333333333333, \"#9c179e\"], [0.4444444444444444, \"#bd3786\"], [0.5555555555555556, \"#d8576b\"], [0.6666666666666666, \"#ed7953\"], [0.7777777777777778, \"#fb9f3a\"], [0.8888888888888888, \"#fdca26\"], [1.0, \"#f0f921\"]], \"type\": \"heatmap\"}], \"heatmapgl\": [{\"colorbar\": {\"outlinewidth\": 0, \"ticks\": \"\"}, \"colorscale\": [[0.0, \"#0d0887\"], [0.1111111111111111, \"#46039f\"], [0.2222222222222222, \"#7201a8\"], [0.3333333333333333, \"#9c179e\"], [0.4444444444444444, \"#bd3786\"], [0.5555555555555556, \"#d8576b\"], [0.6666666666666666, \"#ed7953\"], [0.7777777777777778, \"#fb9f3a\"], [0.8888888888888888, \"#fdca26\"], [1.0, \"#f0f921\"]], \"type\": \"heatmapgl\"}], \"histogram\": [{\"marker\": {\"colorbar\": {\"outlinewidth\": 0, \"ticks\": \"\"}}, \"type\": \"histogram\"}], \"histogram2d\": [{\"colorbar\": {\"outlinewidth\": 0, \"ticks\": \"\"}, \"colorscale\": [[0.0, \"#0d0887\"], [0.1111111111111111, \"#46039f\"], [0.2222222222222222, \"#7201a8\"], [0.3333333333333333, \"#9c179e\"], [0.4444444444444444, \"#bd3786\"], [0.5555555555555556, \"#d8576b\"], [0.6666666666666666, \"#ed7953\"], [0.7777777777777778, \"#fb9f3a\"], [0.8888888888888888, \"#fdca26\"], [1.0, \"#f0f921\"]], \"type\": \"histogram2d\"}], \"histogram2dcontour\": [{\"colorbar\": {\"outlinewidth\": 0, \"ticks\": \"\"}, \"colorscale\": [[0.0, \"#0d0887\"], [0.1111111111111111, \"#46039f\"], [0.2222222222222222, \"#7201a8\"], [0.3333333333333333, \"#9c179e\"], [0.4444444444444444, \"#bd3786\"], [0.5555555555555556, \"#d8576b\"], [0.6666666666666666, \"#ed7953\"], [0.7777777777777778, \"#fb9f3a\"], [0.8888888888888888, \"#fdca26\"], [1.0, \"#f0f921\"]], \"type\": \"histogram2dcontour\"}], \"mesh3d\": [{\"colorbar\": {\"outlinewidth\": 0, \"ticks\": \"\"}, \"type\": \"mesh3d\"}], \"parcoords\": [{\"line\": {\"colorbar\": {\"outlinewidth\": 0, \"ticks\": \"\"}}, \"type\": \"parcoords\"}], \"pie\": [{\"automargin\": true, \"type\": \"pie\"}], \"scatter\": [{\"marker\": {\"colorbar\": {\"outlinewidth\": 0, \"ticks\": \"\"}}, \"type\": \"scatter\"}], \"scatter3d\": [{\"line\": {\"colorbar\": {\"outlinewidth\": 0, \"ticks\": \"\"}}, \"marker\": {\"colorbar\": {\"outlinewidth\": 0, \"ticks\": \"\"}}, \"type\": \"scatter3d\"}], \"scattercarpet\": [{\"marker\": {\"colorbar\": {\"outlinewidth\": 0, \"ticks\": \"\"}}, \"type\": \"scattercarpet\"}], \"scattergeo\": [{\"marker\": {\"colorbar\": {\"outlinewidth\": 0, \"ticks\": \"\"}}, \"type\": \"scattergeo\"}], \"scattergl\": [{\"marker\": {\"colorbar\": {\"outlinewidth\": 0, \"ticks\": \"\"}}, \"type\": \"scattergl\"}], \"scattermapbox\": [{\"marker\": {\"colorbar\": {\"outlinewidth\": 0, \"ticks\": \"\"}}, \"type\": \"scattermapbox\"}], \"scatterpolar\": [{\"marker\": {\"colorbar\": {\"outlinewidth\": 0, \"ticks\": \"\"}}, \"type\": \"scatterpolar\"}], \"scatterpolargl\": [{\"marker\": {\"colorbar\": {\"outlinewidth\": 0, \"ticks\": \"\"}}, \"type\": \"scatterpolargl\"}], \"scatterternary\": [{\"marker\": {\"colorbar\": {\"outlinewidth\": 0, \"ticks\": \"\"}}, \"type\": \"scatterternary\"}], \"surface\": [{\"colorbar\": {\"outlinewidth\": 0, \"ticks\": \"\"}, \"colorscale\": [[0.0, \"#0d0887\"], [0.1111111111111111, \"#46039f\"], [0.2222222222222222, \"#7201a8\"], [0.3333333333333333, \"#9c179e\"], [0.4444444444444444, \"#bd3786\"], [0.5555555555555556, \"#d8576b\"], [0.6666666666666666, \"#ed7953\"], [0.7777777777777778, \"#fb9f3a\"], [0.8888888888888888, \"#fdca26\"], [1.0, \"#f0f921\"]], \"type\": \"surface\"}], \"table\": [{\"cells\": {\"fill\": {\"color\": \"#EBF0F8\"}, \"line\": {\"color\": \"white\"}}, \"header\": {\"fill\": {\"color\": \"#C8D4E3\"}, \"line\": {\"color\": \"white\"}}, \"type\": \"table\"}]}, \"layout\": {\"annotationdefaults\": {\"arrowcolor\": \"#2a3f5f\", \"arrowhead\": 0, \"arrowwidth\": 1}, \"autotypenumbers\": \"strict\", \"coloraxis\": {\"colorbar\": {\"outlinewidth\": 0, \"ticks\": \"\"}}, \"colorscale\": {\"diverging\": [[0, \"#8e0152\"], [0.1, \"#c51b7d\"], [0.2, \"#de77ae\"], [0.3, \"#f1b6da\"], [0.4, \"#fde0ef\"], [0.5, \"#f7f7f7\"], [0.6, \"#e6f5d0\"], [0.7, \"#b8e186\"], [0.8, \"#7fbc41\"], [0.9, \"#4d9221\"], [1, \"#276419\"]], \"sequential\": [[0.0, \"#0d0887\"], [0.1111111111111111, \"#46039f\"], [0.2222222222222222, \"#7201a8\"], [0.3333333333333333, \"#9c179e\"], [0.4444444444444444, \"#bd3786\"], [0.5555555555555556, \"#d8576b\"], [0.6666666666666666, \"#ed7953\"], [0.7777777777777778, \"#fb9f3a\"], [0.8888888888888888, \"#fdca26\"], [1.0, \"#f0f921\"]], \"sequentialminus\": [[0.0, \"#0d0887\"], [0.1111111111111111, \"#46039f\"], [0.2222222222222222, \"#7201a8\"], [0.3333333333333333, \"#9c179e\"], [0.4444444444444444, \"#bd3786\"], [0.5555555555555556, \"#d8576b\"], [0.6666666666666666, \"#ed7953\"], [0.7777777777777778, \"#fb9f3a\"], [0.8888888888888888, \"#fdca26\"], [1.0, \"#f0f921\"]]}, \"colorway\": [\"#636efa\", \"#EF553B\", \"#00cc96\", \"#ab63fa\", \"#FFA15A\", \"#19d3f3\", \"#FF6692\", \"#B6E880\", \"#FF97FF\", \"#FECB52\"], \"font\": {\"color\": \"#2a3f5f\"}, \"geo\": {\"bgcolor\": \"white\", \"lakecolor\": \"white\", \"landcolor\": \"#E5ECF6\", \"showlakes\": true, \"showland\": true, \"subunitcolor\": \"white\"}, \"hoverlabel\": {\"align\": \"left\"}, \"hovermode\": \"closest\", \"mapbox\": {\"style\": \"light\"}, \"paper_bgcolor\": \"white\", \"plot_bgcolor\": \"#E5ECF6\", \"polar\": {\"angularaxis\": {\"gridcolor\": \"white\", \"linecolor\": \"white\", \"ticks\": \"\"}, \"bgcolor\": \"#E5ECF6\", \"radialaxis\": {\"gridcolor\": \"white\", \"linecolor\": \"white\", \"ticks\": \"\"}}, \"scene\": {\"xaxis\": {\"backgroundcolor\": \"#E5ECF6\", \"gridcolor\": \"white\", \"gridwidth\": 2, \"linecolor\": \"white\", \"showbackground\": true, \"ticks\": \"\", \"zerolinecolor\": \"white\"}, \"yaxis\": {\"backgroundcolor\": \"#E5ECF6\", \"gridcolor\": \"white\", \"gridwidth\": 2, \"linecolor\": \"white\", \"showbackground\": true, \"ticks\": \"\", \"zerolinecolor\": \"white\"}, \"zaxis\": {\"backgroundcolor\": \"#E5ECF6\", \"gridcolor\": \"white\", \"gridwidth\": 2, \"linecolor\": \"white\", \"showbackground\": true, \"ticks\": \"\", \"zerolinecolor\": \"white\"}}, \"shapedefaults\": {\"line\": {\"color\": \"#2a3f5f\"}}, \"ternary\": {\"aaxis\": {\"gridcolor\": \"white\", \"linecolor\": \"white\", \"ticks\": \"\"}, \"baxis\": {\"gridcolor\": \"white\", \"linecolor\": \"white\", \"ticks\": \"\"}, \"bgcolor\": \"#E5ECF6\", \"caxis\": {\"gridcolor\": \"white\", \"linecolor\": \"white\", \"ticks\": \"\"}}, \"title\": {\"x\": 0.05}, \"xaxis\": {\"automargin\": true, \"gridcolor\": \"white\", \"linecolor\": \"white\", \"ticks\": \"\", \"title\": {\"standoff\": 15}, \"zerolinecolor\": \"white\", \"zerolinewidth\": 2}, \"yaxis\": {\"automargin\": true, \"gridcolor\": \"white\", \"linecolor\": \"white\", \"ticks\": \"\", \"title\": {\"standoff\": 15}, \"zerolinecolor\": \"white\", \"zerolinewidth\": 2}}}, \"xaxis\": {\"anchor\": \"y\", \"categoryarray\": [\"Negative\", \"Neutral\", \"Positive\"], \"categoryorder\": \"array\", \"domain\": [0.0, 1.0], \"title\": {\"text\": \"sentiment\"}}, \"yaxis\": {\"anchor\": \"x\", \"domain\": [0.0, 1.0], \"title\": {\"text\": \"tweets\"}}},                        {\"responsive\": true}                    ).then(function(){\n",
       "                            \n",
       "var gd = document.getElementById('61c3c29a-059b-4836-8980-b3d8b0b7b9aa');\n",
       "var x = new MutationObserver(function (mutations, observer) {{\n",
       "        var display = window.getComputedStyle(gd).display;\n",
       "        if (!display || display === 'none') {{\n",
       "            console.log([gd, 'removed!']);\n",
       "            Plotly.purge(gd);\n",
       "            observer.disconnect();\n",
       "        }}\n",
       "}});\n",
       "\n",
       "// Listen for the removal of the full notebook cells\n",
       "var notebookContainer = gd.closest('#notebook-container');\n",
       "if (notebookContainer) {{\n",
       "    x.observe(notebookContainer, {childList: true});\n",
       "}}\n",
       "\n",
       "// Listen for the clearing of the current output cell\n",
       "var outputEl = gd.closest('.output');\n",
       "if (outputEl) {{\n",
       "    x.observe(outputEl, {childList: true});\n",
       "}}\n",
       "\n",
       "                        })                };                });            </script>        </div>"
      ]
     },
     "metadata": {},
     "output_type": "display_data"
    },
    {
     "data": {
      "image/png": "[encoded data removed]",
      "text/plain": [
       "<Figure size 432x288 with 1 Axes>"
      ]
     },
     "metadata": {
      "needs_background": "light"
     },
     "output_type": "display_data"
    }
   ],
   "source": [
    "# Plot sentiment value counts\n",
    "covidtweets['sentiment'].value_counts(normalize=True).plot.bar();\n",
    "\n",
    "timeline = covidtweets.groupby(['sentiment']).agg(**{'tweets': ('id', 'count')}).reset_index().dropna()\n",
    "print(timeline)\n",
    "fig = px.bar(timeline,\n",
    "            x='sentiment', y=\"tweets\", color='sentiment', color_discrete_sequence=[\"#EF553B\", \"#636EFA\", \"#00CC96\"]\n",
    "        )\n",
    "fig.show()"
   ]
  },
  {
   "cell_type": "markdown",
   "id": "joint-insider",
   "metadata": {
    "papermill": {
     "duration": 0.397976,
     "end_time": "2021-04-05T11:38:31.323983",
     "exception": false,
     "start_time": "2021-04-05T11:38:30.926007",
     "status": "completed"
    },
    "tags": []
   },
   "source": [
    "We neeed to exclude last day's data from the set as is it incomplete:"
   ]
  },
  {
   "cell_type": "code",
   "execution_count": 40,
   "id": "multiple-panel",
   "metadata": {
    "execution": {
     "iopub.execute_input": "2021-04-05T11:38:32.160666Z",
     "iopub.status.busy": "2021-04-05T11:38:32.148269Z",
     "iopub.status.idle": "2021-04-05T11:38:32.262686Z",
     "shell.execute_reply": "2021-04-05T11:38:32.262185Z"
    },
    "papermill": {
     "duration": 0.542502,
     "end_time": "2021-04-05T11:38:32.262821",
     "exception": false,
     "start_time": "2021-04-05T11:38:31.720319",
     "status": "completed"
    },
    "tags": []
   },
   "outputs": [
    {
     "data": {
      "text/html": [
       "<div>                            <div id=\"f778c1c5-213d-4904-bf0d-976b6ee00a2e\" class=\"plotly-graph-div\" style=\"height:525px; width:100%;\"></div>            <script type=\"text/javascript\">                require([\"plotly\"], function(Plotly) {                    window.PLOTLYENV=window.PLOTLYENV || {};                                    if (document.getElementById(\"f778c1c5-213d-4904-bf0d-976b6ee00a2e\")) {                    Plotly.newPlot(                        \"f778c1c5-213d-4904-bf0d-976b6ee00a2e\",                        [{\"hovertemplate\": \"sentiment=Neutral<br>date=%{x}<br>tweets=%{y}<extra></extra>\", \"legendgroup\": \"Neutral\", \"line\": {\"color\": \"#EF553B\", \"dash\": \"solid\"}, \"mode\": \"lines\", \"name\": \"Neutral\", \"orientation\": \"v\", \"showlegend\": true, \"type\": \"scatter\", \"x\": [\"2020-12-12\", \"2020-12-13\", \"2020-12-14\", \"2020-12-15\", \"2020-12-16\", \"2020-12-17\", \"2020-12-18\", \"2020-12-19\", \"2020-12-20\", \"2020-12-21\", \"2020-12-22\", \"2020-12-23\", \"2020-12-24\", \"2020-12-25\", \"2020-12-26\", \"2020-12-27\", \"2020-12-28\", \"2020-12-29\", \"2020-12-30\", \"2020-12-31\", \"2021-01-01\", \"2021-01-02\", \"2021-01-03\", \"2021-01-04\", \"2021-01-05\", \"2021-01-06\", \"2021-01-07\", \"2021-01-08\", \"2021-01-09\", \"2021-01-10\", \"2021-01-11\", \"2021-01-12\", \"2021-01-13\", \"2021-01-14\", \"2021-01-15\", \"2021-01-16\", \"2021-01-17\", \"2021-01-18\", \"2021-01-19\", \"2021-01-20\", \"2021-01-21\", \"2021-01-22\", \"2021-01-23\", \"2021-01-24\", \"2021-01-25\", \"2021-01-26\", \"2021-01-27\", \"2021-01-28\", \"2021-01-29\", \"2021-01-30\", \"2021-01-31\", \"2021-02-01\", \"2021-02-02\", \"2021-02-03\", \"2021-02-04\", \"2021-02-05\", \"2021-02-06\", \"2021-02-07\", \"2021-02-08\", \"2021-02-09\", \"2021-02-10\", \"2021-02-11\", \"2021-02-12\", \"2021-02-13\", \"2021-02-14\", \"2021-02-15\", \"2021-02-16\", \"2021-02-17\", \"2021-02-18\", \"2021-02-19\", \"2021-02-20\", \"2021-02-21\", \"2021-02-22\", \"2021-02-23\", \"2021-02-24\", \"2021-02-25\", \"2021-02-26\", \"2021-02-27\", \"2021-02-28\", \"2021-03-01\", \"2021-03-02\", \"2021-03-03\", \"2021-03-04\", \"2021-03-05\", \"2021-03-06\", \"2021-03-07\", \"2021-03-08\", \"2021-03-09\", \"2021-03-10\", \"2021-03-11\", \"2021-03-12\", \"2021-03-13\", \"2021-03-14\", \"2021-03-15\", \"2021-03-16\", \"2021-03-17\", \"2021-03-18\", \"2021-03-19\", \"2021-03-20\", \"2021-03-21\", \"2021-03-22\", \"2021-03-23\", \"2021-03-24\", \"2021-03-25\", \"2021-03-26\", \"2021-03-27\", \"2021-03-28\", \"2021-03-29\", \"2021-03-30\", \"2021-03-31\", \"2021-04-01\", \"2021-04-02\", \"2021-04-03\", \"2021-04-04\", \"2021-04-05\"], \"xaxis\": \"x\", \"y\": [49, 78, 115, 132, 123, 118, 96, 90, 60, 89, 130, 98, 92, 33, 39, 45, 40, 72, 92, 53, 85, 62, 49, 64, 91, 98, 62, 172, 147, 97, 75, 84, 94, 87, 118, 107, 81, 58, 80, 85, 118, 47, 57, 46, 64, 78, 75, 69, 78, 67, 26, 24, 44, 30, 62, 56, 35, 283, 431, 370, 424, 382, 408, 319, 208, 281, 357, 402, 461, 437, 346, 236, 405, 355, 568, 521, 582, 363, 442, 2420, 733, 1111, 853, 686, 453, 323, 459, 587, 624, 742, 712, 450, 369, 817, 1216, 844, 797, 797, 831, 530, 777, 670, 733, 623, 526, 463, 386, 671, 844, 1005, 774, 593, 678, 403, 83], \"yaxis\": \"y\"}, {\"hovertemplate\": \"sentiment=Positive<br>date=%{x}<br>tweets=%{y}<extra></extra>\", \"legendgroup\": \"Positive\", \"line\": {\"color\": \"#636EFA\", \"dash\": \"solid\"}, \"mode\": \"lines\", \"name\": \"Positive\", \"orientation\": \"v\", \"showlegend\": true, \"type\": \"scatter\", \"x\": [\"2020-12-12\", \"2020-12-13\", \"2020-12-14\", \"2020-12-15\", \"2020-12-16\", \"2020-12-17\", \"2020-12-18\", \"2020-12-19\", \"2020-12-20\", \"2020-12-21\", \"2020-12-22\", \"2020-12-23\", \"2020-12-24\", \"2020-12-25\", \"2020-12-26\", \"2020-12-27\", \"2020-12-28\", \"2020-12-29\", \"2020-12-30\", \"2020-12-31\", \"2021-01-01\", \"2021-01-02\", \"2021-01-03\", \"2021-01-04\", \"2021-01-05\", \"2021-01-06\", \"2021-01-07\", \"2021-01-08\", \"2021-01-09\", \"2021-01-10\", \"2021-01-11\", \"2021-01-12\", \"2021-01-13\", \"2021-01-14\", \"2021-01-15\", \"2021-01-16\", \"2021-01-17\", \"2021-01-18\", \"2021-01-19\", \"2021-01-20\", \"2021-01-21\", \"2021-01-22\", \"2021-01-23\", \"2021-01-24\", \"2021-01-25\", \"2021-01-26\", \"2021-01-27\", \"2021-01-28\", \"2021-01-29\", \"2021-01-30\", \"2021-01-31\", \"2021-02-01\", \"2021-02-02\", \"2021-02-03\", \"2021-02-04\", \"2021-02-05\", \"2021-02-06\", \"2021-02-07\", \"2021-02-08\", \"2021-02-09\", \"2021-02-10\", \"2021-02-11\", \"2021-02-12\", \"2021-02-13\", \"2021-02-14\", \"2021-02-15\", \"2021-02-16\", \"2021-02-17\", \"2021-02-18\", \"2021-02-19\", \"2021-02-20\", \"2021-02-21\", \"2021-02-22\", \"2021-02-23\", \"2021-02-24\", \"2021-02-25\", \"2021-02-26\", \"2021-02-27\", \"2021-02-28\", \"2021-03-01\", \"2021-03-02\", \"2021-03-03\", \"2021-03-04\", \"2021-03-05\", \"2021-03-06\", \"2021-03-07\", \"2021-03-08\", \"2021-03-09\", \"2021-03-10\", \"2021-03-11\", \"2021-03-12\", \"2021-03-13\", \"2021-03-14\", \"2021-03-15\", \"2021-03-16\", \"2021-03-17\", \"2021-03-18\", \"2021-03-19\", \"2021-03-20\", \"2021-03-21\", \"2021-03-22\", \"2021-03-23\", \"2021-03-24\", \"2021-03-25\", \"2021-03-26\", \"2021-03-27\", \"2021-03-28\", \"2021-03-29\", \"2021-03-30\", \"2021-03-31\", \"2021-04-01\", \"2021-04-02\", \"2021-04-03\", \"2021-04-04\", \"2021-04-05\"], \"xaxis\": \"x\", \"y\": [14, 19, 20, 17, 21, 21, 15, 19, 8, 12, 26, 25, 22, 7, 8, 14, 13, 13, 15, 19, 10, 21, 7, 8, 20, 14, 14, 37, 23, 21, 18, 22, 16, 18, 29, 21, 18, 8, 20, 19, 26, 18, 8, 7, 13, 13, 14, 11, 16, 6, 4, 7, 8, 7, 7, 13, 4, 52, 73, 89, 77, 64, 86, 70, 49, 59, 64, 96, 100, 79, 46, 32, 71, 50, 90, 95, 93, 97, 63, 479, 121, 235, 159, 131, 102, 63, 85, 120, 128, 163, 132, 84, 70, 138, 194, 134, 165, 173, 160, 87, 135, 129, 138, 98, 99, 92, 58, 101, 165, 187, 158, 111, 127, 71, 12], \"yaxis\": \"y\"}, {\"hovertemplate\": \"sentiment=Negative<br>date=%{x}<br>tweets=%{y}<extra></extra>\", \"legendgroup\": \"Negative\", \"line\": {\"color\": \"#00CC96\", \"dash\": \"solid\"}, \"mode\": \"lines\", \"name\": \"Negative\", \"orientation\": \"v\", \"showlegend\": true, \"type\": \"scatter\", \"x\": [\"2020-12-13\", \"2020-12-14\", \"2020-12-15\", \"2020-12-18\", \"2020-12-19\", \"2020-12-21\", \"2020-12-22\", \"2021-01-08\", \"2021-01-13\", \"2021-01-14\", \"2021-01-15\", \"2021-01-16\", \"2021-01-21\", \"2021-01-29\", \"2021-02-02\", \"2021-02-05\", \"2021-02-07\", \"2021-02-08\", \"2021-02-10\", \"2021-02-11\", \"2021-02-12\", \"2021-02-13\", \"2021-02-14\", \"2021-02-15\", \"2021-02-17\", \"2021-02-18\", \"2021-02-19\", \"2021-02-20\", \"2021-02-21\", \"2021-02-22\", \"2021-02-23\", \"2021-02-25\", \"2021-02-26\", \"2021-02-27\", \"2021-02-28\", \"2021-03-01\", \"2021-03-02\", \"2021-03-03\", \"2021-03-04\", \"2021-03-06\", \"2021-03-07\", \"2021-03-08\", \"2021-03-09\", \"2021-03-10\", \"2021-03-11\", \"2021-03-12\", \"2021-03-13\", \"2021-03-14\", \"2021-03-15\", \"2021-03-16\", \"2021-03-17\", \"2021-03-18\", \"2021-03-19\", \"2021-03-20\", \"2021-03-21\", \"2021-03-22\", \"2021-03-23\", \"2021-03-24\", \"2021-03-25\", \"2021-03-26\", \"2021-03-27\", \"2021-03-28\", \"2021-03-29\", \"2021-03-30\", \"2021-03-31\", \"2021-04-01\", \"2021-04-02\", \"2021-04-03\", \"2021-04-04\", \"2021-04-05\"], \"xaxis\": \"x\", \"y\": [1, 2, 1, 1, 1, 1, 1, 1, 1, 1, 1, 1, 1, 2, 1, 1, 4, 7, 3, 2, 3, 2, 2, 3, 1, 1, 1, 1, 1, 4, 1, 6, 2, 2, 3, 12, 5, 3, 3, 2, 1, 2, 1, 8, 6, 9, 4, 8, 3, 5, 3, 7, 2, 4, 3, 7, 4, 3, 2, 4, 1, 4, 1, 4, 4, 4, 2, 2, 4, 2], \"yaxis\": \"y\"}],                        {\"legend\": {\"title\": {\"text\": \"sentiment\"}, \"tracegroupgap\": 0}, \"template\": {\"data\": {\"bar\": [{\"error_x\": {\"color\": \"#2a3f5f\"}, \"error_y\": {\"color\": \"#2a3f5f\"}, \"marker\": {\"line\": {\"color\": \"#E5ECF6\", \"width\": 0.5}}, \"type\": \"bar\"}], \"barpolar\": [{\"marker\": {\"line\": {\"color\": \"#E5ECF6\", \"width\": 0.5}}, \"type\": \"barpolar\"}], \"carpet\": [{\"aaxis\": {\"endlinecolor\": \"#2a3f5f\", \"gridcolor\": \"white\", \"linecolor\": \"white\", \"minorgridcolor\": \"white\", \"startlinecolor\": \"#2a3f5f\"}, \"baxis\": {\"endlinecolor\": \"#2a3f5f\", \"gridcolor\": \"white\", \"linecolor\": \"white\", \"minorgridcolor\": \"white\", \"startlinecolor\": \"#2a3f5f\"}, \"type\": \"carpet\"}], \"choropleth\": [{\"colorbar\": {\"outlinewidth\": 0, \"ticks\": \"\"}, \"type\": \"choropleth\"}], \"contour\": [{\"colorbar\": {\"outlinewidth\": 0, \"ticks\": \"\"}, \"colorscale\": [[0.0, \"#0d0887\"], [0.1111111111111111, \"#46039f\"], [0.2222222222222222, \"#7201a8\"], [0.3333333333333333, \"#9c179e\"], [0.4444444444444444, \"#bd3786\"], [0.5555555555555556, \"#d8576b\"], [0.6666666666666666, \"#ed7953\"], [0.7777777777777778, \"#fb9f3a\"], [0.8888888888888888, \"#fdca26\"], [1.0, \"#f0f921\"]], \"type\": \"contour\"}], \"contourcarpet\": [{\"colorbar\": {\"outlinewidth\": 0, \"ticks\": \"\"}, \"type\": \"contourcarpet\"}], \"heatmap\": [{\"colorbar\": {\"outlinewidth\": 0, \"ticks\": \"\"}, \"colorscale\": [[0.0, \"#0d0887\"], [0.1111111111111111, \"#46039f\"], [0.2222222222222222, \"#7201a8\"], [0.3333333333333333, \"#9c179e\"], [0.4444444444444444, \"#bd3786\"], [0.5555555555555556, \"#d8576b\"], [0.6666666666666666, \"#ed7953\"], [0.7777777777777778, \"#fb9f3a\"], [0.8888888888888888, \"#fdca26\"], [1.0, \"#f0f921\"]], \"type\": \"heatmap\"}], \"heatmapgl\": [{\"colorbar\": {\"outlinewidth\": 0, \"ticks\": \"\"}, \"colorscale\": [[0.0, \"#0d0887\"], [0.1111111111111111, \"#46039f\"], [0.2222222222222222, \"#7201a8\"], [0.3333333333333333, \"#9c179e\"], [0.4444444444444444, \"#bd3786\"], [0.5555555555555556, \"#d8576b\"], [0.6666666666666666, \"#ed7953\"], [0.7777777777777778, \"#fb9f3a\"], [0.8888888888888888, \"#fdca26\"], [1.0, \"#f0f921\"]], \"type\": \"heatmapgl\"}], \"histogram\": [{\"marker\": {\"colorbar\": {\"outlinewidth\": 0, \"ticks\": \"\"}}, \"type\": \"histogram\"}], \"histogram2d\": [{\"colorbar\": {\"outlinewidth\": 0, \"ticks\": \"\"}, \"colorscale\": [[0.0, \"#0d0887\"], [0.1111111111111111, \"#46039f\"], [0.2222222222222222, \"#7201a8\"], [0.3333333333333333, \"#9c179e\"], [0.4444444444444444, \"#bd3786\"], [0.5555555555555556, \"#d8576b\"], [0.6666666666666666, \"#ed7953\"], [0.7777777777777778, \"#fb9f3a\"], [0.8888888888888888, \"#fdca26\"], [1.0, \"#f0f921\"]], \"type\": \"histogram2d\"}], \"histogram2dcontour\": [{\"colorbar\": {\"outlinewidth\": 0, \"ticks\": \"\"}, \"colorscale\": [[0.0, \"#0d0887\"], [0.1111111111111111, \"#46039f\"], [0.2222222222222222, \"#7201a8\"], [0.3333333333333333, \"#9c179e\"], [0.4444444444444444, \"#bd3786\"], [0.5555555555555556, \"#d8576b\"], [0.6666666666666666, \"#ed7953\"], [0.7777777777777778, \"#fb9f3a\"], [0.8888888888888888, \"#fdca26\"], [1.0, \"#f0f921\"]], \"type\": \"histogram2dcontour\"}], \"mesh3d\": [{\"colorbar\": {\"outlinewidth\": 0, \"ticks\": \"\"}, \"type\": \"mesh3d\"}], \"parcoords\": [{\"line\": {\"colorbar\": {\"outlinewidth\": 0, \"ticks\": \"\"}}, \"type\": \"parcoords\"}], \"pie\": [{\"automargin\": true, \"type\": \"pie\"}], \"scatter\": [{\"marker\": {\"colorbar\": {\"outlinewidth\": 0, \"ticks\": \"\"}}, \"type\": \"scatter\"}], \"scatter3d\": [{\"line\": {\"colorbar\": {\"outlinewidth\": 0, \"ticks\": \"\"}}, \"marker\": {\"colorbar\": {\"outlinewidth\": 0, \"ticks\": \"\"}}, \"type\": \"scatter3d\"}], \"scattercarpet\": [{\"marker\": {\"colorbar\": {\"outlinewidth\": 0, \"ticks\": \"\"}}, \"type\": \"scattercarpet\"}], \"scattergeo\": [{\"marker\": {\"colorbar\": {\"outlinewidth\": 0, \"ticks\": \"\"}}, \"type\": \"scattergeo\"}], \"scattergl\": [{\"marker\": {\"colorbar\": {\"outlinewidth\": 0, \"ticks\": \"\"}}, \"type\": \"scattergl\"}], \"scattermapbox\": [{\"marker\": {\"colorbar\": {\"outlinewidth\": 0, \"ticks\": \"\"}}, \"type\": \"scattermapbox\"}], \"scatterpolar\": [{\"marker\": {\"colorbar\": {\"outlinewidth\": 0, \"ticks\": \"\"}}, \"type\": \"scatterpolar\"}], \"scatterpolargl\": [{\"marker\": {\"colorbar\": {\"outlinewidth\": 0, \"ticks\": \"\"}}, \"type\": \"scatterpolargl\"}], \"scatterternary\": [{\"marker\": {\"colorbar\": {\"outlinewidth\": 0, \"ticks\": \"\"}}, \"type\": \"scatterternary\"}], \"surface\": [{\"colorbar\": {\"outlinewidth\": 0, \"ticks\": \"\"}, \"colorscale\": [[0.0, \"#0d0887\"], [0.1111111111111111, \"#46039f\"], [0.2222222222222222, \"#7201a8\"], [0.3333333333333333, \"#9c179e\"], [0.4444444444444444, \"#bd3786\"], [0.5555555555555556, \"#d8576b\"], [0.6666666666666666, \"#ed7953\"], [0.7777777777777778, \"#fb9f3a\"], [0.8888888888888888, \"#fdca26\"], [1.0, \"#f0f921\"]], \"type\": \"surface\"}], \"table\": [{\"cells\": {\"fill\": {\"color\": \"#EBF0F8\"}, \"line\": {\"color\": \"white\"}}, \"header\": {\"fill\": {\"color\": \"#C8D4E3\"}, \"line\": {\"color\": \"white\"}}, \"type\": \"table\"}]}, \"layout\": {\"annotationdefaults\": {\"arrowcolor\": \"#2a3f5f\", \"arrowhead\": 0, \"arrowwidth\": 1}, \"autotypenumbers\": \"strict\", \"coloraxis\": {\"colorbar\": {\"outlinewidth\": 0, \"ticks\": \"\"}}, \"colorscale\": {\"diverging\": [[0, \"#8e0152\"], [0.1, \"#c51b7d\"], [0.2, \"#de77ae\"], [0.3, \"#f1b6da\"], [0.4, \"#fde0ef\"], [0.5, \"#f7f7f7\"], [0.6, \"#e6f5d0\"], [0.7, \"#b8e186\"], [0.8, \"#7fbc41\"], [0.9, \"#4d9221\"], [1, \"#276419\"]], \"sequential\": [[0.0, \"#0d0887\"], [0.1111111111111111, \"#46039f\"], [0.2222222222222222, \"#7201a8\"], [0.3333333333333333, \"#9c179e\"], [0.4444444444444444, \"#bd3786\"], [0.5555555555555556, \"#d8576b\"], [0.6666666666666666, \"#ed7953\"], [0.7777777777777778, \"#fb9f3a\"], [0.8888888888888888, \"#fdca26\"], [1.0, \"#f0f921\"]], \"sequentialminus\": [[0.0, \"#0d0887\"], [0.1111111111111111, \"#46039f\"], [0.2222222222222222, \"#7201a8\"], [0.3333333333333333, \"#9c179e\"], [0.4444444444444444, \"#bd3786\"], [0.5555555555555556, \"#d8576b\"], [0.6666666666666666, \"#ed7953\"], [0.7777777777777778, \"#fb9f3a\"], [0.8888888888888888, \"#fdca26\"], [1.0, \"#f0f921\"]]}, \"colorway\": [\"#636efa\", \"#EF553B\", \"#00cc96\", \"#ab63fa\", \"#FFA15A\", \"#19d3f3\", \"#FF6692\", \"#B6E880\", \"#FF97FF\", \"#FECB52\"], \"font\": {\"color\": \"#2a3f5f\"}, \"geo\": {\"bgcolor\": \"white\", \"lakecolor\": \"white\", \"landcolor\": \"#E5ECF6\", \"showlakes\": true, \"showland\": true, \"subunitcolor\": \"white\"}, \"hoverlabel\": {\"align\": \"left\"}, \"hovermode\": \"closest\", \"mapbox\": {\"style\": \"light\"}, \"paper_bgcolor\": \"white\", \"plot_bgcolor\": \"#E5ECF6\", \"polar\": {\"angularaxis\": {\"gridcolor\": \"white\", \"linecolor\": \"white\", \"ticks\": \"\"}, \"bgcolor\": \"#E5ECF6\", \"radialaxis\": {\"gridcolor\": \"white\", \"linecolor\": \"white\", \"ticks\": \"\"}}, \"scene\": {\"xaxis\": {\"backgroundcolor\": \"#E5ECF6\", \"gridcolor\": \"white\", \"gridwidth\": 2, \"linecolor\": \"white\", \"showbackground\": true, \"ticks\": \"\", \"zerolinecolor\": \"white\"}, \"yaxis\": {\"backgroundcolor\": \"#E5ECF6\", \"gridcolor\": \"white\", \"gridwidth\": 2, \"linecolor\": \"white\", \"showbackground\": true, \"ticks\": \"\", \"zerolinecolor\": \"white\"}, \"zaxis\": {\"backgroundcolor\": \"#E5ECF6\", \"gridcolor\": \"white\", \"gridwidth\": 2, \"linecolor\": \"white\", \"showbackground\": true, \"ticks\": \"\", \"zerolinecolor\": \"white\"}}, \"shapedefaults\": {\"line\": {\"color\": \"#2a3f5f\"}}, \"ternary\": {\"aaxis\": {\"gridcolor\": \"white\", \"linecolor\": \"white\", \"ticks\": \"\"}, \"baxis\": {\"gridcolor\": \"white\", \"linecolor\": \"white\", \"ticks\": \"\"}, \"bgcolor\": \"#E5ECF6\", \"caxis\": {\"gridcolor\": \"white\", \"linecolor\": \"white\", \"ticks\": \"\"}}, \"title\": {\"x\": 0.05}, \"xaxis\": {\"automargin\": true, \"gridcolor\": \"white\", \"linecolor\": \"white\", \"ticks\": \"\", \"title\": {\"standoff\": 15}, \"zerolinecolor\": \"white\", \"zerolinewidth\": 2}, \"yaxis\": {\"automargin\": true, \"gridcolor\": \"white\", \"linecolor\": \"white\", \"ticks\": \"\", \"title\": {\"standoff\": 15}, \"zerolinecolor\": \"white\", \"zerolinewidth\": 2}}}, \"title\": {\"text\": \"Timeline showing sentiment of tweets about COVID-19 vaccines\"}, \"xaxis\": {\"anchor\": \"y\", \"domain\": [0.0, 1.0], \"title\": {\"text\": \"date\"}}, \"yaxis\": {\"anchor\": \"x\", \"domain\": [0.0, 1.0], \"title\": {\"text\": \"tweets\"}}},                        {\"responsive\": true}                    ).then(function(){\n",
       "                            \n",
       "var gd = document.getElementById('f778c1c5-213d-4904-bf0d-976b6ee00a2e');\n",
       "var x = new MutationObserver(function (mutations, observer) {{\n",
       "        var display = window.getComputedStyle(gd).display;\n",
       "        if (!display || display === 'none') {{\n",
       "            console.log([gd, 'removed!']);\n",
       "            Plotly.purge(gd);\n",
       "            observer.disconnect();\n",
       "        }}\n",
       "}});\n",
       "\n",
       "// Listen for the removal of the full notebook cells\n",
       "var notebookContainer = gd.closest('#notebook-container');\n",
       "if (notebookContainer) {{\n",
       "    x.observe(notebookContainer, {childList: true});\n",
       "}}\n",
       "\n",
       "// Listen for the clearing of the current output cell\n",
       "var outputEl = gd.closest('.output');\n",
       "if (outputEl) {{\n",
       "    x.observe(outputEl, {childList: true});\n",
       "}}\n",
       "\n",
       "                        })                };                });            </script>        </div>"
      ]
     },
     "metadata": {},
     "output_type": "display_data"
    }
   ],
   "source": [
    "# Convert dates\n",
    "covidtweets['date'] = pd.to_datetime(covidtweets['date'], errors='coerce').dt.date\n",
    "\n",
    "# Get counts of number of tweets by sentiment for each date\n",
    "timeline = covidtweets.groupby(['date', 'sentiment']).agg(**{'tweets': ('id', 'count')}).reset_index().dropna()\n",
    "\n",
    "fig = px.line(timeline, x='date', y='tweets', color='sentiment', color_discrete_sequence=[\"#EF553B\", \"#636EFA\", \"#00CC96\"], category_orders={'sentiment': ['neutral', 'negative', 'positive']},\n",
    "             title='Timeline showing sentiment of tweets about COVID-19 vaccines')\n",
    "fig.show()"
   ]
  },
  {
   "cell_type": "markdown",
   "id": "persistent-static",
   "metadata": {
    "papermill": {
     "duration": 0.398165,
     "end_time": "2021-04-05T11:38:33.062757",
     "exception": false,
     "start_time": "2021-04-05T11:38:32.664592",
     "status": "completed"
    },
    "tags": []
   },
   "source": [
    "Z scores of negative sentiment for each vaccine:"
   ]
  },
  {
   "cell_type": "code",
   "execution_count": 41,
   "id": "focused-center",
   "metadata": {
    "execution": {
     "iopub.execute_input": "2021-04-05T11:38:33.880358Z",
     "iopub.status.busy": "2021-04-05T11:38:33.879630Z",
     "iopub.status.idle": "2021-04-05T11:38:35.864129Z",
     "shell.execute_reply": "2021-04-05T11:38:35.864537Z"
    },
    "papermill": {
     "duration": 2.396136,
     "end_time": "2021-04-05T11:38:35.864705",
     "exception": false,
     "start_time": "2021-04-05T11:38:33.468569",
     "status": "completed"
    },
    "tags": []
   },
   "outputs": [
    {
     "data": {
      "text/html": [
       "<div>                            <div id=\"b31ff33f-4be3-40bb-b7c4-f36c1f39660d\" class=\"plotly-graph-div\" style=\"height:525px; width:100%;\"></div>            <script type=\"text/javascript\">                require([\"plotly\"], function(Plotly) {                    window.PLOTLYENV=window.PLOTLYENV || {};                                    if (document.getElementById(\"b31ff33f-4be3-40bb-b7c4-f36c1f39660d\")) {                    Plotly.newPlot(                        \"b31ff33f-4be3-40bb-b7c4-f36c1f39660d\",                        [{\"hovertemplate\": \"sentiment=Positive<br>date=%{x}<br>tweets=%{y}<extra></extra>\", \"legendgroup\": \"Positive\", \"line\": {\"color\": \"#636efa\", \"dash\": \"solid\"}, \"mode\": \"lines\", \"name\": \"Positive\", \"orientation\": \"v\", \"showlegend\": true, \"type\": \"scatter\", \"x\": [\"2021-01-16\", \"2021-02-07\", \"2021-02-08\", \"2021-02-09\", \"2021-02-10\", \"2021-02-11\", \"2021-02-12\", \"2021-02-13\", \"2021-02-14\", \"2021-02-15\", \"2021-02-16\", \"2021-02-17\", \"2021-02-18\", \"2021-02-19\", \"2021-02-20\", \"2021-02-21\", \"2021-02-22\", \"2021-02-23\", \"2021-02-24\", \"2021-02-25\", \"2021-02-26\", \"2021-02-27\", \"2021-02-28\", \"2021-03-01\", \"2021-03-02\", \"2021-03-03\", \"2021-03-04\", \"2021-03-05\", \"2021-03-06\", \"2021-03-07\", \"2021-03-08\", \"2021-03-09\", \"2021-03-10\", \"2021-03-11\", \"2021-03-12\", \"2021-03-13\", \"2021-03-14\", \"2021-03-15\", \"2021-03-16\", \"2021-03-17\", \"2021-03-18\", \"2021-03-19\", \"2021-03-20\", \"2021-03-21\", \"2021-03-22\", \"2021-03-23\", \"2021-03-24\", \"2021-03-25\", \"2021-03-26\", \"2021-03-27\", \"2021-03-28\", \"2021-03-29\", \"2021-03-30\", \"2021-03-31\", \"2021-04-01\", \"2021-04-02\", \"2021-04-03\", \"2021-04-04\", \"2021-04-05\"], \"xaxis\": \"x\", \"y\": [1, 2, 3, 2, 2, 1, 11, 9, 4, 1, 2, 1, 7, 5, 2, 5, 3, 3, 2, 2, 6, 7, 3, 234, 19, 82, 31, 19, 4, 3, 4, 18, 16, 25, 8, 1, 2, 10, 12, 6, 3, 12, 7, 7, 8, 6, 5, 5, 3, 6, 4, 2, 8, 8, 11, 13, 12, 6, 1], \"yaxis\": \"y\"}, {\"hovertemplate\": \"sentiment=Neutral<br>date=%{x}<br>tweets=%{y}<extra></extra>\", \"legendgroup\": \"Neutral\", \"line\": {\"color\": \"#EF553B\", \"dash\": \"solid\"}, \"mode\": \"lines\", \"name\": \"Neutral\", \"orientation\": \"v\", \"showlegend\": true, \"type\": \"scatter\", \"x\": [\"2021-02-07\", \"2021-02-08\", \"2021-02-09\", \"2021-02-10\", \"2021-02-11\", \"2021-02-12\", \"2021-02-13\", \"2021-02-14\", \"2021-02-15\", \"2021-02-16\", \"2021-02-17\", \"2021-02-18\", \"2021-02-19\", \"2021-02-20\", \"2021-02-21\", \"2021-02-22\", \"2021-02-23\", \"2021-02-24\", \"2021-02-25\", \"2021-02-26\", \"2021-02-27\", \"2021-02-28\", \"2021-03-01\", \"2021-03-02\", \"2021-03-03\", \"2021-03-04\", \"2021-03-05\", \"2021-03-06\", \"2021-03-07\", \"2021-03-08\", \"2021-03-09\", \"2021-03-10\", \"2021-03-11\", \"2021-03-12\", \"2021-03-13\", \"2021-03-14\", \"2021-03-15\", \"2021-03-16\", \"2021-03-17\", \"2021-03-18\", \"2021-03-19\", \"2021-03-20\", \"2021-03-21\", \"2021-03-22\", \"2021-03-23\", \"2021-03-24\", \"2021-03-25\", \"2021-03-26\", \"2021-03-27\", \"2021-03-28\", \"2021-03-29\", \"2021-03-30\", \"2021-03-31\", \"2021-04-01\", \"2021-04-02\", \"2021-04-03\", \"2021-04-04\", \"2021-04-05\"], \"xaxis\": \"x\", \"y\": [8, 21, 13, 12, 28, 19, 25, 12, 5, 7, 10, 18, 15, 11, 9, 17, 11, 13, 11, 54, 25, 21, 763, 97, 322, 138, 92, 44, 19, 23, 83, 66, 91, 42, 20, 21, 27, 62, 33, 29, 43, 33, 24, 28, 19, 32, 34, 21, 27, 7, 16, 45, 47, 49, 42, 51, 28, 9], \"yaxis\": \"y\"}, {\"hovertemplate\": \"sentiment=Negative<br>date=%{x}<br>tweets=%{y}<extra></extra>\", \"legendgroup\": \"Negative\", \"line\": {\"color\": \"#00cc96\", \"dash\": \"solid\"}, \"mode\": \"lines\", \"name\": \"Negative\", \"orientation\": \"v\", \"showlegend\": true, \"type\": \"scatter\", \"x\": [\"2021-02-10\", \"2021-02-13\", \"2021-02-22\", \"2021-02-28\", \"2021-03-01\", \"2021-03-04\", \"2021-03-11\", \"2021-03-23\", \"2021-04-03\", \"2021-04-05\"], \"xaxis\": \"x\", \"y\": [1, 1, 1, 1, 5, 2, 2, 1, 1, 1], \"yaxis\": \"y\"}],                        {\"legend\": {\"title\": {\"text\": \"sentiment\"}, \"tracegroupgap\": 0}, \"template\": {\"data\": {\"bar\": [{\"error_x\": {\"color\": \"#2a3f5f\"}, \"error_y\": {\"color\": \"#2a3f5f\"}, \"marker\": {\"line\": {\"color\": \"#E5ECF6\", \"width\": 0.5}}, \"type\": \"bar\"}], \"barpolar\": [{\"marker\": {\"line\": {\"color\": \"#E5ECF6\", \"width\": 0.5}}, \"type\": \"barpolar\"}], \"carpet\": [{\"aaxis\": {\"endlinecolor\": \"#2a3f5f\", \"gridcolor\": \"white\", \"linecolor\": \"white\", \"minorgridcolor\": \"white\", \"startlinecolor\": \"#2a3f5f\"}, \"baxis\": {\"endlinecolor\": \"#2a3f5f\", \"gridcolor\": \"white\", \"linecolor\": \"white\", \"minorgridcolor\": \"white\", \"startlinecolor\": \"#2a3f5f\"}, \"type\": \"carpet\"}], \"choropleth\": [{\"colorbar\": {\"outlinewidth\": 0, \"ticks\": \"\"}, \"type\": \"choropleth\"}], \"contour\": [{\"colorbar\": {\"outlinewidth\": 0, \"ticks\": \"\"}, \"colorscale\": [[0.0, \"#0d0887\"], [0.1111111111111111, \"#46039f\"], [0.2222222222222222, \"#7201a8\"], [0.3333333333333333, \"#9c179e\"], [0.4444444444444444, \"#bd3786\"], [0.5555555555555556, \"#d8576b\"], [0.6666666666666666, \"#ed7953\"], [0.7777777777777778, \"#fb9f3a\"], [0.8888888888888888, \"#fdca26\"], [1.0, \"#f0f921\"]], \"type\": \"contour\"}], \"contourcarpet\": [{\"colorbar\": {\"outlinewidth\": 0, \"ticks\": \"\"}, \"type\": \"contourcarpet\"}], \"heatmap\": [{\"colorbar\": {\"outlinewidth\": 0, \"ticks\": \"\"}, \"colorscale\": [[0.0, \"#0d0887\"], [0.1111111111111111, \"#46039f\"], [0.2222222222222222, \"#7201a8\"], [0.3333333333333333, \"#9c179e\"], [0.4444444444444444, \"#bd3786\"], [0.5555555555555556, \"#d8576b\"], [0.6666666666666666, \"#ed7953\"], [0.7777777777777778, \"#fb9f3a\"], [0.8888888888888888, \"#fdca26\"], [1.0, \"#f0f921\"]], \"type\": \"heatmap\"}], \"heatmapgl\": [{\"colorbar\": {\"outlinewidth\": 0, \"ticks\": \"\"}, \"colorscale\": [[0.0, \"#0d0887\"], [0.1111111111111111, \"#46039f\"], [0.2222222222222222, \"#7201a8\"], [0.3333333333333333, \"#9c179e\"], [0.4444444444444444, \"#bd3786\"], [0.5555555555555556, \"#d8576b\"], [0.6666666666666666, \"#ed7953\"], [0.7777777777777778, \"#fb9f3a\"], [0.8888888888888888, \"#fdca26\"], [1.0, \"#f0f921\"]], \"type\": \"heatmapgl\"}], \"histogram\": [{\"marker\": {\"colorbar\": {\"outlinewidth\": 0, \"ticks\": \"\"}}, \"type\": \"histogram\"}], \"histogram2d\": [{\"colorbar\": {\"outlinewidth\": 0, \"ticks\": \"\"}, \"colorscale\": [[0.0, \"#0d0887\"], [0.1111111111111111, \"#46039f\"], [0.2222222222222222, \"#7201a8\"], [0.3333333333333333, \"#9c179e\"], [0.4444444444444444, \"#bd3786\"], [0.5555555555555556, \"#d8576b\"], [0.6666666666666666, \"#ed7953\"], [0.7777777777777778, \"#fb9f3a\"], [0.8888888888888888, \"#fdca26\"], [1.0, \"#f0f921\"]], \"type\": \"histogram2d\"}], \"histogram2dcontour\": [{\"colorbar\": {\"outlinewidth\": 0, \"ticks\": \"\"}, \"colorscale\": [[0.0, \"#0d0887\"], [0.1111111111111111, \"#46039f\"], [0.2222222222222222, \"#7201a8\"], [0.3333333333333333, \"#9c179e\"], [0.4444444444444444, \"#bd3786\"], [0.5555555555555556, \"#d8576b\"], [0.6666666666666666, \"#ed7953\"], [0.7777777777777778, \"#fb9f3a\"], [0.8888888888888888, \"#fdca26\"], [1.0, \"#f0f921\"]], \"type\": \"histogram2dcontour\"}], \"mesh3d\": [{\"colorbar\": {\"outlinewidth\": 0, \"ticks\": \"\"}, \"type\": \"mesh3d\"}], \"parcoords\": [{\"line\": {\"colorbar\": {\"outlinewidth\": 0, \"ticks\": \"\"}}, \"type\": \"parcoords\"}], \"pie\": [{\"automargin\": true, \"type\": \"pie\"}], \"scatter\": [{\"marker\": {\"colorbar\": {\"outlinewidth\": 0, \"ticks\": \"\"}}, \"type\": \"scatter\"}], \"scatter3d\": [{\"line\": {\"colorbar\": {\"outlinewidth\": 0, \"ticks\": \"\"}}, \"marker\": {\"colorbar\": {\"outlinewidth\": 0, \"ticks\": \"\"}}, \"type\": \"scatter3d\"}], \"scattercarpet\": [{\"marker\": {\"colorbar\": {\"outlinewidth\": 0, \"ticks\": \"\"}}, \"type\": \"scattercarpet\"}], \"scattergeo\": [{\"marker\": {\"colorbar\": {\"outlinewidth\": 0, \"ticks\": \"\"}}, \"type\": \"scattergeo\"}], \"scattergl\": [{\"marker\": {\"colorbar\": {\"outlinewidth\": 0, \"ticks\": \"\"}}, \"type\": \"scattergl\"}], \"scattermapbox\": [{\"marker\": {\"colorbar\": {\"outlinewidth\": 0, \"ticks\": \"\"}}, \"type\": \"scattermapbox\"}], \"scatterpolar\": [{\"marker\": {\"colorbar\": {\"outlinewidth\": 0, \"ticks\": \"\"}}, \"type\": \"scatterpolar\"}], \"scatterpolargl\": [{\"marker\": {\"colorbar\": {\"outlinewidth\": 0, \"ticks\": \"\"}}, \"type\": \"scatterpolargl\"}], \"scatterternary\": [{\"marker\": {\"colorbar\": {\"outlinewidth\": 0, \"ticks\": \"\"}}, \"type\": \"scatterternary\"}], \"surface\": [{\"colorbar\": {\"outlinewidth\": 0, \"ticks\": \"\"}, \"colorscale\": [[0.0, \"#0d0887\"], [0.1111111111111111, \"#46039f\"], [0.2222222222222222, \"#7201a8\"], [0.3333333333333333, \"#9c179e\"], [0.4444444444444444, \"#bd3786\"], [0.5555555555555556, \"#d8576b\"], [0.6666666666666666, \"#ed7953\"], [0.7777777777777778, \"#fb9f3a\"], [0.8888888888888888, \"#fdca26\"], [1.0, \"#f0f921\"]], \"type\": \"surface\"}], \"table\": [{\"cells\": {\"fill\": {\"color\": \"#EBF0F8\"}, \"line\": {\"color\": \"white\"}}, \"header\": {\"fill\": {\"color\": \"#C8D4E3\"}, \"line\": {\"color\": \"white\"}}, \"type\": \"table\"}]}, \"layout\": {\"annotationdefaults\": {\"arrowcolor\": \"#2a3f5f\", \"arrowhead\": 0, \"arrowwidth\": 1}, \"autotypenumbers\": \"strict\", \"coloraxis\": {\"colorbar\": {\"outlinewidth\": 0, \"ticks\": \"\"}}, \"colorscale\": {\"diverging\": [[0, \"#8e0152\"], [0.1, \"#c51b7d\"], [0.2, \"#de77ae\"], [0.3, \"#f1b6da\"], [0.4, \"#fde0ef\"], [0.5, \"#f7f7f7\"], [0.6, \"#e6f5d0\"], [0.7, \"#b8e186\"], [0.8, \"#7fbc41\"], [0.9, \"#4d9221\"], [1, \"#276419\"]], \"sequential\": [[0.0, \"#0d0887\"], [0.1111111111111111, \"#46039f\"], [0.2222222222222222, \"#7201a8\"], [0.3333333333333333, \"#9c179e\"], [0.4444444444444444, \"#bd3786\"], [0.5555555555555556, \"#d8576b\"], [0.6666666666666666, \"#ed7953\"], [0.7777777777777778, \"#fb9f3a\"], [0.8888888888888888, \"#fdca26\"], [1.0, \"#f0f921\"]], \"sequentialminus\": [[0.0, \"#0d0887\"], [0.1111111111111111, \"#46039f\"], [0.2222222222222222, \"#7201a8\"], [0.3333333333333333, \"#9c179e\"], [0.4444444444444444, \"#bd3786\"], [0.5555555555555556, \"#d8576b\"], [0.6666666666666666, \"#ed7953\"], [0.7777777777777778, \"#fb9f3a\"], [0.8888888888888888, \"#fdca26\"], [1.0, \"#f0f921\"]]}, \"colorway\": [\"#636efa\", \"#EF553B\", \"#00cc96\", \"#ab63fa\", \"#FFA15A\", \"#19d3f3\", \"#FF6692\", \"#B6E880\", \"#FF97FF\", \"#FECB52\"], \"font\": {\"color\": \"#2a3f5f\"}, \"geo\": {\"bgcolor\": \"white\", \"lakecolor\": \"white\", \"landcolor\": \"#E5ECF6\", \"showlakes\": true, \"showland\": true, \"subunitcolor\": \"white\"}, \"hoverlabel\": {\"align\": \"left\"}, \"hovermode\": \"closest\", \"mapbox\": {\"style\": \"light\"}, \"paper_bgcolor\": \"white\", \"plot_bgcolor\": \"#E5ECF6\", \"polar\": {\"angularaxis\": {\"gridcolor\": \"white\", \"linecolor\": \"white\", \"ticks\": \"\"}, \"bgcolor\": \"#E5ECF6\", \"radialaxis\": {\"gridcolor\": \"white\", \"linecolor\": \"white\", \"ticks\": \"\"}}, \"scene\": {\"xaxis\": {\"backgroundcolor\": \"#E5ECF6\", \"gridcolor\": \"white\", \"gridwidth\": 2, \"linecolor\": \"white\", \"showbackground\": true, \"ticks\": \"\", \"zerolinecolor\": \"white\"}, \"yaxis\": {\"backgroundcolor\": \"#E5ECF6\", \"gridcolor\": \"white\", \"gridwidth\": 2, \"linecolor\": \"white\", \"showbackground\": true, \"ticks\": \"\", \"zerolinecolor\": \"white\"}, \"zaxis\": {\"backgroundcolor\": \"#E5ECF6\", \"gridcolor\": \"white\", \"gridwidth\": 2, \"linecolor\": \"white\", \"showbackground\": true, \"ticks\": \"\", \"zerolinecolor\": \"white\"}}, \"shapedefaults\": {\"line\": {\"color\": \"#2a3f5f\"}}, \"ternary\": {\"aaxis\": {\"gridcolor\": \"white\", \"linecolor\": \"white\", \"ticks\": \"\"}, \"baxis\": {\"gridcolor\": \"white\", \"linecolor\": \"white\", \"ticks\": \"\"}, \"bgcolor\": \"#E5ECF6\", \"caxis\": {\"gridcolor\": \"white\", \"linecolor\": \"white\", \"ticks\": \"\"}}, \"title\": {\"x\": 0.05}, \"xaxis\": {\"automargin\": true, \"gridcolor\": \"white\", \"linecolor\": \"white\", \"ticks\": \"\", \"title\": {\"standoff\": 15}, \"zerolinecolor\": \"white\", \"zerolinewidth\": 2}, \"yaxis\": {\"automargin\": true, \"gridcolor\": \"white\", \"linecolor\": \"white\", \"ticks\": \"\", \"title\": {\"standoff\": 15}, \"zerolinecolor\": \"white\", \"zerolinewidth\": 2}}}, \"title\": {\"text\": \"Timeline showing sentiment of tweets about the Covaxin vaccine\"}, \"xaxis\": {\"anchor\": \"y\", \"domain\": [0.0, 1.0], \"title\": {\"text\": \"date\"}}, \"yaxis\": {\"anchor\": \"x\", \"domain\": [0.0, 1.0], \"title\": {\"text\": \"tweets\"}}},                        {\"responsive\": true}                    ).then(function(){\n",
       "                            \n",
       "var gd = document.getElementById('b31ff33f-4be3-40bb-b7c4-f36c1f39660d');\n",
       "var x = new MutationObserver(function (mutations, observer) {{\n",
       "        var display = window.getComputedStyle(gd).display;\n",
       "        if (!display || display === 'none') {{\n",
       "            console.log([gd, 'removed!']);\n",
       "            Plotly.purge(gd);\n",
       "            observer.disconnect();\n",
       "        }}\n",
       "}});\n",
       "\n",
       "// Listen for the removal of the full notebook cells\n",
       "var notebookContainer = gd.closest('#notebook-container');\n",
       "if (notebookContainer) {{\n",
       "    x.observe(notebookContainer, {childList: true});\n",
       "}}\n",
       "\n",
       "// Listen for the clearing of the current output cell\n",
       "var outputEl = gd.closest('.output');\n",
       "if (outputEl) {{\n",
       "    x.observe(outputEl, {childList: true});\n",
       "}}\n",
       "\n",
       "                        })                };                });            </script>        </div>"
      ]
     },
     "metadata": {},
     "output_type": "display_data"
    },
    {
     "data": {
      "text/html": [
       "<div>                            <div id=\"8320d296-d56e-4d43-820d-56bfd3dd7559\" class=\"plotly-graph-div\" style=\"height:525px; width:100%;\"></div>            <script type=\"text/javascript\">                require([\"plotly\"], function(Plotly) {                    window.PLOTLYENV=window.PLOTLYENV || {};                                    if (document.getElementById(\"8320d296-d56e-4d43-820d-56bfd3dd7559\")) {                    Plotly.newPlot(                        \"8320d296-d56e-4d43-820d-56bfd3dd7559\",                        [{\"hovertemplate\": \"sentiment=Neutral<br>date=%{x}<br>tweets=%{y}<extra></extra>\", \"legendgroup\": \"Neutral\", \"line\": {\"color\": \"#636efa\", \"dash\": \"solid\"}, \"mode\": \"lines\", \"name\": \"Neutral\", \"orientation\": \"v\", \"showlegend\": true, \"type\": \"scatter\", \"x\": [\"2020-12-15\", \"2020-12-20\", \"2020-12-22\", \"2021-01-17\", \"2021-02-07\", \"2021-02-08\", \"2021-02-09\", \"2021-02-10\", \"2021-02-11\", \"2021-02-12\", \"2021-02-13\", \"2021-02-14\", \"2021-02-15\", \"2021-02-16\", \"2021-02-17\", \"2021-02-18\", \"2021-02-19\", \"2021-02-20\", \"2021-02-21\", \"2021-02-22\", \"2021-02-23\", \"2021-02-24\", \"2021-02-25\", \"2021-02-26\", \"2021-02-27\", \"2021-02-28\", \"2021-03-01\", \"2021-03-02\", \"2021-03-03\", \"2021-03-04\", \"2021-03-05\", \"2021-03-06\", \"2021-03-07\", \"2021-03-08\", \"2021-03-09\", \"2021-03-10\", \"2021-03-11\", \"2021-03-12\", \"2021-03-13\", \"2021-03-14\", \"2021-03-15\", \"2021-03-16\", \"2021-03-17\", \"2021-03-18\", \"2021-03-19\", \"2021-03-20\", \"2021-03-21\", \"2021-03-22\", \"2021-03-23\", \"2021-03-24\", \"2021-03-25\", \"2021-03-26\", \"2021-03-27\", \"2021-03-28\", \"2021-03-29\", \"2021-03-30\", \"2021-03-31\", \"2021-04-01\", \"2021-04-02\", \"2021-04-03\", \"2021-04-04\", \"2021-04-05\"], \"xaxis\": \"x\", \"y\": [1, 1, 1, 2, 9, 12, 5, 6, 10, 7, 9, 4, 6, 9, 1, 26, 13, 15, 8, 36, 22, 34, 20, 31, 26, 53, 31, 22, 32, 29, 16, 12, 11, 25, 18, 23, 13, 13, 17, 11, 20, 17, 17, 20, 18, 18, 7, 26, 12, 21, 21, 35, 7, 20, 19, 15, 12, 10, 21, 14, 12, 6], \"yaxis\": \"y\"}, {\"hovertemplate\": \"sentiment=Positive<br>date=%{x}<br>tweets=%{y}<extra></extra>\", \"legendgroup\": \"Positive\", \"line\": {\"color\": \"#EF553B\", \"dash\": \"solid\"}, \"mode\": \"lines\", \"name\": \"Positive\", \"orientation\": \"v\", \"showlegend\": true, \"type\": \"scatter\", \"x\": [\"2020-12-16\", \"2021-02-07\", \"2021-02-08\", \"2021-02-10\", \"2021-02-11\", \"2021-02-13\", \"2021-02-14\", \"2021-02-15\", \"2021-02-17\", \"2021-02-18\", \"2021-02-20\", \"2021-02-22\", \"2021-02-23\", \"2021-02-24\", \"2021-02-25\", \"2021-02-26\", \"2021-02-27\", \"2021-02-28\", \"2021-03-01\", \"2021-03-02\", \"2021-03-03\", \"2021-03-04\", \"2021-03-05\", \"2021-03-06\", \"2021-03-07\", \"2021-03-08\", \"2021-03-09\", \"2021-03-10\", \"2021-03-11\", \"2021-03-12\", \"2021-03-13\", \"2021-03-14\", \"2021-03-16\", \"2021-03-17\", \"2021-03-18\", \"2021-03-19\", \"2021-03-20\", \"2021-03-22\", \"2021-03-23\", \"2021-03-24\", \"2021-03-25\", \"2021-03-26\", \"2021-03-28\", \"2021-03-29\", \"2021-03-30\", \"2021-03-31\", \"2021-04-01\", \"2021-04-02\", \"2021-04-03\", \"2021-04-04\", \"2021-04-05\"], \"xaxis\": \"x\", \"y\": [2, 3, 2, 3, 3, 2, 1, 1, 2, 10, 3, 9, 4, 3, 1, 2, 7, 10, 5, 3, 6, 1, 1, 4, 2, 5, 4, 4, 4, 6, 4, 2, 5, 1, 3, 3, 4, 1, 3, 4, 3, 1, 2, 4, 5, 4, 6, 4, 7, 4, 1], \"yaxis\": \"y\"}, {\"hovertemplate\": \"sentiment=Negative<br>date=%{x}<br>tweets=%{y}<extra></extra>\", \"legendgroup\": \"Negative\", \"line\": {\"color\": \"#00cc96\", \"dash\": \"solid\"}, \"mode\": \"lines\", \"name\": \"Negative\", \"orientation\": \"v\", \"showlegend\": true, \"type\": \"scatter\", \"x\": [\"2021-02-25\", \"2021-03-01\", \"2021-03-02\", \"2021-03-12\", \"2021-03-14\", \"2021-03-15\"], \"xaxis\": \"x\", \"y\": [2, 1, 1, 1, 1, 1], \"yaxis\": \"y\"}],                        {\"legend\": {\"title\": {\"text\": \"sentiment\"}, \"tracegroupgap\": 0}, \"template\": {\"data\": {\"bar\": [{\"error_x\": {\"color\": \"#2a3f5f\"}, \"error_y\": {\"color\": \"#2a3f5f\"}, \"marker\": {\"line\": {\"color\": \"#E5ECF6\", \"width\": 0.5}}, \"type\": \"bar\"}], \"barpolar\": [{\"marker\": {\"line\": {\"color\": \"#E5ECF6\", \"width\": 0.5}}, \"type\": \"barpolar\"}], \"carpet\": [{\"aaxis\": {\"endlinecolor\": \"#2a3f5f\", \"gridcolor\": \"white\", \"linecolor\": \"white\", \"minorgridcolor\": \"white\", \"startlinecolor\": \"#2a3f5f\"}, \"baxis\": {\"endlinecolor\": \"#2a3f5f\", \"gridcolor\": \"white\", \"linecolor\": \"white\", \"minorgridcolor\": \"white\", \"startlinecolor\": \"#2a3f5f\"}, \"type\": \"carpet\"}], \"choropleth\": [{\"colorbar\": {\"outlinewidth\": 0, \"ticks\": \"\"}, \"type\": \"choropleth\"}], \"contour\": [{\"colorbar\": {\"outlinewidth\": 0, \"ticks\": \"\"}, \"colorscale\": [[0.0, \"#0d0887\"], [0.1111111111111111, \"#46039f\"], [0.2222222222222222, \"#7201a8\"], [0.3333333333333333, \"#9c179e\"], [0.4444444444444444, \"#bd3786\"], [0.5555555555555556, \"#d8576b\"], [0.6666666666666666, \"#ed7953\"], [0.7777777777777778, \"#fb9f3a\"], [0.8888888888888888, \"#fdca26\"], [1.0, \"#f0f921\"]], \"type\": \"contour\"}], \"contourcarpet\": [{\"colorbar\": {\"outlinewidth\": 0, \"ticks\": \"\"}, \"type\": \"contourcarpet\"}], \"heatmap\": [{\"colorbar\": {\"outlinewidth\": 0, \"ticks\": \"\"}, \"colorscale\": [[0.0, \"#0d0887\"], [0.1111111111111111, \"#46039f\"], [0.2222222222222222, \"#7201a8\"], [0.3333333333333333, \"#9c179e\"], [0.4444444444444444, \"#bd3786\"], [0.5555555555555556, \"#d8576b\"], [0.6666666666666666, \"#ed7953\"], [0.7777777777777778, \"#fb9f3a\"], [0.8888888888888888, \"#fdca26\"], [1.0, \"#f0f921\"]], \"type\": \"heatmap\"}], \"heatmapgl\": [{\"colorbar\": {\"outlinewidth\": 0, \"ticks\": \"\"}, \"colorscale\": [[0.0, \"#0d0887\"], [0.1111111111111111, \"#46039f\"], [0.2222222222222222, \"#7201a8\"], [0.3333333333333333, \"#9c179e\"], [0.4444444444444444, \"#bd3786\"], [0.5555555555555556, \"#d8576b\"], [0.6666666666666666, \"#ed7953\"], [0.7777777777777778, \"#fb9f3a\"], [0.8888888888888888, \"#fdca26\"], [1.0, \"#f0f921\"]], \"type\": \"heatmapgl\"}], \"histogram\": [{\"marker\": {\"colorbar\": {\"outlinewidth\": 0, \"ticks\": \"\"}}, \"type\": \"histogram\"}], \"histogram2d\": [{\"colorbar\": {\"outlinewidth\": 0, \"ticks\": \"\"}, \"colorscale\": [[0.0, \"#0d0887\"], [0.1111111111111111, \"#46039f\"], [0.2222222222222222, \"#7201a8\"], [0.3333333333333333, \"#9c179e\"], [0.4444444444444444, \"#bd3786\"], [0.5555555555555556, \"#d8576b\"], [0.6666666666666666, \"#ed7953\"], [0.7777777777777778, \"#fb9f3a\"], [0.8888888888888888, \"#fdca26\"], [1.0, \"#f0f921\"]], \"type\": \"histogram2d\"}], \"histogram2dcontour\": [{\"colorbar\": {\"outlinewidth\": 0, \"ticks\": \"\"}, \"colorscale\": [[0.0, \"#0d0887\"], [0.1111111111111111, \"#46039f\"], [0.2222222222222222, \"#7201a8\"], [0.3333333333333333, \"#9c179e\"], [0.4444444444444444, \"#bd3786\"], [0.5555555555555556, \"#d8576b\"], [0.6666666666666666, \"#ed7953\"], [0.7777777777777778, \"#fb9f3a\"], [0.8888888888888888, \"#fdca26\"], [1.0, \"#f0f921\"]], \"type\": \"histogram2dcontour\"}], \"mesh3d\": [{\"colorbar\": {\"outlinewidth\": 0, \"ticks\": \"\"}, \"type\": \"mesh3d\"}], \"parcoords\": [{\"line\": {\"colorbar\": {\"outlinewidth\": 0, \"ticks\": \"\"}}, \"type\": \"parcoords\"}], \"pie\": [{\"automargin\": true, \"type\": \"pie\"}], \"scatter\": [{\"marker\": {\"colorbar\": {\"outlinewidth\": 0, \"ticks\": \"\"}}, \"type\": \"scatter\"}], \"scatter3d\": [{\"line\": {\"colorbar\": {\"outlinewidth\": 0, \"ticks\": \"\"}}, \"marker\": {\"colorbar\": {\"outlinewidth\": 0, \"ticks\": \"\"}}, \"type\": \"scatter3d\"}], \"scattercarpet\": [{\"marker\": {\"colorbar\": {\"outlinewidth\": 0, \"ticks\": \"\"}}, \"type\": \"scattercarpet\"}], \"scattergeo\": [{\"marker\": {\"colorbar\": {\"outlinewidth\": 0, \"ticks\": \"\"}}, \"type\": \"scattergeo\"}], \"scattergl\": [{\"marker\": {\"colorbar\": {\"outlinewidth\": 0, \"ticks\": \"\"}}, \"type\": \"scattergl\"}], \"scattermapbox\": [{\"marker\": {\"colorbar\": {\"outlinewidth\": 0, \"ticks\": \"\"}}, \"type\": \"scattermapbox\"}], \"scatterpolar\": [{\"marker\": {\"colorbar\": {\"outlinewidth\": 0, \"ticks\": \"\"}}, \"type\": \"scatterpolar\"}], \"scatterpolargl\": [{\"marker\": {\"colorbar\": {\"outlinewidth\": 0, \"ticks\": \"\"}}, \"type\": \"scatterpolargl\"}], \"scatterternary\": [{\"marker\": {\"colorbar\": {\"outlinewidth\": 0, \"ticks\": \"\"}}, \"type\": \"scatterternary\"}], \"surface\": [{\"colorbar\": {\"outlinewidth\": 0, \"ticks\": \"\"}, \"colorscale\": [[0.0, \"#0d0887\"], [0.1111111111111111, \"#46039f\"], [0.2222222222222222, \"#7201a8\"], [0.3333333333333333, \"#9c179e\"], [0.4444444444444444, \"#bd3786\"], [0.5555555555555556, \"#d8576b\"], [0.6666666666666666, \"#ed7953\"], [0.7777777777777778, \"#fb9f3a\"], [0.8888888888888888, \"#fdca26\"], [1.0, \"#f0f921\"]], \"type\": \"surface\"}], \"table\": [{\"cells\": {\"fill\": {\"color\": \"#EBF0F8\"}, \"line\": {\"color\": \"white\"}}, \"header\": {\"fill\": {\"color\": \"#C8D4E3\"}, \"line\": {\"color\": \"white\"}}, \"type\": \"table\"}]}, \"layout\": {\"annotationdefaults\": {\"arrowcolor\": \"#2a3f5f\", \"arrowhead\": 0, \"arrowwidth\": 1}, \"autotypenumbers\": \"strict\", \"coloraxis\": {\"colorbar\": {\"outlinewidth\": 0, \"ticks\": \"\"}}, \"colorscale\": {\"diverging\": [[0, \"#8e0152\"], [0.1, \"#c51b7d\"], [0.2, \"#de77ae\"], [0.3, \"#f1b6da\"], [0.4, \"#fde0ef\"], [0.5, \"#f7f7f7\"], [0.6, \"#e6f5d0\"], [0.7, \"#b8e186\"], [0.8, \"#7fbc41\"], [0.9, \"#4d9221\"], [1, \"#276419\"]], \"sequential\": [[0.0, \"#0d0887\"], [0.1111111111111111, \"#46039f\"], [0.2222222222222222, \"#7201a8\"], [0.3333333333333333, \"#9c179e\"], [0.4444444444444444, \"#bd3786\"], [0.5555555555555556, \"#d8576b\"], [0.6666666666666666, \"#ed7953\"], [0.7777777777777778, \"#fb9f3a\"], [0.8888888888888888, \"#fdca26\"], [1.0, \"#f0f921\"]], \"sequentialminus\": [[0.0, \"#0d0887\"], [0.1111111111111111, \"#46039f\"], [0.2222222222222222, \"#7201a8\"], [0.3333333333333333, \"#9c179e\"], [0.4444444444444444, \"#bd3786\"], [0.5555555555555556, \"#d8576b\"], [0.6666666666666666, \"#ed7953\"], [0.7777777777777778, \"#fb9f3a\"], [0.8888888888888888, \"#fdca26\"], [1.0, \"#f0f921\"]]}, \"colorway\": [\"#636efa\", \"#EF553B\", \"#00cc96\", \"#ab63fa\", \"#FFA15A\", \"#19d3f3\", \"#FF6692\", \"#B6E880\", \"#FF97FF\", \"#FECB52\"], \"font\": {\"color\": \"#2a3f5f\"}, \"geo\": {\"bgcolor\": \"white\", \"lakecolor\": \"white\", \"landcolor\": \"#E5ECF6\", \"showlakes\": true, \"showland\": true, \"subunitcolor\": \"white\"}, \"hoverlabel\": {\"align\": \"left\"}, \"hovermode\": \"closest\", \"mapbox\": {\"style\": \"light\"}, \"paper_bgcolor\": \"white\", \"plot_bgcolor\": \"#E5ECF6\", \"polar\": {\"angularaxis\": {\"gridcolor\": \"white\", \"linecolor\": \"white\", \"ticks\": \"\"}, \"bgcolor\": \"#E5ECF6\", \"radialaxis\": {\"gridcolor\": \"white\", \"linecolor\": \"white\", \"ticks\": \"\"}}, \"scene\": {\"xaxis\": {\"backgroundcolor\": \"#E5ECF6\", \"gridcolor\": \"white\", \"gridwidth\": 2, \"linecolor\": \"white\", \"showbackground\": true, \"ticks\": \"\", \"zerolinecolor\": \"white\"}, \"yaxis\": {\"backgroundcolor\": \"#E5ECF6\", \"gridcolor\": \"white\", \"gridwidth\": 2, \"linecolor\": \"white\", \"showbackground\": true, \"ticks\": \"\", \"zerolinecolor\": \"white\"}, \"zaxis\": {\"backgroundcolor\": \"#E5ECF6\", \"gridcolor\": \"white\", \"gridwidth\": 2, \"linecolor\": \"white\", \"showbackground\": true, \"ticks\": \"\", \"zerolinecolor\": \"white\"}}, \"shapedefaults\": {\"line\": {\"color\": \"#2a3f5f\"}}, \"ternary\": {\"aaxis\": {\"gridcolor\": \"white\", \"linecolor\": \"white\", \"ticks\": \"\"}, \"baxis\": {\"gridcolor\": \"white\", \"linecolor\": \"white\", \"ticks\": \"\"}, \"bgcolor\": \"#E5ECF6\", \"caxis\": {\"gridcolor\": \"white\", \"linecolor\": \"white\", \"ticks\": \"\"}}, \"title\": {\"x\": 0.05}, \"xaxis\": {\"automargin\": true, \"gridcolor\": \"white\", \"linecolor\": \"white\", \"ticks\": \"\", \"title\": {\"standoff\": 15}, \"zerolinecolor\": \"white\", \"zerolinewidth\": 2}, \"yaxis\": {\"automargin\": true, \"gridcolor\": \"white\", \"linecolor\": \"white\", \"ticks\": \"\", \"title\": {\"standoff\": 15}, \"zerolinecolor\": \"white\", \"zerolinewidth\": 2}}}, \"title\": {\"text\": \"Timeline showing sentiment of tweets about the Sinovac vaccine\"}, \"xaxis\": {\"anchor\": \"y\", \"domain\": [0.0, 1.0], \"title\": {\"text\": \"date\"}}, \"yaxis\": {\"anchor\": \"x\", \"domain\": [0.0, 1.0], \"title\": {\"text\": \"tweets\"}}},                        {\"responsive\": true}                    ).then(function(){\n",
       "                            \n",
       "var gd = document.getElementById('8320d296-d56e-4d43-820d-56bfd3dd7559');\n",
       "var x = new MutationObserver(function (mutations, observer) {{\n",
       "        var display = window.getComputedStyle(gd).display;\n",
       "        if (!display || display === 'none') {{\n",
       "            console.log([gd, 'removed!']);\n",
       "            Plotly.purge(gd);\n",
       "            observer.disconnect();\n",
       "        }}\n",
       "}});\n",
       "\n",
       "// Listen for the removal of the full notebook cells\n",
       "var notebookContainer = gd.closest('#notebook-container');\n",
       "if (notebookContainer) {{\n",
       "    x.observe(notebookContainer, {childList: true});\n",
       "}}\n",
       "\n",
       "// Listen for the clearing of the current output cell\n",
       "var outputEl = gd.closest('.output');\n",
       "if (outputEl) {{\n",
       "    x.observe(outputEl, {childList: true});\n",
       "}}\n",
       "\n",
       "                        })                };                });            </script>        </div>"
      ]
     },
     "metadata": {},
     "output_type": "display_data"
    },
    {
     "data": {
      "text/html": [
       "<div>                            <div id=\"a52bd06b-7345-4499-842c-5dea473fba65\" class=\"plotly-graph-div\" style=\"height:525px; width:100%;\"></div>            <script type=\"text/javascript\">                require([\"plotly\"], function(Plotly) {                    window.PLOTLYENV=window.PLOTLYENV || {};                                    if (document.getElementById(\"a52bd06b-7345-4499-842c-5dea473fba65\")) {                    Plotly.newPlot(                        \"a52bd06b-7345-4499-842c-5dea473fba65\",                        [{\"hovertemplate\": \"sentiment=Neutral<br>date=%{x}<br>tweets=%{y}<extra></extra>\", \"legendgroup\": \"Neutral\", \"line\": {\"color\": \"#636efa\", \"dash\": \"solid\"}, \"mode\": \"lines\", \"name\": \"Neutral\", \"orientation\": \"v\", \"showlegend\": true, \"type\": \"scatter\", \"x\": [\"2021-02-07\", \"2021-02-08\", \"2021-02-09\", \"2021-02-10\", \"2021-02-11\", \"2021-02-12\", \"2021-02-13\", \"2021-02-14\", \"2021-02-15\", \"2021-02-16\", \"2021-02-17\", \"2021-02-18\", \"2021-02-19\", \"2021-02-20\", \"2021-02-21\", \"2021-02-22\", \"2021-02-23\", \"2021-02-24\", \"2021-02-25\", \"2021-02-26\", \"2021-02-27\", \"2021-02-28\", \"2021-03-01\", \"2021-03-02\", \"2021-03-03\", \"2021-03-04\", \"2021-03-05\", \"2021-03-06\", \"2021-03-07\", \"2021-03-08\", \"2021-03-09\", \"2021-03-10\", \"2021-03-11\", \"2021-03-12\", \"2021-03-13\", \"2021-03-14\", \"2021-03-15\", \"2021-03-16\", \"2021-03-17\", \"2021-03-18\", \"2021-03-19\", \"2021-03-20\", \"2021-03-21\", \"2021-03-22\", \"2021-03-23\", \"2021-03-24\", \"2021-03-25\", \"2021-03-26\", \"2021-03-27\", \"2021-03-28\", \"2021-03-29\", \"2021-03-30\", \"2021-03-31\", \"2021-04-01\", \"2021-04-02\", \"2021-04-03\", \"2021-04-04\", \"2021-04-05\"], \"xaxis\": \"x\", \"y\": [14, 25, 16, 18, 5, 6, 6, 7, 17, 32, 14, 33, 12, 6, 1, 26, 24, 45, 35, 23, 10, 23, 31, 28, 19, 18, 20, 10, 6, 2, 5, 15, 14, 29, 12, 8, 16, 45, 27, 22, 10, 71, 23, 13, 14, 11, 15, 13, 15, 23, 50, 37, 48, 13, 18, 14, 12, 7], \"yaxis\": \"y\"}, {\"hovertemplate\": \"sentiment=Positive<br>date=%{x}<br>tweets=%{y}<extra></extra>\", \"legendgroup\": \"Positive\", \"line\": {\"color\": \"#EF553B\", \"dash\": \"solid\"}, \"mode\": \"lines\", \"name\": \"Positive\", \"orientation\": \"v\", \"showlegend\": true, \"type\": \"scatter\", \"x\": [\"2021-02-07\", \"2021-02-08\", \"2021-02-09\", \"2021-02-10\", \"2021-02-11\", \"2021-02-12\", \"2021-02-15\", \"2021-02-16\", \"2021-02-17\", \"2021-02-18\", \"2021-02-19\", \"2021-02-21\", \"2021-02-22\", \"2021-02-23\", \"2021-02-24\", \"2021-02-25\", \"2021-02-28\", \"2021-03-01\", \"2021-03-02\", \"2021-03-04\", \"2021-03-05\", \"2021-03-06\", \"2021-03-08\", \"2021-03-09\", \"2021-03-10\", \"2021-03-11\", \"2021-03-12\", \"2021-03-14\", \"2021-03-15\", \"2021-03-16\", \"2021-03-17\", \"2021-03-18\", \"2021-03-20\", \"2021-03-21\", \"2021-03-22\", \"2021-03-24\", \"2021-03-25\", \"2021-03-26\", \"2021-03-27\", \"2021-03-28\", \"2021-03-29\", \"2021-03-30\", \"2021-03-31\", \"2021-04-01\", \"2021-04-02\", \"2021-04-03\", \"2021-04-04\", \"2021-04-05\"], \"xaxis\": \"x\", \"y\": [3, 2, 4, 1, 4, 1, 3, 7, 5, 5, 2, 1, 6, 4, 7, 2, 1, 5, 5, 1, 3, 3, 1, 1, 1, 7, 1, 3, 4, 5, 9, 9, 13, 1, 1, 1, 1, 2, 3, 4, 12, 5, 9, 3, 3, 2, 3, 2], \"yaxis\": \"y\"}, {\"hovertemplate\": \"sentiment=Negative<br>date=%{x}<br>tweets=%{y}<extra></extra>\", \"legendgroup\": \"Negative\", \"line\": {\"color\": \"#00cc96\", \"dash\": \"solid\"}, \"mode\": \"lines\", \"name\": \"Negative\", \"orientation\": \"v\", \"showlegend\": true, \"type\": \"scatter\", \"x\": [\"2021-03-18\", \"2021-03-20\"], \"xaxis\": \"x\", \"y\": [1, 2], \"yaxis\": \"y\"}],                        {\"legend\": {\"title\": {\"text\": \"sentiment\"}, \"tracegroupgap\": 0}, \"template\": {\"data\": {\"bar\": [{\"error_x\": {\"color\": \"#2a3f5f\"}, \"error_y\": {\"color\": \"#2a3f5f\"}, \"marker\": {\"line\": {\"color\": \"#E5ECF6\", \"width\": 0.5}}, \"type\": \"bar\"}], \"barpolar\": [{\"marker\": {\"line\": {\"color\": \"#E5ECF6\", \"width\": 0.5}}, \"type\": \"barpolar\"}], \"carpet\": [{\"aaxis\": {\"endlinecolor\": \"#2a3f5f\", \"gridcolor\": \"white\", \"linecolor\": \"white\", \"minorgridcolor\": \"white\", \"startlinecolor\": \"#2a3f5f\"}, \"baxis\": {\"endlinecolor\": \"#2a3f5f\", \"gridcolor\": \"white\", \"linecolor\": \"white\", \"minorgridcolor\": \"white\", \"startlinecolor\": \"#2a3f5f\"}, \"type\": \"carpet\"}], \"choropleth\": [{\"colorbar\": {\"outlinewidth\": 0, \"ticks\": \"\"}, \"type\": \"choropleth\"}], \"contour\": [{\"colorbar\": {\"outlinewidth\": 0, \"ticks\": \"\"}, \"colorscale\": [[0.0, \"#0d0887\"], [0.1111111111111111, \"#46039f\"], [0.2222222222222222, \"#7201a8\"], [0.3333333333333333, \"#9c179e\"], [0.4444444444444444, \"#bd3786\"], [0.5555555555555556, \"#d8576b\"], [0.6666666666666666, \"#ed7953\"], [0.7777777777777778, \"#fb9f3a\"], [0.8888888888888888, \"#fdca26\"], [1.0, \"#f0f921\"]], \"type\": \"contour\"}], \"contourcarpet\": [{\"colorbar\": {\"outlinewidth\": 0, \"ticks\": \"\"}, \"type\": \"contourcarpet\"}], \"heatmap\": [{\"colorbar\": {\"outlinewidth\": 0, \"ticks\": \"\"}, \"colorscale\": [[0.0, \"#0d0887\"], [0.1111111111111111, \"#46039f\"], [0.2222222222222222, \"#7201a8\"], [0.3333333333333333, \"#9c179e\"], [0.4444444444444444, \"#bd3786\"], [0.5555555555555556, \"#d8576b\"], [0.6666666666666666, \"#ed7953\"], [0.7777777777777778, \"#fb9f3a\"], [0.8888888888888888, \"#fdca26\"], [1.0, \"#f0f921\"]], \"type\": \"heatmap\"}], \"heatmapgl\": [{\"colorbar\": {\"outlinewidth\": 0, \"ticks\": \"\"}, \"colorscale\": [[0.0, \"#0d0887\"], [0.1111111111111111, \"#46039f\"], [0.2222222222222222, \"#7201a8\"], [0.3333333333333333, \"#9c179e\"], [0.4444444444444444, \"#bd3786\"], [0.5555555555555556, \"#d8576b\"], [0.6666666666666666, \"#ed7953\"], [0.7777777777777778, \"#fb9f3a\"], [0.8888888888888888, \"#fdca26\"], [1.0, \"#f0f921\"]], \"type\": \"heatmapgl\"}], \"histogram\": [{\"marker\": {\"colorbar\": {\"outlinewidth\": 0, \"ticks\": \"\"}}, \"type\": \"histogram\"}], \"histogram2d\": [{\"colorbar\": {\"outlinewidth\": 0, \"ticks\": \"\"}, \"colorscale\": [[0.0, \"#0d0887\"], [0.1111111111111111, \"#46039f\"], [0.2222222222222222, \"#7201a8\"], [0.3333333333333333, \"#9c179e\"], [0.4444444444444444, \"#bd3786\"], [0.5555555555555556, \"#d8576b\"], [0.6666666666666666, \"#ed7953\"], [0.7777777777777778, \"#fb9f3a\"], [0.8888888888888888, \"#fdca26\"], [1.0, \"#f0f921\"]], \"type\": \"histogram2d\"}], \"histogram2dcontour\": [{\"colorbar\": {\"outlinewidth\": 0, \"ticks\": \"\"}, \"colorscale\": [[0.0, \"#0d0887\"], [0.1111111111111111, \"#46039f\"], [0.2222222222222222, \"#7201a8\"], [0.3333333333333333, \"#9c179e\"], [0.4444444444444444, \"#bd3786\"], [0.5555555555555556, \"#d8576b\"], [0.6666666666666666, \"#ed7953\"], [0.7777777777777778, \"#fb9f3a\"], [0.8888888888888888, \"#fdca26\"], [1.0, \"#f0f921\"]], \"type\": \"histogram2dcontour\"}], \"mesh3d\": [{\"colorbar\": {\"outlinewidth\": 0, \"ticks\": \"\"}, \"type\": \"mesh3d\"}], \"parcoords\": [{\"line\": {\"colorbar\": {\"outlinewidth\": 0, \"ticks\": \"\"}}, \"type\": \"parcoords\"}], \"pie\": [{\"automargin\": true, \"type\": \"pie\"}], \"scatter\": [{\"marker\": {\"colorbar\": {\"outlinewidth\": 0, \"ticks\": \"\"}}, \"type\": \"scatter\"}], \"scatter3d\": [{\"line\": {\"colorbar\": {\"outlinewidth\": 0, \"ticks\": \"\"}}, \"marker\": {\"colorbar\": {\"outlinewidth\": 0, \"ticks\": \"\"}}, \"type\": \"scatter3d\"}], \"scattercarpet\": [{\"marker\": {\"colorbar\": {\"outlinewidth\": 0, \"ticks\": \"\"}}, \"type\": \"scattercarpet\"}], \"scattergeo\": [{\"marker\": {\"colorbar\": {\"outlinewidth\": 0, \"ticks\": \"\"}}, \"type\": \"scattergeo\"}], \"scattergl\": [{\"marker\": {\"colorbar\": {\"outlinewidth\": 0, \"ticks\": \"\"}}, \"type\": \"scattergl\"}], \"scattermapbox\": [{\"marker\": {\"colorbar\": {\"outlinewidth\": 0, \"ticks\": \"\"}}, \"type\": \"scattermapbox\"}], \"scatterpolar\": [{\"marker\": {\"colorbar\": {\"outlinewidth\": 0, \"ticks\": \"\"}}, \"type\": \"scatterpolar\"}], \"scatterpolargl\": [{\"marker\": {\"colorbar\": {\"outlinewidth\": 0, \"ticks\": \"\"}}, \"type\": \"scatterpolargl\"}], \"scatterternary\": [{\"marker\": {\"colorbar\": {\"outlinewidth\": 0, \"ticks\": \"\"}}, \"type\": \"scatterternary\"}], \"surface\": [{\"colorbar\": {\"outlinewidth\": 0, \"ticks\": \"\"}, \"colorscale\": [[0.0, \"#0d0887\"], [0.1111111111111111, \"#46039f\"], [0.2222222222222222, \"#7201a8\"], [0.3333333333333333, \"#9c179e\"], [0.4444444444444444, \"#bd3786\"], [0.5555555555555556, \"#d8576b\"], [0.6666666666666666, \"#ed7953\"], [0.7777777777777778, \"#fb9f3a\"], [0.8888888888888888, \"#fdca26\"], [1.0, \"#f0f921\"]], \"type\": \"surface\"}], \"table\": [{\"cells\": {\"fill\": {\"color\": \"#EBF0F8\"}, \"line\": {\"color\": \"white\"}}, \"header\": {\"fill\": {\"color\": \"#C8D4E3\"}, \"line\": {\"color\": \"white\"}}, \"type\": \"table\"}]}, \"layout\": {\"annotationdefaults\": {\"arrowcolor\": \"#2a3f5f\", \"arrowhead\": 0, \"arrowwidth\": 1}, \"autotypenumbers\": \"strict\", \"coloraxis\": {\"colorbar\": {\"outlinewidth\": 0, \"ticks\": \"\"}}, \"colorscale\": {\"diverging\": [[0, \"#8e0152\"], [0.1, \"#c51b7d\"], [0.2, \"#de77ae\"], [0.3, \"#f1b6da\"], [0.4, \"#fde0ef\"], [0.5, \"#f7f7f7\"], [0.6, \"#e6f5d0\"], [0.7, \"#b8e186\"], [0.8, \"#7fbc41\"], [0.9, \"#4d9221\"], [1, \"#276419\"]], \"sequential\": [[0.0, \"#0d0887\"], [0.1111111111111111, \"#46039f\"], [0.2222222222222222, \"#7201a8\"], [0.3333333333333333, \"#9c179e\"], [0.4444444444444444, \"#bd3786\"], [0.5555555555555556, \"#d8576b\"], [0.6666666666666666, \"#ed7953\"], [0.7777777777777778, \"#fb9f3a\"], [0.8888888888888888, \"#fdca26\"], [1.0, \"#f0f921\"]], \"sequentialminus\": [[0.0, \"#0d0887\"], [0.1111111111111111, \"#46039f\"], [0.2222222222222222, \"#7201a8\"], [0.3333333333333333, \"#9c179e\"], [0.4444444444444444, \"#bd3786\"], [0.5555555555555556, \"#d8576b\"], [0.6666666666666666, \"#ed7953\"], [0.7777777777777778, \"#fb9f3a\"], [0.8888888888888888, \"#fdca26\"], [1.0, \"#f0f921\"]]}, \"colorway\": [\"#636efa\", \"#EF553B\", \"#00cc96\", \"#ab63fa\", \"#FFA15A\", \"#19d3f3\", \"#FF6692\", \"#B6E880\", \"#FF97FF\", \"#FECB52\"], \"font\": {\"color\": \"#2a3f5f\"}, \"geo\": {\"bgcolor\": \"white\", \"lakecolor\": \"white\", \"landcolor\": \"#E5ECF6\", \"showlakes\": true, \"showland\": true, \"subunitcolor\": \"white\"}, \"hoverlabel\": {\"align\": \"left\"}, \"hovermode\": \"closest\", \"mapbox\": {\"style\": \"light\"}, \"paper_bgcolor\": \"white\", \"plot_bgcolor\": \"#E5ECF6\", \"polar\": {\"angularaxis\": {\"gridcolor\": \"white\", \"linecolor\": \"white\", \"ticks\": \"\"}, \"bgcolor\": \"#E5ECF6\", \"radialaxis\": {\"gridcolor\": \"white\", \"linecolor\": \"white\", \"ticks\": \"\"}}, \"scene\": {\"xaxis\": {\"backgroundcolor\": \"#E5ECF6\", \"gridcolor\": \"white\", \"gridwidth\": 2, \"linecolor\": \"white\", \"showbackground\": true, \"ticks\": \"\", \"zerolinecolor\": \"white\"}, \"yaxis\": {\"backgroundcolor\": \"#E5ECF6\", \"gridcolor\": \"white\", \"gridwidth\": 2, \"linecolor\": \"white\", \"showbackground\": true, \"ticks\": \"\", \"zerolinecolor\": \"white\"}, \"zaxis\": {\"backgroundcolor\": \"#E5ECF6\", \"gridcolor\": \"white\", \"gridwidth\": 2, \"linecolor\": \"white\", \"showbackground\": true, \"ticks\": \"\", \"zerolinecolor\": \"white\"}}, \"shapedefaults\": {\"line\": {\"color\": \"#2a3f5f\"}}, \"ternary\": {\"aaxis\": {\"gridcolor\": \"white\", \"linecolor\": \"white\", \"ticks\": \"\"}, \"baxis\": {\"gridcolor\": \"white\", \"linecolor\": \"white\", \"ticks\": \"\"}, \"bgcolor\": \"#E5ECF6\", \"caxis\": {\"gridcolor\": \"white\", \"linecolor\": \"white\", \"ticks\": \"\"}}, \"title\": {\"x\": 0.05}, \"xaxis\": {\"automargin\": true, \"gridcolor\": \"white\", \"linecolor\": \"white\", \"ticks\": \"\", \"title\": {\"standoff\": 15}, \"zerolinecolor\": \"white\", \"zerolinewidth\": 2}, \"yaxis\": {\"automargin\": true, \"gridcolor\": \"white\", \"linecolor\": \"white\", \"ticks\": \"\", \"title\": {\"standoff\": 15}, \"zerolinecolor\": \"white\", \"zerolinewidth\": 2}}}, \"title\": {\"text\": \"Timeline showing sentiment of tweets about the Sinopharm vaccine\"}, \"xaxis\": {\"anchor\": \"y\", \"domain\": [0.0, 1.0], \"title\": {\"text\": \"date\"}}, \"yaxis\": {\"anchor\": \"x\", \"domain\": [0.0, 1.0], \"title\": {\"text\": \"tweets\"}}},                        {\"responsive\": true}                    ).then(function(){\n",
       "                            \n",
       "var gd = document.getElementById('a52bd06b-7345-4499-842c-5dea473fba65');\n",
       "var x = new MutationObserver(function (mutations, observer) {{\n",
       "        var display = window.getComputedStyle(gd).display;\n",
       "        if (!display || display === 'none') {{\n",
       "            console.log([gd, 'removed!']);\n",
       "            Plotly.purge(gd);\n",
       "            observer.disconnect();\n",
       "        }}\n",
       "}});\n",
       "\n",
       "// Listen for the removal of the full notebook cells\n",
       "var notebookContainer = gd.closest('#notebook-container');\n",
       "if (notebookContainer) {{\n",
       "    x.observe(notebookContainer, {childList: true});\n",
       "}}\n",
       "\n",
       "// Listen for the clearing of the current output cell\n",
       "var outputEl = gd.closest('.output');\n",
       "if (outputEl) {{\n",
       "    x.observe(outputEl, {childList: true});\n",
       "}}\n",
       "\n",
       "                        })                };                });            </script>        </div>"
      ]
     },
     "metadata": {},
     "output_type": "display_data"
    },
    {
     "data": {
      "text/html": [
       "<div>                            <div id=\"694d9cbb-4c78-48cd-ab31-b467c46fc0c8\" class=\"plotly-graph-div\" style=\"height:525px; width:100%;\"></div>            <script type=\"text/javascript\">                require([\"plotly\"], function(Plotly) {                    window.PLOTLYENV=window.PLOTLYENV || {};                                    if (document.getElementById(\"694d9cbb-4c78-48cd-ab31-b467c46fc0c8\")) {                    Plotly.newPlot(                        \"694d9cbb-4c78-48cd-ab31-b467c46fc0c8\",                        [{\"hovertemplate\": \"sentiment=Neutral<br>date=%{x}<br>tweets=%{y}<extra></extra>\", \"legendgroup\": \"Neutral\", \"line\": {\"color\": \"#636efa\", \"dash\": \"solid\"}, \"mode\": \"lines\", \"name\": \"Neutral\", \"orientation\": \"v\", \"showlegend\": true, \"type\": \"scatter\", \"x\": [\"2020-12-15\", \"2020-12-16\", \"2020-12-17\", \"2020-12-19\", \"2020-12-22\", \"2020-12-23\", \"2021-01-06\", \"2021-01-16\", \"2021-01-18\", \"2021-01-26\", \"2021-02-07\", \"2021-02-08\", \"2021-02-09\", \"2021-02-10\", \"2021-02-11\", \"2021-02-12\", \"2021-02-13\", \"2021-02-14\", \"2021-02-15\", \"2021-02-16\", \"2021-02-17\", \"2021-02-18\", \"2021-02-19\", \"2021-02-20\", \"2021-02-21\", \"2021-02-22\", \"2021-02-23\", \"2021-02-24\", \"2021-02-25\", \"2021-02-26\", \"2021-02-27\", \"2021-02-28\", \"2021-03-01\", \"2021-03-02\", \"2021-03-03\", \"2021-03-04\", \"2021-03-05\", \"2021-03-06\", \"2021-03-07\", \"2021-03-08\", \"2021-03-09\", \"2021-03-10\", \"2021-03-11\", \"2021-03-12\", \"2021-03-13\", \"2021-03-14\", \"2021-03-15\", \"2021-03-16\", \"2021-03-17\", \"2021-03-18\", \"2021-03-19\", \"2021-03-20\", \"2021-03-21\", \"2021-03-22\", \"2021-03-23\", \"2021-03-24\", \"2021-03-25\", \"2021-03-26\", \"2021-03-27\", \"2021-03-28\", \"2021-03-29\", \"2021-03-30\", \"2021-03-31\", \"2021-04-01\", \"2021-04-02\", \"2021-04-03\", \"2021-04-04\", \"2021-04-05\"], \"xaxis\": \"x\", \"y\": [1, 1, 2, 1, 1, 4, 2, 1, 1, 1, 23, 32, 48, 54, 55, 64, 56, 32, 32, 37, 73, 40, 44, 39, 19, 23, 39, 40, 85, 84, 55, 52, 28, 59, 104, 74, 96, 65, 58, 78, 68, 82, 100, 117, 84, 37, 87, 189, 156, 142, 114, 90, 71, 92, 88, 130, 112, 88, 100, 62, 105, 131, 156, 155, 133, 110, 58, 9], \"yaxis\": \"y\"}, {\"hovertemplate\": \"sentiment=Positive<br>date=%{x}<br>tweets=%{y}<extra></extra>\", \"legendgroup\": \"Positive\", \"line\": {\"color\": \"#EF553B\", \"dash\": \"solid\"}, \"mode\": \"lines\", \"name\": \"Positive\", \"orientation\": \"v\", \"showlegend\": true, \"type\": \"scatter\", \"x\": [\"2021-02-07\", \"2021-02-08\", \"2021-02-09\", \"2021-02-10\", \"2021-02-11\", \"2021-02-12\", \"2021-02-13\", \"2021-02-14\", \"2021-02-15\", \"2021-02-16\", \"2021-02-17\", \"2021-02-18\", \"2021-02-19\", \"2021-02-20\", \"2021-02-21\", \"2021-02-22\", \"2021-02-23\", \"2021-02-24\", \"2021-02-25\", \"2021-02-26\", \"2021-02-27\", \"2021-02-28\", \"2021-03-01\", \"2021-03-02\", \"2021-03-03\", \"2021-03-04\", \"2021-03-05\", \"2021-03-06\", \"2021-03-07\", \"2021-03-08\", \"2021-03-09\", \"2021-03-10\", \"2021-03-11\", \"2021-03-12\", \"2021-03-13\", \"2021-03-14\", \"2021-03-15\", \"2021-03-16\", \"2021-03-17\", \"2021-03-18\", \"2021-03-19\", \"2021-03-20\", \"2021-03-21\", \"2021-03-22\", \"2021-03-23\", \"2021-03-24\", \"2021-03-25\", \"2021-03-26\", \"2021-03-27\", \"2021-03-28\", \"2021-03-29\", \"2021-03-30\", \"2021-03-31\", \"2021-04-01\", \"2021-04-02\", \"2021-04-03\", \"2021-04-04\", \"2021-04-05\"], \"xaxis\": \"x\", \"y\": [5, 9, 12, 17, 10, 22, 12, 6, 4, 9, 9, 8, 11, 9, 2, 8, 8, 17, 18, 23, 16, 10, 4, 16, 35, 22, 24, 18, 9, 16, 23, 24, 25, 29, 22, 14, 28, 38, 27, 28, 35, 22, 16, 32, 26, 37, 19, 33, 29, 13, 32, 48, 48, 40, 33, 31, 13, 1], \"yaxis\": \"y\"}, {\"hovertemplate\": \"sentiment=Negative<br>date=%{x}<br>tweets=%{y}<extra></extra>\", \"legendgroup\": \"Negative\", \"line\": {\"color\": \"#00cc96\", \"dash\": \"solid\"}, \"mode\": \"lines\", \"name\": \"Negative\", \"orientation\": \"v\", \"showlegend\": true, \"type\": \"scatter\", \"x\": [\"2021-02-08\", \"2021-02-11\", \"2021-02-12\", \"2021-02-13\", \"2021-02-14\", \"2021-02-23\", \"2021-02-25\", \"2021-02-27\", \"2021-02-28\", \"2021-03-06\", \"2021-03-08\", \"2021-03-09\", \"2021-03-10\", \"2021-03-12\", \"2021-03-13\", \"2021-03-14\", \"2021-03-15\", \"2021-03-18\", \"2021-03-20\", \"2021-03-21\", \"2021-03-22\", \"2021-03-23\", \"2021-03-25\", \"2021-03-26\", \"2021-03-27\", \"2021-03-28\", \"2021-03-29\", \"2021-03-30\", \"2021-03-31\", \"2021-04-02\", \"2021-04-04\"], \"xaxis\": \"x\", \"y\": [2, 1, 1, 1, 1, 1, 1, 1, 1, 1, 1, 1, 3, 4, 2, 4, 1, 4, 1, 1, 1, 1, 2, 1, 1, 1, 1, 2, 3, 2, 1], \"yaxis\": \"y\"}],                        {\"legend\": {\"title\": {\"text\": \"sentiment\"}, \"tracegroupgap\": 0}, \"template\": {\"data\": {\"bar\": [{\"error_x\": {\"color\": \"#2a3f5f\"}, \"error_y\": {\"color\": \"#2a3f5f\"}, \"marker\": {\"line\": {\"color\": \"#E5ECF6\", \"width\": 0.5}}, \"type\": \"bar\"}], \"barpolar\": [{\"marker\": {\"line\": {\"color\": \"#E5ECF6\", \"width\": 0.5}}, \"type\": \"barpolar\"}], \"carpet\": [{\"aaxis\": {\"endlinecolor\": \"#2a3f5f\", \"gridcolor\": \"white\", \"linecolor\": \"white\", \"minorgridcolor\": \"white\", \"startlinecolor\": \"#2a3f5f\"}, \"baxis\": {\"endlinecolor\": \"#2a3f5f\", \"gridcolor\": \"white\", \"linecolor\": \"white\", \"minorgridcolor\": \"white\", \"startlinecolor\": \"#2a3f5f\"}, \"type\": \"carpet\"}], \"choropleth\": [{\"colorbar\": {\"outlinewidth\": 0, \"ticks\": \"\"}, \"type\": \"choropleth\"}], \"contour\": [{\"colorbar\": {\"outlinewidth\": 0, \"ticks\": \"\"}, \"colorscale\": [[0.0, \"#0d0887\"], [0.1111111111111111, \"#46039f\"], [0.2222222222222222, \"#7201a8\"], [0.3333333333333333, \"#9c179e\"], [0.4444444444444444, \"#bd3786\"], [0.5555555555555556, \"#d8576b\"], [0.6666666666666666, \"#ed7953\"], [0.7777777777777778, \"#fb9f3a\"], [0.8888888888888888, \"#fdca26\"], [1.0, \"#f0f921\"]], \"type\": \"contour\"}], \"contourcarpet\": [{\"colorbar\": {\"outlinewidth\": 0, \"ticks\": \"\"}, \"type\": \"contourcarpet\"}], \"heatmap\": [{\"colorbar\": {\"outlinewidth\": 0, \"ticks\": \"\"}, \"colorscale\": [[0.0, \"#0d0887\"], [0.1111111111111111, \"#46039f\"], [0.2222222222222222, \"#7201a8\"], [0.3333333333333333, \"#9c179e\"], [0.4444444444444444, \"#bd3786\"], [0.5555555555555556, \"#d8576b\"], [0.6666666666666666, \"#ed7953\"], [0.7777777777777778, \"#fb9f3a\"], [0.8888888888888888, \"#fdca26\"], [1.0, \"#f0f921\"]], \"type\": \"heatmap\"}], \"heatmapgl\": [{\"colorbar\": {\"outlinewidth\": 0, \"ticks\": \"\"}, \"colorscale\": [[0.0, \"#0d0887\"], [0.1111111111111111, \"#46039f\"], [0.2222222222222222, \"#7201a8\"], [0.3333333333333333, \"#9c179e\"], [0.4444444444444444, \"#bd3786\"], [0.5555555555555556, \"#d8576b\"], [0.6666666666666666, \"#ed7953\"], [0.7777777777777778, \"#fb9f3a\"], [0.8888888888888888, \"#fdca26\"], [1.0, \"#f0f921\"]], \"type\": \"heatmapgl\"}], \"histogram\": [{\"marker\": {\"colorbar\": {\"outlinewidth\": 0, \"ticks\": \"\"}}, \"type\": \"histogram\"}], \"histogram2d\": [{\"colorbar\": {\"outlinewidth\": 0, \"ticks\": \"\"}, \"colorscale\": [[0.0, \"#0d0887\"], [0.1111111111111111, \"#46039f\"], [0.2222222222222222, \"#7201a8\"], [0.3333333333333333, \"#9c179e\"], [0.4444444444444444, \"#bd3786\"], [0.5555555555555556, \"#d8576b\"], [0.6666666666666666, \"#ed7953\"], [0.7777777777777778, \"#fb9f3a\"], [0.8888888888888888, \"#fdca26\"], [1.0, \"#f0f921\"]], \"type\": \"histogram2d\"}], \"histogram2dcontour\": [{\"colorbar\": {\"outlinewidth\": 0, \"ticks\": \"\"}, \"colorscale\": [[0.0, \"#0d0887\"], [0.1111111111111111, \"#46039f\"], [0.2222222222222222, \"#7201a8\"], [0.3333333333333333, \"#9c179e\"], [0.4444444444444444, \"#bd3786\"], [0.5555555555555556, \"#d8576b\"], [0.6666666666666666, \"#ed7953\"], [0.7777777777777778, \"#fb9f3a\"], [0.8888888888888888, \"#fdca26\"], [1.0, \"#f0f921\"]], \"type\": \"histogram2dcontour\"}], \"mesh3d\": [{\"colorbar\": {\"outlinewidth\": 0, \"ticks\": \"\"}, \"type\": \"mesh3d\"}], \"parcoords\": [{\"line\": {\"colorbar\": {\"outlinewidth\": 0, \"ticks\": \"\"}}, \"type\": \"parcoords\"}], \"pie\": [{\"automargin\": true, \"type\": \"pie\"}], \"scatter\": [{\"marker\": {\"colorbar\": {\"outlinewidth\": 0, \"ticks\": \"\"}}, \"type\": \"scatter\"}], \"scatter3d\": [{\"line\": {\"colorbar\": {\"outlinewidth\": 0, \"ticks\": \"\"}}, \"marker\": {\"colorbar\": {\"outlinewidth\": 0, \"ticks\": \"\"}}, \"type\": \"scatter3d\"}], \"scattercarpet\": [{\"marker\": {\"colorbar\": {\"outlinewidth\": 0, \"ticks\": \"\"}}, \"type\": \"scattercarpet\"}], \"scattergeo\": [{\"marker\": {\"colorbar\": {\"outlinewidth\": 0, \"ticks\": \"\"}}, \"type\": \"scattergeo\"}], \"scattergl\": [{\"marker\": {\"colorbar\": {\"outlinewidth\": 0, \"ticks\": \"\"}}, \"type\": \"scattergl\"}], \"scattermapbox\": [{\"marker\": {\"colorbar\": {\"outlinewidth\": 0, \"ticks\": \"\"}}, \"type\": \"scattermapbox\"}], \"scatterpolar\": [{\"marker\": {\"colorbar\": {\"outlinewidth\": 0, \"ticks\": \"\"}}, \"type\": \"scatterpolar\"}], \"scatterpolargl\": [{\"marker\": {\"colorbar\": {\"outlinewidth\": 0, \"ticks\": \"\"}}, \"type\": \"scatterpolargl\"}], \"scatterternary\": [{\"marker\": {\"colorbar\": {\"outlinewidth\": 0, \"ticks\": \"\"}}, \"type\": \"scatterternary\"}], \"surface\": [{\"colorbar\": {\"outlinewidth\": 0, \"ticks\": \"\"}, \"colorscale\": [[0.0, \"#0d0887\"], [0.1111111111111111, \"#46039f\"], [0.2222222222222222, \"#7201a8\"], [0.3333333333333333, \"#9c179e\"], [0.4444444444444444, \"#bd3786\"], [0.5555555555555556, \"#d8576b\"], [0.6666666666666666, \"#ed7953\"], [0.7777777777777778, \"#fb9f3a\"], [0.8888888888888888, \"#fdca26\"], [1.0, \"#f0f921\"]], \"type\": \"surface\"}], \"table\": [{\"cells\": {\"fill\": {\"color\": \"#EBF0F8\"}, \"line\": {\"color\": \"white\"}}, \"header\": {\"fill\": {\"color\": \"#C8D4E3\"}, \"line\": {\"color\": \"white\"}}, \"type\": \"table\"}]}, \"layout\": {\"annotationdefaults\": {\"arrowcolor\": \"#2a3f5f\", \"arrowhead\": 0, \"arrowwidth\": 1}, \"autotypenumbers\": \"strict\", \"coloraxis\": {\"colorbar\": {\"outlinewidth\": 0, \"ticks\": \"\"}}, \"colorscale\": {\"diverging\": [[0, \"#8e0152\"], [0.1, \"#c51b7d\"], [0.2, \"#de77ae\"], [0.3, \"#f1b6da\"], [0.4, \"#fde0ef\"], [0.5, \"#f7f7f7\"], [0.6, \"#e6f5d0\"], [0.7, \"#b8e186\"], [0.8, \"#7fbc41\"], [0.9, \"#4d9221\"], [1, \"#276419\"]], \"sequential\": [[0.0, \"#0d0887\"], [0.1111111111111111, \"#46039f\"], [0.2222222222222222, \"#7201a8\"], [0.3333333333333333, \"#9c179e\"], [0.4444444444444444, \"#bd3786\"], [0.5555555555555556, \"#d8576b\"], [0.6666666666666666, \"#ed7953\"], [0.7777777777777778, \"#fb9f3a\"], [0.8888888888888888, \"#fdca26\"], [1.0, \"#f0f921\"]], \"sequentialminus\": [[0.0, \"#0d0887\"], [0.1111111111111111, \"#46039f\"], [0.2222222222222222, \"#7201a8\"], [0.3333333333333333, \"#9c179e\"], [0.4444444444444444, \"#bd3786\"], [0.5555555555555556, \"#d8576b\"], [0.6666666666666666, \"#ed7953\"], [0.7777777777777778, \"#fb9f3a\"], [0.8888888888888888, \"#fdca26\"], [1.0, \"#f0f921\"]]}, \"colorway\": [\"#636efa\", \"#EF553B\", \"#00cc96\", \"#ab63fa\", \"#FFA15A\", \"#19d3f3\", \"#FF6692\", \"#B6E880\", \"#FF97FF\", \"#FECB52\"], \"font\": {\"color\": \"#2a3f5f\"}, \"geo\": {\"bgcolor\": \"white\", \"lakecolor\": \"white\", \"landcolor\": \"#E5ECF6\", \"showlakes\": true, \"showland\": true, \"subunitcolor\": \"white\"}, \"hoverlabel\": {\"align\": \"left\"}, \"hovermode\": \"closest\", \"mapbox\": {\"style\": \"light\"}, \"paper_bgcolor\": \"white\", \"plot_bgcolor\": \"#E5ECF6\", \"polar\": {\"angularaxis\": {\"gridcolor\": \"white\", \"linecolor\": \"white\", \"ticks\": \"\"}, \"bgcolor\": \"#E5ECF6\", \"radialaxis\": {\"gridcolor\": \"white\", \"linecolor\": \"white\", \"ticks\": \"\"}}, \"scene\": {\"xaxis\": {\"backgroundcolor\": \"#E5ECF6\", \"gridcolor\": \"white\", \"gridwidth\": 2, \"linecolor\": \"white\", \"showbackground\": true, \"ticks\": \"\", \"zerolinecolor\": \"white\"}, \"yaxis\": {\"backgroundcolor\": \"#E5ECF6\", \"gridcolor\": \"white\", \"gridwidth\": 2, \"linecolor\": \"white\", \"showbackground\": true, \"ticks\": \"\", \"zerolinecolor\": \"white\"}, \"zaxis\": {\"backgroundcolor\": \"#E5ECF6\", \"gridcolor\": \"white\", \"gridwidth\": 2, \"linecolor\": \"white\", \"showbackground\": true, \"ticks\": \"\", \"zerolinecolor\": \"white\"}}, \"shapedefaults\": {\"line\": {\"color\": \"#2a3f5f\"}}, \"ternary\": {\"aaxis\": {\"gridcolor\": \"white\", \"linecolor\": \"white\", \"ticks\": \"\"}, \"baxis\": {\"gridcolor\": \"white\", \"linecolor\": \"white\", \"ticks\": \"\"}, \"bgcolor\": \"#E5ECF6\", \"caxis\": {\"gridcolor\": \"white\", \"linecolor\": \"white\", \"ticks\": \"\"}}, \"title\": {\"x\": 0.05}, \"xaxis\": {\"automargin\": true, \"gridcolor\": \"white\", \"linecolor\": \"white\", \"ticks\": \"\", \"title\": {\"standoff\": 15}, \"zerolinecolor\": \"white\", \"zerolinewidth\": 2}, \"yaxis\": {\"automargin\": true, \"gridcolor\": \"white\", \"linecolor\": \"white\", \"ticks\": \"\", \"title\": {\"standoff\": 15}, \"zerolinecolor\": \"white\", \"zerolinewidth\": 2}}}, \"title\": {\"text\": \"Timeline showing sentiment of tweets about the Moderna vaccine\"}, \"xaxis\": {\"anchor\": \"y\", \"domain\": [0.0, 1.0], \"title\": {\"text\": \"date\"}}, \"yaxis\": {\"anchor\": \"x\", \"domain\": [0.0, 1.0], \"title\": {\"text\": \"tweets\"}}},                        {\"responsive\": true}                    ).then(function(){\n",
       "                            \n",
       "var gd = document.getElementById('694d9cbb-4c78-48cd-ab31-b467c46fc0c8');\n",
       "var x = new MutationObserver(function (mutations, observer) {{\n",
       "        var display = window.getComputedStyle(gd).display;\n",
       "        if (!display || display === 'none') {{\n",
       "            console.log([gd, 'removed!']);\n",
       "            Plotly.purge(gd);\n",
       "            observer.disconnect();\n",
       "        }}\n",
       "}});\n",
       "\n",
       "// Listen for the removal of the full notebook cells\n",
       "var notebookContainer = gd.closest('#notebook-container');\n",
       "if (notebookContainer) {{\n",
       "    x.observe(notebookContainer, {childList: true});\n",
       "}}\n",
       "\n",
       "// Listen for the clearing of the current output cell\n",
       "var outputEl = gd.closest('.output');\n",
       "if (outputEl) {{\n",
       "    x.observe(outputEl, {childList: true});\n",
       "}}\n",
       "\n",
       "                        })                };                });            </script>        </div>"
      ]
     },
     "metadata": {},
     "output_type": "display_data"
    },
    {
     "data": {
      "text/html": [
       "<div>                            <div id=\"dfae2516-d7d0-4aab-ba7c-27b06b5ff7bb\" class=\"plotly-graph-div\" style=\"height:525px; width:100%;\"></div>            <script type=\"text/javascript\">                require([\"plotly\"], function(Plotly) {                    window.PLOTLYENV=window.PLOTLYENV || {};                                    if (document.getElementById(\"dfae2516-d7d0-4aab-ba7c-27b06b5ff7bb\")) {                    Plotly.newPlot(                        \"dfae2516-d7d0-4aab-ba7c-27b06b5ff7bb\",                        [{\"hovertemplate\": \"sentiment=Neutral<br>date=%{x}<br>tweets=%{y}<extra></extra>\", \"legendgroup\": \"Neutral\", \"line\": {\"color\": \"#636efa\", \"dash\": \"solid\"}, \"mode\": \"lines\", \"name\": \"Neutral\", \"orientation\": \"v\", \"showlegend\": true, \"type\": \"scatter\", \"x\": [\"2020-12-16\", \"2020-12-29\", \"2021-01-03\", \"2021-02-06\", \"2021-02-07\", \"2021-02-08\", \"2021-02-09\", \"2021-02-10\", \"2021-02-11\", \"2021-02-12\", \"2021-02-13\", \"2021-02-14\", \"2021-02-15\", \"2021-02-16\", \"2021-02-17\", \"2021-02-18\", \"2021-02-19\", \"2021-02-20\", \"2021-02-21\", \"2021-02-22\", \"2021-02-23\", \"2021-02-24\", \"2021-02-25\", \"2021-02-26\", \"2021-02-27\", \"2021-02-28\", \"2021-03-01\", \"2021-03-02\", \"2021-03-03\", \"2021-03-04\", \"2021-03-05\", \"2021-03-06\", \"2021-03-07\", \"2021-03-08\", \"2021-03-09\", \"2021-03-10\", \"2021-03-11\", \"2021-03-12\", \"2021-03-13\", \"2021-03-14\", \"2021-03-15\", \"2021-03-16\", \"2021-03-17\", \"2021-03-18\", \"2021-03-19\", \"2021-03-20\", \"2021-03-21\", \"2021-03-22\", \"2021-03-23\", \"2021-03-24\", \"2021-03-25\", \"2021-03-26\", \"2021-03-27\", \"2021-03-28\", \"2021-03-29\", \"2021-03-30\", \"2021-03-31\", \"2021-04-01\", \"2021-04-02\", \"2021-04-03\", \"2021-04-04\", \"2021-04-05\"], \"xaxis\": \"x\", \"y\": [1, 1, 1, 1, 37, 50, 47, 30, 25, 42, 25, 15, 25, 40, 43, 30, 43, 40, 9, 26, 26, 49, 23, 32, 20, 18, 29, 26, 29, 81, 44, 27, 16, 26, 72, 64, 63, 36, 27, 22, 60, 63, 25, 52, 67, 30, 41, 63, 47, 66, 43, 32, 33, 20, 41, 71, 119, 58, 38, 76, 41, 5], \"yaxis\": \"y\"}, {\"hovertemplate\": \"sentiment=Positive<br>date=%{x}<br>tweets=%{y}<extra></extra>\", \"legendgroup\": \"Positive\", \"line\": {\"color\": \"#EF553B\", \"dash\": \"solid\"}, \"mode\": \"lines\", \"name\": \"Positive\", \"orientation\": \"v\", \"showlegend\": true, \"type\": \"scatter\", \"x\": [\"2020-12-19\", \"2021-02-07\", \"2021-02-08\", \"2021-02-09\", \"2021-02-10\", \"2021-02-11\", \"2021-02-12\", \"2021-02-13\", \"2021-02-14\", \"2021-02-15\", \"2021-02-16\", \"2021-02-17\", \"2021-02-18\", \"2021-02-19\", \"2021-02-20\", \"2021-02-21\", \"2021-02-22\", \"2021-02-23\", \"2021-02-24\", \"2021-02-25\", \"2021-02-26\", \"2021-02-27\", \"2021-02-28\", \"2021-03-01\", \"2021-03-02\", \"2021-03-03\", \"2021-03-04\", \"2021-03-05\", \"2021-03-06\", \"2021-03-07\", \"2021-03-08\", \"2021-03-09\", \"2021-03-10\", \"2021-03-11\", \"2021-03-12\", \"2021-03-13\", \"2021-03-14\", \"2021-03-15\", \"2021-03-16\", \"2021-03-17\", \"2021-03-18\", \"2021-03-19\", \"2021-03-20\", \"2021-03-21\", \"2021-03-22\", \"2021-03-23\", \"2021-03-24\", \"2021-03-25\", \"2021-03-26\", \"2021-03-27\", \"2021-03-28\", \"2021-03-29\", \"2021-03-30\", \"2021-03-31\", \"2021-04-01\", \"2021-04-02\", \"2021-04-03\", \"2021-04-04\", \"2021-04-05\"], \"xaxis\": \"x\", \"y\": [1, 7, 5, 17, 14, 7, 8, 9, 2, 10, 5, 27, 16, 7, 6, 5, 6, 2, 7, 4, 6, 9, 6, 6, 5, 6, 26, 9, 12, 4, 5, 10, 12, 18, 6, 3, 2, 13, 12, 6, 10, 13, 7, 9, 9, 12, 8, 9, 5, 3, 2, 7, 21, 16, 15, 11, 12, 11, 1], \"yaxis\": \"y\"}, {\"hovertemplate\": \"sentiment=Negative<br>date=%{x}<br>tweets=%{y}<extra></extra>\", \"legendgroup\": \"Negative\", \"line\": {\"color\": \"#00cc96\", \"dash\": \"solid\"}, \"mode\": \"lines\", \"name\": \"Negative\", \"orientation\": \"v\", \"showlegend\": true, \"type\": \"scatter\", \"x\": [\"2021-02-07\", \"2021-02-10\", \"2021-02-14\", \"2021-02-17\", \"2021-02-20\", \"2021-02-26\", \"2021-03-03\", \"2021-03-10\", \"2021-03-11\", \"2021-03-12\", \"2021-03-17\", \"2021-03-22\", \"2021-03-28\", \"2021-04-01\", \"2021-04-04\", \"2021-04-05\"], \"xaxis\": \"x\", \"y\": [1, 2, 1, 1, 1, 1, 2, 2, 1, 1, 1, 2, 1, 1, 1, 1], \"yaxis\": \"y\"}],                        {\"legend\": {\"title\": {\"text\": \"sentiment\"}, \"tracegroupgap\": 0}, \"template\": {\"data\": {\"bar\": [{\"error_x\": {\"color\": \"#2a3f5f\"}, \"error_y\": {\"color\": \"#2a3f5f\"}, \"marker\": {\"line\": {\"color\": \"#E5ECF6\", \"width\": 0.5}}, \"type\": \"bar\"}], \"barpolar\": [{\"marker\": {\"line\": {\"color\": \"#E5ECF6\", \"width\": 0.5}}, \"type\": \"barpolar\"}], \"carpet\": [{\"aaxis\": {\"endlinecolor\": \"#2a3f5f\", \"gridcolor\": \"white\", \"linecolor\": \"white\", \"minorgridcolor\": \"white\", \"startlinecolor\": \"#2a3f5f\"}, \"baxis\": {\"endlinecolor\": \"#2a3f5f\", \"gridcolor\": \"white\", \"linecolor\": \"white\", \"minorgridcolor\": \"white\", \"startlinecolor\": \"#2a3f5f\"}, \"type\": \"carpet\"}], \"choropleth\": [{\"colorbar\": {\"outlinewidth\": 0, \"ticks\": \"\"}, \"type\": \"choropleth\"}], \"contour\": [{\"colorbar\": {\"outlinewidth\": 0, \"ticks\": \"\"}, \"colorscale\": [[0.0, \"#0d0887\"], [0.1111111111111111, \"#46039f\"], [0.2222222222222222, \"#7201a8\"], [0.3333333333333333, \"#9c179e\"], [0.4444444444444444, \"#bd3786\"], [0.5555555555555556, \"#d8576b\"], [0.6666666666666666, \"#ed7953\"], [0.7777777777777778, \"#fb9f3a\"], [0.8888888888888888, \"#fdca26\"], [1.0, \"#f0f921\"]], \"type\": \"contour\"}], \"contourcarpet\": [{\"colorbar\": {\"outlinewidth\": 0, \"ticks\": \"\"}, \"type\": \"contourcarpet\"}], \"heatmap\": [{\"colorbar\": {\"outlinewidth\": 0, \"ticks\": \"\"}, \"colorscale\": [[0.0, \"#0d0887\"], [0.1111111111111111, \"#46039f\"], [0.2222222222222222, \"#7201a8\"], [0.3333333333333333, \"#9c179e\"], [0.4444444444444444, \"#bd3786\"], [0.5555555555555556, \"#d8576b\"], [0.6666666666666666, \"#ed7953\"], [0.7777777777777778, \"#fb9f3a\"], [0.8888888888888888, \"#fdca26\"], [1.0, \"#f0f921\"]], \"type\": \"heatmap\"}], \"heatmapgl\": [{\"colorbar\": {\"outlinewidth\": 0, \"ticks\": \"\"}, \"colorscale\": [[0.0, \"#0d0887\"], [0.1111111111111111, \"#46039f\"], [0.2222222222222222, \"#7201a8\"], [0.3333333333333333, \"#9c179e\"], [0.4444444444444444, \"#bd3786\"], [0.5555555555555556, \"#d8576b\"], [0.6666666666666666, \"#ed7953\"], [0.7777777777777778, \"#fb9f3a\"], [0.8888888888888888, \"#fdca26\"], [1.0, \"#f0f921\"]], \"type\": \"heatmapgl\"}], \"histogram\": [{\"marker\": {\"colorbar\": {\"outlinewidth\": 0, \"ticks\": \"\"}}, \"type\": \"histogram\"}], \"histogram2d\": [{\"colorbar\": {\"outlinewidth\": 0, \"ticks\": \"\"}, \"colorscale\": [[0.0, \"#0d0887\"], [0.1111111111111111, \"#46039f\"], [0.2222222222222222, \"#7201a8\"], [0.3333333333333333, \"#9c179e\"], [0.4444444444444444, \"#bd3786\"], [0.5555555555555556, \"#d8576b\"], [0.6666666666666666, \"#ed7953\"], [0.7777777777777778, \"#fb9f3a\"], [0.8888888888888888, \"#fdca26\"], [1.0, \"#f0f921\"]], \"type\": \"histogram2d\"}], \"histogram2dcontour\": [{\"colorbar\": {\"outlinewidth\": 0, \"ticks\": \"\"}, \"colorscale\": [[0.0, \"#0d0887\"], [0.1111111111111111, \"#46039f\"], [0.2222222222222222, \"#7201a8\"], [0.3333333333333333, \"#9c179e\"], [0.4444444444444444, \"#bd3786\"], [0.5555555555555556, \"#d8576b\"], [0.6666666666666666, \"#ed7953\"], [0.7777777777777778, \"#fb9f3a\"], [0.8888888888888888, \"#fdca26\"], [1.0, \"#f0f921\"]], \"type\": \"histogram2dcontour\"}], \"mesh3d\": [{\"colorbar\": {\"outlinewidth\": 0, \"ticks\": \"\"}, \"type\": \"mesh3d\"}], \"parcoords\": [{\"line\": {\"colorbar\": {\"outlinewidth\": 0, \"ticks\": \"\"}}, \"type\": \"parcoords\"}], \"pie\": [{\"automargin\": true, \"type\": \"pie\"}], \"scatter\": [{\"marker\": {\"colorbar\": {\"outlinewidth\": 0, \"ticks\": \"\"}}, \"type\": \"scatter\"}], \"scatter3d\": [{\"line\": {\"colorbar\": {\"outlinewidth\": 0, \"ticks\": \"\"}}, \"marker\": {\"colorbar\": {\"outlinewidth\": 0, \"ticks\": \"\"}}, \"type\": \"scatter3d\"}], \"scattercarpet\": [{\"marker\": {\"colorbar\": {\"outlinewidth\": 0, \"ticks\": \"\"}}, \"type\": \"scattercarpet\"}], \"scattergeo\": [{\"marker\": {\"colorbar\": {\"outlinewidth\": 0, \"ticks\": \"\"}}, \"type\": \"scattergeo\"}], \"scattergl\": [{\"marker\": {\"colorbar\": {\"outlinewidth\": 0, \"ticks\": \"\"}}, \"type\": \"scattergl\"}], \"scattermapbox\": [{\"marker\": {\"colorbar\": {\"outlinewidth\": 0, \"ticks\": \"\"}}, \"type\": \"scattermapbox\"}], \"scatterpolar\": [{\"marker\": {\"colorbar\": {\"outlinewidth\": 0, \"ticks\": \"\"}}, \"type\": \"scatterpolar\"}], \"scatterpolargl\": [{\"marker\": {\"colorbar\": {\"outlinewidth\": 0, \"ticks\": \"\"}}, \"type\": \"scatterpolargl\"}], \"scatterternary\": [{\"marker\": {\"colorbar\": {\"outlinewidth\": 0, \"ticks\": \"\"}}, \"type\": \"scatterternary\"}], \"surface\": [{\"colorbar\": {\"outlinewidth\": 0, \"ticks\": \"\"}, \"colorscale\": [[0.0, \"#0d0887\"], [0.1111111111111111, \"#46039f\"], [0.2222222222222222, \"#7201a8\"], [0.3333333333333333, \"#9c179e\"], [0.4444444444444444, \"#bd3786\"], [0.5555555555555556, \"#d8576b\"], [0.6666666666666666, \"#ed7953\"], [0.7777777777777778, \"#fb9f3a\"], [0.8888888888888888, \"#fdca26\"], [1.0, \"#f0f921\"]], \"type\": \"surface\"}], \"table\": [{\"cells\": {\"fill\": {\"color\": \"#EBF0F8\"}, \"line\": {\"color\": \"white\"}}, \"header\": {\"fill\": {\"color\": \"#C8D4E3\"}, \"line\": {\"color\": \"white\"}}, \"type\": \"table\"}]}, \"layout\": {\"annotationdefaults\": {\"arrowcolor\": \"#2a3f5f\", \"arrowhead\": 0, \"arrowwidth\": 1}, \"autotypenumbers\": \"strict\", \"coloraxis\": {\"colorbar\": {\"outlinewidth\": 0, \"ticks\": \"\"}}, \"colorscale\": {\"diverging\": [[0, \"#8e0152\"], [0.1, \"#c51b7d\"], [0.2, \"#de77ae\"], [0.3, \"#f1b6da\"], [0.4, \"#fde0ef\"], [0.5, \"#f7f7f7\"], [0.6, \"#e6f5d0\"], [0.7, \"#b8e186\"], [0.8, \"#7fbc41\"], [0.9, \"#4d9221\"], [1, \"#276419\"]], \"sequential\": [[0.0, \"#0d0887\"], [0.1111111111111111, \"#46039f\"], [0.2222222222222222, \"#7201a8\"], [0.3333333333333333, \"#9c179e\"], [0.4444444444444444, \"#bd3786\"], [0.5555555555555556, \"#d8576b\"], [0.6666666666666666, \"#ed7953\"], [0.7777777777777778, \"#fb9f3a\"], [0.8888888888888888, \"#fdca26\"], [1.0, \"#f0f921\"]], \"sequentialminus\": [[0.0, \"#0d0887\"], [0.1111111111111111, \"#46039f\"], [0.2222222222222222, \"#7201a8\"], [0.3333333333333333, \"#9c179e\"], [0.4444444444444444, \"#bd3786\"], [0.5555555555555556, \"#d8576b\"], [0.6666666666666666, \"#ed7953\"], [0.7777777777777778, \"#fb9f3a\"], [0.8888888888888888, \"#fdca26\"], [1.0, \"#f0f921\"]]}, \"colorway\": [\"#636efa\", \"#EF553B\", \"#00cc96\", \"#ab63fa\", \"#FFA15A\", \"#19d3f3\", \"#FF6692\", \"#B6E880\", \"#FF97FF\", \"#FECB52\"], \"font\": {\"color\": \"#2a3f5f\"}, \"geo\": {\"bgcolor\": \"white\", \"lakecolor\": \"white\", \"landcolor\": \"#E5ECF6\", \"showlakes\": true, \"showland\": true, \"subunitcolor\": \"white\"}, \"hoverlabel\": {\"align\": \"left\"}, \"hovermode\": \"closest\", \"mapbox\": {\"style\": \"light\"}, \"paper_bgcolor\": \"white\", \"plot_bgcolor\": \"#E5ECF6\", \"polar\": {\"angularaxis\": {\"gridcolor\": \"white\", \"linecolor\": \"white\", \"ticks\": \"\"}, \"bgcolor\": \"#E5ECF6\", \"radialaxis\": {\"gridcolor\": \"white\", \"linecolor\": \"white\", \"ticks\": \"\"}}, \"scene\": {\"xaxis\": {\"backgroundcolor\": \"#E5ECF6\", \"gridcolor\": \"white\", \"gridwidth\": 2, \"linecolor\": \"white\", \"showbackground\": true, \"ticks\": \"\", \"zerolinecolor\": \"white\"}, \"yaxis\": {\"backgroundcolor\": \"#E5ECF6\", \"gridcolor\": \"white\", \"gridwidth\": 2, \"linecolor\": \"white\", \"showbackground\": true, \"ticks\": \"\", \"zerolinecolor\": \"white\"}, \"zaxis\": {\"backgroundcolor\": \"#E5ECF6\", \"gridcolor\": \"white\", \"gridwidth\": 2, \"linecolor\": \"white\", \"showbackground\": true, \"ticks\": \"\", \"zerolinecolor\": \"white\"}}, \"shapedefaults\": {\"line\": {\"color\": \"#2a3f5f\"}}, \"ternary\": {\"aaxis\": {\"gridcolor\": \"white\", \"linecolor\": \"white\", \"ticks\": \"\"}, \"baxis\": {\"gridcolor\": \"white\", \"linecolor\": \"white\", \"ticks\": \"\"}, \"bgcolor\": \"#E5ECF6\", \"caxis\": {\"gridcolor\": \"white\", \"linecolor\": \"white\", \"ticks\": \"\"}}, \"title\": {\"x\": 0.05}, \"xaxis\": {\"automargin\": true, \"gridcolor\": \"white\", \"linecolor\": \"white\", \"ticks\": \"\", \"title\": {\"standoff\": 15}, \"zerolinecolor\": \"white\", \"zerolinewidth\": 2}, \"yaxis\": {\"automargin\": true, \"gridcolor\": \"white\", \"linecolor\": \"white\", \"ticks\": \"\", \"title\": {\"standoff\": 15}, \"zerolinecolor\": \"white\", \"zerolinewidth\": 2}}}, \"title\": {\"text\": \"Timeline showing sentiment of tweets about the Sputnik V vaccine\"}, \"xaxis\": {\"anchor\": \"y\", \"domain\": [0.0, 1.0], \"title\": {\"text\": \"date\"}}, \"yaxis\": {\"anchor\": \"x\", \"domain\": [0.0, 1.0], \"title\": {\"text\": \"tweets\"}}},                        {\"responsive\": true}                    ).then(function(){\n",
       "                            \n",
       "var gd = document.getElementById('dfae2516-d7d0-4aab-ba7c-27b06b5ff7bb');\n",
       "var x = new MutationObserver(function (mutations, observer) {{\n",
       "        var display = window.getComputedStyle(gd).display;\n",
       "        if (!display || display === 'none') {{\n",
       "            console.log([gd, 'removed!']);\n",
       "            Plotly.purge(gd);\n",
       "            observer.disconnect();\n",
       "        }}\n",
       "}});\n",
       "\n",
       "// Listen for the removal of the full notebook cells\n",
       "var notebookContainer = gd.closest('#notebook-container');\n",
       "if (notebookContainer) {{\n",
       "    x.observe(notebookContainer, {childList: true});\n",
       "}}\n",
       "\n",
       "// Listen for the clearing of the current output cell\n",
       "var outputEl = gd.closest('.output');\n",
       "if (outputEl) {{\n",
       "    x.observe(outputEl, {childList: true});\n",
       "}}\n",
       "\n",
       "                        })                };                });            </script>        </div>"
      ]
     },
     "metadata": {},
     "output_type": "display_data"
    },
    {
     "data": {
      "text/html": [
       "<div>                            <div id=\"cb9d9684-cae8-4c43-a27c-4354c98c5466\" class=\"plotly-graph-div\" style=\"height:525px; width:100%;\"></div>            <script type=\"text/javascript\">                require([\"plotly\"], function(Plotly) {                    window.PLOTLYENV=window.PLOTLYENV || {};                                    if (document.getElementById(\"cb9d9684-cae8-4c43-a27c-4354c98c5466\")) {                    Plotly.newPlot(                        \"cb9d9684-cae8-4c43-a27c-4354c98c5466\",                        [{\"hovertemplate\": \"sentiment=Neutral<br>date=%{x}<br>tweets=%{y}<extra></extra>\", \"legendgroup\": \"Neutral\", \"line\": {\"color\": \"#636efa\", \"dash\": \"solid\"}, \"mode\": \"lines\", \"name\": \"Neutral\", \"orientation\": \"v\", \"showlegend\": true, \"type\": \"scatter\", \"x\": [\"2020-12-15\", \"2020-12-20\", \"2020-12-22\", \"2020-12-30\", \"2020-12-31\", \"2021-01-01\", \"2021-01-04\", \"2021-01-06\", \"2021-01-08\", \"2021-01-09\", \"2021-01-12\", \"2021-01-13\", \"2021-01-20\", \"2021-01-28\", \"2021-01-29\", \"2021-02-01\", \"2021-02-04\", \"2021-02-05\", \"2021-02-07\", \"2021-02-08\", \"2021-02-09\", \"2021-02-10\", \"2021-02-11\", \"2021-02-12\", \"2021-02-13\", \"2021-02-14\", \"2021-02-15\", \"2021-02-16\", \"2021-02-17\", \"2021-02-18\", \"2021-02-19\", \"2021-02-20\", \"2021-02-21\", \"2021-02-22\", \"2021-02-23\", \"2021-02-24\", \"2021-02-25\", \"2021-02-26\", \"2021-02-27\", \"2021-02-28\", \"2021-03-01\", \"2021-03-02\", \"2021-03-03\", \"2021-03-04\", \"2021-03-05\", \"2021-03-06\", \"2021-03-07\", \"2021-03-08\", \"2021-03-09\", \"2021-03-10\", \"2021-03-11\", \"2021-03-12\", \"2021-03-13\", \"2021-03-14\", \"2021-03-15\", \"2021-03-16\", \"2021-03-17\", \"2021-03-18\", \"2021-03-19\", \"2021-03-20\", \"2021-03-21\", \"2021-03-22\", \"2021-03-23\", \"2021-03-24\", \"2021-03-25\", \"2021-03-26\", \"2021-03-27\", \"2021-03-28\", \"2021-03-29\", \"2021-03-30\", \"2021-03-31\", \"2021-04-01\", \"2021-04-02\", \"2021-04-03\", \"2021-04-04\", \"2021-04-05\"], \"xaxis\": \"x\", \"y\": [1, 1, 1, 8, 2, 1, 2, 2, 1, 1, 1, 1, 1, 1, 2, 1, 4, 1, 16, 31, 14, 21, 14, 9, 9, 9, 9, 12, 11, 9, 14, 11, 5, 7, 4, 14, 16, 17, 16, 21, 15, 30, 13, 26, 25, 24, 6, 14, 12, 11, 32, 33, 26, 34, 111, 146, 68, 86, 89, 90, 47, 59, 39, 31, 25, 19, 10, 15, 8, 17, 31, 15, 6, 19, 4, 1], \"yaxis\": \"y\"}, {\"hovertemplate\": \"sentiment=Positive<br>date=%{x}<br>tweets=%{y}<extra></extra>\", \"legendgroup\": \"Positive\", \"line\": {\"color\": \"#EF553B\", \"dash\": \"solid\"}, \"mode\": \"lines\", \"name\": \"Positive\", \"orientation\": \"v\", \"showlegend\": true, \"type\": \"scatter\", \"x\": [\"2020-12-19\", \"2020-12-31\", \"2021-01-18\", \"2021-01-25\", \"2021-02-02\", \"2021-02-07\", \"2021-02-09\", \"2021-02-10\", \"2021-02-11\", \"2021-02-12\", \"2021-02-13\", \"2021-02-14\", \"2021-02-15\", \"2021-02-16\", \"2021-02-17\", \"2021-02-18\", \"2021-02-19\", \"2021-02-20\", \"2021-02-21\", \"2021-02-22\", \"2021-02-23\", \"2021-02-24\", \"2021-02-25\", \"2021-02-26\", \"2021-02-27\", \"2021-02-28\", \"2021-03-01\", \"2021-03-02\", \"2021-03-03\", \"2021-03-04\", \"2021-03-05\", \"2021-03-06\", \"2021-03-07\", \"2021-03-08\", \"2021-03-09\", \"2021-03-10\", \"2021-03-11\", \"2021-03-12\", \"2021-03-13\", \"2021-03-14\", \"2021-03-15\", \"2021-03-16\", \"2021-03-17\", \"2021-03-18\", \"2021-03-19\", \"2021-03-20\", \"2021-03-21\", \"2021-03-22\", \"2021-03-23\", \"2021-03-24\", \"2021-03-25\", \"2021-03-26\", \"2021-03-27\", \"2021-03-29\", \"2021-03-30\", \"2021-03-31\", \"2021-04-01\", \"2021-04-02\", \"2021-04-03\", \"2021-04-04\"], \"xaxis\": \"x\", \"y\": [1, 1, 1, 1, 1, 2, 1, 7, 1, 4, 4, 2, 5, 4, 3, 2, 4, 3, 1, 1, 4, 1, 5, 4, 4, 2, 1, 6, 4, 4, 9, 8, 3, 1, 3, 3, 2, 5, 3, 6, 15, 25, 14, 15, 23, 22, 11, 12, 14, 5, 6, 4, 1, 1, 6, 4, 5, 1, 3, 2], \"yaxis\": \"y\"}, {\"hovertemplate\": \"sentiment=Negative<br>date=%{x}<br>tweets=%{y}<extra></extra>\", \"legendgroup\": \"Negative\", \"line\": {\"color\": \"#00cc96\", \"dash\": \"solid\"}, \"mode\": \"lines\", \"name\": \"Negative\", \"orientation\": \"v\", \"showlegend\": true, \"type\": \"scatter\", \"x\": [\"2021-02-07\", \"2021-02-12\", \"2021-03-06\", \"2021-03-10\", \"2021-03-13\", \"2021-03-14\", \"2021-03-15\", \"2021-03-17\", \"2021-03-18\", \"2021-03-20\", \"2021-03-21\", \"2021-03-22\"], \"xaxis\": \"x\", \"y\": [1, 1, 1, 2, 1, 1, 1, 1, 2, 1, 1, 2], \"yaxis\": \"y\"}],                        {\"legend\": {\"title\": {\"text\": \"sentiment\"}, \"tracegroupgap\": 0}, \"template\": {\"data\": {\"bar\": [{\"error_x\": {\"color\": \"#2a3f5f\"}, \"error_y\": {\"color\": \"#2a3f5f\"}, \"marker\": {\"line\": {\"color\": \"#E5ECF6\", \"width\": 0.5}}, \"type\": \"bar\"}], \"barpolar\": [{\"marker\": {\"line\": {\"color\": \"#E5ECF6\", \"width\": 0.5}}, \"type\": \"barpolar\"}], \"carpet\": [{\"aaxis\": {\"endlinecolor\": \"#2a3f5f\", \"gridcolor\": \"white\", \"linecolor\": \"white\", \"minorgridcolor\": \"white\", \"startlinecolor\": \"#2a3f5f\"}, \"baxis\": {\"endlinecolor\": \"#2a3f5f\", \"gridcolor\": \"white\", \"linecolor\": \"white\", \"minorgridcolor\": \"white\", \"startlinecolor\": \"#2a3f5f\"}, \"type\": \"carpet\"}], \"choropleth\": [{\"colorbar\": {\"outlinewidth\": 0, \"ticks\": \"\"}, \"type\": \"choropleth\"}], \"contour\": [{\"colorbar\": {\"outlinewidth\": 0, \"ticks\": \"\"}, \"colorscale\": [[0.0, \"#0d0887\"], [0.1111111111111111, \"#46039f\"], [0.2222222222222222, \"#7201a8\"], [0.3333333333333333, \"#9c179e\"], [0.4444444444444444, \"#bd3786\"], [0.5555555555555556, \"#d8576b\"], [0.6666666666666666, \"#ed7953\"], [0.7777777777777778, \"#fb9f3a\"], [0.8888888888888888, \"#fdca26\"], [1.0, \"#f0f921\"]], \"type\": \"contour\"}], \"contourcarpet\": [{\"colorbar\": {\"outlinewidth\": 0, \"ticks\": \"\"}, \"type\": \"contourcarpet\"}], \"heatmap\": [{\"colorbar\": {\"outlinewidth\": 0, \"ticks\": \"\"}, \"colorscale\": [[0.0, \"#0d0887\"], [0.1111111111111111, \"#46039f\"], [0.2222222222222222, \"#7201a8\"], [0.3333333333333333, \"#9c179e\"], [0.4444444444444444, \"#bd3786\"], [0.5555555555555556, \"#d8576b\"], [0.6666666666666666, \"#ed7953\"], [0.7777777777777778, \"#fb9f3a\"], [0.8888888888888888, \"#fdca26\"], [1.0, \"#f0f921\"]], \"type\": \"heatmap\"}], \"heatmapgl\": [{\"colorbar\": {\"outlinewidth\": 0, \"ticks\": \"\"}, \"colorscale\": [[0.0, \"#0d0887\"], [0.1111111111111111, \"#46039f\"], [0.2222222222222222, \"#7201a8\"], [0.3333333333333333, \"#9c179e\"], [0.4444444444444444, \"#bd3786\"], [0.5555555555555556, \"#d8576b\"], [0.6666666666666666, \"#ed7953\"], [0.7777777777777778, \"#fb9f3a\"], [0.8888888888888888, \"#fdca26\"], [1.0, \"#f0f921\"]], \"type\": \"heatmapgl\"}], \"histogram\": [{\"marker\": {\"colorbar\": {\"outlinewidth\": 0, \"ticks\": \"\"}}, \"type\": \"histogram\"}], \"histogram2d\": [{\"colorbar\": {\"outlinewidth\": 0, \"ticks\": \"\"}, \"colorscale\": [[0.0, \"#0d0887\"], [0.1111111111111111, \"#46039f\"], [0.2222222222222222, \"#7201a8\"], [0.3333333333333333, \"#9c179e\"], [0.4444444444444444, \"#bd3786\"], [0.5555555555555556, \"#d8576b\"], [0.6666666666666666, \"#ed7953\"], [0.7777777777777778, \"#fb9f3a\"], [0.8888888888888888, \"#fdca26\"], [1.0, \"#f0f921\"]], \"type\": \"histogram2d\"}], \"histogram2dcontour\": [{\"colorbar\": {\"outlinewidth\": 0, \"ticks\": \"\"}, \"colorscale\": [[0.0, \"#0d0887\"], [0.1111111111111111, \"#46039f\"], [0.2222222222222222, \"#7201a8\"], [0.3333333333333333, \"#9c179e\"], [0.4444444444444444, \"#bd3786\"], [0.5555555555555556, \"#d8576b\"], [0.6666666666666666, \"#ed7953\"], [0.7777777777777778, \"#fb9f3a\"], [0.8888888888888888, \"#fdca26\"], [1.0, \"#f0f921\"]], \"type\": \"histogram2dcontour\"}], \"mesh3d\": [{\"colorbar\": {\"outlinewidth\": 0, \"ticks\": \"\"}, \"type\": \"mesh3d\"}], \"parcoords\": [{\"line\": {\"colorbar\": {\"outlinewidth\": 0, \"ticks\": \"\"}}, \"type\": \"parcoords\"}], \"pie\": [{\"automargin\": true, \"type\": \"pie\"}], \"scatter\": [{\"marker\": {\"colorbar\": {\"outlinewidth\": 0, \"ticks\": \"\"}}, \"type\": \"scatter\"}], \"scatter3d\": [{\"line\": {\"colorbar\": {\"outlinewidth\": 0, \"ticks\": \"\"}}, \"marker\": {\"colorbar\": {\"outlinewidth\": 0, \"ticks\": \"\"}}, \"type\": \"scatter3d\"}], \"scattercarpet\": [{\"marker\": {\"colorbar\": {\"outlinewidth\": 0, \"ticks\": \"\"}}, \"type\": \"scattercarpet\"}], \"scattergeo\": [{\"marker\": {\"colorbar\": {\"outlinewidth\": 0, \"ticks\": \"\"}}, \"type\": \"scattergeo\"}], \"scattergl\": [{\"marker\": {\"colorbar\": {\"outlinewidth\": 0, \"ticks\": \"\"}}, \"type\": \"scattergl\"}], \"scattermapbox\": [{\"marker\": {\"colorbar\": {\"outlinewidth\": 0, \"ticks\": \"\"}}, \"type\": \"scattermapbox\"}], \"scatterpolar\": [{\"marker\": {\"colorbar\": {\"outlinewidth\": 0, \"ticks\": \"\"}}, \"type\": \"scatterpolar\"}], \"scatterpolargl\": [{\"marker\": {\"colorbar\": {\"outlinewidth\": 0, \"ticks\": \"\"}}, \"type\": \"scatterpolargl\"}], \"scatterternary\": [{\"marker\": {\"colorbar\": {\"outlinewidth\": 0, \"ticks\": \"\"}}, \"type\": \"scatterternary\"}], \"surface\": [{\"colorbar\": {\"outlinewidth\": 0, \"ticks\": \"\"}, \"colorscale\": [[0.0, \"#0d0887\"], [0.1111111111111111, \"#46039f\"], [0.2222222222222222, \"#7201a8\"], [0.3333333333333333, \"#9c179e\"], [0.4444444444444444, \"#bd3786\"], [0.5555555555555556, \"#d8576b\"], [0.6666666666666666, \"#ed7953\"], [0.7777777777777778, \"#fb9f3a\"], [0.8888888888888888, \"#fdca26\"], [1.0, \"#f0f921\"]], \"type\": \"surface\"}], \"table\": [{\"cells\": {\"fill\": {\"color\": \"#EBF0F8\"}, \"line\": {\"color\": \"white\"}}, \"header\": {\"fill\": {\"color\": \"#C8D4E3\"}, \"line\": {\"color\": \"white\"}}, \"type\": \"table\"}]}, \"layout\": {\"annotationdefaults\": {\"arrowcolor\": \"#2a3f5f\", \"arrowhead\": 0, \"arrowwidth\": 1}, \"autotypenumbers\": \"strict\", \"coloraxis\": {\"colorbar\": {\"outlinewidth\": 0, \"ticks\": \"\"}}, \"colorscale\": {\"diverging\": [[0, \"#8e0152\"], [0.1, \"#c51b7d\"], [0.2, \"#de77ae\"], [0.3, \"#f1b6da\"], [0.4, \"#fde0ef\"], [0.5, \"#f7f7f7\"], [0.6, \"#e6f5d0\"], [0.7, \"#b8e186\"], [0.8, \"#7fbc41\"], [0.9, \"#4d9221\"], [1, \"#276419\"]], \"sequential\": [[0.0, \"#0d0887\"], [0.1111111111111111, \"#46039f\"], [0.2222222222222222, \"#7201a8\"], [0.3333333333333333, \"#9c179e\"], [0.4444444444444444, \"#bd3786\"], [0.5555555555555556, \"#d8576b\"], [0.6666666666666666, \"#ed7953\"], [0.7777777777777778, \"#fb9f3a\"], [0.8888888888888888, \"#fdca26\"], [1.0, \"#f0f921\"]], \"sequentialminus\": [[0.0, \"#0d0887\"], [0.1111111111111111, \"#46039f\"], [0.2222222222222222, \"#7201a8\"], [0.3333333333333333, \"#9c179e\"], [0.4444444444444444, \"#bd3786\"], [0.5555555555555556, \"#d8576b\"], [0.6666666666666666, \"#ed7953\"], [0.7777777777777778, \"#fb9f3a\"], [0.8888888888888888, \"#fdca26\"], [1.0, \"#f0f921\"]]}, \"colorway\": [\"#636efa\", \"#EF553B\", \"#00cc96\", \"#ab63fa\", \"#FFA15A\", \"#19d3f3\", \"#FF6692\", \"#B6E880\", \"#FF97FF\", \"#FECB52\"], \"font\": {\"color\": \"#2a3f5f\"}, \"geo\": {\"bgcolor\": \"white\", \"lakecolor\": \"white\", \"landcolor\": \"#E5ECF6\", \"showlakes\": true, \"showland\": true, \"subunitcolor\": \"white\"}, \"hoverlabel\": {\"align\": \"left\"}, \"hovermode\": \"closest\", \"mapbox\": {\"style\": \"light\"}, \"paper_bgcolor\": \"white\", \"plot_bgcolor\": \"#E5ECF6\", \"polar\": {\"angularaxis\": {\"gridcolor\": \"white\", \"linecolor\": \"white\", \"ticks\": \"\"}, \"bgcolor\": \"#E5ECF6\", \"radialaxis\": {\"gridcolor\": \"white\", \"linecolor\": \"white\", \"ticks\": \"\"}}, \"scene\": {\"xaxis\": {\"backgroundcolor\": \"#E5ECF6\", \"gridcolor\": \"white\", \"gridwidth\": 2, \"linecolor\": \"white\", \"showbackground\": true, \"ticks\": \"\", \"zerolinecolor\": \"white\"}, \"yaxis\": {\"backgroundcolor\": \"#E5ECF6\", \"gridcolor\": \"white\", \"gridwidth\": 2, \"linecolor\": \"white\", \"showbackground\": true, \"ticks\": \"\", \"zerolinecolor\": \"white\"}, \"zaxis\": {\"backgroundcolor\": \"#E5ECF6\", \"gridcolor\": \"white\", \"gridwidth\": 2, \"linecolor\": \"white\", \"showbackground\": true, \"ticks\": \"\", \"zerolinecolor\": \"white\"}}, \"shapedefaults\": {\"line\": {\"color\": \"#2a3f5f\"}}, \"ternary\": {\"aaxis\": {\"gridcolor\": \"white\", \"linecolor\": \"white\", \"ticks\": \"\"}, \"baxis\": {\"gridcolor\": \"white\", \"linecolor\": \"white\", \"ticks\": \"\"}, \"bgcolor\": \"#E5ECF6\", \"caxis\": {\"gridcolor\": \"white\", \"linecolor\": \"white\", \"ticks\": \"\"}}, \"title\": {\"x\": 0.05}, \"xaxis\": {\"automargin\": true, \"gridcolor\": \"white\", \"linecolor\": \"white\", \"ticks\": \"\", \"title\": {\"standoff\": 15}, \"zerolinecolor\": \"white\", \"zerolinewidth\": 2}, \"yaxis\": {\"automargin\": true, \"gridcolor\": \"white\", \"linecolor\": \"white\", \"ticks\": \"\", \"title\": {\"standoff\": 15}, \"zerolinecolor\": \"white\", \"zerolinewidth\": 2}}}, \"title\": {\"text\": \"Timeline showing sentiment of tweets about the Oxford/AstraZeneca vaccine\"}, \"xaxis\": {\"anchor\": \"y\", \"domain\": [0.0, 1.0], \"title\": {\"text\": \"date\"}}, \"yaxis\": {\"anchor\": \"x\", \"domain\": [0.0, 1.0], \"title\": {\"text\": \"tweets\"}}},                        {\"responsive\": true}                    ).then(function(){\n",
       "                            \n",
       "var gd = document.getElementById('cb9d9684-cae8-4c43-a27c-4354c98c5466');\n",
       "var x = new MutationObserver(function (mutations, observer) {{\n",
       "        var display = window.getComputedStyle(gd).display;\n",
       "        if (!display || display === 'none') {{\n",
       "            console.log([gd, 'removed!']);\n",
       "            Plotly.purge(gd);\n",
       "            observer.disconnect();\n",
       "        }}\n",
       "}});\n",
       "\n",
       "// Listen for the removal of the full notebook cells\n",
       "var notebookContainer = gd.closest('#notebook-container');\n",
       "if (notebookContainer) {{\n",
       "    x.observe(notebookContainer, {childList: true});\n",
       "}}\n",
       "\n",
       "// Listen for the clearing of the current output cell\n",
       "var outputEl = gd.closest('.output');\n",
       "if (outputEl) {{\n",
       "    x.observe(outputEl, {childList: true});\n",
       "}}\n",
       "\n",
       "                        })                };                });            </script>        </div>"
      ]
     },
     "metadata": {},
     "output_type": "display_data"
    },
    {
     "data": {
      "text/html": [
       "<div>                            <div id=\"3e28012c-88f3-4bb3-8172-d5567cfa3169\" class=\"plotly-graph-div\" style=\"height:525px; width:100%;\"></div>            <script type=\"text/javascript\">                require([\"plotly\"], function(Plotly) {                    window.PLOTLYENV=window.PLOTLYENV || {};                                    if (document.getElementById(\"3e28012c-88f3-4bb3-8172-d5567cfa3169\")) {                    Plotly.newPlot(                        \"3e28012c-88f3-4bb3-8172-d5567cfa3169\",                        [{\"hovertemplate\": \"sentiment=Neutral<br>date=%{x}<br>tweets=%{y}<extra></extra>\", \"legendgroup\": \"Neutral\", \"line\": {\"color\": \"#636efa\", \"dash\": \"solid\"}, \"mode\": \"lines\", \"name\": \"Neutral\", \"orientation\": \"v\", \"showlegend\": true, \"type\": \"scatter\", \"x\": [\"2020-12-12\", \"2020-12-13\", \"2020-12-14\", \"2020-12-15\", \"2020-12-16\", \"2020-12-17\", \"2020-12-18\", \"2020-12-19\", \"2020-12-20\", \"2020-12-21\", \"2020-12-22\", \"2020-12-23\", \"2020-12-24\", \"2020-12-25\", \"2020-12-26\", \"2020-12-27\", \"2020-12-28\", \"2020-12-29\", \"2020-12-30\", \"2020-12-31\", \"2021-01-01\", \"2021-01-02\", \"2021-01-03\", \"2021-01-04\", \"2021-01-05\", \"2021-01-06\", \"2021-01-07\", \"2021-01-08\", \"2021-01-09\", \"2021-01-10\", \"2021-01-11\", \"2021-01-12\", \"2021-01-13\", \"2021-01-14\", \"2021-01-15\", \"2021-01-16\", \"2021-01-17\", \"2021-01-18\", \"2021-01-19\", \"2021-01-20\", \"2021-01-21\", \"2021-01-22\", \"2021-01-23\", \"2021-01-24\", \"2021-01-25\", \"2021-01-26\", \"2021-01-27\", \"2021-01-28\", \"2021-01-29\", \"2021-01-30\", \"2021-01-31\", \"2021-02-01\", \"2021-02-02\", \"2021-02-03\", \"2021-02-04\", \"2021-02-05\", \"2021-02-06\", \"2021-02-07\", \"2021-02-08\", \"2021-02-09\", \"2021-02-10\", \"2021-02-11\", \"2021-02-12\", \"2021-02-13\", \"2021-02-14\", \"2021-02-15\", \"2021-02-16\", \"2021-02-17\", \"2021-02-18\", \"2021-02-19\", \"2021-02-20\", \"2021-02-21\", \"2021-02-22\", \"2021-02-23\", \"2021-02-24\", \"2021-02-25\", \"2021-02-26\", \"2021-02-27\", \"2021-02-28\", \"2021-03-01\", \"2021-03-02\", \"2021-03-03\", \"2021-03-04\", \"2021-03-05\", \"2021-03-06\", \"2021-03-07\", \"2021-03-08\", \"2021-03-09\", \"2021-03-10\", \"2021-03-11\", \"2021-03-12\", \"2021-03-13\", \"2021-03-14\", \"2021-03-15\", \"2021-03-16\", \"2021-03-17\", \"2021-03-18\", \"2021-03-19\", \"2021-03-20\", \"2021-03-21\", \"2021-03-22\", \"2021-03-23\", \"2021-03-24\", \"2021-03-25\", \"2021-03-26\", \"2021-03-27\", \"2021-03-28\", \"2021-03-29\", \"2021-03-30\", \"2021-03-31\", \"2021-04-01\", \"2021-04-02\", \"2021-04-03\", \"2021-04-04\", \"2021-04-05\"], \"xaxis\": \"x\", \"y\": [12, 32, 54, 42, 31, 38, 22, 39, 25, 43, 59, 35, 43, 13, 17, 15, 12, 25, 19, 15, 33, 25, 17, 22, 39, 36, 23, 57, 53, 29, 30, 28, 36, 31, 49, 41, 37, 24, 38, 28, 53, 22, 26, 22, 18, 24, 20, 28, 23, 17, 7, 8, 16, 12, 20, 23, 14, 8, 19, 12, 17, 12, 18, 6, 13, 12, 16, 15, 16, 44, 17, 18, 15, 15, 29, 40, 31, 9, 13, 14, 14, 20, 23, 12, 10, 11, 17, 13, 14, 25, 14, 7, 8, 12, 15, 11, 9, 16, 14, 6, 11, 12, 13, 9, 14, 10, 8, 9, 10, 47, 43, 14, 12, 6, 2], \"yaxis\": \"y\"}, {\"hovertemplate\": \"sentiment=Positive<br>date=%{x}<br>tweets=%{y}<extra></extra>\", \"legendgroup\": \"Positive\", \"line\": {\"color\": \"#EF553B\", \"dash\": \"solid\"}, \"mode\": \"lines\", \"name\": \"Positive\", \"orientation\": \"v\", \"showlegend\": true, \"type\": \"scatter\", \"x\": [\"2020-12-12\", \"2020-12-13\", \"2020-12-14\", \"2020-12-15\", \"2020-12-16\", \"2020-12-17\", \"2020-12-18\", \"2020-12-19\", \"2020-12-20\", \"2020-12-21\", \"2020-12-22\", \"2020-12-23\", \"2020-12-24\", \"2020-12-25\", \"2020-12-26\", \"2020-12-27\", \"2020-12-28\", \"2020-12-29\", \"2020-12-30\", \"2020-12-31\", \"2021-01-01\", \"2021-01-02\", \"2021-01-03\", \"2021-01-04\", \"2021-01-05\", \"2021-01-06\", \"2021-01-07\", \"2021-01-08\", \"2021-01-09\", \"2021-01-10\", \"2021-01-11\", \"2021-01-12\", \"2021-01-13\", \"2021-01-14\", \"2021-01-15\", \"2021-01-16\", \"2021-01-17\", \"2021-01-18\", \"2021-01-19\", \"2021-01-20\", \"2021-01-21\", \"2021-01-22\", \"2021-01-23\", \"2021-01-24\", \"2021-01-25\", \"2021-01-26\", \"2021-01-27\", \"2021-01-28\", \"2021-01-29\", \"2021-01-30\", \"2021-01-31\", \"2021-02-01\", \"2021-02-02\", \"2021-02-03\", \"2021-02-04\", \"2021-02-05\", \"2021-02-06\", \"2021-02-07\", \"2021-02-08\", \"2021-02-09\", \"2021-02-10\", \"2021-02-11\", \"2021-02-12\", \"2021-02-13\", \"2021-02-14\", \"2021-02-15\", \"2021-02-16\", \"2021-02-17\", \"2021-02-18\", \"2021-02-19\", \"2021-02-20\", \"2021-02-21\", \"2021-02-22\", \"2021-02-23\", \"2021-02-24\", \"2021-02-25\", \"2021-02-26\", \"2021-02-27\", \"2021-02-28\", \"2021-03-01\", \"2021-03-02\", \"2021-03-03\", \"2021-03-04\", \"2021-03-05\", \"2021-03-06\", \"2021-03-07\", \"2021-03-08\", \"2021-03-09\", \"2021-03-10\", \"2021-03-11\", \"2021-03-12\", \"2021-03-13\", \"2021-03-14\", \"2021-03-15\", \"2021-03-16\", \"2021-03-17\", \"2021-03-18\", \"2021-03-19\", \"2021-03-20\", \"2021-03-21\", \"2021-03-22\", \"2021-03-23\", \"2021-03-24\", \"2021-03-25\", \"2021-03-26\", \"2021-03-28\", \"2021-03-29\", \"2021-03-30\", \"2021-03-31\", \"2021-04-01\", \"2021-04-02\", \"2021-04-03\", \"2021-04-04\", \"2021-04-05\"], \"xaxis\": \"x\", \"y\": [9, 7, 11, 10, 13, 12, 11, 11, 2, 4, 13, 18, 11, 4, 4, 6, 9, 9, 3, 7, 5, 8, 5, 5, 9, 8, 7, 19, 13, 10, 7, 12, 9, 9, 15, 12, 11, 3, 7, 11, 14, 13, 5, 6, 6, 8, 10, 5, 7, 2, 2, 3, 7, 2, 4, 2, 2, 1, 3, 6, 2, 3, 2, 5, 7, 1, 8, 12, 11, 9, 3, 3, 4, 3, 12, 14, 6, 7, 3, 6, 1, 7, 3, 2, 3, 3, 4, 8, 5, 11, 3, 3, 5, 7, 2, 4, 6, 4, 2, 2, 4, 2, 14, 5, 5, 2, 3, 3, 10, 7, 4, 1, 1, 1], \"yaxis\": \"y\"}, {\"hovertemplate\": \"sentiment=Negative<br>date=%{x}<br>tweets=%{y}<extra></extra>\", \"legendgroup\": \"Negative\", \"line\": {\"color\": \"#00cc96\", \"dash\": \"solid\"}, \"mode\": \"lines\", \"name\": \"Negative\", \"orientation\": \"v\", \"showlegend\": true, \"type\": \"scatter\", \"x\": [\"2020-12-14\", \"2020-12-15\", \"2020-12-18\", \"2020-12-21\", \"2021-01-08\", \"2021-01-14\", \"2021-01-16\", \"2021-01-29\", \"2021-02-02\", \"2021-02-05\", \"2021-03-03\", \"2021-03-04\", \"2021-03-13\", \"2021-04-01\"], \"xaxis\": \"x\", \"y\": [1, 1, 1, 1, 1, 1, 1, 1, 1, 1, 1, 1, 1, 1], \"yaxis\": \"y\"}],                        {\"legend\": {\"title\": {\"text\": \"sentiment\"}, \"tracegroupgap\": 0}, \"template\": {\"data\": {\"bar\": [{\"error_x\": {\"color\": \"#2a3f5f\"}, \"error_y\": {\"color\": \"#2a3f5f\"}, \"marker\": {\"line\": {\"color\": \"#E5ECF6\", \"width\": 0.5}}, \"type\": \"bar\"}], \"barpolar\": [{\"marker\": {\"line\": {\"color\": \"#E5ECF6\", \"width\": 0.5}}, \"type\": \"barpolar\"}], \"carpet\": [{\"aaxis\": {\"endlinecolor\": \"#2a3f5f\", \"gridcolor\": \"white\", \"linecolor\": \"white\", \"minorgridcolor\": \"white\", \"startlinecolor\": \"#2a3f5f\"}, \"baxis\": {\"endlinecolor\": \"#2a3f5f\", \"gridcolor\": \"white\", \"linecolor\": \"white\", \"minorgridcolor\": \"white\", \"startlinecolor\": \"#2a3f5f\"}, \"type\": \"carpet\"}], \"choropleth\": [{\"colorbar\": {\"outlinewidth\": 0, \"ticks\": \"\"}, \"type\": \"choropleth\"}], \"contour\": [{\"colorbar\": {\"outlinewidth\": 0, \"ticks\": \"\"}, \"colorscale\": [[0.0, \"#0d0887\"], [0.1111111111111111, \"#46039f\"], [0.2222222222222222, \"#7201a8\"], [0.3333333333333333, \"#9c179e\"], [0.4444444444444444, \"#bd3786\"], [0.5555555555555556, \"#d8576b\"], [0.6666666666666666, \"#ed7953\"], [0.7777777777777778, \"#fb9f3a\"], [0.8888888888888888, \"#fdca26\"], [1.0, \"#f0f921\"]], \"type\": \"contour\"}], \"contourcarpet\": [{\"colorbar\": {\"outlinewidth\": 0, \"ticks\": \"\"}, \"type\": \"contourcarpet\"}], \"heatmap\": [{\"colorbar\": {\"outlinewidth\": 0, \"ticks\": \"\"}, \"colorscale\": [[0.0, \"#0d0887\"], [0.1111111111111111, \"#46039f\"], [0.2222222222222222, \"#7201a8\"], [0.3333333333333333, \"#9c179e\"], [0.4444444444444444, \"#bd3786\"], [0.5555555555555556, \"#d8576b\"], [0.6666666666666666, \"#ed7953\"], [0.7777777777777778, \"#fb9f3a\"], [0.8888888888888888, \"#fdca26\"], [1.0, \"#f0f921\"]], \"type\": \"heatmap\"}], \"heatmapgl\": [{\"colorbar\": {\"outlinewidth\": 0, \"ticks\": \"\"}, \"colorscale\": [[0.0, \"#0d0887\"], [0.1111111111111111, \"#46039f\"], [0.2222222222222222, \"#7201a8\"], [0.3333333333333333, \"#9c179e\"], [0.4444444444444444, \"#bd3786\"], [0.5555555555555556, \"#d8576b\"], [0.6666666666666666, \"#ed7953\"], [0.7777777777777778, \"#fb9f3a\"], [0.8888888888888888, \"#fdca26\"], [1.0, \"#f0f921\"]], \"type\": \"heatmapgl\"}], \"histogram\": [{\"marker\": {\"colorbar\": {\"outlinewidth\": 0, \"ticks\": \"\"}}, \"type\": \"histogram\"}], \"histogram2d\": [{\"colorbar\": {\"outlinewidth\": 0, \"ticks\": \"\"}, \"colorscale\": [[0.0, \"#0d0887\"], [0.1111111111111111, \"#46039f\"], [0.2222222222222222, \"#7201a8\"], [0.3333333333333333, \"#9c179e\"], [0.4444444444444444, \"#bd3786\"], [0.5555555555555556, \"#d8576b\"], [0.6666666666666666, \"#ed7953\"], [0.7777777777777778, \"#fb9f3a\"], [0.8888888888888888, \"#fdca26\"], [1.0, \"#f0f921\"]], \"type\": \"histogram2d\"}], \"histogram2dcontour\": [{\"colorbar\": {\"outlinewidth\": 0, \"ticks\": \"\"}, \"colorscale\": [[0.0, \"#0d0887\"], [0.1111111111111111, \"#46039f\"], [0.2222222222222222, \"#7201a8\"], [0.3333333333333333, \"#9c179e\"], [0.4444444444444444, \"#bd3786\"], [0.5555555555555556, \"#d8576b\"], [0.6666666666666666, \"#ed7953\"], [0.7777777777777778, \"#fb9f3a\"], [0.8888888888888888, \"#fdca26\"], [1.0, \"#f0f921\"]], \"type\": \"histogram2dcontour\"}], \"mesh3d\": [{\"colorbar\": {\"outlinewidth\": 0, \"ticks\": \"\"}, \"type\": \"mesh3d\"}], \"parcoords\": [{\"line\": {\"colorbar\": {\"outlinewidth\": 0, \"ticks\": \"\"}}, \"type\": \"parcoords\"}], \"pie\": [{\"automargin\": true, \"type\": \"pie\"}], \"scatter\": [{\"marker\": {\"colorbar\": {\"outlinewidth\": 0, \"ticks\": \"\"}}, \"type\": \"scatter\"}], \"scatter3d\": [{\"line\": {\"colorbar\": {\"outlinewidth\": 0, \"ticks\": \"\"}}, \"marker\": {\"colorbar\": {\"outlinewidth\": 0, \"ticks\": \"\"}}, \"type\": \"scatter3d\"}], \"scattercarpet\": [{\"marker\": {\"colorbar\": {\"outlinewidth\": 0, \"ticks\": \"\"}}, \"type\": \"scattercarpet\"}], \"scattergeo\": [{\"marker\": {\"colorbar\": {\"outlinewidth\": 0, \"ticks\": \"\"}}, \"type\": \"scattergeo\"}], \"scattergl\": [{\"marker\": {\"colorbar\": {\"outlinewidth\": 0, \"ticks\": \"\"}}, \"type\": \"scattergl\"}], \"scattermapbox\": [{\"marker\": {\"colorbar\": {\"outlinewidth\": 0, \"ticks\": \"\"}}, \"type\": \"scattermapbox\"}], \"scatterpolar\": [{\"marker\": {\"colorbar\": {\"outlinewidth\": 0, \"ticks\": \"\"}}, \"type\": \"scatterpolar\"}], \"scatterpolargl\": [{\"marker\": {\"colorbar\": {\"outlinewidth\": 0, \"ticks\": \"\"}}, \"type\": \"scatterpolargl\"}], \"scatterternary\": [{\"marker\": {\"colorbar\": {\"outlinewidth\": 0, \"ticks\": \"\"}}, \"type\": \"scatterternary\"}], \"surface\": [{\"colorbar\": {\"outlinewidth\": 0, \"ticks\": \"\"}, \"colorscale\": [[0.0, \"#0d0887\"], [0.1111111111111111, \"#46039f\"], [0.2222222222222222, \"#7201a8\"], [0.3333333333333333, \"#9c179e\"], [0.4444444444444444, \"#bd3786\"], [0.5555555555555556, \"#d8576b\"], [0.6666666666666666, \"#ed7953\"], [0.7777777777777778, \"#fb9f3a\"], [0.8888888888888888, \"#fdca26\"], [1.0, \"#f0f921\"]], \"type\": \"surface\"}], \"table\": [{\"cells\": {\"fill\": {\"color\": \"#EBF0F8\"}, \"line\": {\"color\": \"white\"}}, \"header\": {\"fill\": {\"color\": \"#C8D4E3\"}, \"line\": {\"color\": \"white\"}}, \"type\": \"table\"}]}, \"layout\": {\"annotationdefaults\": {\"arrowcolor\": \"#2a3f5f\", \"arrowhead\": 0, \"arrowwidth\": 1}, \"autotypenumbers\": \"strict\", \"coloraxis\": {\"colorbar\": {\"outlinewidth\": 0, \"ticks\": \"\"}}, \"colorscale\": {\"diverging\": [[0, \"#8e0152\"], [0.1, \"#c51b7d\"], [0.2, \"#de77ae\"], [0.3, \"#f1b6da\"], [0.4, \"#fde0ef\"], [0.5, \"#f7f7f7\"], [0.6, \"#e6f5d0\"], [0.7, \"#b8e186\"], [0.8, \"#7fbc41\"], [0.9, \"#4d9221\"], [1, \"#276419\"]], \"sequential\": [[0.0, \"#0d0887\"], [0.1111111111111111, \"#46039f\"], [0.2222222222222222, \"#7201a8\"], [0.3333333333333333, \"#9c179e\"], [0.4444444444444444, \"#bd3786\"], [0.5555555555555556, \"#d8576b\"], [0.6666666666666666, \"#ed7953\"], [0.7777777777777778, \"#fb9f3a\"], [0.8888888888888888, \"#fdca26\"], [1.0, \"#f0f921\"]], \"sequentialminus\": [[0.0, \"#0d0887\"], [0.1111111111111111, \"#46039f\"], [0.2222222222222222, \"#7201a8\"], [0.3333333333333333, \"#9c179e\"], [0.4444444444444444, \"#bd3786\"], [0.5555555555555556, \"#d8576b\"], [0.6666666666666666, \"#ed7953\"], [0.7777777777777778, \"#fb9f3a\"], [0.8888888888888888, \"#fdca26\"], [1.0, \"#f0f921\"]]}, \"colorway\": [\"#636efa\", \"#EF553B\", \"#00cc96\", \"#ab63fa\", \"#FFA15A\", \"#19d3f3\", \"#FF6692\", \"#B6E880\", \"#FF97FF\", \"#FECB52\"], \"font\": {\"color\": \"#2a3f5f\"}, \"geo\": {\"bgcolor\": \"white\", \"lakecolor\": \"white\", \"landcolor\": \"#E5ECF6\", \"showlakes\": true, \"showland\": true, \"subunitcolor\": \"white\"}, \"hoverlabel\": {\"align\": \"left\"}, \"hovermode\": \"closest\", \"mapbox\": {\"style\": \"light\"}, \"paper_bgcolor\": \"white\", \"plot_bgcolor\": \"#E5ECF6\", \"polar\": {\"angularaxis\": {\"gridcolor\": \"white\", \"linecolor\": \"white\", \"ticks\": \"\"}, \"bgcolor\": \"#E5ECF6\", \"radialaxis\": {\"gridcolor\": \"white\", \"linecolor\": \"white\", \"ticks\": \"\"}}, \"scene\": {\"xaxis\": {\"backgroundcolor\": \"#E5ECF6\", \"gridcolor\": \"white\", \"gridwidth\": 2, \"linecolor\": \"white\", \"showbackground\": true, \"ticks\": \"\", \"zerolinecolor\": \"white\"}, \"yaxis\": {\"backgroundcolor\": \"#E5ECF6\", \"gridcolor\": \"white\", \"gridwidth\": 2, \"linecolor\": \"white\", \"showbackground\": true, \"ticks\": \"\", \"zerolinecolor\": \"white\"}, \"zaxis\": {\"backgroundcolor\": \"#E5ECF6\", \"gridcolor\": \"white\", \"gridwidth\": 2, \"linecolor\": \"white\", \"showbackground\": true, \"ticks\": \"\", \"zerolinecolor\": \"white\"}}, \"shapedefaults\": {\"line\": {\"color\": \"#2a3f5f\"}}, \"ternary\": {\"aaxis\": {\"gridcolor\": \"white\", \"linecolor\": \"white\", \"ticks\": \"\"}, \"baxis\": {\"gridcolor\": \"white\", \"linecolor\": \"white\", \"ticks\": \"\"}, \"bgcolor\": \"#E5ECF6\", \"caxis\": {\"gridcolor\": \"white\", \"linecolor\": \"white\", \"ticks\": \"\"}}, \"title\": {\"x\": 0.05}, \"xaxis\": {\"automargin\": true, \"gridcolor\": \"white\", \"linecolor\": \"white\", \"ticks\": \"\", \"title\": {\"standoff\": 15}, \"zerolinecolor\": \"white\", \"zerolinewidth\": 2}, \"yaxis\": {\"automargin\": true, \"gridcolor\": \"white\", \"linecolor\": \"white\", \"ticks\": \"\", \"title\": {\"standoff\": 15}, \"zerolinecolor\": \"white\", \"zerolinewidth\": 2}}}, \"title\": {\"text\": \"Timeline showing sentiment of tweets about the Pfizer/BioNTech vaccine\"}, \"xaxis\": {\"anchor\": \"y\", \"domain\": [0.0, 1.0], \"title\": {\"text\": \"date\"}}, \"yaxis\": {\"anchor\": \"x\", \"domain\": [0.0, 1.0], \"title\": {\"text\": \"tweets\"}}},                        {\"responsive\": true}                    ).then(function(){\n",
       "                            \n",
       "var gd = document.getElementById('3e28012c-88f3-4bb3-8172-d5567cfa3169');\n",
       "var x = new MutationObserver(function (mutations, observer) {{\n",
       "        var display = window.getComputedStyle(gd).display;\n",
       "        if (!display || display === 'none') {{\n",
       "            console.log([gd, 'removed!']);\n",
       "            Plotly.purge(gd);\n",
       "            observer.disconnect();\n",
       "        }}\n",
       "}});\n",
       "\n",
       "// Listen for the removal of the full notebook cells\n",
       "var notebookContainer = gd.closest('#notebook-container');\n",
       "if (notebookContainer) {{\n",
       "    x.observe(notebookContainer, {childList: true});\n",
       "}}\n",
       "\n",
       "// Listen for the clearing of the current output cell\n",
       "var outputEl = gd.closest('.output');\n",
       "if (outputEl) {{\n",
       "    x.observe(outputEl, {childList: true});\n",
       "}}\n",
       "\n",
       "                        })                };                });            </script>        </div>"
      ]
     },
     "metadata": {},
     "output_type": "display_data"
    },
    {
     "data": {
      "image/png": "[encoded data removed]",
      "text/plain": [
       "<Figure size 432x288 with 1 Axes>"
      ]
     },
     "metadata": {
      "needs_background": "light"
     },
     "output_type": "display_data"
    }
   ],
   "source": [
    "all_vax = ['covaxin', 'sinopharm', 'sinovac', 'moderna', 'pfizer', 'biontech', 'oxford', 'astrazeneca', 'sputnik']\n",
    "\n",
    "# Function to filter the data to a single vaccine and plot the timeline\n",
    "# Note: a lot of the tweets seem to contain hashtags for multiple vaccines even though they are specifically referring to one vaccine - not very helpful!\n",
    "def filtered_timeline(df, vax, title):\n",
    "    df = df.dropna()\n",
    "    title_str = 'Timeline showing sentiment of tweets about the '+title+' vaccine'\n",
    "    df_filt = pd.DataFrame()\n",
    "    for o in vax:\n",
    "        df_filt = df_filt.append(df[df['text'].str.lower().str.contains(o)])\n",
    "    other_vax = list(set(all_vax)-set(vax))\n",
    "    for o in other_vax:\n",
    "        df_filt = df_filt[~df_filt['text'].str.lower().str.contains(o)]\n",
    "    df_filt = df_filt.drop_duplicates()\n",
    "    timeline = df_filt.groupby(['date', 'sentiment']).agg(**{'tweets': ('id', 'count')}).reset_index()\n",
    "    fig = px.line(timeline, x='date', y='tweets', color='sentiment', category_orders={'sentiment': ['neutral', 'negative', 'positive']},title=title_str)\n",
    "    fig.show()\n",
    "    return df_filt\n",
    "\n",
    "covaxin = filtered_timeline(covidtweets, ['covaxin'], title='Covaxin')\n",
    "sinovac = filtered_timeline(covidtweets, ['sinovac'], title='Sinovac')\n",
    "sinopharm = filtered_timeline(covidtweets, ['sinopharm'], title='Sinopharm')\n",
    "moderna = filtered_timeline(covidtweets, ['moderna'], title='Moderna')\n",
    "sputnikv = filtered_timeline(covidtweets, ['sputnik'], title='Sputnik V')\n",
    "oxford = filtered_timeline(covidtweets, ['oxford', 'astrazeneca'], title='Oxford/AstraZeneca')\n",
    "pfizer = filtered_timeline(covidtweets, ['pfizer', 'biontech'], title='Pfizer/BioNTech')\n",
    "\n",
    "# Get z scores of sentiment for each vaccine\n",
    "vax_names = {'Covaxin': covaxin, 'Sputnik V': sputnikv, 'Sinovac': sinovac, 'Sinopharm': sinopharm,\n",
    "            'Moderna': moderna, 'Oxford/AstraZeneca': oxford, 'PfizerBioNTech': pfizer}\n",
    "sentiment_zscores = pd.DataFrame()\n",
    "for k, v in vax_names.items():\n",
    "    senti = v['sentiment'].value_counts(normalize=True)\n",
    "    senti['vaccine'] = k\n",
    "    sentiment_zscores = sentiment_zscores.append(senti)\n",
    "for col in ['Negative', 'Neutral', 'Positive']:\n",
    "    sentiment_zscores[col+'_zscore'] = (sentiment_zscores[col] - sentiment_zscores[col].mean())/sentiment_zscores[col].std(ddof=0)\n",
    "sentiment_zscores.set_index('vaccine', inplace=True)\n",
    "\n",
    "# Plot the results\n",
    "ax = sentiment_zscores.sort_values('Negative_zscore')['Negative_zscore'].plot.barh(title='Z scores of negative sentiment')\n",
    "ax.set_ylabel('Vaccine')\n",
    "ax.set_xlabel('Z score');"
   ]
  },
  {
   "cell_type": "code",
   "execution_count": 42,
   "id": "cosmetic-female",
   "metadata": {
    "execution": {
     "iopub.execute_input": "2021-04-05T11:38:36.736796Z",
     "iopub.status.busy": "2021-04-05T11:38:36.736137Z",
     "iopub.status.idle": "2021-04-05T11:38:36.751613Z",
     "shell.execute_reply": "2021-04-05T11:38:36.752120Z"
    },
    "papermill": {
     "duration": 0.482318,
     "end_time": "2021-04-05T11:38:36.752281",
     "exception": false,
     "start_time": "2021-04-05T11:38:36.269963",
     "status": "completed"
    },
    "tags": []
   },
   "outputs": [
    {
     "data": {
      "text/html": [
       "<div>\n",
       "<style scoped>\n",
       "    .dataframe tbody tr th:only-of-type {\n",
       "        vertical-align: middle;\n",
       "    }\n",
       "\n",
       "    .dataframe tbody tr th {\n",
       "        vertical-align: top;\n",
       "    }\n",
       "\n",
       "    .dataframe thead th {\n",
       "        text-align: right;\n",
       "    }\n",
       "</style>\n",
       "<table border=\"1\" class=\"dataframe\">\n",
       "  <thead>\n",
       "    <tr style=\"text-align: right;\">\n",
       "      <th></th>\n",
       "      <th>date</th>\n",
       "      <th>text</th>\n",
       "    </tr>\n",
       "  </thead>\n",
       "  <tbody>\n",
       "  </tbody>\n",
       "</table>\n",
       "</div>"
      ],
      "text/plain": [
       "Empty DataFrame\n",
       "Columns: [date, text]\n",
       "Index: []"
      ]
     },
     "metadata": {},
     "output_type": "display_data"
    },
    {
     "data": {
      "text/html": [
       "<div>\n",
       "<style scoped>\n",
       "    .dataframe tbody tr th:only-of-type {\n",
       "        vertical-align: middle;\n",
       "    }\n",
       "\n",
       "    .dataframe tbody tr th {\n",
       "        vertical-align: top;\n",
       "    }\n",
       "\n",
       "    .dataframe thead th {\n",
       "        text-align: right;\n",
       "    }\n",
       "</style>\n",
       "<table border=\"1\" class=\"dataframe\">\n",
       "  <thead>\n",
       "    <tr style=\"text-align: right;\">\n",
       "      <th></th>\n",
       "      <th>date</th>\n",
       "      <th>text</th>\n",
       "    </tr>\n",
       "  </thead>\n",
       "  <tbody>\n",
       "    <tr>\n",
       "      <th>20114</th>\n",
       "      <td>2021-03-03</td>\n",
       "      <td>King Kullen has announced it received a limited supply of the first round of the #Moderna #COVID19 vaccines. \\nhttps://t.co/UJWL4wgijZ</td>\n",
       "    </tr>\n",
       "    <tr>\n",
       "      <th>20183</th>\n",
       "      <td>2021-03-03</td>\n",
       "      <td>This is the definition of acute Stockholm Syndrome - he's been wildly ill after his experimental #Moderna mRNA gene… https://t.co/x1IAGkU5XA</td>\n",
       "    </tr>\n",
       "    <tr>\n",
       "      <th>20148</th>\n",
       "      <td>2021-03-03</td>\n",
       "      <td>It's my second day after receiving my #Moderna #COVID19Vaccine too, and the incredible @GurdeepPandher captures the… https://t.co/Z6YHZv91Zh</td>\n",
       "    </tr>\n",
       "    <tr>\n",
       "      <th>20202</th>\n",
       "      <td>2021-03-03</td>\n",
       "      <td>I'm happy to report that @JournalingIBD  and myself received our 1st #Moderna vaccine on Monday and Tuesday this we… https://t.co/Ds5u68oTcn</td>\n",
       "    </tr>\n",
       "    <tr>\n",
       "      <th>20060</th>\n",
       "      <td>2021-03-03</td>\n",
       "      <td>#Moderna Suggests #Israel on its Radar for New #Vaccine Production Facility | United with Israel… https://t.co/hC9k6VfnA0</td>\n",
       "    </tr>\n",
       "    <tr>\n",
       "      <th>19234</th>\n",
       "      <td>2021-03-03</td>\n",
       "      <td>What a legend #Dolly #Moderna #COVID19 #vaccine @DollyParton https://t.co/wONZh9mF2q</td>\n",
       "    </tr>\n",
       "    <tr>\n",
       "      <th>19249</th>\n",
       "      <td>2021-03-03</td>\n",
       "      <td>I ❤ Dolly Parton.\\nThanks for doing your civic and patriotic duty. #Moderna  https://t.co/Gcsd3dP2yS</td>\n",
       "    </tr>\n",
       "    <tr>\n",
       "      <th>19292</th>\n",
       "      <td>2021-03-03</td>\n",
       "      <td>Dollllllyyy 😭😭😭\\n#Moderna \\n#COVID19Vaccine https://t.co/34dO14sGVT</td>\n",
       "    </tr>\n",
       "    <tr>\n",
       "      <th>19247</th>\n",
       "      <td>2021-03-03</td>\n",
       "      <td>An example of how real artists should contribute in these difficult times.\\n\\nDolly made a big donation to #Moderna ,… https://t.co/aoIvjHudRQ</td>\n",
       "    </tr>\n",
       "    <tr>\n",
       "      <th>20130</th>\n",
       "      <td>2021-03-03</td>\n",
       "      <td>Got my first vaccination yesterday. My arm hurts a bit, but only when I use it. I'm also really drowsy. #Vaccine #Moderna</td>\n",
       "    </tr>\n",
       "  </tbody>\n",
       "</table>\n",
       "</div>"
      ],
      "text/plain": [
       "             date  \\\n",
       "20114  2021-03-03   \n",
       "20183  2021-03-03   \n",
       "20148  2021-03-03   \n",
       "20202  2021-03-03   \n",
       "20060  2021-03-03   \n",
       "19234  2021-03-03   \n",
       "19249  2021-03-03   \n",
       "19292  2021-03-03   \n",
       "19247  2021-03-03   \n",
       "20130  2021-03-03   \n",
       "\n",
       "                                                                                                                                                 text  \n",
       "20114          King Kullen has announced it received a limited supply of the first round of the #Moderna #COVID19 vaccines. \\nhttps://t.co/UJWL4wgijZ  \n",
       "20183    This is the definition of acute Stockholm Syndrome - he's been wildly ill after his experimental #Moderna mRNA gene… https://t.co/x1IAGkU5XA  \n",
       "20148    It's my second day after receiving my #Moderna #COVID19Vaccine too, and the incredible @GurdeepPandher captures the… https://t.co/Z6YHZv91Zh  \n",
       "20202    I'm happy to report that @JournalingIBD  and myself received our 1st #Moderna vaccine on Monday and Tuesday this we… https://t.co/Ds5u68oTcn  \n",
       "20060                       #Moderna Suggests #Israel on its Radar for New #Vaccine Production Facility | United with Israel… https://t.co/hC9k6VfnA0  \n",
       "19234                                                            What a legend #Dolly #Moderna #COVID19 #vaccine @DollyParton https://t.co/wONZh9mF2q  \n",
       "19249                                            I ❤ Dolly Parton.\\nThanks for doing your civic and patriotic duty. #Moderna  https://t.co/Gcsd3dP2yS  \n",
       "19292                                                                             Dollllllyyy 😭😭😭\\n#Moderna \\n#COVID19Vaccine https://t.co/34dO14sGVT  \n",
       "19247  An example of how real artists should contribute in these difficult times.\\n\\nDolly made a big donation to #Moderna ,… https://t.co/aoIvjHudRQ  \n",
       "20130                       Got my first vaccination yesterday. My arm hurts a bit, but only when I use it. I'm also really drowsy. #Vaccine #Moderna  "
      ]
     },
     "metadata": {},
     "output_type": "display_data"
    }
   ],
   "source": [
    "# Function to filter the data to a single date and print tweets from users with the most followers\n",
    "def date_filter(df, date):\n",
    "    return df[df['date'].astype(str)==date].sort_values('user_followers', ascending=False)[['date' ,'text']]\n",
    "\n",
    "def date_printer(df, dates, num=10): \n",
    "    for date in dates:\n",
    "        display(date_filter(df, date).head(num))\n",
    "\n",
    "date_printer(moderna, ['2021-01-01', '2021-03-03'])"
   ]
  },
  {
   "cell_type": "code",
   "execution_count": 43,
   "id": "boring-reputation",
   "metadata": {
    "execution": {
     "iopub.execute_input": "2021-04-05T11:38:37.570196Z",
     "iopub.status.busy": "2021-04-05T11:38:37.569597Z",
     "iopub.status.idle": "2021-04-05T11:38:37.673246Z",
     "shell.execute_reply": "2021-04-05T11:38:37.673713Z"
    },
    "papermill": {
     "duration": 0.515794,
     "end_time": "2021-04-05T11:38:37.673894",
     "exception": false,
     "start_time": "2021-04-05T11:38:37.158100",
     "status": "completed"
    },
    "tags": []
   },
   "outputs": [
    {
     "data": {
      "text/html": [
       "<div>\n",
       "<style scoped>\n",
       "    .dataframe tbody tr th:only-of-type {\n",
       "        vertical-align: middle;\n",
       "    }\n",
       "\n",
       "    .dataframe tbody tr th {\n",
       "        vertical-align: top;\n",
       "    }\n",
       "\n",
       "    .dataframe thead th {\n",
       "        text-align: right;\n",
       "    }\n",
       "</style>\n",
       "<table border=\"1\" class=\"dataframe\">\n",
       "  <thead>\n",
       "    <tr style=\"text-align: right;\">\n",
       "      <th></th>\n",
       "      <th>id</th>\n",
       "      <th>user_name</th>\n",
       "      <th>user_location</th>\n",
       "      <th>user_description</th>\n",
       "      <th>user_created</th>\n",
       "      <th>user_followers</th>\n",
       "      <th>user_friends</th>\n",
       "      <th>user_favourites</th>\n",
       "      <th>user_verified</th>\n",
       "      <th>date</th>\n",
       "      <th>text</th>\n",
       "      <th>hashtags</th>\n",
       "      <th>source</th>\n",
       "      <th>retweets</th>\n",
       "      <th>favorites</th>\n",
       "      <th>is_retweet</th>\n",
       "      <th>sentiment</th>\n",
       "    </tr>\n",
       "  </thead>\n",
       "  <tbody>\n",
       "    <tr>\n",
       "      <th>0</th>\n",
       "      <td>1340539111971516416</td>\n",
       "      <td>Rachel Roh</td>\n",
       "      <td>La Crescenta-Montrose, CA</td>\n",
       "      <td>Aggregator of Asian American news; scanning diverse sources 24/7/365. RT's, Follows and 'Likes' will fuel me 👩‍💻</td>\n",
       "      <td>2009-04-08 17:52:46</td>\n",
       "      <td>405</td>\n",
       "      <td>1692</td>\n",
       "      <td>3247</td>\n",
       "      <td>False</td>\n",
       "      <td>2020-12-20</td>\n",
       "      <td>Same folks said daikon paste could treat a cytokine storm #PfizerBioNTech https://t.co/xeHhIMg1kF</td>\n",
       "      <td>['PfizerBioNTech']</td>\n",
       "      <td>Twitter for Android</td>\n",
       "      <td>0</td>\n",
       "      <td>0</td>\n",
       "      <td>False</td>\n",
       "      <td>Neutral</td>\n",
       "    </tr>\n",
       "    <tr>\n",
       "      <th>2</th>\n",
       "      <td>1337858199140118533</td>\n",
       "      <td>eli🇱🇹🇪🇺👌</td>\n",
       "      <td>Your Bed</td>\n",
       "      <td>heil, hydra 🖐☺</td>\n",
       "      <td>2020-06-25 23:30:28</td>\n",
       "      <td>10</td>\n",
       "      <td>88</td>\n",
       "      <td>155</td>\n",
       "      <td>False</td>\n",
       "      <td>2020-12-12</td>\n",
       "      <td>#coronavirus #SputnikV #AstraZeneca #PfizerBioNTech #Moderna #Covid_19 Russian vaccine is created to last 2-4 years… https://t.co/ieYlCKBr8P</td>\n",
       "      <td>['coronavirus', 'SputnikV', 'AstraZeneca', 'PfizerBioNTech', 'Moderna', 'Covid_19']</td>\n",
       "      <td>Twitter for Android</td>\n",
       "      <td>0</td>\n",
       "      <td>0</td>\n",
       "      <td>False</td>\n",
       "      <td>Neutral</td>\n",
       "    </tr>\n",
       "    <tr>\n",
       "      <th>4</th>\n",
       "      <td>1337854064604966912</td>\n",
       "      <td>Citizen News Channel</td>\n",
       "      <td>NaN</td>\n",
       "      <td>Citizen News Channel bringing you an alternative news source from citizen journalists that haven't sold out. Real news &amp; real views</td>\n",
       "      <td>2020-04-23 17:58:42</td>\n",
       "      <td>152</td>\n",
       "      <td>580</td>\n",
       "      <td>1473</td>\n",
       "      <td>False</td>\n",
       "      <td>2020-12-12</td>\n",
       "      <td>Explain to me again why we need a vaccine @BorisJohnson @MattHancock #whereareallthesickpeople #PfizerBioNTech… https://t.co/KxbSRoBEHq</td>\n",
       "      <td>['whereareallthesickpeople', 'PfizerBioNTech']</td>\n",
       "      <td>Twitter for iPhone</td>\n",
       "      <td>0</td>\n",
       "      <td>0</td>\n",
       "      <td>False</td>\n",
       "      <td>Neutral</td>\n",
       "    </tr>\n",
       "    <tr>\n",
       "      <th>8</th>\n",
       "      <td>1337850023531347969</td>\n",
       "      <td>Erin Despas</td>\n",
       "      <td>NaN</td>\n",
       "      <td>Designing&amp;selling on Teespring. Like 90s Disney tv movies, old school WWE. Dislikes Intolerance, hate, bigots and snakes https://t.co/fa5n4gEHgR</td>\n",
       "      <td>2009-10-30 17:53:54</td>\n",
       "      <td>887</td>\n",
       "      <td>1515</td>\n",
       "      <td>9639</td>\n",
       "      <td>False</td>\n",
       "      <td>2020-12-12</td>\n",
       "      <td>Covid vaccine; You getting it?\\n\\n #CovidVaccine #covid19 #PfizerBioNTech #Moderna</td>\n",
       "      <td>['CovidVaccine', 'covid19', 'PfizerBioNTech', 'Moderna']</td>\n",
       "      <td>Twitter Web App</td>\n",
       "      <td>2</td>\n",
       "      <td>1</td>\n",
       "      <td>False</td>\n",
       "      <td>Positive</td>\n",
       "    </tr>\n",
       "    <tr>\n",
       "      <th>10</th>\n",
       "      <td>1337841934170255365</td>\n",
       "      <td>Tamer Yazar</td>\n",
       "      <td>Turkey-Israel</td>\n",
       "      <td>Im Market Analyst, also Editor... working (freelance) for some companies that need analysis for their products in Int. Markets \\n- Instagram :  tamervisits -</td>\n",
       "      <td>2009-09-17 16:45:16</td>\n",
       "      <td>1302</td>\n",
       "      <td>78</td>\n",
       "      <td>339</td>\n",
       "      <td>False</td>\n",
       "      <td>2020-12-12</td>\n",
       "      <td>while deaths are closing in on the 300,000 mark... millions of people wait #PfizerBioNTech #Vaccine !\\n-\\nThe first U… https://t.co/uQ3A2f7SVP</td>\n",
       "      <td>['PfizerBioNTech', 'Vaccine']</td>\n",
       "      <td>Twitter Web App</td>\n",
       "      <td>0</td>\n",
       "      <td>0</td>\n",
       "      <td>False</td>\n",
       "      <td>Neutral</td>\n",
       "    </tr>\n",
       "    <tr>\n",
       "      <th>11</th>\n",
       "      <td>1337840331522453507</td>\n",
       "      <td>VoiceM</td>\n",
       "      <td>NaN</td>\n",
       "      <td>campaigner &amp; optimistic realist</td>\n",
       "      <td>2020-08-31 10:38:21</td>\n",
       "      <td>2</td>\n",
       "      <td>25</td>\n",
       "      <td>20</td>\n",
       "      <td>False</td>\n",
       "      <td>2020-12-12</td>\n",
       "      <td>@cnnbrk #COVID19 #CovidVaccine #vaccine #Corona   #PfizerBioNTech #bbcnews #NYTimes #BBCNews Best wishes to the US… https://t.co/9xWmfU3LZj</td>\n",
       "      <td>['COVID19', 'CovidVaccine', 'vaccine', 'Corona', 'PfizerBioNTech', 'bbcnews', 'NYTimes', 'BBCNews']</td>\n",
       "      <td>Twitter Web App</td>\n",
       "      <td>0</td>\n",
       "      <td>0</td>\n",
       "      <td>False</td>\n",
       "      <td>Positive</td>\n",
       "    </tr>\n",
       "    <tr>\n",
       "      <th>13</th>\n",
       "      <td>1337809196453081088</td>\n",
       "      <td>Dr.Krutika Kuppalli</td>\n",
       "      <td>NaN</td>\n",
       "      <td>ID, Global Health, VHF, Pandemic Prep, Emerging Infections, &amp; Health Policy MD| U.S. Congress COVID-19 expert witness x 2 | ELBI 2020 @JHSPH_CHS</td>\n",
       "      <td>2019-03-25 04:14:29</td>\n",
       "      <td>21924</td>\n",
       "      <td>593</td>\n",
       "      <td>7815</td>\n",
       "      <td>True</td>\n",
       "      <td>2020-12-12</td>\n",
       "      <td>For all the women and healthcare providers who have been asking about the safety of the #PfizerBioNTech… https://t.co/ow0Pglkwte</td>\n",
       "      <td>['PfizerBioNTech']</td>\n",
       "      <td>Twitter for iPhone</td>\n",
       "      <td>48</td>\n",
       "      <td>82</td>\n",
       "      <td>False</td>\n",
       "      <td>Neutral</td>\n",
       "    </tr>\n",
       "    <tr>\n",
       "      <th>16</th>\n",
       "      <td>1337789191598575616</td>\n",
       "      <td>STOPCOMMONPASS.ORG</td>\n",
       "      <td>Global</td>\n",
       "      <td>'Trust' is not carte-blanche for erosion of our liberty, privacy, &amp; the pursuit of global control.</td>\n",
       "      <td>2020-10-25 20:33:33</td>\n",
       "      <td>406</td>\n",
       "      <td>176</td>\n",
       "      <td>479</td>\n",
       "      <td>False</td>\n",
       "      <td>2020-12-12</td>\n",
       "      <td>UPDATED: #YellowFever &amp;amp; #COVID19 #ImmunityPassports - Part Two\\n\\n#SARSCoV2 #PfizerBioNtech #Britain #December… https://t.co/qKT7Rst9aW</td>\n",
       "      <td>['YellowFever', 'COVID19', 'ImmunityPassports', 'SARSCoV2', 'PfizerBioNtech', 'Britain', 'December']</td>\n",
       "      <td>Twitter Web App</td>\n",
       "      <td>2</td>\n",
       "      <td>2</td>\n",
       "      <td>False</td>\n",
       "      <td>Positive</td>\n",
       "    </tr>\n",
       "    <tr>\n",
       "      <th>17</th>\n",
       "      <td>1337783770070409218</td>\n",
       "      <td>ILKHA</td>\n",
       "      <td>Türkiye</td>\n",
       "      <td>Official Twitter account of Ilke News Agency /</td>\n",
       "      <td>2015-05-22 08:31:12</td>\n",
       "      <td>4056</td>\n",
       "      <td>6</td>\n",
       "      <td>3</td>\n",
       "      <td>True</td>\n",
       "      <td>2020-12-12</td>\n",
       "      <td>Coronavirus: Iran reports 8,201 new cases, 221 deaths in the last 24 hours #Iran #coronavirus #PfizerBioNTech… https://t.co/mwDNAdmb7F</td>\n",
       "      <td>['Iran', 'coronavirus', 'PfizerBioNTech']</td>\n",
       "      <td>TweetDeck</td>\n",
       "      <td>3</td>\n",
       "      <td>5</td>\n",
       "      <td>False</td>\n",
       "      <td>Neutral</td>\n",
       "    </tr>\n",
       "    <tr>\n",
       "      <th>18</th>\n",
       "      <td>1337781178665816064</td>\n",
       "      <td>Braderz73🌹#GTTO 🇪🇺 🇬🇧</td>\n",
       "      <td>Bristol, UK</td>\n",
       "      <td>One of those lefty types, I believe in a fairer future for all. I also luv throwin' myself down steep trails on my MTB! Ex-Labour.\\n\\n#DisabilityRights</td>\n",
       "      <td>2012-07-24 08:18:51</td>\n",
       "      <td>6430</td>\n",
       "      <td>6292</td>\n",
       "      <td>45007</td>\n",
       "      <td>False</td>\n",
       "      <td>2020-12-12</td>\n",
       "      <td>.@Pfizer will rake in billions from its expensive #CovidVaccine but @AlbertBourla refuses to cut the price for lowe… https://t.co/eC94w3TUl0</td>\n",
       "      <td>['CovidVaccine']</td>\n",
       "      <td>Twitter for Android</td>\n",
       "      <td>3</td>\n",
       "      <td>3</td>\n",
       "      <td>False</td>\n",
       "      <td>Neutral</td>\n",
       "    </tr>\n",
       "    <tr>\n",
       "      <th>21</th>\n",
       "      <td>1337774059237629952</td>\n",
       "      <td>Richard Dunne, MD</td>\n",
       "      <td>Rochester, NY</td>\n",
       "      <td>Husband, Girl Dad, GI Oncologist @wilmotcancer w/ research focus in #cachexia, weight loss, #pancreaticcancer &amp; love of sport, @notredame alum, tweets my own</td>\n",
       "      <td>2012-04-23 12:18:55</td>\n",
       "      <td>1982</td>\n",
       "      <td>608</td>\n",
       "      <td>9110</td>\n",
       "      <td>False</td>\n",
       "      <td>2020-12-12</td>\n",
       "      <td>Anyone wondering why day after #PfizerBioNTech approval in the UK people were getting vaccinated but all we are tol… https://t.co/tPSyL9CUYE</td>\n",
       "      <td>['PfizerBioNTech']</td>\n",
       "      <td>Twitter for iPhone</td>\n",
       "      <td>0</td>\n",
       "      <td>2</td>\n",
       "      <td>False</td>\n",
       "      <td>Neutral</td>\n",
       "    </tr>\n",
       "    <tr>\n",
       "      <th>23</th>\n",
       "      <td>1337773751841144833</td>\n",
       "      <td>BOOM Live</td>\n",
       "      <td>Mumbai, India</td>\n",
       "      <td>IFCN certified fact-driven journalism. India's first independent online resource to fight misinformation, explain issues and keep the internet safe</td>\n",
       "      <td>2014-03-16 03:52:50</td>\n",
       "      <td>64185</td>\n",
       "      <td>1183</td>\n",
       "      <td>1794</td>\n",
       "      <td>True</td>\n",
       "      <td>2020-12-12</td>\n",
       "      <td>The US Food and Drug Administration (FDA) has granted emergency use authorization to Pfizer-BioNTech's mRNA… https://t.co/dPLokxGtBa</td>\n",
       "      <td>NaN</td>\n",
       "      <td>Twitter Web App</td>\n",
       "      <td>1</td>\n",
       "      <td>5</td>\n",
       "      <td>False</td>\n",
       "      <td>Neutral</td>\n",
       "    </tr>\n",
       "    <tr>\n",
       "      <th>25</th>\n",
       "      <td>1337770118017900550</td>\n",
       "      <td>Devan Surendran</td>\n",
       "      <td>Nottingham, England</td>\n",
       "      <td>NHS Doctor | Singer | Travel, nature and dog lover!</td>\n",
       "      <td>2010-01-16 23:59:43</td>\n",
       "      <td>116</td>\n",
       "      <td>86</td>\n",
       "      <td>268</td>\n",
       "      <td>False</td>\n",
       "      <td>2020-12-12</td>\n",
       "      <td>No.1 of 2 done.\\n\\n#ThankYouNHS @NHSuk @MHRAgovuk and #PfizerBioNTech @pfizer for making the #CovidVaccine dream poss… https://t.co/3KvJ7UP432</td>\n",
       "      <td>['ThankYouNHS', 'PfizerBioNTech', 'CovidVaccine']</td>\n",
       "      <td>Twitter Web App</td>\n",
       "      <td>1</td>\n",
       "      <td>10</td>\n",
       "      <td>False</td>\n",
       "      <td>Neutral</td>\n",
       "    </tr>\n",
       "    <tr>\n",
       "      <th>27</th>\n",
       "      <td>1337769507402768384</td>\n",
       "      <td>Michael Finn</td>\n",
       "      <td>Crete, Greece</td>\n",
       "      <td>Hellenic National Healthcare, Agios Nikolaos General Hospital, bassist &amp; guitarist    e-mail:finnmike@ymail.com</td>\n",
       "      <td>2011-10-17 19:03:34</td>\n",
       "      <td>151</td>\n",
       "      <td>235</td>\n",
       "      <td>838</td>\n",
       "      <td>False</td>\n",
       "      <td>2020-12-12</td>\n",
       "      <td>⁦@AvgerinosMoscow⁩ #PfizerBioNTech #FDA approval Apprentice Style!\\n⁦@realDonaldTrump⁩: “Approve the #vaccine or you… https://t.co/f64cOP5DV6</td>\n",
       "      <td>['PfizerBioNTech', 'FDA', 'vaccine']</td>\n",
       "      <td>Twitter for iPad</td>\n",
       "      <td>0</td>\n",
       "      <td>0</td>\n",
       "      <td>False</td>\n",
       "      <td>Positive</td>\n",
       "    </tr>\n",
       "    <tr>\n",
       "      <th>29</th>\n",
       "      <td>1337761915087560707</td>\n",
       "      <td>🦑Dr. Kraken-Elect Lipstick 💋</td>\n",
       "      <td>Not Today</td>\n",
       "      <td>Married. National news investigative/independent contributor #StandWithIsrael #StandWithTrump #BackTheBlue 👉🏼On PARLER @LipstickPrime 🚫 DM’s for tips only.</td>\n",
       "      <td>2011-06-01 17:10:58</td>\n",
       "      <td>5166</td>\n",
       "      <td>5228</td>\n",
       "      <td>19389</td>\n",
       "      <td>False</td>\n",
       "      <td>2020-12-12</td>\n",
       "      <td>💉 #Vaccine #TrumpVaccine #AstraZeneca #PfizerBioNTech #Pfizervaccine #PfizerCovidVaccine  #Pfizer's COVID-19 belong… https://t.co/ldxQhN6uix</td>\n",
       "      <td>['Vaccine', 'TrumpVaccine', 'AstraZeneca', 'PfizerBioNTech', 'Pfizervaccine', 'PfizerCovidVaccine', 'Pfizer']</td>\n",
       "      <td>Twitter for iPhone</td>\n",
       "      <td>0</td>\n",
       "      <td>0</td>\n",
       "      <td>False</td>\n",
       "      <td>Positive</td>\n",
       "    </tr>\n",
       "  </tbody>\n",
       "</table>\n",
       "</div>"
      ],
      "text/plain": [
       "                     id                     user_name  \\\n",
       "0   1340539111971516416                    Rachel Roh   \n",
       "2   1337858199140118533                      eli🇱🇹🇪🇺👌   \n",
       "4   1337854064604966912          Citizen News Channel   \n",
       "8   1337850023531347969                   Erin Despas   \n",
       "10  1337841934170255365                   Tamer Yazar   \n",
       "11  1337840331522453507                        VoiceM   \n",
       "13  1337809196453081088           Dr.Krutika Kuppalli   \n",
       "16  1337789191598575616            STOPCOMMONPASS.ORG   \n",
       "17  1337783770070409218                         ILKHA   \n",
       "18  1337781178665816064         Braderz73🌹#GTTO 🇪🇺 🇬🇧   \n",
       "21  1337774059237629952             Richard Dunne, MD   \n",
       "23  1337773751841144833                     BOOM Live   \n",
       "25  1337770118017900550               Devan Surendran   \n",
       "27  1337769507402768384                  Michael Finn   \n",
       "29  1337761915087560707  🦑Dr. Kraken-Elect Lipstick 💋   \n",
       "\n",
       "                user_location  \\\n",
       "0   La Crescenta-Montrose, CA   \n",
       "2                    Your Bed   \n",
       "4                         NaN   \n",
       "8                         NaN   \n",
       "10              Turkey-Israel   \n",
       "11                        NaN   \n",
       "13                        NaN   \n",
       "16                     Global   \n",
       "17                    Türkiye   \n",
       "18                Bristol, UK   \n",
       "21              Rochester, NY   \n",
       "23              Mumbai, India   \n",
       "25        Nottingham, England   \n",
       "27              Crete, Greece   \n",
       "29                 Not Today    \n",
       "\n",
       "                                                                                                                                                 user_description  \\\n",
       "0                                                Aggregator of Asian American news; scanning diverse sources 24/7/365. RT's, Follows and 'Likes' will fuel me 👩‍💻   \n",
       "2                                                                                                                                                  heil, hydra 🖐☺   \n",
       "4                             Citizen News Channel bringing you an alternative news source from citizen journalists that haven't sold out. Real news & real views   \n",
       "8                Designing&selling on Teespring. Like 90s Disney tv movies, old school WWE. Dislikes Intolerance, hate, bigots and snakes https://t.co/fa5n4gEHgR   \n",
       "10  Im Market Analyst, also Editor... working (freelance) for some companies that need analysis for their products in Int. Markets \\n- Instagram :  tamervisits -   \n",
       "11                                                                                                                                campaigner & optimistic realist   \n",
       "13               ID, Global Health, VHF, Pandemic Prep, Emerging Infections, & Health Policy MD| U.S. Congress COVID-19 expert witness x 2 | ELBI 2020 @JHSPH_CHS   \n",
       "16                                                             'Trust' is not carte-blanche for erosion of our liberty, privacy, & the pursuit of global control.   \n",
       "17                                                                                                                 Official Twitter account of Ilke News Agency /   \n",
       "18        One of those lefty types, I believe in a fairer future for all. I also luv throwin' myself down steep trails on my MTB! Ex-Labour.\\n\\n#DisabilityRights   \n",
       "21  Husband, Girl Dad, GI Oncologist @wilmotcancer w/ research focus in #cachexia, weight loss, #pancreaticcancer & love of sport, @notredame alum, tweets my own   \n",
       "23            IFCN certified fact-driven journalism. India's first independent online resource to fight misinformation, explain issues and keep the internet safe   \n",
       "25                                                                                                            NHS Doctor | Singer | Travel, nature and dog lover!   \n",
       "27                                                Hellenic National Healthcare, Agios Nikolaos General Hospital, bassist & guitarist    e-mail:finnmike@ymail.com   \n",
       "29    Married. National news investigative/independent contributor #StandWithIsrael #StandWithTrump #BackTheBlue 👉🏼On PARLER @LipstickPrime 🚫 DM’s for tips only.   \n",
       "\n",
       "           user_created  user_followers  user_friends  user_favourites  \\\n",
       "0   2009-04-08 17:52:46             405          1692             3247   \n",
       "2   2020-06-25 23:30:28              10            88              155   \n",
       "4   2020-04-23 17:58:42             152           580             1473   \n",
       "8   2009-10-30 17:53:54             887          1515             9639   \n",
       "10  2009-09-17 16:45:16            1302            78              339   \n",
       "11  2020-08-31 10:38:21               2            25               20   \n",
       "13  2019-03-25 04:14:29           21924           593             7815   \n",
       "16  2020-10-25 20:33:33             406           176              479   \n",
       "17  2015-05-22 08:31:12            4056             6                3   \n",
       "18  2012-07-24 08:18:51            6430          6292            45007   \n",
       "21  2012-04-23 12:18:55            1982           608             9110   \n",
       "23  2014-03-16 03:52:50           64185          1183             1794   \n",
       "25  2010-01-16 23:59:43             116            86              268   \n",
       "27  2011-10-17 19:03:34             151           235              838   \n",
       "29  2011-06-01 17:10:58            5166          5228            19389   \n",
       "\n",
       "    user_verified        date  \\\n",
       "0           False  2020-12-20   \n",
       "2           False  2020-12-12   \n",
       "4           False  2020-12-12   \n",
       "8           False  2020-12-12   \n",
       "10          False  2020-12-12   \n",
       "11          False  2020-12-12   \n",
       "13           True  2020-12-12   \n",
       "16          False  2020-12-12   \n",
       "17           True  2020-12-12   \n",
       "18          False  2020-12-12   \n",
       "21          False  2020-12-12   \n",
       "23           True  2020-12-12   \n",
       "25          False  2020-12-12   \n",
       "27          False  2020-12-12   \n",
       "29          False  2020-12-12   \n",
       "\n",
       "                                                                                                                                              text  \\\n",
       "0                                                Same folks said daikon paste could treat a cytokine storm #PfizerBioNTech https://t.co/xeHhIMg1kF   \n",
       "2     #coronavirus #SputnikV #AstraZeneca #PfizerBioNTech #Moderna #Covid_19 Russian vaccine is created to last 2-4 years… https://t.co/ieYlCKBr8P   \n",
       "4          Explain to me again why we need a vaccine @BorisJohnson @MattHancock #whereareallthesickpeople #PfizerBioNTech… https://t.co/KxbSRoBEHq   \n",
       "8                                                               Covid vaccine; You getting it?\\n\\n #CovidVaccine #covid19 #PfizerBioNTech #Moderna   \n",
       "10  while deaths are closing in on the 300,000 mark... millions of people wait #PfizerBioNTech #Vaccine !\\n-\\nThe first U… https://t.co/uQ3A2f7SVP   \n",
       "11     @cnnbrk #COVID19 #CovidVaccine #vaccine #Corona   #PfizerBioNTech #bbcnews #NYTimes #BBCNews Best wishes to the US… https://t.co/9xWmfU3LZj   \n",
       "13                For all the women and healthcare providers who have been asking about the safety of the #PfizerBioNTech… https://t.co/ow0Pglkwte   \n",
       "16     UPDATED: #YellowFever &amp; #COVID19 #ImmunityPassports - Part Two\\n\\n#SARSCoV2 #PfizerBioNtech #Britain #December… https://t.co/qKT7Rst9aW   \n",
       "17          Coronavirus: Iran reports 8,201 new cases, 221 deaths in the last 24 hours #Iran #coronavirus #PfizerBioNTech… https://t.co/mwDNAdmb7F   \n",
       "18    .@Pfizer will rake in billions from its expensive #CovidVaccine but @AlbertBourla refuses to cut the price for lowe… https://t.co/eC94w3TUl0   \n",
       "21    Anyone wondering why day after #PfizerBioNTech approval in the UK people were getting vaccinated but all we are tol… https://t.co/tPSyL9CUYE   \n",
       "23            The US Food and Drug Administration (FDA) has granted emergency use authorization to Pfizer-BioNTech's mRNA… https://t.co/dPLokxGtBa   \n",
       "25  No.1 of 2 done.\\n\\n#ThankYouNHS @NHSuk @MHRAgovuk and #PfizerBioNTech @pfizer for making the #CovidVaccine dream poss… https://t.co/3KvJ7UP432   \n",
       "27   ⁦@AvgerinosMoscow⁩ #PfizerBioNTech #FDA approval Apprentice Style!\\n⁦@realDonaldTrump⁩: “Approve the #vaccine or you… https://t.co/f64cOP5DV6   \n",
       "29    💉 #Vaccine #TrumpVaccine #AstraZeneca #PfizerBioNTech #Pfizervaccine #PfizerCovidVaccine  #Pfizer's COVID-19 belong… https://t.co/ldxQhN6uix   \n",
       "\n",
       "                                                                                                         hashtags  \\\n",
       "0                                                                                              ['PfizerBioNTech']   \n",
       "2                             ['coronavirus', 'SputnikV', 'AstraZeneca', 'PfizerBioNTech', 'Moderna', 'Covid_19']   \n",
       "4                                                                  ['whereareallthesickpeople', 'PfizerBioNTech']   \n",
       "8                                                        ['CovidVaccine', 'covid19', 'PfizerBioNTech', 'Moderna']   \n",
       "10                                                                                  ['PfizerBioNTech', 'Vaccine']   \n",
       "11            ['COVID19', 'CovidVaccine', 'vaccine', 'Corona', 'PfizerBioNTech', 'bbcnews', 'NYTimes', 'BBCNews']   \n",
       "13                                                                                             ['PfizerBioNTech']   \n",
       "16           ['YellowFever', 'COVID19', 'ImmunityPassports', 'SARSCoV2', 'PfizerBioNtech', 'Britain', 'December']   \n",
       "17                                                                      ['Iran', 'coronavirus', 'PfizerBioNTech']   \n",
       "18                                                                                               ['CovidVaccine']   \n",
       "21                                                                                             ['PfizerBioNTech']   \n",
       "23                                                                                                            NaN   \n",
       "25                                                              ['ThankYouNHS', 'PfizerBioNTech', 'CovidVaccine']   \n",
       "27                                                                           ['PfizerBioNTech', 'FDA', 'vaccine']   \n",
       "29  ['Vaccine', 'TrumpVaccine', 'AstraZeneca', 'PfizerBioNTech', 'Pfizervaccine', 'PfizerCovidVaccine', 'Pfizer']   \n",
       "\n",
       "                 source  retweets  favorites  is_retweet sentiment  \n",
       "0   Twitter for Android         0          0       False   Neutral  \n",
       "2   Twitter for Android         0          0       False   Neutral  \n",
       "4    Twitter for iPhone         0          0       False   Neutral  \n",
       "8       Twitter Web App         2          1       False  Positive  \n",
       "10      Twitter Web App         0          0       False   Neutral  \n",
       "11      Twitter Web App         0          0       False  Positive  \n",
       "13   Twitter for iPhone        48         82       False   Neutral  \n",
       "16      Twitter Web App         2          2       False  Positive  \n",
       "17            TweetDeck         3          5       False   Neutral  \n",
       "18  Twitter for Android         3          3       False   Neutral  \n",
       "21   Twitter for iPhone         0          2       False   Neutral  \n",
       "23      Twitter Web App         1          5       False   Neutral  \n",
       "25      Twitter Web App         1         10       False   Neutral  \n",
       "27     Twitter for iPad         0          0       False  Positive  \n",
       "29   Twitter for iPhone         0          0       False  Positive  "
      ]
     },
     "execution_count": 43,
     "metadata": {},
     "output_type": "execute_result"
    }
   ],
   "source": [
    "\n",
    "covidtweets[covidtweets['text'].str.lower().str.contains(\"pfizer\")].head(15)"
   ]
  },
  {
   "cell_type": "code",
   "execution_count": 44,
   "id": "still-crack",
   "metadata": {
    "execution": {
     "iopub.execute_input": "2021-04-05T11:38:38.489122Z",
     "iopub.status.busy": "2021-04-05T11:38:38.488543Z",
     "iopub.status.idle": "2021-04-05T11:38:38.491732Z",
     "shell.execute_reply": "2021-04-05T11:38:38.492194Z"
    },
    "papermill": {
     "duration": 0.415321,
     "end_time": "2021-04-05T11:38:38.492368",
     "exception": false,
     "start_time": "2021-04-05T11:38:38.077047",
     "status": "completed"
    },
    "tags": []
   },
   "outputs": [],
   "source": [
    "## Word clouds"
   ]
  },
  {
   "cell_type": "code",
   "execution_count": 45,
   "id": "bound-thirty",
   "metadata": {
    "execution": {
     "iopub.execute_input": "2021-04-05T11:38:39.306009Z",
     "iopub.status.busy": "2021-04-05T11:38:39.305367Z",
     "iopub.status.idle": "2021-04-05T11:38:48.608106Z",
     "shell.execute_reply": "2021-04-05T11:38:48.607118Z"
    },
    "papermill": {
     "duration": 9.710888,
     "end_time": "2021-04-05T11:38:48.608255",
     "exception": false,
     "start_time": "2021-04-05T11:38:38.897367",
     "status": "completed"
    },
    "tags": []
   },
   "outputs": [
    {
     "name": "stdout",
     "output_type": "stream",
     "text": [
      "Collecting wordninja\r\n",
      "  Downloading wordninja-2.0.0.tar.gz (541 kB)\r\n",
      "\u001b[K     |████████████████████████████████| 541 kB 4.6 MB/s \r\n",
      "\u001b[?25hCollecting pyspellchecker\r\n",
      "  Downloading pyspellchecker-0.6.2-py3-none-any.whl (2.7 MB)\r\n",
      "\u001b[K     |████████████████████████████████| 2.7 MB 42.2 MB/s \r\n",
      "\u001b[?25hBuilding wheels for collected packages: wordninja\r\n",
      "  Building wheel for wordninja (setup.py) ... \u001b[?25l-\b \b\\\b \bdone\r\n",
      "\u001b[?25h  Created wheel for wordninja: filename=wordninja-2.0.0-py3-none-any.whl size=541553 sha256=bf67034875089c6cce9428f2321909698ae144bafea2e422d750c3f011426f81\r\n",
      "  Stored in directory: /root/.cache/pip/wheels/dd/3f/eb/a2692e3d2b9deb1487b09ba4967dd6920bd5032bfd9ff7acfc\r\n",
      "Successfully built wordninja\r\n",
      "Installing collected packages: wordninja, pyspellchecker\r\n",
      "Successfully installed pyspellchecker-0.6.2 wordninja-2.0.0\r\n",
      "[nltk_data] Downloading package wordnet to /usr/share/nltk_data...\n",
      "[nltk_data]   Package wordnet is already up-to-date!\n",
      "[nltk_data] Downloading package stopwords to /usr/share/nltk_data...\n",
      "[nltk_data]   Package stopwords is already up-to-date!\n"
     ]
    }
   ],
   "source": [
    "!pip install wordninja pyspellchecker\n",
    "from wordcloud import WordCloud, ImageColorGenerator\n",
    "import wordninja\n",
    "from spellchecker import SpellChecker\n",
    "from collections import Counter\n",
    "import nltk\n",
    "nltk.download('wordnet')\n",
    "nltk.download('stopwords')\n",
    "from nltk.stem import WordNetLemmatizer\n",
    "from nltk.corpus import stopwords \n",
    "stop_words = set(stopwords.words('english'))  \n",
    "stop_words.add(\"amp\")\n",
    "import math\n",
    "import random"
   ]
  },
  {
   "cell_type": "code",
   "execution_count": 46,
   "id": "timely-loading",
   "metadata": {
    "execution": {
     "iopub.execute_input": "2021-04-05T11:38:49.468434Z",
     "iopub.status.busy": "2021-04-05T11:38:49.453586Z",
     "iopub.status.idle": "2021-04-05T11:38:49.472164Z",
     "shell.execute_reply": "2021-04-05T11:38:49.471555Z"
    },
    "papermill": {
     "duration": 0.449342,
     "end_time": "2021-04-05T11:38:49.472313",
     "exception": false,
     "start_time": "2021-04-05T11:38:49.022971",
     "status": "completed"
    },
    "tags": []
   },
   "outputs": [],
   "source": [
    "# FUNCTIONS REQUIRED\n",
    "\n",
    "def flatten_list(l):\n",
    "    return [x for y in l for x in y]\n",
    "\n",
    "def is_acceptable(word: str):\n",
    "    return word not in stop_words and len(word) > 2\n",
    "\n",
    "# Color coding our wordclouds \n",
    "def red_color_func(word, font_size, position, orientation, random_state=None,**kwargs):\n",
    "    return f\"hsl(0, 100%, {random.randint(25, 75)}%)\" \n",
    "\n",
    "def green_color_func(word, font_size, position, orientation, random_state=None,**kwargs):\n",
    "    return f\"hsl({random.randint(90, 150)}, 100%, 30%)\" \n",
    "\n",
    "def yellow_color_func(word, font_size, position, orientation, random_state=None,**kwargs):\n",
    "    return f\"hsl(42, 100%, {random.randint(25, 50)}%)\" \n",
    "\n",
    "# Reusable function to generate word clouds \n",
    "def generate_word_clouds(neg_doc, neu_doc, pos_doc):\n",
    "    # Display the generated image:\n",
    "    fig, axes = plt.subplots(1,3, figsize=(20,10))\n",
    "    \n",
    "    wordcloud_neg = WordCloud(max_font_size=50, max_words=100, background_color=\"white\").generate(\" \".join(neg_doc))\n",
    "    axes[0].imshow(wordcloud_neg.recolor(color_func=red_color_func, random_state=3), interpolation='bilinear')\n",
    "    axes[0].set_title(\"Negative Words\")\n",
    "    axes[0].axis(\"off\")\n",
    "\n",
    "    wordcloud_neu = WordCloud(max_font_size=50, max_words=100, background_color=\"white\").generate(\" \".join(neu_doc))\n",
    "    axes[1].imshow(wordcloud_neu.recolor(color_func=yellow_color_func, random_state=3), interpolation='bilinear')\n",
    "    axes[1].set_title(\"Neutral Words\")\n",
    "    axes[1].axis(\"off\")\n",
    "\n",
    "    wordcloud_pos = WordCloud(max_font_size=50, max_words=100, background_color=\"white\").generate(\" \".join(pos_doc))\n",
    "    axes[2].imshow(wordcloud_pos.recolor(color_func=green_color_func, random_state=3), interpolation='bilinear')\n",
    "    axes[2].set_title(\"Positive Words\")\n",
    "    axes[2].axis(\"off\")\n",
    "\n",
    "    plt.tight_layout()\n",
    "    plt.show();\n",
    "\n",
    "def get_top_percent_words(doc, percent):\n",
    "    # Returns a list of \"top-n\" most frequent words in a list \n",
    "    top_n = int(percent * len(set(doc)))\n",
    "    counter = Counter(doc).most_common(top_n)\n",
    "    top_n_words = [x[0] for x in counter]\n",
    "    \n",
    "    return top_n_words\n",
    "    \n",
    "def clean_document(doc):\n",
    "    spell = SpellChecker()\n",
    "    lemmatizer = WordNetLemmatizer()\n",
    "    \n",
    "    # Lemmatize words (needed for calculating frequencies correctly )\n",
    "    doc = [lemmatizer.lemmatize(x) for x in doc]\n",
    "    \n",
    "    # Get the top 10% of all words. This may include \"misspelled\" words \n",
    "    top_n_words = get_top_percent_words(doc, 0.1)\n",
    "\n",
    "    # Get a list of misspelled words \n",
    "    misspelled = spell.unknown(doc)\n",
    "    \n",
    "    # Accept the correctly spelled words and top_n words \n",
    "    clean_words = [x for x in doc if x not in misspelled or x in top_n_words]\n",
    "    \n",
    "    # Try to split the misspelled words to generate good words (ex. \"lifeisstrange\" -> [\"life\", \"is\", \"strange\"])\n",
    "    words_to_split = [x for x in doc if x in misspelled and x not in top_n_words]\n",
    "    split_words = flatten_list([wordninja.split(x) for x in words_to_split])\n",
    "    \n",
    "    # Some splits may be nonsensical, so reject them (\"llouis\" -> ['ll', 'ou', \"is\"])\n",
    "    clean_words.extend(spell.known(split_words))\n",
    "    \n",
    "    return clean_words\n",
    "\n",
    "def get_log_likelihood(doc1, doc2):    \n",
    "    doc1_counts = Counter(doc1)\n",
    "    doc1_freq = {\n",
    "        x: doc1_counts[x]/len(doc1)\n",
    "        for x in doc1_counts\n",
    "    }\n",
    "    \n",
    "    doc2_counts = Counter(doc2)\n",
    "    doc2_freq = {\n",
    "        x: doc2_counts[x]/len(doc2)\n",
    "        for x in doc2_counts\n",
    "    }\n",
    "    \n",
    "    doc_ratios = {\n",
    "        # 1 is added to prevent division by 0\n",
    "        x: math.log((doc1_freq[x] +1 )/(doc2_freq[x]+1))\n",
    "        for x in doc1_freq if x in doc2_freq\n",
    "    }\n",
    "    \n",
    "    top_ratios = Counter(doc_ratios).most_common()\n",
    "    top_percent = int(0.1 * len(top_ratios))\n",
    "    return top_ratios[:top_percent]\n",
    "\n",
    "# Function to generate a document based on likelihood values for words \n",
    "def get_scaled_list(log_list):\n",
    "    counts = [int(x[1]*100000) for x in log_list]\n",
    "    words = [x[0] for x in log_list]\n",
    "    cloud = []\n",
    "    for i, word in enumerate(words):\n",
    "        cloud.extend([word]*counts[i])\n",
    "    # Shuffle to make it more \"real\"\n",
    "    random.shuffle(cloud)\n",
    "    return cloud\n"
   ]
  },
  {
   "cell_type": "code",
   "execution_count": 47,
   "id": "unsigned-incident",
   "metadata": {
    "execution": {
     "iopub.execute_input": "2021-04-05T11:38:50.323512Z",
     "iopub.status.busy": "2021-04-05T11:38:50.318666Z",
     "iopub.status.idle": "2021-04-05T11:39:02.664224Z",
     "shell.execute_reply": "2021-04-05T11:39:02.664686Z"
    },
    "papermill": {
     "duration": 12.778546,
     "end_time": "2021-04-05T11:39:02.664863",
     "exception": false,
     "start_time": "2021-04-05T11:38:49.886317",
     "status": "completed"
    },
    "tags": []
   },
   "outputs": [
    {
     "data": {
      "image/png": "[encoded data removed]",
      "text/plain": [
       "<Figure size 1440x720 with 3 Axes>"
      ]
     },
     "metadata": {
      "needs_background": "light"
     },
     "output_type": "display_data"
    }
   ],
   "source": [
    "# Convert string to a list of words\n",
    "covidtweets['words'] = covidtweets.text.apply(lambda x:re.findall(r'\\w+', x ))\n",
    "\n",
    "def get_smart_clouds(df):\n",
    "\n",
    "    neg_doc = flatten_list(df[df['sentiment']=='Negative']['words'])\n",
    "    neg_doc = [x for x in neg_doc if is_acceptable(x)]\n",
    "\n",
    "    pos_doc = flatten_list(df[df['sentiment']=='Positive']['words'])\n",
    "    pos_doc = [x for x in pos_doc if is_acceptable(x)]\n",
    "\n",
    "    neu_doc = flatten_list(df[df['sentiment']=='Neutral']['words'])\n",
    "    neu_doc = [x for x in neu_doc if is_acceptable(x)]\n",
    "\n",
    "    # Clean all the documents\n",
    "    neg_doc_clean = clean_document(neg_doc)\n",
    "    neu_doc_clean = clean_document(neu_doc)\n",
    "    pos_doc_clean = clean_document(pos_doc)\n",
    "\n",
    "    # Combine classes B and C to compare against A (ex. \"positive\" vs \"non-positive\")\n",
    "    top_neg_words = get_log_likelihood(neg_doc_clean, flatten_list([pos_doc_clean, neu_doc_clean]))\n",
    "    top_neu_words = get_log_likelihood(neu_doc_clean, flatten_list([pos_doc_clean, neg_doc_clean]))\n",
    "    top_pos_words = get_log_likelihood(pos_doc_clean, flatten_list([neu_doc_clean, neg_doc_clean]))\n",
    "\n",
    "    # Generate syntetic a corpus using our loglikelihood values \n",
    "    neg_doc_final = get_scaled_list(top_neg_words)\n",
    "    neu_doc_final = get_scaled_list(top_neu_words)\n",
    "    pos_doc_final = get_scaled_list(top_pos_words)\n",
    "\n",
    "    # Visualise our synthetic corpus\n",
    "    generate_word_clouds(neg_doc_final, neu_doc_final, pos_doc_final)\n",
    "    \n",
    "get_smart_clouds(covidtweets)"
   ]
  }
 ],
 "metadata": {
  "kernelspec": {
   "display_name": "Python 3.6.8 64-bit",
   "language": "python",
   "name": "python3"
  },
  "language_info": {
   "codemirror_mode": {
    "name": "ipython",
    "version": 3
   },
   "file_extension": ".py",
   "mimetype": "text/x-python",
   "name": "python",
   "nbconvert_exporter": "python",
   "pygments_lexer": "ipython3",
   "version": "3.6.8"
  },
  "papermill": {
   "default_parameters": {},
   "duration": 2405.04824,
   "end_time": "2021-04-05T11:39:05.305371",
   "environment_variables": {},
   "exception": null,
   "input_path": "__notebook__.ipynb",
   "output_path": "__notebook__.ipynb",
   "parameters": {},
   "start_time": "2021-04-05T10:59:00.257131",
   "version": "2.3.2"
  },
  "vscode": {
   "interpreter": {
    "hash": "2e7868f89abf524edd1ec598212bc0b2ae4a8ad1dcad5d0f511350e46eda42bb"
   }
  }
 },
 "nbformat": 4,
 "nbformat_minor": 5
}
